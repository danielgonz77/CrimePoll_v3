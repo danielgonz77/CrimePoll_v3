{
 "cells": [
  {
   "cell_type": "code",
   "execution_count": 1,
   "id": "2740b8bd-9b9b-4cd2-bc6a-6af7c39850fc",
   "metadata": {},
   "outputs": [],
   "source": [
    "import numpy as np\n",
    "import matplotlib.pyplot as plt\n",
    "import pandas as pd\n",
    "import seaborn as sb\n",
    "%matplotlib inline"
   ]
  },
  {
   "cell_type": "code",
   "execution_count": 2,
   "id": "2932569f-7755-42ca-8f1f-bf76889b6b15",
   "metadata": {},
   "outputs": [],
   "source": [
    "crimen = pd.read_csv(\"../Consultas/cubo_crimen_CDMX.csv\")\n",
    "aire = pd.read_csv(\"../Consultas/cubo_aire_CDMX.csv\")"
   ]
  },
  {
   "cell_type": "code",
   "execution_count": 3,
   "id": "e7da8e08-293a-4f04-ba55-515b6ecfdeb4",
   "metadata": {},
   "outputs": [
    {
     "data": {
      "text/html": [
       "<div>\n",
       "<style scoped>\n",
       "    .dataframe tbody tr th:only-of-type {\n",
       "        vertical-align: middle;\n",
       "    }\n",
       "\n",
       "    .dataframe tbody tr th {\n",
       "        vertical-align: top;\n",
       "    }\n",
       "\n",
       "    .dataframe thead th {\n",
       "        text-align: right;\n",
       "    }\n",
       "</style>\n",
       "<table border=\"1\" class=\"dataframe\">\n",
       "  <thead>\n",
       "    <tr style=\"text-align: right;\">\n",
       "      <th></th>\n",
       "      <th>Dia</th>\n",
       "      <th>Mes</th>\n",
       "      <th>Anio</th>\n",
       "      <th>countCrimenes</th>\n",
       "    </tr>\n",
       "  </thead>\n",
       "  <tbody>\n",
       "    <tr>\n",
       "      <th>0</th>\n",
       "      <td>1</td>\n",
       "      <td>1</td>\n",
       "      <td>2016</td>\n",
       "      <td>184</td>\n",
       "    </tr>\n",
       "    <tr>\n",
       "      <th>1</th>\n",
       "      <td>2</td>\n",
       "      <td>1</td>\n",
       "      <td>2016</td>\n",
       "      <td>166</td>\n",
       "    </tr>\n",
       "    <tr>\n",
       "      <th>2</th>\n",
       "      <td>3</td>\n",
       "      <td>1</td>\n",
       "      <td>2016</td>\n",
       "      <td>136</td>\n",
       "    </tr>\n",
       "    <tr>\n",
       "      <th>3</th>\n",
       "      <td>4</td>\n",
       "      <td>1</td>\n",
       "      <td>2016</td>\n",
       "      <td>204</td>\n",
       "    </tr>\n",
       "    <tr>\n",
       "      <th>4</th>\n",
       "      <td>5</td>\n",
       "      <td>1</td>\n",
       "      <td>2016</td>\n",
       "      <td>174</td>\n",
       "    </tr>\n",
       "    <tr>\n",
       "      <th>...</th>\n",
       "      <td>...</td>\n",
       "      <td>...</td>\n",
       "      <td>...</td>\n",
       "      <td>...</td>\n",
       "    </tr>\n",
       "    <tr>\n",
       "      <th>1822</th>\n",
       "      <td>27</td>\n",
       "      <td>12</td>\n",
       "      <td>2020</td>\n",
       "      <td>123</td>\n",
       "    </tr>\n",
       "    <tr>\n",
       "      <th>1823</th>\n",
       "      <td>28</td>\n",
       "      <td>12</td>\n",
       "      <td>2020</td>\n",
       "      <td>134</td>\n",
       "    </tr>\n",
       "    <tr>\n",
       "      <th>1824</th>\n",
       "      <td>29</td>\n",
       "      <td>12</td>\n",
       "      <td>2020</td>\n",
       "      <td>119</td>\n",
       "    </tr>\n",
       "    <tr>\n",
       "      <th>1825</th>\n",
       "      <td>30</td>\n",
       "      <td>12</td>\n",
       "      <td>2020</td>\n",
       "      <td>132</td>\n",
       "    </tr>\n",
       "    <tr>\n",
       "      <th>1826</th>\n",
       "      <td>31</td>\n",
       "      <td>12</td>\n",
       "      <td>2020</td>\n",
       "      <td>103</td>\n",
       "    </tr>\n",
       "  </tbody>\n",
       "</table>\n",
       "<p>1827 rows × 4 columns</p>\n",
       "</div>"
      ],
      "text/plain": [
       "      Dia  Mes  Anio  countCrimenes\n",
       "0       1    1  2016            184\n",
       "1       2    1  2016            166\n",
       "2       3    1  2016            136\n",
       "3       4    1  2016            204\n",
       "4       5    1  2016            174\n",
       "...   ...  ...   ...            ...\n",
       "1822   27   12  2020            123\n",
       "1823   28   12  2020            134\n",
       "1824   29   12  2020            119\n",
       "1825   30   12  2020            132\n",
       "1826   31   12  2020            103\n",
       "\n",
       "[1827 rows x 4 columns]"
      ]
     },
     "execution_count": 3,
     "metadata": {},
     "output_type": "execute_result"
    }
   ],
   "source": [
    "crimen"
   ]
  },
  {
   "cell_type": "code",
   "execution_count": 4,
   "id": "a0d1db41-7f7e-4682-bfb0-c4e18595ba07",
   "metadata": {},
   "outputs": [
    {
     "data": {
      "text/html": [
       "<div>\n",
       "<style scoped>\n",
       "    .dataframe tbody tr th:only-of-type {\n",
       "        vertical-align: middle;\n",
       "    }\n",
       "\n",
       "    .dataframe tbody tr th {\n",
       "        vertical-align: top;\n",
       "    }\n",
       "\n",
       "    .dataframe thead th {\n",
       "        text-align: right;\n",
       "    }\n",
       "</style>\n",
       "<table border=\"1\" class=\"dataframe\">\n",
       "  <thead>\n",
       "    <tr style=\"text-align: right;\">\n",
       "      <th></th>\n",
       "      <th>Dia</th>\n",
       "      <th>Mes</th>\n",
       "      <th>Anio</th>\n",
       "      <th>avgAQI</th>\n",
       "    </tr>\n",
       "  </thead>\n",
       "  <tbody>\n",
       "    <tr>\n",
       "      <th>0</th>\n",
       "      <td>1</td>\n",
       "      <td>1</td>\n",
       "      <td>2016</td>\n",
       "      <td>181</td>\n",
       "    </tr>\n",
       "    <tr>\n",
       "      <th>1</th>\n",
       "      <td>2</td>\n",
       "      <td>1</td>\n",
       "      <td>2016</td>\n",
       "      <td>108</td>\n",
       "    </tr>\n",
       "    <tr>\n",
       "      <th>2</th>\n",
       "      <td>3</td>\n",
       "      <td>1</td>\n",
       "      <td>2016</td>\n",
       "      <td>116</td>\n",
       "    </tr>\n",
       "    <tr>\n",
       "      <th>3</th>\n",
       "      <td>4</td>\n",
       "      <td>1</td>\n",
       "      <td>2016</td>\n",
       "      <td>122</td>\n",
       "    </tr>\n",
       "    <tr>\n",
       "      <th>4</th>\n",
       "      <td>5</td>\n",
       "      <td>1</td>\n",
       "      <td>2016</td>\n",
       "      <td>96</td>\n",
       "    </tr>\n",
       "    <tr>\n",
       "      <th>...</th>\n",
       "      <td>...</td>\n",
       "      <td>...</td>\n",
       "      <td>...</td>\n",
       "      <td>...</td>\n",
       "    </tr>\n",
       "    <tr>\n",
       "      <th>1822</th>\n",
       "      <td>27</td>\n",
       "      <td>12</td>\n",
       "      <td>2020</td>\n",
       "      <td>102</td>\n",
       "    </tr>\n",
       "    <tr>\n",
       "      <th>1823</th>\n",
       "      <td>28</td>\n",
       "      <td>12</td>\n",
       "      <td>2020</td>\n",
       "      <td>114</td>\n",
       "    </tr>\n",
       "    <tr>\n",
       "      <th>1824</th>\n",
       "      <td>29</td>\n",
       "      <td>12</td>\n",
       "      <td>2020</td>\n",
       "      <td>141</td>\n",
       "    </tr>\n",
       "    <tr>\n",
       "      <th>1825</th>\n",
       "      <td>30</td>\n",
       "      <td>12</td>\n",
       "      <td>2020</td>\n",
       "      <td>122</td>\n",
       "    </tr>\n",
       "    <tr>\n",
       "      <th>1826</th>\n",
       "      <td>31</td>\n",
       "      <td>12</td>\n",
       "      <td>2020</td>\n",
       "      <td>118</td>\n",
       "    </tr>\n",
       "  </tbody>\n",
       "</table>\n",
       "<p>1827 rows × 4 columns</p>\n",
       "</div>"
      ],
      "text/plain": [
       "      Dia  Mes  Anio  avgAQI\n",
       "0       1    1  2016     181\n",
       "1       2    1  2016     108\n",
       "2       3    1  2016     116\n",
       "3       4    1  2016     122\n",
       "4       5    1  2016      96\n",
       "...   ...  ...   ...     ...\n",
       "1822   27   12  2020     102\n",
       "1823   28   12  2020     114\n",
       "1824   29   12  2020     141\n",
       "1825   30   12  2020     122\n",
       "1826   31   12  2020     118\n",
       "\n",
       "[1827 rows x 4 columns]"
      ]
     },
     "execution_count": 4,
     "metadata": {},
     "output_type": "execute_result"
    }
   ],
   "source": [
    "aire"
   ]
  },
  {
   "cell_type": "code",
   "execution_count": 27,
   "id": "9ac980d5-cdb3-43b8-88ce-f217e0155c4a",
   "metadata": {},
   "outputs": [],
   "source": [
    "df_all = pd.DataFrame()"
   ]
  },
  {
   "cell_type": "code",
   "execution_count": 28,
   "id": "4f36f390-9a35-4982-90fd-dfbebaea448e",
   "metadata": {},
   "outputs": [],
   "source": [
    "df_all['Dia'] = aire['Dia']\n",
    "df_all['Mes'] = aire['Mes']\n",
    "df_all['Anio'] = aire['Anio']\n",
    "df_all['Crimenes'] = crimen['countCrimenes']\n",
    "df_all['AQI'] = aire['avgAQI']\n"
   ]
  },
  {
   "cell_type": "code",
   "execution_count": 29,
   "id": "3def83e1-76cf-4b26-a791-1043b15bf2c9",
   "metadata": {},
   "outputs": [
    {
     "data": {
      "text/html": [
       "<div>\n",
       "<style scoped>\n",
       "    .dataframe tbody tr th:only-of-type {\n",
       "        vertical-align: middle;\n",
       "    }\n",
       "\n",
       "    .dataframe tbody tr th {\n",
       "        vertical-align: top;\n",
       "    }\n",
       "\n",
       "    .dataframe thead th {\n",
       "        text-align: right;\n",
       "    }\n",
       "</style>\n",
       "<table border=\"1\" class=\"dataframe\">\n",
       "  <thead>\n",
       "    <tr style=\"text-align: right;\">\n",
       "      <th></th>\n",
       "      <th>Dia</th>\n",
       "      <th>Mes</th>\n",
       "      <th>Anio</th>\n",
       "      <th>Crimenes</th>\n",
       "      <th>AQI</th>\n",
       "    </tr>\n",
       "  </thead>\n",
       "  <tbody>\n",
       "    <tr>\n",
       "      <th>0</th>\n",
       "      <td>1</td>\n",
       "      <td>1</td>\n",
       "      <td>2016</td>\n",
       "      <td>184</td>\n",
       "      <td>181</td>\n",
       "    </tr>\n",
       "    <tr>\n",
       "      <th>1</th>\n",
       "      <td>2</td>\n",
       "      <td>1</td>\n",
       "      <td>2016</td>\n",
       "      <td>166</td>\n",
       "      <td>108</td>\n",
       "    </tr>\n",
       "    <tr>\n",
       "      <th>2</th>\n",
       "      <td>3</td>\n",
       "      <td>1</td>\n",
       "      <td>2016</td>\n",
       "      <td>136</td>\n",
       "      <td>116</td>\n",
       "    </tr>\n",
       "    <tr>\n",
       "      <th>3</th>\n",
       "      <td>4</td>\n",
       "      <td>1</td>\n",
       "      <td>2016</td>\n",
       "      <td>204</td>\n",
       "      <td>122</td>\n",
       "    </tr>\n",
       "    <tr>\n",
       "      <th>4</th>\n",
       "      <td>5</td>\n",
       "      <td>1</td>\n",
       "      <td>2016</td>\n",
       "      <td>174</td>\n",
       "      <td>96</td>\n",
       "    </tr>\n",
       "    <tr>\n",
       "      <th>...</th>\n",
       "      <td>...</td>\n",
       "      <td>...</td>\n",
       "      <td>...</td>\n",
       "      <td>...</td>\n",
       "      <td>...</td>\n",
       "    </tr>\n",
       "    <tr>\n",
       "      <th>1822</th>\n",
       "      <td>27</td>\n",
       "      <td>12</td>\n",
       "      <td>2020</td>\n",
       "      <td>123</td>\n",
       "      <td>102</td>\n",
       "    </tr>\n",
       "    <tr>\n",
       "      <th>1823</th>\n",
       "      <td>28</td>\n",
       "      <td>12</td>\n",
       "      <td>2020</td>\n",
       "      <td>134</td>\n",
       "      <td>114</td>\n",
       "    </tr>\n",
       "    <tr>\n",
       "      <th>1824</th>\n",
       "      <td>29</td>\n",
       "      <td>12</td>\n",
       "      <td>2020</td>\n",
       "      <td>119</td>\n",
       "      <td>141</td>\n",
       "    </tr>\n",
       "    <tr>\n",
       "      <th>1825</th>\n",
       "      <td>30</td>\n",
       "      <td>12</td>\n",
       "      <td>2020</td>\n",
       "      <td>132</td>\n",
       "      <td>122</td>\n",
       "    </tr>\n",
       "    <tr>\n",
       "      <th>1826</th>\n",
       "      <td>31</td>\n",
       "      <td>12</td>\n",
       "      <td>2020</td>\n",
       "      <td>103</td>\n",
       "      <td>118</td>\n",
       "    </tr>\n",
       "  </tbody>\n",
       "</table>\n",
       "<p>1827 rows × 5 columns</p>\n",
       "</div>"
      ],
      "text/plain": [
       "      Dia  Mes  Anio  Crimenes  AQI\n",
       "0       1    1  2016       184  181\n",
       "1       2    1  2016       166  108\n",
       "2       3    1  2016       136  116\n",
       "3       4    1  2016       204  122\n",
       "4       5    1  2016       174   96\n",
       "...   ...  ...   ...       ...  ...\n",
       "1822   27   12  2020       123  102\n",
       "1823   28   12  2020       134  114\n",
       "1824   29   12  2020       119  141\n",
       "1825   30   12  2020       132  122\n",
       "1826   31   12  2020       103  118\n",
       "\n",
       "[1827 rows x 5 columns]"
      ]
     },
     "execution_count": 29,
     "metadata": {},
     "output_type": "execute_result"
    }
   ],
   "source": [
    "df_all"
   ]
  },
  {
   "cell_type": "code",
   "execution_count": 50,
   "id": "ab76ee71-230a-40fc-a49f-ce55890855b1",
   "metadata": {},
   "outputs": [
    {
     "data": {
      "image/png": "[encoded data removed]",
      "text/plain": [
       "<Figure size 1080x504 with 1 Axes>"
      ]
     },
     "metadata": {
      "needs_background": "light"
     },
     "output_type": "display_data"
    }
   ],
   "source": [
    "df_all_2016 = df_all[df_all['Anio'] == 2016]\n",
    "\n",
    "df_all_2016_fit = np.polyfit(df_all_2016.AQI, df_all_2016.Crimenes, 1)\n",
    "\n",
    "df_all_2016.plot(kind='scatter', x='AQI', y='Crimenes', color='magenta', alpha=0.5, figsize=(15, 7))\n",
    "\n",
    "plt.plot(df_all_2016.AQI, df_all_2016_fit[0] * df_all_2016.AQI + df_all_2016_fit[1], color='deeppink', linewidth=2)\n",
    "\n",
    "plt.text(30, 300, 'Crime={:.2f}+{:.2f}*AQI'.format(df_all_2016_fit[1], df_all_2016_fit[0]), color='darkblue', size=12)\n",
    "\n",
    "\n",
    "plt.legend(labels=['Relation in CDMX 2016', 'Regresion Line'])\n",
    "plt.title('Relationship between Crime and AQI 2016', size=20)\n",
    "plt.xlabel('AQI', size=18)\n",
    "plt.ylabel('Crime', size=18);"
   ]
  },
  {
   "cell_type": "code",
   "execution_count": 48,
   "id": "1deb5d30-53f6-4ca6-ae4a-da9bbb152fba",
   "metadata": {},
   "outputs": [
    {
     "data": {
      "image/png": "[encoded data removed]",
      "text/plain": [
       "<Figure size 1080x504 with 1 Axes>"
      ]
     },
     "metadata": {
      "needs_background": "light"
     },
     "output_type": "display_data"
    }
   ],
   "source": [
    "import seaborn as sns\n",
    "\n",
    "# regression plot using seaborn\n",
    "fig = plt.figure(figsize=(15, 7))\n",
    "sns.regplot(x=df_all_2016.AQI, y=df_all_2016.Crimenes, color='g')\n",
    "\n",
    "# Legend, title and labels.\n",
    "plt.legend(labels=['Relation in CDMX 2016'])\n",
    "plt.title('Relationship between Crime and AQI 2016', size=20)\n",
    "plt.xlabel('AQI', size=18)\n",
    "plt.ylabel('Crime', size=18);"
   ]
  },
  {
   "cell_type": "code",
   "execution_count": 57,
   "id": "6baf149f-b6f1-465c-b9b7-05ca5793211c",
   "metadata": {},
   "outputs": [
    {
     "data": {
      "application/vnd.plotly.v1+json": {
       "config": {
        "plotlyServerURL": "https://plot.ly"
       },
       "data": [
        {
         "hovertemplate": "AQI=%{x}<br>Crimenes=%{y}<extra></extra>",
         "legendgroup": "",
         "marker": {
          "color": "#636efa",
          "symbol": "circle"
         },
         "mode": "markers",
         "name": "",
         "orientation": "v",
         "showlegend": false,
         "type": "scatter",
         "x": [
          181,
          108,
          116,
          122,
          96,
          71,
          67,
          77,
          84,
          66,
          82,
          109,
          62,
          45,
          70,
          96,
          108,
          120,
          143,
          136,
          127,
          133,
          131,
          146,
          145,
          106,
          89,
          144,
          174,
          140,
          108,
          117,
          99,
          125,
          165,
          149,
          149,
          124,
          151,
          133,
          146,
          139,
          127,
          124,
          165,
          151,
          142,
          132,
          148,
          158,
          153,
          150,
          146,
          123,
          156,
          156,
          153,
          136,
          96,
          121,
          120,
          95,
          113,
          85,
          92,
          98,
          99,
          83,
          30,
          43,
          56,
          99,
          122,
          138,
          120,
          131,
          136,
          108,
          68,
          118,
          112,
          124,
          110,
          87,
          79,
          59,
          79,
          103,
          95,
          98,
          112,
          92,
          104,
          128,
          135,
          142,
          144,
          148,
          153,
          146,
          131,
          136,
          135,
          141,
          132,
          125,
          131,
          140,
          136,
          135,
          120,
          87,
          91,
          108,
          77,
          92,
          101,
          99,
          122,
          100,
          108,
          114,
          142,
          166,
          156,
          125,
          121,
          105,
          101,
          121,
          112,
          116,
          109,
          111,
          134,
          105,
          99,
          107,
          122,
          119,
          131,
          136,
          111,
          107,
          111,
          106,
          117,
          115,
          101,
          90,
          115,
          110,
          119,
          89,
          107,
          87,
          88,
          97,
          122,
          110,
          119,
          118,
          88,
          79,
          61,
          78,
          38,
          64,
          97,
          94,
          60,
          53,
          54,
          70,
          91,
          111,
          105,
          74,
          72,
          68,
          80,
          86,
          84,
          80,
          70,
          92,
          60,
          75,
          96,
          102,
          92,
          110,
          64,
          70,
          92,
          84,
          140,
          113,
          74,
          72,
          54,
          53,
          67,
          66,
          53,
          79,
          92,
          77,
          107,
          79,
          87,
          72,
          90,
          103,
          96,
          94,
          74,
          65,
          44,
          34,
          50,
          75,
          63,
          101,
          106,
          99,
          89,
          86,
          66,
          76,
          56,
          69,
          72,
          78,
          88,
          86,
          84,
          84,
          106,
          102,
          86,
          80,
          95,
          101,
          91,
          69,
          60,
          45,
          67,
          77,
          95,
          99,
          121,
          118,
          96,
          119,
          112,
          109,
          100,
          70,
          77,
          56,
          70,
          67,
          57,
          68,
          82,
          90,
          91,
          67,
          53,
          56,
          60,
          74,
          83,
          75,
          93,
          94,
          84,
          86,
          100,
          59,
          35,
          63,
          91,
          94,
          70,
          90,
          104,
          88,
          108,
          108,
          105,
          98,
          64,
          63,
          66,
          87,
          84,
          93,
          63,
          74,
          73,
          79,
          91,
          102,
          95,
          85,
          66,
          67,
          87,
          100,
          106,
          73,
          91,
          130,
          73,
          115,
          130,
          119,
          78,
          124,
          122,
          67,
          52,
          84,
          112,
          116,
          122,
          138,
          105,
          125,
          106,
          101,
          112,
          99,
          109,
          93,
          68,
          57,
          84,
          103,
          131,
          94,
          78,
          93,
          114,
          125,
          123,
          125,
          111,
          98,
          102,
          110,
          89,
          103,
          121,
          127,
          132,
          130,
          109,
          123,
          93,
          110,
          80,
          97
         ],
         "xaxis": "x",
         "y": [
          184,
          166,
          136,
          204,
          174,
          136,
          195,
          190,
          180,
          170,
          162,
          190,
          110,
          172,
          214,
          204,
          172,
          188,
          194,
          163,
          170,
          138,
          162,
          198,
          152,
          210,
          188,
          150,
          176,
          178,
          166,
          192,
          196,
          212,
          182,
          210,
          182,
          213,
          206,
          174,
          190,
          160,
          172,
          204,
          198,
          224,
          184,
          190,
          169,
          180,
          192,
          236,
          180,
          226,
          208,
          186,
          234,
          160,
          181,
          196,
          184,
          185,
          196,
          176,
          210,
          174,
          234,
          234,
          160,
          150,
          190,
          151,
          202,
          238,
          287,
          246,
          266,
          211,
          175,
          180,
          186,
          194,
          188,
          150,
          132,
          186,
          204,
          194,
          218,
          244,
          218,
          245,
          199,
          254,
          234,
          200,
          220,
          220,
          186,
          204,
          245,
          232,
          240,
          192,
          186,
          214,
          239,
          238,
          230,
          174,
          164,
          194,
          186,
          172,
          254,
          192,
          234,
          214,
          160,
          176,
          222,
          301,
          222,
          214,
          192,
          192,
          188,
          224,
          193,
          156,
          202,
          228,
          192,
          190,
          204,
          223,
          254,
          190,
          172,
          218,
          257,
          202,
          204,
          202,
          190,
          266,
          214,
          166,
          204,
          180,
          220,
          206,
          249,
          164,
          180,
          172,
          182,
          218,
          208,
          207,
          178,
          171,
          196,
          190,
          228,
          232,
          220,
          202,
          166,
          184,
          182,
          165,
          152,
          161,
          144,
          176,
          164,
          174,
          204,
          162,
          138,
          174,
          158,
          190,
          176,
          160,
          126,
          177,
          186,
          166,
          178,
          180,
          113,
          162,
          155,
          126,
          204,
          161,
          176,
          132,
          178,
          98,
          142,
          150,
          152,
          144,
          126,
          174,
          182,
          156,
          156,
          136,
          154,
          221,
          150,
          134,
          166,
          189,
          176,
          180,
          194,
          180,
          198,
          152,
          162,
          192,
          174,
          196,
          126,
          162,
          172,
          164,
          162,
          192,
          198,
          160,
          156,
          164,
          160,
          166,
          196,
          216,
          201,
          178,
          166,
          176,
          200,
          234,
          164,
          208,
          208,
          200,
          183,
          188,
          220,
          228,
          180,
          236,
          171,
          208,
          212,
          237,
          230,
          221,
          180,
          199,
          194,
          168,
          187,
          204,
          182,
          172,
          124,
          168,
          217,
          220,
          220,
          219,
          174,
          212,
          186,
          210,
          188,
          202,
          228,
          226,
          210,
          156,
          184,
          232,
          212,
          190,
          235,
          176,
          178,
          188,
          190,
          204,
          172,
          192,
          206,
          174,
          148,
          144,
          188,
          187,
          186,
          180,
          206,
          177,
          188,
          222,
          172,
          138,
          174,
          164,
          182,
          210,
          192,
          194,
          191,
          176,
          156,
          172,
          148,
          158,
          198,
          196,
          222,
          192,
          164,
          178,
          218,
          242,
          234,
          245,
          190,
          156,
          194,
          216,
          184,
          188,
          210,
          164,
          188,
          190,
          234,
          208,
          238,
          206,
          220,
          200,
          194,
          172,
          208,
          166,
          182,
          120,
          120,
          164,
          204,
          184,
          180,
          216,
          174,
          121
         ],
         "yaxis": "y"
        },
        {
         "hovertemplate": "<b>OLS trendline</b><br>Crimenes = 0.263069 * AQI + 162.824<br>R<sup>2</sup>=0.060031<br><br>AQI=%{x}<br>Crimenes=%{y} <b>(trend)</b><extra></extra>",
         "legendgroup": "",
         "marker": {
          "color": "#636efa",
          "symbol": "circle"
         },
         "mode": "lines",
         "name": "",
         "showlegend": false,
         "type": "scatter",
         "x": [
          30,
          34,
          35,
          38,
          43,
          44,
          45,
          45,
          50,
          52,
          53,
          53,
          53,
          53,
          54,
          54,
          56,
          56,
          56,
          56,
          57,
          57,
          59,
          59,
          60,
          60,
          60,
          60,
          61,
          62,
          63,
          63,
          63,
          63,
          64,
          64,
          64,
          65,
          66,
          66,
          66,
          66,
          66,
          67,
          67,
          67,
          67,
          67,
          67,
          67,
          68,
          68,
          68,
          68,
          69,
          69,
          70,
          70,
          70,
          70,
          70,
          70,
          70,
          71,
          72,
          72,
          72,
          72,
          73,
          73,
          73,
          74,
          74,
          74,
          74,
          74,
          75,
          75,
          75,
          76,
          77,
          77,
          77,
          77,
          77,
          78,
          78,
          78,
          78,
          79,
          79,
          79,
          79,
          79,
          79,
          80,
          80,
          80,
          80,
          82,
          82,
          83,
          83,
          84,
          84,
          84,
          84,
          84,
          84,
          84,
          84,
          84,
          85,
          85,
          86,
          86,
          86,
          86,
          86,
          87,
          87,
          87,
          87,
          87,
          87,
          88,
          88,
          88,
          88,
          89,
          89,
          89,
          89,
          90,
          90,
          90,
          90,
          91,
          91,
          91,
          91,
          91,
          91,
          91,
          92,
          92,
          92,
          92,
          92,
          92,
          92,
          93,
          93,
          93,
          93,
          93,
          94,
          94,
          94,
          94,
          94,
          95,
          95,
          95,
          95,
          95,
          96,
          96,
          96,
          96,
          96,
          96,
          97,
          97,
          97,
          98,
          98,
          98,
          98,
          99,
          99,
          99,
          99,
          99,
          99,
          99,
          99,
          100,
          100,
          100,
          100,
          101,
          101,
          101,
          101,
          101,
          101,
          102,
          102,
          102,
          102,
          103,
          103,
          103,
          103,
          104,
          104,
          105,
          105,
          105,
          105,
          105,
          106,
          106,
          106,
          106,
          106,
          106,
          107,
          107,
          107,
          107,
          108,
          108,
          108,
          108,
          108,
          108,
          108,
          108,
          109,
          109,
          109,
          109,
          109,
          110,
          110,
          110,
          110,
          110,
          110,
          111,
          111,
          111,
          111,
          111,
          112,
          112,
          112,
          112,
          112,
          112,
          113,
          113,
          114,
          114,
          115,
          115,
          115,
          116,
          116,
          116,
          117,
          117,
          118,
          118,
          118,
          119,
          119,
          119,
          119,
          119,
          120,
          120,
          120,
          120,
          121,
          121,
          121,
          121,
          121,
          122,
          122,
          122,
          122,
          122,
          122,
          122,
          123,
          123,
          123,
          124,
          124,
          124,
          124,
          125,
          125,
          125,
          125,
          125,
          125,
          127,
          127,
          127,
          128,
          130,
          130,
          130,
          131,
          131,
          131,
          131,
          131,
          131,
          132,
          132,
          132,
          133,
          133,
          134,
          135,
          135,
          135,
          136,
          136,
          136,
          136,
          136,
          136,
          138,
          138,
          139,
          140,
          140,
          140,
          141,
          142,
          142,
          142,
          143,
          144,
          144,
          145,
          146,
          146,
          146,
          146,
          148,
          148,
          149,
          149,
          150,
          151,
          151,
          153,
          153,
          153,
          156,
          156,
          156,
          158,
          165,
          165,
          166,
          174,
          181
         ],
         "xaxis": "x",
         "y": [
          170.71602072655475,
          171.7682968366104,
          172.0313658641243,
          172.82057294666603,
          174.13591808423558,
          174.3989871117495,
          174.66205613926343,
          174.66205613926343,
          175.97740127683298,
          176.5035393318608,
          176.7666083593747,
          176.7666083593747,
          176.7666083593747,
          176.7666083593747,
          177.0296773868886,
          177.0296773868886,
          177.55581544191642,
          177.55581544191642,
          177.55581544191642,
          177.55581544191642,
          177.81888446943034,
          177.81888446943034,
          178.34502252445816,
          178.34502252445816,
          178.60809155197208,
          178.60809155197208,
          178.60809155197208,
          178.60809155197208,
          178.87116057948597,
          179.1342296069999,
          179.39729863451382,
          179.39729863451382,
          179.39729863451382,
          179.39729863451382,
          179.6603676620277,
          179.6603676620277,
          179.6603676620277,
          179.92343668954163,
          180.18650571705552,
          180.18650571705552,
          180.18650571705552,
          180.18650571705552,
          180.18650571705552,
          180.44957474456945,
          180.44957474456945,
          180.44957474456945,
          180.44957474456945,
          180.44957474456945,
          180.44957474456945,
          180.44957474456945,
          180.71264377208337,
          180.71264377208337,
          180.71264377208337,
          180.71264377208337,
          180.97571279959726,
          180.97571279959726,
          181.23878182711118,
          181.23878182711118,
          181.23878182711118,
          181.23878182711118,
          181.23878182711118,
          181.23878182711118,
          181.23878182711118,
          181.5018508546251,
          181.764919882139,
          181.764919882139,
          181.764919882139,
          181.764919882139,
          182.02798890965292,
          182.02798890965292,
          182.02798890965292,
          182.2910579371668,
          182.2910579371668,
          182.2910579371668,
          182.2910579371668,
          182.2910579371668,
          182.55412696468073,
          182.55412696468073,
          182.55412696468073,
          182.81719599219466,
          183.08026501970855,
          183.08026501970855,
          183.08026501970855,
          183.08026501970855,
          183.08026501970855,
          183.34333404722247,
          183.34333404722247,
          183.34333404722247,
          183.34333404722247,
          183.60640307473636,
          183.60640307473636,
          183.60640307473636,
          183.60640307473636,
          183.60640307473636,
          183.60640307473636,
          183.86947210225028,
          183.86947210225028,
          183.86947210225028,
          183.86947210225028,
          184.3956101572781,
          184.3956101572781,
          184.65867918479202,
          184.65867918479202,
          184.92174821230594,
          184.92174821230594,
          184.92174821230594,
          184.92174821230594,
          184.92174821230594,
          184.92174821230594,
          184.92174821230594,
          184.92174821230594,
          184.92174821230594,
          185.18481723981984,
          185.18481723981984,
          185.44788626733376,
          185.44788626733376,
          185.44788626733376,
          185.44788626733376,
          185.44788626733376,
          185.71095529484765,
          185.71095529484765,
          185.71095529484765,
          185.71095529484765,
          185.71095529484765,
          185.71095529484765,
          185.97402432236157,
          185.97402432236157,
          185.97402432236157,
          185.97402432236157,
          186.2370933498755,
          186.2370933498755,
          186.2370933498755,
          186.2370933498755,
          186.5001623773894,
          186.5001623773894,
          186.5001623773894,
          186.5001623773894,
          186.7632314049033,
          186.7632314049033,
          186.7632314049033,
          186.7632314049033,
          186.7632314049033,
          186.7632314049033,
          186.7632314049033,
          187.0263004324172,
          187.0263004324172,
          187.0263004324172,
          187.0263004324172,
          187.0263004324172,
          187.0263004324172,
          187.0263004324172,
          187.28936945993112,
          187.28936945993112,
          187.28936945993112,
          187.28936945993112,
          187.28936945993112,
          187.55243848744504,
          187.55243848744504,
          187.55243848744504,
          187.55243848744504,
          187.55243848744504,
          187.81550751495894,
          187.81550751495894,
          187.81550751495894,
          187.81550751495894,
          187.81550751495894,
          188.07857654247286,
          188.07857654247286,
          188.07857654247286,
          188.07857654247286,
          188.07857654247286,
          188.07857654247286,
          188.34164556998678,
          188.34164556998678,
          188.34164556998678,
          188.60471459750067,
          188.60471459750067,
          188.60471459750067,
          188.60471459750067,
          188.8677836250146,
          188.8677836250146,
          188.8677836250146,
          188.8677836250146,
          188.8677836250146,
          188.8677836250146,
          188.8677836250146,
          188.8677836250146,
          189.1308526525285,
          189.1308526525285,
          189.1308526525285,
          189.1308526525285,
          189.3939216800424,
          189.3939216800424,
          189.3939216800424,
          189.3939216800424,
          189.3939216800424,
          189.3939216800424,
          189.6569907075563,
          189.6569907075563,
          189.6569907075563,
          189.6569907075563,
          189.92005973507023,
          189.92005973507023,
          189.92005973507023,
          189.92005973507023,
          190.18312876258415,
          190.18312876258415,
          190.44619779009804,
          190.44619779009804,
          190.44619779009804,
          190.44619779009804,
          190.44619779009804,
          190.70926681761196,
          190.70926681761196,
          190.70926681761196,
          190.70926681761196,
          190.70926681761196,
          190.70926681761196,
          190.97233584512588,
          190.97233584512588,
          190.97233584512588,
          190.97233584512588,
          191.23540487263978,
          191.23540487263978,
          191.23540487263978,
          191.23540487263978,
          191.23540487263978,
          191.23540487263978,
          191.23540487263978,
          191.23540487263978,
          191.4984739001537,
          191.4984739001537,
          191.4984739001537,
          191.4984739001537,
          191.4984739001537,
          191.76154292766762,
          191.76154292766762,
          191.76154292766762,
          191.76154292766762,
          191.76154292766762,
          191.76154292766762,
          192.0246119551815,
          192.0246119551815,
          192.0246119551815,
          192.0246119551815,
          192.0246119551815,
          192.28768098269543,
          192.28768098269543,
          192.28768098269543,
          192.28768098269543,
          192.28768098269543,
          192.28768098269543,
          192.55075001020933,
          192.55075001020933,
          192.81381903772325,
          192.81381903772325,
          193.07688806523714,
          193.07688806523714,
          193.07688806523714,
          193.33995709275106,
          193.33995709275106,
          193.33995709275106,
          193.60302612026499,
          193.60302612026499,
          193.86609514777888,
          193.86609514777888,
          193.86609514777888,
          194.1291641752928,
          194.1291641752928,
          194.1291641752928,
          194.1291641752928,
          194.1291641752928,
          194.39223320280672,
          194.39223320280672,
          194.39223320280672,
          194.39223320280672,
          194.65530223032061,
          194.65530223032061,
          194.65530223032061,
          194.65530223032061,
          194.65530223032061,
          194.91837125783454,
          194.91837125783454,
          194.91837125783454,
          194.91837125783454,
          194.91837125783454,
          194.91837125783454,
          194.91837125783454,
          195.18144028534846,
          195.18144028534846,
          195.18144028534846,
          195.44450931286235,
          195.44450931286235,
          195.44450931286235,
          195.44450931286235,
          195.70757834037627,
          195.70757834037627,
          195.70757834037627,
          195.70757834037627,
          195.70757834037627,
          195.70757834037627,
          196.2337163954041,
          196.2337163954041,
          196.2337163954041,
          196.49678542291798,
          197.02292347794582,
          197.02292347794582,
          197.02292347794582,
          197.28599250545972,
          197.28599250545972,
          197.28599250545972,
          197.28599250545972,
          197.28599250545972,
          197.28599250545972,
          197.54906153297364,
          197.54906153297364,
          197.54906153297364,
          197.81213056048756,
          197.81213056048756,
          198.07519958800145,
          198.33826861551537,
          198.33826861551537,
          198.33826861551537,
          198.6013376430293,
          198.6013376430293,
          198.6013376430293,
          198.6013376430293,
          198.6013376430293,
          198.6013376430293,
          199.1274756980571,
          199.1274756980571,
          199.390544725571,
          199.65361375308493,
          199.65361375308493,
          199.65361375308493,
          199.91668278059882,
          200.17975180811274,
          200.17975180811274,
          200.17975180811274,
          200.44282083562666,
          200.70588986314056,
          200.70588986314056,
          200.96895889065448,
          201.2320279181684,
          201.2320279181684,
          201.2320279181684,
          201.2320279181684,
          201.7581659731962,
          201.7581659731962,
          202.02123500071013,
          202.02123500071013,
          202.28430402822403,
          202.54737305573792,
          202.54737305573792,
          203.07351111076576,
          203.07351111076576,
          203.07351111076576,
          203.8627181933075,
          203.8627181933075,
          203.8627181933075,
          204.38885624833532,
          206.23033944093268,
          206.23033944093268,
          206.4934084684466,
          208.5979606885579,
          210.43944388115526
         ],
         "yaxis": "y"
        }
       ],
       "layout": {
        "autosize": true,
        "legend": {
         "tracegroupgap": 0
        },
        "template": {
         "data": {
          "bar": [
           {
            "error_x": {
             "color": "#2a3f5f"
            },
            "error_y": {
             "color": "#2a3f5f"
            },
            "marker": {
             "line": {
              "color": "#E5ECF6",
              "width": 0.5
             },
             "pattern": {
              "fillmode": "overlay",
              "size": 10,
              "solidity": 0.2
             }
            },
            "type": "bar"
           }
          ],
          "barpolar": [
           {
            "marker": {
             "line": {
              "color": "#E5ECF6",
              "width": 0.5
             },
             "pattern": {
              "fillmode": "overlay",
              "size": 10,
              "solidity": 0.2
             }
            },
            "type": "barpolar"
           }
          ],
          "carpet": [
           {
            "aaxis": {
             "endlinecolor": "#2a3f5f",
             "gridcolor": "white",
             "linecolor": "white",
             "minorgridcolor": "white",
             "startlinecolor": "#2a3f5f"
            },
            "baxis": {
             "endlinecolor": "#2a3f5f",
             "gridcolor": "white",
             "linecolor": "white",
             "minorgridcolor": "white",
             "startlinecolor": "#2a3f5f"
            },
            "type": "carpet"
           }
          ],
          "choropleth": [
           {
            "colorbar": {
             "outlinewidth": 0,
             "ticks": ""
            },
            "type": "choropleth"
           }
          ],
          "contour": [
           {
            "colorbar": {
             "outlinewidth": 0,
             "ticks": ""
            },
            "colorscale": [
             [
              0,
              "#0d0887"
             ],
             [
              0.1111111111111111,
              "#46039f"
             ],
             [
              0.2222222222222222,
              "#7201a8"
             ],
             [
              0.3333333333333333,
              "#9c179e"
             ],
             [
              0.4444444444444444,
              "#bd3786"
             ],
             [
              0.5555555555555556,
              "#d8576b"
             ],
             [
              0.6666666666666666,
              "#ed7953"
             ],
             [
              0.7777777777777778,
              "#fb9f3a"
             ],
             [
              0.8888888888888888,
              "#fdca26"
             ],
             [
              1,
              "#f0f921"
             ]
            ],
            "type": "contour"
           }
          ],
          "contourcarpet": [
           {
            "colorbar": {
             "outlinewidth": 0,
             "ticks": ""
            },
            "type": "contourcarpet"
           }
          ],
          "heatmap": [
           {
            "colorbar": {
             "outlinewidth": 0,
             "ticks": ""
            },
            "colorscale": [
             [
              0,
              "#0d0887"
             ],
             [
              0.1111111111111111,
              "#46039f"
             ],
             [
              0.2222222222222222,
              "#7201a8"
             ],
             [
              0.3333333333333333,
              "#9c179e"
             ],
             [
              0.4444444444444444,
              "#bd3786"
             ],
             [
              0.5555555555555556,
              "#d8576b"
             ],
             [
              0.6666666666666666,
              "#ed7953"
             ],
             [
              0.7777777777777778,
              "#fb9f3a"
             ],
             [
              0.8888888888888888,
              "#fdca26"
             ],
             [
              1,
              "#f0f921"
             ]
            ],
            "type": "heatmap"
           }
          ],
          "heatmapgl": [
           {
            "colorbar": {
             "outlinewidth": 0,
             "ticks": ""
            },
            "colorscale": [
             [
              0,
              "#0d0887"
             ],
             [
              0.1111111111111111,
              "#46039f"
             ],
             [
              0.2222222222222222,
              "#7201a8"
             ],
             [
              0.3333333333333333,
              "#9c179e"
             ],
             [
              0.4444444444444444,
              "#bd3786"
             ],
             [
              0.5555555555555556,
              "#d8576b"
             ],
             [
              0.6666666666666666,
              "#ed7953"
             ],
             [
              0.7777777777777778,
              "#fb9f3a"
             ],
             [
              0.8888888888888888,
              "#fdca26"
             ],
             [
              1,
              "#f0f921"
             ]
            ],
            "type": "heatmapgl"
           }
          ],
          "histogram": [
           {
            "marker": {
             "pattern": {
              "fillmode": "overlay",
              "size": 10,
              "solidity": 0.2
             }
            },
            "type": "histogram"
           }
          ],
          "histogram2d": [
           {
            "colorbar": {
             "outlinewidth": 0,
             "ticks": ""
            },
            "colorscale": [
             [
              0,
              "#0d0887"
             ],
             [
              0.1111111111111111,
              "#46039f"
             ],
             [
              0.2222222222222222,
              "#7201a8"
             ],
             [
              0.3333333333333333,
              "#9c179e"
             ],
             [
              0.4444444444444444,
              "#bd3786"
             ],
             [
              0.5555555555555556,
              "#d8576b"
             ],
             [
              0.6666666666666666,
              "#ed7953"
             ],
             [
              0.7777777777777778,
              "#fb9f3a"
             ],
             [
              0.8888888888888888,
              "#fdca26"
             ],
             [
              1,
              "#f0f921"
             ]
            ],
            "type": "histogram2d"
           }
          ],
          "histogram2dcontour": [
           {
            "colorbar": {
             "outlinewidth": 0,
             "ticks": ""
            },
            "colorscale": [
             [
              0,
              "#0d0887"
             ],
             [
              0.1111111111111111,
              "#46039f"
             ],
             [
              0.2222222222222222,
              "#7201a8"
             ],
             [
              0.3333333333333333,
              "#9c179e"
             ],
             [
              0.4444444444444444,
              "#bd3786"
             ],
             [
              0.5555555555555556,
              "#d8576b"
             ],
             [
              0.6666666666666666,
              "#ed7953"
             ],
             [
              0.7777777777777778,
              "#fb9f3a"
             ],
             [
              0.8888888888888888,
              "#fdca26"
             ],
             [
              1,
              "#f0f921"
             ]
            ],
            "type": "histogram2dcontour"
           }
          ],
          "mesh3d": [
           {
            "colorbar": {
             "outlinewidth": 0,
             "ticks": ""
            },
            "type": "mesh3d"
           }
          ],
          "parcoords": [
           {
            "line": {
             "colorbar": {
              "outlinewidth": 0,
              "ticks": ""
             }
            },
            "type": "parcoords"
           }
          ],
          "pie": [
           {
            "automargin": true,
            "type": "pie"
           }
          ],
          "scatter": [
           {
            "marker": {
             "colorbar": {
              "outlinewidth": 0,
              "ticks": ""
             }
            },
            "type": "scatter"
           }
          ],
          "scatter3d": [
           {
            "line": {
             "colorbar": {
              "outlinewidth": 0,
              "ticks": ""
             }
            },
            "marker": {
             "colorbar": {
              "outlinewidth": 0,
              "ticks": ""
             }
            },
            "type": "scatter3d"
           }
          ],
          "scattercarpet": [
           {
            "marker": {
             "colorbar": {
              "outlinewidth": 0,
              "ticks": ""
             }
            },
            "type": "scattercarpet"
           }
          ],
          "scattergeo": [
           {
            "marker": {
             "colorbar": {
              "outlinewidth": 0,
              "ticks": ""
             }
            },
            "type": "scattergeo"
           }
          ],
          "scattergl": [
           {
            "marker": {
             "colorbar": {
              "outlinewidth": 0,
              "ticks": ""
             }
            },
            "type": "scattergl"
           }
          ],
          "scattermapbox": [
           {
            "marker": {
             "colorbar": {
              "outlinewidth": 0,
              "ticks": ""
             }
            },
            "type": "scattermapbox"
           }
          ],
          "scatterpolar": [
           {
            "marker": {
             "colorbar": {
              "outlinewidth": 0,
              "ticks": ""
             }
            },
            "type": "scatterpolar"
           }
          ],
          "scatterpolargl": [
           {
            "marker": {
             "colorbar": {
              "outlinewidth": 0,
              "ticks": ""
             }
            },
            "type": "scatterpolargl"
           }
          ],
          "scatterternary": [
           {
            "marker": {
             "colorbar": {
              "outlinewidth": 0,
              "ticks": ""
             }
            },
            "type": "scatterternary"
           }
          ],
          "surface": [
           {
            "colorbar": {
             "outlinewidth": 0,
             "ticks": ""
            },
            "colorscale": [
             [
              0,
              "#0d0887"
             ],
             [
              0.1111111111111111,
              "#46039f"
             ],
             [
              0.2222222222222222,
              "#7201a8"
             ],
             [
              0.3333333333333333,
              "#9c179e"
             ],
             [
              0.4444444444444444,
              "#bd3786"
             ],
             [
              0.5555555555555556,
              "#d8576b"
             ],
             [
              0.6666666666666666,
              "#ed7953"
             ],
             [
              0.7777777777777778,
              "#fb9f3a"
             ],
             [
              0.8888888888888888,
              "#fdca26"
             ],
             [
              1,
              "#f0f921"
             ]
            ],
            "type": "surface"
           }
          ],
          "table": [
           {
            "cells": {
             "fill": {
              "color": "#EBF0F8"
             },
             "line": {
              "color": "white"
             }
            },
            "header": {
             "fill": {
              "color": "#C8D4E3"
             },
             "line": {
              "color": "white"
             }
            },
            "type": "table"
           }
          ]
         },
         "layout": {
          "annotationdefaults": {
           "arrowcolor": "#2a3f5f",
           "arrowhead": 0,
           "arrowwidth": 1
          },
          "autotypenumbers": "strict",
          "coloraxis": {
           "colorbar": {
            "outlinewidth": 0,
            "ticks": ""
           }
          },
          "colorscale": {
           "diverging": [
            [
             0,
             "#8e0152"
            ],
            [
             0.1,
             "#c51b7d"
            ],
            [
             0.2,
             "#de77ae"
            ],
            [
             0.3,
             "#f1b6da"
            ],
            [
             0.4,
             "#fde0ef"
            ],
            [
             0.5,
             "#f7f7f7"
            ],
            [
             0.6,
             "#e6f5d0"
            ],
            [
             0.7,
             "#b8e186"
            ],
            [
             0.8,
             "#7fbc41"
            ],
            [
             0.9,
             "#4d9221"
            ],
            [
             1,
             "#276419"
            ]
           ],
           "sequential": [
            [
             0,
             "#0d0887"
            ],
            [
             0.1111111111111111,
             "#46039f"
            ],
            [
             0.2222222222222222,
             "#7201a8"
            ],
            [
             0.3333333333333333,
             "#9c179e"
            ],
            [
             0.4444444444444444,
             "#bd3786"
            ],
            [
             0.5555555555555556,
             "#d8576b"
            ],
            [
             0.6666666666666666,
             "#ed7953"
            ],
            [
             0.7777777777777778,
             "#fb9f3a"
            ],
            [
             0.8888888888888888,
             "#fdca26"
            ],
            [
             1,
             "#f0f921"
            ]
           ],
           "sequentialminus": [
            [
             0,
             "#0d0887"
            ],
            [
             0.1111111111111111,
             "#46039f"
            ],
            [
             0.2222222222222222,
             "#7201a8"
            ],
            [
             0.3333333333333333,
             "#9c179e"
            ],
            [
             0.4444444444444444,
             "#bd3786"
            ],
            [
             0.5555555555555556,
             "#d8576b"
            ],
            [
             0.6666666666666666,
             "#ed7953"
            ],
            [
             0.7777777777777778,
             "#fb9f3a"
            ],
            [
             0.8888888888888888,
             "#fdca26"
            ],
            [
             1,
             "#f0f921"
            ]
           ]
          },
          "colorway": [
           "#636efa",
           "#EF553B",
           "#00cc96",
           "#ab63fa",
           "#FFA15A",
           "#19d3f3",
           "#FF6692",
           "#B6E880",
           "#FF97FF",
           "#FECB52"
          ],
          "font": {
           "color": "#2a3f5f"
          },
          "geo": {
           "bgcolor": "white",
           "lakecolor": "white",
           "landcolor": "#E5ECF6",
           "showlakes": true,
           "showland": true,
           "subunitcolor": "white"
          },
          "hoverlabel": {
           "align": "left"
          },
          "hovermode": "closest",
          "mapbox": {
           "style": "light"
          },
          "paper_bgcolor": "white",
          "plot_bgcolor": "#E5ECF6",
          "polar": {
           "angularaxis": {
            "gridcolor": "white",
            "linecolor": "white",
            "ticks": ""
           },
           "bgcolor": "#E5ECF6",
           "radialaxis": {
            "gridcolor": "white",
            "linecolor": "white",
            "ticks": ""
           }
          },
          "scene": {
           "xaxis": {
            "backgroundcolor": "#E5ECF6",
            "gridcolor": "white",
            "gridwidth": 2,
            "linecolor": "white",
            "showbackground": true,
            "ticks": "",
            "zerolinecolor": "white"
           },
           "yaxis": {
            "backgroundcolor": "#E5ECF6",
            "gridcolor": "white",
            "gridwidth": 2,
            "linecolor": "white",
            "showbackground": true,
            "ticks": "",
            "zerolinecolor": "white"
           },
           "zaxis": {
            "backgroundcolor": "#E5ECF6",
            "gridcolor": "white",
            "gridwidth": 2,
            "linecolor": "white",
            "showbackground": true,
            "ticks": "",
            "zerolinecolor": "white"
           }
          },
          "shapedefaults": {
           "line": {
            "color": "#2a3f5f"
           }
          },
          "ternary": {
           "aaxis": {
            "gridcolor": "white",
            "linecolor": "white",
            "ticks": ""
           },
           "baxis": {
            "gridcolor": "white",
            "linecolor": "white",
            "ticks": ""
           },
           "bgcolor": "#E5ECF6",
           "caxis": {
            "gridcolor": "white",
            "linecolor": "white",
            "ticks": ""
           }
          },
          "title": {
           "x": 0.05
          },
          "xaxis": {
           "automargin": true,
           "gridcolor": "white",
           "linecolor": "white",
           "ticks": "",
           "title": {
            "standoff": 15
           },
           "zerolinecolor": "white",
           "zerolinewidth": 2
          },
          "yaxis": {
           "automargin": true,
           "gridcolor": "white",
           "linecolor": "white",
           "ticks": "",
           "title": {
            "standoff": 15
           },
           "zerolinecolor": "white",
           "zerolinewidth": 2
          }
         }
        },
        "title": {
         "text": "Relationship between Crime & AQI"
        },
        "xaxis": {
         "anchor": "y",
         "autorange": true,
         "domain": [
          0,
          1
         ],
         "range": [
          20.83751383253412,
          190.1624861674659
         ],
         "title": {
          "text": "AQI"
         },
         "type": "linear"
        },
        "yaxis": {
         "anchor": "x",
         "autorange": true,
         "domain": [
          0,
          1
         ],
         "range": [
          81.24757281553399,
          317.752427184466
         ],
         "title": {
          "text": "Crimenes"
         },
         "type": "linear"
        }
       }
      },
      "image/png": "[encoded data removed]",
      "text/html": [
       "<div>                            <div id=\"587f7923-14c3-47af-9b8e-6d463cd3a1a1\" class=\"plotly-graph-div\" style=\"height:525px; width:100%;\"></div>            <script type=\"text/javascript\">                require([\"plotly\"], function(Plotly) {                    window.PLOTLYENV=window.PLOTLYENV || {};                                    if (document.getElementById(\"587f7923-14c3-47af-9b8e-6d463cd3a1a1\")) {                    Plotly.newPlot(                        \"587f7923-14c3-47af-9b8e-6d463cd3a1a1\",                        [{\"hovertemplate\":\"AQI=%{x}<br>Crimenes=%{y}<extra></extra>\",\"legendgroup\":\"\",\"marker\":{\"color\":\"#636efa\",\"symbol\":\"circle\"},\"mode\":\"markers\",\"name\":\"\",\"orientation\":\"v\",\"showlegend\":false,\"x\":[181,108,116,122,96,71,67,77,84,66,82,109,62,45,70,96,108,120,143,136,127,133,131,146,145,106,89,144,174,140,108,117,99,125,165,149,149,124,151,133,146,139,127,124,165,151,142,132,148,158,153,150,146,123,156,156,153,136,96,121,120,95,113,85,92,98,99,83,30,43,56,99,122,138,120,131,136,108,68,118,112,124,110,87,79,59,79,103,95,98,112,92,104,128,135,142,144,148,153,146,131,136,135,141,132,125,131,140,136,135,120,87,91,108,77,92,101,99,122,100,108,114,142,166,156,125,121,105,101,121,112,116,109,111,134,105,99,107,122,119,131,136,111,107,111,106,117,115,101,90,115,110,119,89,107,87,88,97,122,110,119,118,88,79,61,78,38,64,97,94,60,53,54,70,91,111,105,74,72,68,80,86,84,80,70,92,60,75,96,102,92,110,64,70,92,84,140,113,74,72,54,53,67,66,53,79,92,77,107,79,87,72,90,103,96,94,74,65,44,34,50,75,63,101,106,99,89,86,66,76,56,69,72,78,88,86,84,84,106,102,86,80,95,101,91,69,60,45,67,77,95,99,121,118,96,119,112,109,100,70,77,56,70,67,57,68,82,90,91,67,53,56,60,74,83,75,93,94,84,86,100,59,35,63,91,94,70,90,104,88,108,108,105,98,64,63,66,87,84,93,63,74,73,79,91,102,95,85,66,67,87,100,106,73,91,130,73,115,130,119,78,124,122,67,52,84,112,116,122,138,105,125,106,101,112,99,109,93,68,57,84,103,131,94,78,93,114,125,123,125,111,98,102,110,89,103,121,127,132,130,109,123,93,110,80,97],\"xaxis\":\"x\",\"y\":[184,166,136,204,174,136,195,190,180,170,162,190,110,172,214,204,172,188,194,163,170,138,162,198,152,210,188,150,176,178,166,192,196,212,182,210,182,213,206,174,190,160,172,204,198,224,184,190,169,180,192,236,180,226,208,186,234,160,181,196,184,185,196,176,210,174,234,234,160,150,190,151,202,238,287,246,266,211,175,180,186,194,188,150,132,186,204,194,218,244,218,245,199,254,234,200,220,220,186,204,245,232,240,192,186,214,239,238,230,174,164,194,186,172,254,192,234,214,160,176,222,301,222,214,192,192,188,224,193,156,202,228,192,190,204,223,254,190,172,218,257,202,204,202,190,266,214,166,204,180,220,206,249,164,180,172,182,218,208,207,178,171,196,190,228,232,220,202,166,184,182,165,152,161,144,176,164,174,204,162,138,174,158,190,176,160,126,177,186,166,178,180,113,162,155,126,204,161,176,132,178,98,142,150,152,144,126,174,182,156,156,136,154,221,150,134,166,189,176,180,194,180,198,152,162,192,174,196,126,162,172,164,162,192,198,160,156,164,160,166,196,216,201,178,166,176,200,234,164,208,208,200,183,188,220,228,180,236,171,208,212,237,230,221,180,199,194,168,187,204,182,172,124,168,217,220,220,219,174,212,186,210,188,202,228,226,210,156,184,232,212,190,235,176,178,188,190,204,172,192,206,174,148,144,188,187,186,180,206,177,188,222,172,138,174,164,182,210,192,194,191,176,156,172,148,158,198,196,222,192,164,178,218,242,234,245,190,156,194,216,184,188,210,164,188,190,234,208,238,206,220,200,194,172,208,166,182,120,120,164,204,184,180,216,174,121],\"yaxis\":\"y\",\"type\":\"scatter\"},{\"hovertemplate\":\"<b>OLS trendline</b><br>Crimenes = 0.263069 * AQI + 162.824<br>R<sup>2</sup>=0.060031<br><br>AQI=%{x}<br>Crimenes=%{y} <b>(trend)</b><extra></extra>\",\"legendgroup\":\"\",\"marker\":{\"color\":\"#636efa\",\"symbol\":\"circle\"},\"mode\":\"lines\",\"name\":\"\",\"showlegend\":false,\"x\":[30,34,35,38,43,44,45,45,50,52,53,53,53,53,54,54,56,56,56,56,57,57,59,59,60,60,60,60,61,62,63,63,63,63,64,64,64,65,66,66,66,66,66,67,67,67,67,67,67,67,68,68,68,68,69,69,70,70,70,70,70,70,70,71,72,72,72,72,73,73,73,74,74,74,74,74,75,75,75,76,77,77,77,77,77,78,78,78,78,79,79,79,79,79,79,80,80,80,80,82,82,83,83,84,84,84,84,84,84,84,84,84,85,85,86,86,86,86,86,87,87,87,87,87,87,88,88,88,88,89,89,89,89,90,90,90,90,91,91,91,91,91,91,91,92,92,92,92,92,92,92,93,93,93,93,93,94,94,94,94,94,95,95,95,95,95,96,96,96,96,96,96,97,97,97,98,98,98,98,99,99,99,99,99,99,99,99,100,100,100,100,101,101,101,101,101,101,102,102,102,102,103,103,103,103,104,104,105,105,105,105,105,106,106,106,106,106,106,107,107,107,107,108,108,108,108,108,108,108,108,109,109,109,109,109,110,110,110,110,110,110,111,111,111,111,111,112,112,112,112,112,112,113,113,114,114,115,115,115,116,116,116,117,117,118,118,118,119,119,119,119,119,120,120,120,120,121,121,121,121,121,122,122,122,122,122,122,122,123,123,123,124,124,124,124,125,125,125,125,125,125,127,127,127,128,130,130,130,131,131,131,131,131,131,132,132,132,133,133,134,135,135,135,136,136,136,136,136,136,138,138,139,140,140,140,141,142,142,142,143,144,144,145,146,146,146,146,148,148,149,149,150,151,151,153,153,153,156,156,156,158,165,165,166,174,181],\"xaxis\":\"x\",\"y\":[170.71602072655475,171.7682968366104,172.0313658641243,172.82057294666603,174.13591808423558,174.3989871117495,174.66205613926343,174.66205613926343,175.97740127683298,176.5035393318608,176.7666083593747,176.7666083593747,176.7666083593747,176.7666083593747,177.0296773868886,177.0296773868886,177.55581544191642,177.55581544191642,177.55581544191642,177.55581544191642,177.81888446943034,177.81888446943034,178.34502252445816,178.34502252445816,178.60809155197208,178.60809155197208,178.60809155197208,178.60809155197208,178.87116057948597,179.1342296069999,179.39729863451382,179.39729863451382,179.39729863451382,179.39729863451382,179.6603676620277,179.6603676620277,179.6603676620277,179.92343668954163,180.18650571705552,180.18650571705552,180.18650571705552,180.18650571705552,180.18650571705552,180.44957474456945,180.44957474456945,180.44957474456945,180.44957474456945,180.44957474456945,180.44957474456945,180.44957474456945,180.71264377208337,180.71264377208337,180.71264377208337,180.71264377208337,180.97571279959726,180.97571279959726,181.23878182711118,181.23878182711118,181.23878182711118,181.23878182711118,181.23878182711118,181.23878182711118,181.23878182711118,181.5018508546251,181.764919882139,181.764919882139,181.764919882139,181.764919882139,182.02798890965292,182.02798890965292,182.02798890965292,182.2910579371668,182.2910579371668,182.2910579371668,182.2910579371668,182.2910579371668,182.55412696468073,182.55412696468073,182.55412696468073,182.81719599219466,183.08026501970855,183.08026501970855,183.08026501970855,183.08026501970855,183.08026501970855,183.34333404722247,183.34333404722247,183.34333404722247,183.34333404722247,183.60640307473636,183.60640307473636,183.60640307473636,183.60640307473636,183.60640307473636,183.60640307473636,183.86947210225028,183.86947210225028,183.86947210225028,183.86947210225028,184.3956101572781,184.3956101572781,184.65867918479202,184.65867918479202,184.92174821230594,184.92174821230594,184.92174821230594,184.92174821230594,184.92174821230594,184.92174821230594,184.92174821230594,184.92174821230594,184.92174821230594,185.18481723981984,185.18481723981984,185.44788626733376,185.44788626733376,185.44788626733376,185.44788626733376,185.44788626733376,185.71095529484765,185.71095529484765,185.71095529484765,185.71095529484765,185.71095529484765,185.71095529484765,185.97402432236157,185.97402432236157,185.97402432236157,185.97402432236157,186.2370933498755,186.2370933498755,186.2370933498755,186.2370933498755,186.5001623773894,186.5001623773894,186.5001623773894,186.5001623773894,186.7632314049033,186.7632314049033,186.7632314049033,186.7632314049033,186.7632314049033,186.7632314049033,186.7632314049033,187.0263004324172,187.0263004324172,187.0263004324172,187.0263004324172,187.0263004324172,187.0263004324172,187.0263004324172,187.28936945993112,187.28936945993112,187.28936945993112,187.28936945993112,187.28936945993112,187.55243848744504,187.55243848744504,187.55243848744504,187.55243848744504,187.55243848744504,187.81550751495894,187.81550751495894,187.81550751495894,187.81550751495894,187.81550751495894,188.07857654247286,188.07857654247286,188.07857654247286,188.07857654247286,188.07857654247286,188.07857654247286,188.34164556998678,188.34164556998678,188.34164556998678,188.60471459750067,188.60471459750067,188.60471459750067,188.60471459750067,188.8677836250146,188.8677836250146,188.8677836250146,188.8677836250146,188.8677836250146,188.8677836250146,188.8677836250146,188.8677836250146,189.1308526525285,189.1308526525285,189.1308526525285,189.1308526525285,189.3939216800424,189.3939216800424,189.3939216800424,189.3939216800424,189.3939216800424,189.3939216800424,189.6569907075563,189.6569907075563,189.6569907075563,189.6569907075563,189.92005973507023,189.92005973507023,189.92005973507023,189.92005973507023,190.18312876258415,190.18312876258415,190.44619779009804,190.44619779009804,190.44619779009804,190.44619779009804,190.44619779009804,190.70926681761196,190.70926681761196,190.70926681761196,190.70926681761196,190.70926681761196,190.70926681761196,190.97233584512588,190.97233584512588,190.97233584512588,190.97233584512588,191.23540487263978,191.23540487263978,191.23540487263978,191.23540487263978,191.23540487263978,191.23540487263978,191.23540487263978,191.23540487263978,191.4984739001537,191.4984739001537,191.4984739001537,191.4984739001537,191.4984739001537,191.76154292766762,191.76154292766762,191.76154292766762,191.76154292766762,191.76154292766762,191.76154292766762,192.0246119551815,192.0246119551815,192.0246119551815,192.0246119551815,192.0246119551815,192.28768098269543,192.28768098269543,192.28768098269543,192.28768098269543,192.28768098269543,192.28768098269543,192.55075001020933,192.55075001020933,192.81381903772325,192.81381903772325,193.07688806523714,193.07688806523714,193.07688806523714,193.33995709275106,193.33995709275106,193.33995709275106,193.60302612026499,193.60302612026499,193.86609514777888,193.86609514777888,193.86609514777888,194.1291641752928,194.1291641752928,194.1291641752928,194.1291641752928,194.1291641752928,194.39223320280672,194.39223320280672,194.39223320280672,194.39223320280672,194.65530223032061,194.65530223032061,194.65530223032061,194.65530223032061,194.65530223032061,194.91837125783454,194.91837125783454,194.91837125783454,194.91837125783454,194.91837125783454,194.91837125783454,194.91837125783454,195.18144028534846,195.18144028534846,195.18144028534846,195.44450931286235,195.44450931286235,195.44450931286235,195.44450931286235,195.70757834037627,195.70757834037627,195.70757834037627,195.70757834037627,195.70757834037627,195.70757834037627,196.2337163954041,196.2337163954041,196.2337163954041,196.49678542291798,197.02292347794582,197.02292347794582,197.02292347794582,197.28599250545972,197.28599250545972,197.28599250545972,197.28599250545972,197.28599250545972,197.28599250545972,197.54906153297364,197.54906153297364,197.54906153297364,197.81213056048756,197.81213056048756,198.07519958800145,198.33826861551537,198.33826861551537,198.33826861551537,198.6013376430293,198.6013376430293,198.6013376430293,198.6013376430293,198.6013376430293,198.6013376430293,199.1274756980571,199.1274756980571,199.390544725571,199.65361375308493,199.65361375308493,199.65361375308493,199.91668278059882,200.17975180811274,200.17975180811274,200.17975180811274,200.44282083562666,200.70588986314056,200.70588986314056,200.96895889065448,201.2320279181684,201.2320279181684,201.2320279181684,201.2320279181684,201.7581659731962,201.7581659731962,202.02123500071013,202.02123500071013,202.28430402822403,202.54737305573792,202.54737305573792,203.07351111076576,203.07351111076576,203.07351111076576,203.8627181933075,203.8627181933075,203.8627181933075,204.38885624833532,206.23033944093268,206.23033944093268,206.4934084684466,208.5979606885579,210.43944388115526],\"yaxis\":\"y\",\"type\":\"scatter\"}],                        {\"template\":{\"data\":{\"bar\":[{\"error_x\":{\"color\":\"#2a3f5f\"},\"error_y\":{\"color\":\"#2a3f5f\"},\"marker\":{\"line\":{\"color\":\"#E5ECF6\",\"width\":0.5},\"pattern\":{\"fillmode\":\"overlay\",\"size\":10,\"solidity\":0.2}},\"type\":\"bar\"}],\"barpolar\":[{\"marker\":{\"line\":{\"color\":\"#E5ECF6\",\"width\":0.5},\"pattern\":{\"fillmode\":\"overlay\",\"size\":10,\"solidity\":0.2}},\"type\":\"barpolar\"}],\"carpet\":[{\"aaxis\":{\"endlinecolor\":\"#2a3f5f\",\"gridcolor\":\"white\",\"linecolor\":\"white\",\"minorgridcolor\":\"white\",\"startlinecolor\":\"#2a3f5f\"},\"baxis\":{\"endlinecolor\":\"#2a3f5f\",\"gridcolor\":\"white\",\"linecolor\":\"white\",\"minorgridcolor\":\"white\",\"startlinecolor\":\"#2a3f5f\"},\"type\":\"carpet\"}],\"choropleth\":[{\"colorbar\":{\"outlinewidth\":0,\"ticks\":\"\"},\"type\":\"choropleth\"}],\"contour\":[{\"colorbar\":{\"outlinewidth\":0,\"ticks\":\"\"},\"colorscale\":[[0.0,\"#0d0887\"],[0.1111111111111111,\"#46039f\"],[0.2222222222222222,\"#7201a8\"],[0.3333333333333333,\"#9c179e\"],[0.4444444444444444,\"#bd3786\"],[0.5555555555555556,\"#d8576b\"],[0.6666666666666666,\"#ed7953\"],[0.7777777777777778,\"#fb9f3a\"],[0.8888888888888888,\"#fdca26\"],[1.0,\"#f0f921\"]],\"type\":\"contour\"}],\"contourcarpet\":[{\"colorbar\":{\"outlinewidth\":0,\"ticks\":\"\"},\"type\":\"contourcarpet\"}],\"heatmap\":[{\"colorbar\":{\"outlinewidth\":0,\"ticks\":\"\"},\"colorscale\":[[0.0,\"#0d0887\"],[0.1111111111111111,\"#46039f\"],[0.2222222222222222,\"#7201a8\"],[0.3333333333333333,\"#9c179e\"],[0.4444444444444444,\"#bd3786\"],[0.5555555555555556,\"#d8576b\"],[0.6666666666666666,\"#ed7953\"],[0.7777777777777778,\"#fb9f3a\"],[0.8888888888888888,\"#fdca26\"],[1.0,\"#f0f921\"]],\"type\":\"heatmap\"}],\"heatmapgl\":[{\"colorbar\":{\"outlinewidth\":0,\"ticks\":\"\"},\"colorscale\":[[0.0,\"#0d0887\"],[0.1111111111111111,\"#46039f\"],[0.2222222222222222,\"#7201a8\"],[0.3333333333333333,\"#9c179e\"],[0.4444444444444444,\"#bd3786\"],[0.5555555555555556,\"#d8576b\"],[0.6666666666666666,\"#ed7953\"],[0.7777777777777778,\"#fb9f3a\"],[0.8888888888888888,\"#fdca26\"],[1.0,\"#f0f921\"]],\"type\":\"heatmapgl\"}],\"histogram\":[{\"marker\":{\"pattern\":{\"fillmode\":\"overlay\",\"size\":10,\"solidity\":0.2}},\"type\":\"histogram\"}],\"histogram2d\":[{\"colorbar\":{\"outlinewidth\":0,\"ticks\":\"\"},\"colorscale\":[[0.0,\"#0d0887\"],[0.1111111111111111,\"#46039f\"],[0.2222222222222222,\"#7201a8\"],[0.3333333333333333,\"#9c179e\"],[0.4444444444444444,\"#bd3786\"],[0.5555555555555556,\"#d8576b\"],[0.6666666666666666,\"#ed7953\"],[0.7777777777777778,\"#fb9f3a\"],[0.8888888888888888,\"#fdca26\"],[1.0,\"#f0f921\"]],\"type\":\"histogram2d\"}],\"histogram2dcontour\":[{\"colorbar\":{\"outlinewidth\":0,\"ticks\":\"\"},\"colorscale\":[[0.0,\"#0d0887\"],[0.1111111111111111,\"#46039f\"],[0.2222222222222222,\"#7201a8\"],[0.3333333333333333,\"#9c179e\"],[0.4444444444444444,\"#bd3786\"],[0.5555555555555556,\"#d8576b\"],[0.6666666666666666,\"#ed7953\"],[0.7777777777777778,\"#fb9f3a\"],[0.8888888888888888,\"#fdca26\"],[1.0,\"#f0f921\"]],\"type\":\"histogram2dcontour\"}],\"mesh3d\":[{\"colorbar\":{\"outlinewidth\":0,\"ticks\":\"\"},\"type\":\"mesh3d\"}],\"parcoords\":[{\"line\":{\"colorbar\":{\"outlinewidth\":0,\"ticks\":\"\"}},\"type\":\"parcoords\"}],\"pie\":[{\"automargin\":true,\"type\":\"pie\"}],\"scatter\":[{\"marker\":{\"colorbar\":{\"outlinewidth\":0,\"ticks\":\"\"}},\"type\":\"scatter\"}],\"scatter3d\":[{\"line\":{\"colorbar\":{\"outlinewidth\":0,\"ticks\":\"\"}},\"marker\":{\"colorbar\":{\"outlinewidth\":0,\"ticks\":\"\"}},\"type\":\"scatter3d\"}],\"scattercarpet\":[{\"marker\":{\"colorbar\":{\"outlinewidth\":0,\"ticks\":\"\"}},\"type\":\"scattercarpet\"}],\"scattergeo\":[{\"marker\":{\"colorbar\":{\"outlinewidth\":0,\"ticks\":\"\"}},\"type\":\"scattergeo\"}],\"scattergl\":[{\"marker\":{\"colorbar\":{\"outlinewidth\":0,\"ticks\":\"\"}},\"type\":\"scattergl\"}],\"scattermapbox\":[{\"marker\":{\"colorbar\":{\"outlinewidth\":0,\"ticks\":\"\"}},\"type\":\"scattermapbox\"}],\"scatterpolar\":[{\"marker\":{\"colorbar\":{\"outlinewidth\":0,\"ticks\":\"\"}},\"type\":\"scatterpolar\"}],\"scatterpolargl\":[{\"marker\":{\"colorbar\":{\"outlinewidth\":0,\"ticks\":\"\"}},\"type\":\"scatterpolargl\"}],\"scatterternary\":[{\"marker\":{\"colorbar\":{\"outlinewidth\":0,\"ticks\":\"\"}},\"type\":\"scatterternary\"}],\"surface\":[{\"colorbar\":{\"outlinewidth\":0,\"ticks\":\"\"},\"colorscale\":[[0.0,\"#0d0887\"],[0.1111111111111111,\"#46039f\"],[0.2222222222222222,\"#7201a8\"],[0.3333333333333333,\"#9c179e\"],[0.4444444444444444,\"#bd3786\"],[0.5555555555555556,\"#d8576b\"],[0.6666666666666666,\"#ed7953\"],[0.7777777777777778,\"#fb9f3a\"],[0.8888888888888888,\"#fdca26\"],[1.0,\"#f0f921\"]],\"type\":\"surface\"}],\"table\":[{\"cells\":{\"fill\":{\"color\":\"#EBF0F8\"},\"line\":{\"color\":\"white\"}},\"header\":{\"fill\":{\"color\":\"#C8D4E3\"},\"line\":{\"color\":\"white\"}},\"type\":\"table\"}]},\"layout\":{\"annotationdefaults\":{\"arrowcolor\":\"#2a3f5f\",\"arrowhead\":0,\"arrowwidth\":1},\"autotypenumbers\":\"strict\",\"coloraxis\":{\"colorbar\":{\"outlinewidth\":0,\"ticks\":\"\"}},\"colorscale\":{\"diverging\":[[0,\"#8e0152\"],[0.1,\"#c51b7d\"],[0.2,\"#de77ae\"],[0.3,\"#f1b6da\"],[0.4,\"#fde0ef\"],[0.5,\"#f7f7f7\"],[0.6,\"#e6f5d0\"],[0.7,\"#b8e186\"],[0.8,\"#7fbc41\"],[0.9,\"#4d9221\"],[1,\"#276419\"]],\"sequential\":[[0.0,\"#0d0887\"],[0.1111111111111111,\"#46039f\"],[0.2222222222222222,\"#7201a8\"],[0.3333333333333333,\"#9c179e\"],[0.4444444444444444,\"#bd3786\"],[0.5555555555555556,\"#d8576b\"],[0.6666666666666666,\"#ed7953\"],[0.7777777777777778,\"#fb9f3a\"],[0.8888888888888888,\"#fdca26\"],[1.0,\"#f0f921\"]],\"sequentialminus\":[[0.0,\"#0d0887\"],[0.1111111111111111,\"#46039f\"],[0.2222222222222222,\"#7201a8\"],[0.3333333333333333,\"#9c179e\"],[0.4444444444444444,\"#bd3786\"],[0.5555555555555556,\"#d8576b\"],[0.6666666666666666,\"#ed7953\"],[0.7777777777777778,\"#fb9f3a\"],[0.8888888888888888,\"#fdca26\"],[1.0,\"#f0f921\"]]},\"colorway\":[\"#636efa\",\"#EF553B\",\"#00cc96\",\"#ab63fa\",\"#FFA15A\",\"#19d3f3\",\"#FF6692\",\"#B6E880\",\"#FF97FF\",\"#FECB52\"],\"font\":{\"color\":\"#2a3f5f\"},\"geo\":{\"bgcolor\":\"white\",\"lakecolor\":\"white\",\"landcolor\":\"#E5ECF6\",\"showlakes\":true,\"showland\":true,\"subunitcolor\":\"white\"},\"hoverlabel\":{\"align\":\"left\"},\"hovermode\":\"closest\",\"mapbox\":{\"style\":\"light\"},\"paper_bgcolor\":\"white\",\"plot_bgcolor\":\"#E5ECF6\",\"polar\":{\"angularaxis\":{\"gridcolor\":\"white\",\"linecolor\":\"white\",\"ticks\":\"\"},\"bgcolor\":\"#E5ECF6\",\"radialaxis\":{\"gridcolor\":\"white\",\"linecolor\":\"white\",\"ticks\":\"\"}},\"scene\":{\"xaxis\":{\"backgroundcolor\":\"#E5ECF6\",\"gridcolor\":\"white\",\"gridwidth\":2,\"linecolor\":\"white\",\"showbackground\":true,\"ticks\":\"\",\"zerolinecolor\":\"white\"},\"yaxis\":{\"backgroundcolor\":\"#E5ECF6\",\"gridcolor\":\"white\",\"gridwidth\":2,\"linecolor\":\"white\",\"showbackground\":true,\"ticks\":\"\",\"zerolinecolor\":\"white\"},\"zaxis\":{\"backgroundcolor\":\"#E5ECF6\",\"gridcolor\":\"white\",\"gridwidth\":2,\"linecolor\":\"white\",\"showbackground\":true,\"ticks\":\"\",\"zerolinecolor\":\"white\"}},\"shapedefaults\":{\"line\":{\"color\":\"#2a3f5f\"}},\"ternary\":{\"aaxis\":{\"gridcolor\":\"white\",\"linecolor\":\"white\",\"ticks\":\"\"},\"baxis\":{\"gridcolor\":\"white\",\"linecolor\":\"white\",\"ticks\":\"\"},\"bgcolor\":\"#E5ECF6\",\"caxis\":{\"gridcolor\":\"white\",\"linecolor\":\"white\",\"ticks\":\"\"}},\"title\":{\"x\":0.05},\"xaxis\":{\"automargin\":true,\"gridcolor\":\"white\",\"linecolor\":\"white\",\"ticks\":\"\",\"title\":{\"standoff\":15},\"zerolinecolor\":\"white\",\"zerolinewidth\":2},\"yaxis\":{\"automargin\":true,\"gridcolor\":\"white\",\"linecolor\":\"white\",\"ticks\":\"\",\"title\":{\"standoff\":15},\"zerolinecolor\":\"white\",\"zerolinewidth\":2}}},\"xaxis\":{\"anchor\":\"y\",\"domain\":[0.0,1.0],\"title\":{\"text\":\"AQI\"}},\"yaxis\":{\"anchor\":\"x\",\"domain\":[0.0,1.0],\"title\":{\"text\":\"Crimenes\"}},\"legend\":{\"tracegroupgap\":0},\"title\":{\"text\":\"Relationship between Crime & AQI\"}},                        {\"responsive\": true}                    ).then(function(){\n",
       "                            \n",
       "var gd = document.getElementById('587f7923-14c3-47af-9b8e-6d463cd3a1a1');\n",
       "var x = new MutationObserver(function (mutations, observer) {{\n",
       "        var display = window.getComputedStyle(gd).display;\n",
       "        if (!display || display === 'none') {{\n",
       "            console.log([gd, 'removed!']);\n",
       "            Plotly.purge(gd);\n",
       "            observer.disconnect();\n",
       "        }}\n",
       "}});\n",
       "\n",
       "// Listen for the removal of the full notebook cells\n",
       "var notebookContainer = gd.closest('#notebook-container');\n",
       "if (notebookContainer) {{\n",
       "    x.observe(notebookContainer, {childList: true});\n",
       "}}\n",
       "\n",
       "// Listen for the clearing of the current output cell\n",
       "var outputEl = gd.closest('.output');\n",
       "if (outputEl) {{\n",
       "    x.observe(outputEl, {childList: true});\n",
       "}}\n",
       "\n",
       "                        })                };                });            </script>        </div>"
      ]
     },
     "metadata": {},
     "output_type": "display_data"
    }
   ],
   "source": [
    "import plotly.express as px\n",
    "figure = px.scatter(data_frame = df_all_2016, x=\"AQI\",\n",
    "                    y=\"Crimenes\", \n",
    "                    trendline=\"ols\", \n",
    "                    title=\"Relationship between Crime & AQI\")\n",
    "figure.show()\n",
    "\n",
    "#OLS = Ordinary Least Squares"
   ]
  },
  {
   "cell_type": "code",
   "execution_count": null,
   "id": "114d521b-966a-461d-acc0-0ad47d2e2928",
   "metadata": {},
   "outputs": [],
   "source": []
  },
  {
   "cell_type": "code",
   "execution_count": 35,
   "id": "abe3b768-ecf0-4ef3-a17d-cb2177db50bb",
   "metadata": {},
   "outputs": [
    {
     "data": {
      "image/png": "[encoded data removed]",
      "text/plain": [
       "<Figure size 1080x504 with 1 Axes>"
      ]
     },
     "metadata": {
      "needs_background": "light"
     },
     "output_type": "display_data"
    }
   ],
   "source": [
    "df_all_2017 = df_all[df_all['Anio'] == 2017]\n",
    "df_all_2017.plot(kind='scatter', x='AQI', y='Crimenes', color='magenta', alpha=0.5, figsize=(15, 7))\n",
    "plt.legend(labels=['Relation in CDMX 2017'])\n",
    "plt.title('Relationship between Crime and AQI 2017', size=20)\n",
    "plt.xlabel('AQI', size=18)\n",
    "plt.ylabel('Crime', size=18);"
   ]
  },
  {
   "cell_type": "code",
   "execution_count": 34,
   "id": "f5ad7af9-7d5b-4f27-853d-655a4b28da83",
   "metadata": {},
   "outputs": [
    {
     "data": {
      "image/png": "[encoded data removed]",
      "text/plain": [
       "<Figure size 1080x504 with 1 Axes>"
      ]
     },
     "metadata": {
      "needs_background": "light"
     },
     "output_type": "display_data"
    }
   ],
   "source": [
    "df_all_2018 = df_all[df_all['Anio'] == 2018]\n",
    "df_all_2018.plot(kind='scatter', x='AQI', y='Crimenes', color='magenta', alpha=0.5, figsize=(15, 7))\n",
    "plt.legend(labels=['Relation in CDMX 2018'])\n",
    "plt.title('Relationship between Crime and AQI 2018', size=20)\n",
    "plt.xlabel('AQI', size=18)\n",
    "plt.ylabel('Crime', size=18);"
   ]
  },
  {
   "cell_type": "code",
   "execution_count": 37,
   "id": "a50adf4d-7044-4889-8537-ab5f73dc904b",
   "metadata": {},
   "outputs": [
    {
     "data": {
      "image/png": "[encoded data removed]",
      "text/plain": [
       "<Figure size 1080x504 with 1 Axes>"
      ]
     },
     "metadata": {
      "needs_background": "light"
     },
     "output_type": "display_data"
    }
   ],
   "source": [
    "df_all_2019 = df_all[df_all['Anio'] == 2019]\n",
    "df_all_2019.plot(kind='scatter', x='AQI', y='Crimenes', color='magenta', alpha=0.5, figsize=(15, 7))\n",
    "plt.legend(labels=['Relation in CDMX 2019'])\n",
    "plt.title('Relationship between Crime and AQI 2019', size=20)\n",
    "plt.xlabel('AQI', size=18)\n",
    "plt.ylabel('Crime', size=18);"
   ]
  },
  {
   "cell_type": "code",
   "execution_count": 38,
   "id": "ca8bf900-37bf-4e77-b851-419b5f8f04aa",
   "metadata": {},
   "outputs": [
    {
     "data": {
      "image/png": "[encoded data removed]",
      "text/plain": [
       "<Figure size 1080x504 with 1 Axes>"
      ]
     },
     "metadata": {
      "needs_background": "light"
     },
     "output_type": "display_data"
    }
   ],
   "source": [
    "df_all_2020 = df_all[df_all['Anio'] == 2020]\n",
    "df_all_2020.plot(kind='scatter', x='AQI', y='Crimenes', color='magenta', alpha=0.5, figsize=(15, 7))\n",
    "plt.legend(labels=['Relation in CDMX 2020'])\n",
    "plt.title('Relationship between Crime and AQI 2020', size=20)\n",
    "plt.xlabel('AQI', size=18)\n",
    "plt.ylabel('Crime', size=18);"
   ]
  },
  {
   "cell_type": "code",
   "execution_count": null,
   "id": "84a82646-c8fd-4cf0-af67-ea887d521128",
   "metadata": {},
   "outputs": [],
   "source": []
  }
 ],
 "metadata": {
  "kernelspec": {
   "display_name": "Python 3 (ipykernel)",
   "language": "python",
   "name": "python3"
  },
  "language_info": {
   "codemirror_mode": {
    "name": "ipython",
    "version": 3
   },
   "file_extension": ".py",
   "mimetype": "text/x-python",
   "name": "python",
   "nbconvert_exporter": "python",
   "pygments_lexer": "ipython3",
   "version": "3.9.12"
  }
 },
 "nbformat": 4,
 "nbformat_minor": 5
}
