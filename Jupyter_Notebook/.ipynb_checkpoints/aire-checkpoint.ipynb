{
 "cells": [
  {
   "cell_type": "code",
   "execution_count": 2,
   "id": "93804f37-1a42-43c3-b0d1-e142a0bdb0a3",
   "metadata": {},
   "outputs": [],
   "source": [
    "import pandas as pd\n",
    "import numpy as np\n",
    "import seaborn as sns"
   ]
  },
  {
   "cell_type": "code",
   "execution_count": 3,
   "id": "5ed1b0e0-c98c-4709-b7af-3d0fc8305600",
   "metadata": {},
   "outputs": [],
   "source": [
    "co_2010 = pd.read_csv(\"E:\\\\7mo\\\\TT1\\\\Datos_aire\\\\Contaminantes\\\\csv\\\\2010CO.csv\")\n",
    "co_2011 = pd.read_csv(\"E:\\\\7mo\\\\TT1\\\\Datos_aire\\\\Contaminantes\\\\csv\\\\2011CO.csv\")\n",
    "co_2012 = pd.read_csv(\"E:\\\\7mo\\\\TT1\\\\Datos_aire\\\\Contaminantes\\\\csv\\\\2012CO.csv\")\n",
    "co_2013 = pd.read_csv(\"E:\\\\7mo\\\\TT1\\\\Datos_aire\\\\Contaminantes\\\\csv\\\\2013CO.csv\")\n",
    "co_2014 = pd.read_csv(\"E:\\\\7mo\\\\TT1\\\\Datos_aire\\\\Contaminantes\\\\csv\\\\2014CO.csv\")\n",
    "co_2015 = pd.read_csv(\"E:\\\\7mo\\\\TT1\\\\Datos_aire\\\\Contaminantes\\\\csv\\\\2015CO.csv\")\n",
    "co_2016 = pd.read_csv(\"E:\\\\7mo\\\\TT1\\\\Datos_aire\\\\Contaminantes\\\\csv\\\\2016CO.csv\")\n",
    "co_2017 = pd.read_csv(\"E:\\\\7mo\\\\TT1\\\\Datos_aire\\\\Contaminantes\\\\csv\\\\2017CO.csv\")\n",
    "co_2018 = pd.read_csv(\"E:\\\\7mo\\\\TT1\\\\Datos_aire\\\\Contaminantes\\\\csv\\\\2018CO.csv\")\n",
    "co_2019 = pd.read_csv(\"E:\\\\7mo\\\\TT1\\\\Datos_aire\\\\Contaminantes\\\\csv\\\\2019CO.csv\")\n",
    "co_2020 = pd.read_csv(\"E:\\\\7mo\\\\TT1\\\\Datos_aire\\\\Contaminantes\\\\csv\\\\2020CO.csv\")\n",
    "cat_estacion = pd.read_csv(\"E:\\\\7mo\\\\TT1\\\\Datos_aire\\\\Contaminantes\\\\csv\\\\cat_estacion.csv\")\n",
    "cat_parametros = pd.read_csv(\"E:\\\\7mo\\\\TT1\\\\Datos_aire\\\\Contaminantes\\\\csv\\\\cat_parametros.csv\")\n",
    "cat_unidades = pd.read_csv(\"E:\\\\7mo\\\\TT1\\\\Datos_aire\\\\Contaminantes\\\\csv\\\\cat_unidades.csv\")"
   ]
  },
  {
   "cell_type": "code",
   "execution_count": 138,
   "id": "098f0bb7-8e6d-4fc2-9b31-339350413b6c",
   "metadata": {},
   "outputs": [],
   "source": [
    "co_2012_2 = pd.read_csv(\"E:\\\\7mo\\\\TT1\\\\Datos_aire\\\\Contaminantes\\\\csv\\\\2012CO.csv\")\n",
    "co_2013_2 = pd.read_csv(\"E:\\\\7mo\\\\TT1\\\\Datos_aire\\\\Contaminantes\\\\csv\\\\2013CO.csv\")"
   ]
  },
  {
   "cell_type": "code",
   "execution_count": 142,
   "id": "d6ce964d-b800-4595-bfa2-fde9b1a9a6eb",
   "metadata": {},
   "outputs": [
    {
     "data": {
      "text/plain": [
       "['FECHA',\n",
       " 'HORA',\n",
       " 'ACO',\n",
       " 'ATI',\n",
       " 'CAM',\n",
       " 'CHO',\n",
       " 'CUA',\n",
       " 'FAC',\n",
       " 'HGM',\n",
       " 'IZT',\n",
       " 'LLA',\n",
       " 'LPR',\n",
       " 'MER',\n",
       " 'MON',\n",
       " 'NEZ',\n",
       " 'PED',\n",
       " 'SAG',\n",
       " 'SFE',\n",
       " 'SJA',\n",
       " 'SUR',\n",
       " 'TAH',\n",
       " 'TLA',\n",
       " 'TLI',\n",
       " 'UAX',\n",
       " 'UIZ',\n",
       " 'VIF',\n",
       " 'XAL',\n",
       " 'Unnamed: 27']"
      ]
     },
     "execution_count": 142,
     "metadata": {},
     "output_type": "execute_result"
    }
   ],
   "source": [
    "header_list_1 = list(co_2012_2)\n",
    "header_list_2 = list(co_2013_2)\n",
    "header_list_2"
   ]
  },
  {
   "cell_type": "code",
   "execution_count": 144,
   "id": "a759351e-53ca-4178-900e-06bb394bf3a5",
   "metadata": {},
   "outputs": [
    {
     "name": "stdout",
     "output_type": "stream",
     "text": [
      "['FECHA', 'HORA', 'ACO', 'ATI', 'CAM', 'CHO', 'CUA', 'FAC', 'HGM', 'IZT', 'LLA', 'LPR', 'MER', 'MON', 'NEZ', 'PED', 'SAG', 'SFE', 'SJA', 'SUR', 'TAH', 'TLA', 'TLI', 'UAX', 'UIZ', 'VIF', 'XAL']\n"
     ]
    }
   ],
   "source": [
    "for i in range(len(header_list_2)-2):\n",
    "        if header_list_2[i+2] == None or header_list_2[i+2].startswith('Unnam'):\n",
    "            limit = i+2\n",
    "            break\n",
    "            #header_list_pm25_2017_v2.pop(i+2)\n",
    "        \n",
    "header_list_2 = header_list_2[0 : limit]\n",
    "print(header_list_2)"
   ]
  },
  {
   "cell_type": "code",
   "execution_count": 147,
   "id": "ee1beacc-be0b-402b-a865-b37f0e5ce67b",
   "metadata": {},
   "outputs": [],
   "source": [
    "for j in range(len(co_2012_2)-1):\n",
    "    \n",
    "    for i in range(len(header_list_1)-2):\n",
    "        date = pd.to_datetime(co_2012_2.loc[j][0])\n",
    "        toAppend = { \n",
    "        'Dia': date.day, \n",
    "        'Mes': date.month,\n",
    "        'Anio': date.year,\n",
    "        'Hora': co_2012_2.loc[j][1], \n",
    "        'Lugar': cat_estacion.loc[cat_estacion['cve_estac'] == header_list_1[i+2]]['nom_estac'].values[0],\n",
    "        'Valor': co_2012_2.loc[j][i+2]}\n",
    "        df_co_2012_v5 = df_co_2012_v5.append(toAppend, ignore_index=True)"
   ]
  },
  {
   "cell_type": "code",
   "execution_count": 148,
   "id": "434b7358-d3cf-4e99-b39b-d13feda7e289",
   "metadata": {},
   "outputs": [],
   "source": [
    "for j in range(len(co_2013_2)-1):\n",
    "    \n",
    "    for i in range(len(header_list_2)-2):\n",
    "        date = pd.to_datetime(co_2013_2.loc[j][0])\n",
    "        toAppend = { \n",
    "        'Dia': date.day, \n",
    "        'Mes': date.month,\n",
    "        'Anio': date.year,\n",
    "        'Hora': co_2013_2.loc[j][1], \n",
    "        'Lugar': cat_estacion.loc[cat_estacion['cve_estac'] == header_list_2[i+2]]['nom_estac'].values[0],\n",
    "        'Valor': co_2013_2.loc[j][i+2]}\n",
    "        df_co_2013_v5 = df_co_2013_v5.append(toAppend, ignore_index=True)"
   ]
  },
  {
   "cell_type": "code",
   "execution_count": 149,
   "id": "62f3adbb-7a18-4f4f-9134-1fc1865c0272",
   "metadata": {},
   "outputs": [
    {
     "data": {
      "text/plain": [
       "array(['Acolman', 'Atizapan', 'Camarones', 'Chalco', 'Cuajimalpa',\n",
       "       'FES Acatlan', 'Hospital General de Mexico', 'Iztacalco',\n",
       "       'Los Laureles', 'La Presa', 'Merced', 'Montecillo',\n",
       "       'Nezahualcoyotl', 'Pedregal', 'San Agustin', 'Santa FE',\n",
       "       'San Juan Aragon', 'Santa Ursula', 'Tlahuac', 'Tlalnepantla',\n",
       "       'Tultitlan', 'UAM Xochimilco', 'UAM Iztapalapa',\n",
       "       'Villa de las Flores', 'Xalostoc'], dtype=object)"
      ]
     },
     "execution_count": 149,
     "metadata": {},
     "output_type": "execute_result"
    }
   ],
   "source": [
    "df_co_2013_v5['Lugar'].unique()"
   ]
  },
  {
   "cell_type": "code",
   "execution_count": 3,
   "id": "33907931-cefe-4c0a-bd34-074df755c27d",
   "metadata": {},
   "outputs": [],
   "source": [
    "df_co_2010 = pd.DataFrame(co_2010)\n",
    "df_co_2011 = pd.DataFrame(co_2011)\n",
    "df_co_2012 = pd.DataFrame(co_2012)\n",
    "df_co_2013 = pd.DataFrame(co_2013)\n",
    "df_co_2014 = pd.DataFrame(co_2014)\n",
    "df_co_2015 = pd.DataFrame(co_2015)\n",
    "df_co_2016 = pd.DataFrame(co_2016)\n",
    "df_co_2017 = pd.DataFrame(co_2017)\n",
    "df_co_2018 = pd.DataFrame(co_2018)\n",
    "df_co_2019 = pd.DataFrame(co_2019)\n",
    "df_co_2020 = pd.DataFrame(co_2020)"
   ]
  },
  {
   "cell_type": "code",
   "execution_count": 4,
   "id": "38f3fffb-8aaf-4b34-888a-ff695f969f46",
   "metadata": {},
   "outputs": [
    {
     "data": {
      "text/plain": [
       "0    Acolman\n",
       "Name: nom_estac, dtype: object"
      ]
     },
     "execution_count": 4,
     "metadata": {},
     "output_type": "execute_result"
    }
   ],
   "source": [
    "cat_estacion.loc[cat_estacion['cve_estac'] == 'ACO']['nom_estac']"
   ]
  },
  {
   "cell_type": "code",
   "execution_count": 5,
   "id": "a0ffea8d-e7f4-401a-a2a7-9420cb568da9",
   "metadata": {},
   "outputs": [
    {
     "data": {
      "text/plain": [
       "19"
      ]
     },
     "execution_count": 5,
     "metadata": {},
     "output_type": "execute_result"
    }
   ],
   "source": [
    "header_list = list(co_2010)\n",
    "len(header_list)"
   ]
  },
  {
   "cell_type": "code",
   "execution_count": 59,
   "id": "5a3d84f0-33e1-40fb-bdfe-cd82fc004b06",
   "metadata": {},
   "outputs": [],
   "source": [
    "df_co_2010_v4 = pd.DataFrame(columns=['ID','Dia', 'Mes', 'Anio', 'Hora', 'Lugar', 'Valor'])\n",
    "df_co_2011_v4 = pd.DataFrame(columns=['ID','Dia', 'Mes', 'Anio', 'Hora', 'Lugar', 'Valor'])\n",
    "df_co_2012_v4 = pd.DataFrame(columns=['ID','Dia', 'Mes', 'Anio', 'Hora', 'Lugar', 'Valor'])\n",
    "df_co_2013_v4 = pd.DataFrame(columns=['ID','Dia', 'Mes', 'Anio', 'Hora', 'Lugar', 'Valor'])\n",
    "df_co_2014_v4 = pd.DataFrame(columns=['ID','Dia', 'Mes', 'Anio', 'Hora', 'Lugar', 'Valor'])\n",
    "df_co_2015_v4 = pd.DataFrame(columns=['ID','Dia', 'Mes', 'Anio', 'Hora', 'Lugar', 'Valor'])\n",
    "df_co_2016_v4 = pd.DataFrame(columns=['ID','Dia', 'Mes', 'Anio', 'Hora', 'Lugar', 'Valor'])\n",
    "df_co_2017_v4 = pd.DataFrame(columns=['ID','Dia', 'Mes', 'Anio', 'Hora', 'Lugar', 'Valor'])\n",
    "df_co_2018_v4 = pd.DataFrame(columns=['ID','Dia', 'Mes', 'Anio', 'Hora', 'Lugar', 'Valor'])\n",
    "df_co_2019_v4 = pd.DataFrame(columns=['ID','Dia', 'Mes', 'Anio', 'Hora', 'Lugar', 'Valor'])\n",
    "df_co_2020_v4 = pd.DataFrame(columns=['ID','Dia', 'Mes', 'Anio', 'Hora', 'Lugar', 'Valor'])"
   ]
  },
  {
   "cell_type": "code",
   "execution_count": 72,
   "id": "762be285-2e90-4147-9e3b-0b604633407e",
   "metadata": {},
   "outputs": [
    {
     "data": {
      "text/plain": [
       "28"
      ]
     },
     "execution_count": 72,
     "metadata": {},
     "output_type": "execute_result"
    }
   ],
   "source": [
    "header_list_co_2011 = list(co_2011)\n",
    "len(header_list_co_2011)\n",
    "header_list_co_2014 = list(co_2014)\n",
    "len(header_list_co_2014)\n",
    "header_list_co_2015 = list(co_2015)\n",
    "len(header_list_co_2015)\n",
    "header_list_co_2016 = list(co_2016)\n",
    "len(header_list_co_2016)\n",
    "header_list_co_2017 = list(co_2017)\n",
    "len(header_list_co_2017)\n",
    "header_list_co_2018 = list(co_2018)\n",
    "len(header_list_co_2018)\n",
    "header_list_co_2019 = list(co_2019)\n",
    "len(header_list_co_2019)\n",
    "header_list_co_2020 = list(co_2020)\n",
    "len(header_list_co_2012)"
   ]
  },
  {
   "cell_type": "code",
   "execution_count": 74,
   "id": "01b4b879-2378-4feb-98ff-e93c29ecd6ad",
   "metadata": {},
   "outputs": [
    {
     "data": {
      "text/plain": [
       "28"
      ]
     },
     "execution_count": 74,
     "metadata": {},
     "output_type": "execute_result"
    }
   ],
   "source": [
    "header_list_co_2012 = list(co_2012)\n",
    "len(header_list_co_2012)"
   ]
  },
  {
   "cell_type": "code",
   "execution_count": 73,
   "id": "ff5281c6-9f40-4d45-a93c-679096fabba7",
   "metadata": {},
   "outputs": [
    {
     "data": {
      "text/plain": [
       "28"
      ]
     },
     "execution_count": 73,
     "metadata": {},
     "output_type": "execute_result"
    }
   ],
   "source": [
    "header_list_co_2013 = list(co_2013)\n",
    "len(header_list_co_2013)"
   ]
  },
  {
   "cell_type": "code",
   "execution_count": 97,
   "id": "960ab46a-20c1-4d40-ae1f-ee94ac825b66",
   "metadata": {},
   "outputs": [],
   "source": [
    "for j in range(len(co_2011)-1):\n",
    "    \n",
    "    for i in range(len(header_list_co_2011)-2):\n",
    "        date = pd.to_datetime(co_2011.loc[j][0])\n",
    "        toAppend = {\n",
    "        'ID': i, \n",
    "        'Dia': date.day, \n",
    "        'Mes': date.month,\n",
    "        'Anio': date.year,\n",
    "        'Hora': co_2011.loc[j][1], \n",
    "        'Lugar': cat_estacion.loc[cat_estacion['cve_estac'] == header_list_co_2011[i+2]]['nom_estac'].values[0],\n",
    "        'Valor': co_2011.loc[j][i+2]}\n",
    "        df_co_2011_v4 = df_co_2011_v4.append(toAppend, ignore_index=True)"
   ]
  },
  {
   "cell_type": "code",
   "execution_count": 98,
   "id": "248848de-4b26-4fc5-a873-bfa15f5e70bf",
   "metadata": {},
   "outputs": [],
   "source": [
    "for j in range(len(co_2010)-1):\n",
    "    \n",
    "    for i in range(17):\n",
    "        date = pd.to_datetime(co_2010.loc[j][0])\n",
    "        toAppend = {\n",
    "        'ID': i, \n",
    "        'Dia': date.day, \n",
    "        'Mes': date.month,\n",
    "        'Anio': date.year,\n",
    "        'Hora': co_2010.loc[j][1], \n",
    "        'Lugar': cat_estacion.loc[cat_estacion['cve_estac'] == header_list[i+2]]['nom_estac'].values[0],\n",
    "        'Valor': co_2010.loc[j][i+2]}\n",
    "        df_co_2010_v4 = df_co_2010_v4.append(toAppend, ignore_index=True)"
   ]
  },
  {
   "cell_type": "code",
   "execution_count": 99,
   "id": "a04bee11-8827-4741-a42e-a94a61453e54",
   "metadata": {},
   "outputs": [],
   "source": [
    "for j in range(len(co_2012)-1):\n",
    "    \n",
    "    for h in range(len(header_list_co_2012)-3):\n",
    "        date = pd.to_datetime(co_2012.loc[j][0])\n",
    "        toAppend = {\n",
    "        'ID': h, \n",
    "        'Dia': date.day, \n",
    "        'Mes': date.month,\n",
    "        'Anio': date.year,\n",
    "        'Hora': co_2012.loc[j][1], \n",
    "        'Lugar': cat_estacion.loc[cat_estacion['cve_estac'] == header_list_co_2012[h+2]]['nom_estac'].values[0],\n",
    "        'Valor': co_2012.loc[j][h+2]}\n",
    "        df_co_2012_v4 = df_co_2012_v4.append(toAppend, ignore_index=True)"
   ]
  },
  {
   "cell_type": "code",
   "execution_count": 100,
   "id": "5d316046-b05b-45e4-ac40-ce4a83bb9a27",
   "metadata": {},
   "outputs": [],
   "source": [
    "for j in range(len(co_2013)-1):\n",
    "    \n",
    "    for i in range(len(header_list_co_2013)-3):\n",
    "        date = pd.to_datetime(co_2013.loc[j][0])\n",
    "        toAppend = {\n",
    "        'ID': i, \n",
    "        'Dia': date.day, \n",
    "        'Mes': date.month,\n",
    "        'Anio': date.year,\n",
    "        'Hora': co_2013.loc[j][1], \n",
    "        'Lugar': cat_estacion.loc[cat_estacion['cve_estac'] == header_list_co_2013[i+2]]['nom_estac'].values[0],\n",
    "        'Valor': co_2013.loc[j][i+2]}\n",
    "        df_co_2013_v4 = df_co_2013_v4.append(toAppend, ignore_index=True)"
   ]
  },
  {
   "cell_type": "code",
   "execution_count": 101,
   "id": "c00da699-00ce-4448-966a-c6d39dd1feba",
   "metadata": {},
   "outputs": [],
   "source": [
    "for j in range(len(co_2014)-1):\n",
    "    \n",
    "    for i in range(len(header_list_co_2014)-3):\n",
    "        date = pd.to_datetime(co_2014.loc[j][0])\n",
    "        toAppend = {\n",
    "        'ID': i, \n",
    "        'Dia': date.day, \n",
    "        'Mes': date.month,\n",
    "        'Anio': date.year,\n",
    "        'Hora': co_2014.loc[j][1], \n",
    "        'Lugar': cat_estacion.loc[cat_estacion['cve_estac'] == header_list_co_2014[i+2]]['nom_estac'].values[0],\n",
    "        'Valor': co_2014.loc[j][i+2]}\n",
    "        df_co_2014_v4 = df_co_2014_v4.append(toAppend, ignore_index=True)"
   ]
  },
  {
   "cell_type": "code",
   "execution_count": 102,
   "id": "516cc7fc-aa75-4773-b2a9-735d687d488f",
   "metadata": {},
   "outputs": [],
   "source": [
    "for j in range(len(co_2015)-1):\n",
    "    \n",
    "    for i in range(len(header_list_co_2015)-2):\n",
    "        date = pd.to_datetime(co_2015.loc[j][0])\n",
    "        toAppend = {\n",
    "        'ID': i, \n",
    "        'Dia': date.day, \n",
    "        'Mes': date.month,\n",
    "        'Anio': date.year,\n",
    "        'Hora': co_2015.loc[j][1], \n",
    "        'Lugar': cat_estacion.loc[cat_estacion['cve_estac'] == header_list_co_2015[i+2]]['nom_estac'].values[0],\n",
    "        'Valor': co_2015.loc[j][i+2]}\n",
    "        df_co_2015_v4 = df_co_2015_v4.append(toAppend, ignore_index=True)"
   ]
  },
  {
   "cell_type": "code",
   "execution_count": 103,
   "id": "1588e655-2451-4136-90f0-72a61e5e435e",
   "metadata": {},
   "outputs": [],
   "source": [
    "for j in range(len(co_2016)-1):\n",
    "    \n",
    "    for i in range(len(header_list_co_2016)-2):\n",
    "        date = pd.to_datetime(co_2016.loc[j][0])\n",
    "        toAppend = {\n",
    "        'ID': i, \n",
    "        'Dia': date.day, \n",
    "        'Mes': date.month,\n",
    "        'Anio': date.year,\n",
    "        'Hora': co_2016.loc[j][1], \n",
    "        'Lugar': cat_estacion.loc[cat_estacion['cve_estac'] == header_list_co_2016[i+2]]['nom_estac'].values[0],\n",
    "        'Valor': co_2016.loc[j][i+2]}\n",
    "        df_co_2016_v4 = df_co_2016_v4.append(toAppend, ignore_index=True)"
   ]
  },
  {
   "cell_type": "code",
   "execution_count": 104,
   "id": "b6ecaf84-11be-4788-b42f-a80cd44fd91c",
   "metadata": {},
   "outputs": [],
   "source": [
    "for j in range(len(co_2017)-1):\n",
    "    \n",
    "    for i in range(len(header_list_co_2017)-2):\n",
    "        date = pd.to_datetime(co_2017.loc[j][0])\n",
    "        toAppend = {\n",
    "        'ID': i, \n",
    "        'Dia': date.day, \n",
    "        'Mes': date.month,\n",
    "        'Anio': date.year,\n",
    "        'Hora': co_2017.loc[j][1], \n",
    "        'Lugar': cat_estacion.loc[cat_estacion['cve_estac'] == header_list_co_2017[i+2]]['nom_estac'].values[0],\n",
    "        'Valor': co_2017.loc[j][i+2]}\n",
    "        df_co_2017_v4 = df_co_2017_v4.append(toAppend, ignore_index=True)"
   ]
  },
  {
   "cell_type": "code",
   "execution_count": 105,
   "id": "a194b0fe-0068-4cb9-94ed-b64a9a0c2099",
   "metadata": {},
   "outputs": [],
   "source": [
    "for j in range(len(co_2018)-1):\n",
    "    \n",
    "    for i in range(len(header_list_co_2018)-2):\n",
    "        date = pd.to_datetime(co_2018.loc[j][0])\n",
    "        toAppend = {\n",
    "        'ID': i, \n",
    "        'Dia': date.day, \n",
    "        'Mes': date.month,\n",
    "        'Anio': date.year,\n",
    "        'Hora': co_2018.loc[j][1], \n",
    "        'Lugar': cat_estacion.loc[cat_estacion['cve_estac'] == header_list_co_2018[i+2]]['nom_estac'].values[0],\n",
    "        'Valor': co_2018.loc[j][i+2]}\n",
    "        df_co_2018_v4 = df_co_2018_v4.append(toAppend, ignore_index=True)"
   ]
  },
  {
   "cell_type": "code",
   "execution_count": 106,
   "id": "077e5802-e37e-498f-905a-734060b5a466",
   "metadata": {},
   "outputs": [],
   "source": [
    "for j in range(len(co_2019)-1):\n",
    "    \n",
    "    for i in range(len(header_list_co_2019)-2):\n",
    "        date = pd.to_datetime(co_2019.loc[j][0])\n",
    "        toAppend = {\n",
    "        'ID': i, \n",
    "        'Dia': date.day, \n",
    "        'Mes': date.month,\n",
    "        'Anio': date.year,\n",
    "        'Hora': co_2019.loc[j][1], \n",
    "        'Lugar': cat_estacion.loc[cat_estacion['cve_estac'] == header_list_co_2019[i+2]]['nom_estac'].values[0],\n",
    "        'Valor': co_2019.loc[j][i+2]}\n",
    "        df_co_2019_v4 = df_co_2019_v4.append(toAppend, ignore_index=True)"
   ]
  },
  {
   "cell_type": "code",
   "execution_count": 107,
   "id": "322ae048-6970-4ba9-a865-770b149ea061",
   "metadata": {},
   "outputs": [],
   "source": [
    "for j in range(len(co_2020)-1):\n",
    "    \n",
    "    for i in range(len(header_list_co_2020)-2):\n",
    "        date = pd.to_datetime(co_2020.loc[j][0])\n",
    "        toAppend = {\n",
    "        'ID': i, \n",
    "        'Dia': date.day, \n",
    "        'Mes': date.month,\n",
    "        'Anio': date.year,\n",
    "        'Hora': co_2020.loc[j][1], \n",
    "        'Lugar': cat_estacion.loc[cat_estacion['cve_estac'] == header_list_co_2020[i+2]]['nom_estac'].values[0],\n",
    "        'Valor': co_2020.loc[j][i+2]}\n",
    "        df_co_2020_v4 = df_co_2020_v4.append(toAppend, ignore_index=True)"
   ]
  },
  {
   "cell_type": "code",
   "execution_count": 143,
   "id": "5349b87e-61a0-4977-a81b-4b882edb0135",
   "metadata": {},
   "outputs": [
    {
     "data": {
      "text/plain": [
       "array(['Lagunilla', 'Tacuba', 'FES Acatlan', 'Tlalnepantla', 'Xalostoc',\n",
       "       'Merced', 'Pedregal', 'UAM Iztapalapa',\n",
       "       'Inst. Mexicano del Petroleo', 'Taxquena', 'Tultitlan',\n",
       "       'Villa de las Flores', 'San Agustin', 'Vallejo', 'Santa Ursula',\n",
       "       'Iztacalco', 'Chalco'], dtype=object)"
      ]
     },
     "execution_count": 143,
     "metadata": {},
     "output_type": "execute_result"
    }
   ],
   "source": [
    "df_co_2010_v4['Lugar'].unique()"
   ]
  },
  {
   "cell_type": "code",
   "execution_count": 144,
   "id": "57e9a098-4d4e-4dcb-a328-822a3bbc249c",
   "metadata": {},
   "outputs": [
    {
     "data": {
      "text/plain": [
       "array(['Acolman', 'Camarones', 'Chalco', 'Cuajimalpa', 'FES Acatlan',\n",
       "       'Iztacalco', 'Los Laureles', 'La Presa', 'Merced', 'Montecillo',\n",
       "       'Nezahualcoyotl', 'Pedregal', 'San Agustin', 'San Juan Aragon',\n",
       "       'Santa Ursula', 'Tlahuac', 'Tlalnepantla', 'Tultitlan', 'Tlalpan',\n",
       "       'UAM Iztapalapa', 'Villa de las Flores', 'Xalostoc'], dtype=object)"
      ]
     },
     "execution_count": 144,
     "metadata": {},
     "output_type": "execute_result"
    }
   ],
   "source": [
    "df_co_2011_v4['Lugar'].unique()"
   ]
  },
  {
   "cell_type": "code",
   "execution_count": 118,
   "id": "f410daee-9981-4b80-84d2-1ba964e0b75d",
   "metadata": {},
   "outputs": [
    {
     "data": {
      "text/html": [
       "<div>\n",
       "<style scoped>\n",
       "    .dataframe tbody tr th:only-of-type {\n",
       "        vertical-align: middle;\n",
       "    }\n",
       "\n",
       "    .dataframe tbody tr th {\n",
       "        vertical-align: top;\n",
       "    }\n",
       "\n",
       "    .dataframe thead th {\n",
       "        text-align: right;\n",
       "    }\n",
       "</style>\n",
       "<table border=\"1\" class=\"dataframe\">\n",
       "  <thead>\n",
       "    <tr style=\"text-align: right;\">\n",
       "      <th></th>\n",
       "      <th>ID</th>\n",
       "      <th>Dia</th>\n",
       "      <th>Mes</th>\n",
       "      <th>Anio</th>\n",
       "      <th>Hora</th>\n",
       "      <th>Lugar</th>\n",
       "      <th>Valor</th>\n",
       "    </tr>\n",
       "  </thead>\n",
       "  <tbody>\n",
       "    <tr>\n",
       "      <th>0</th>\n",
       "      <td>0</td>\n",
       "      <td>1</td>\n",
       "      <td>1</td>\n",
       "      <td>2020</td>\n",
       "      <td>1</td>\n",
       "      <td>Acolman</td>\n",
       "      <td>-99</td>\n",
       "    </tr>\n",
       "    <tr>\n",
       "      <th>1</th>\n",
       "      <td>1</td>\n",
       "      <td>1</td>\n",
       "      <td>1</td>\n",
       "      <td>2020</td>\n",
       "      <td>1</td>\n",
       "      <td>Ajusco Medio</td>\n",
       "      <td>-99.0</td>\n",
       "    </tr>\n",
       "    <tr>\n",
       "      <th>2</th>\n",
       "      <td>2</td>\n",
       "      <td>1</td>\n",
       "      <td>1</td>\n",
       "      <td>2020</td>\n",
       "      <td>1</td>\n",
       "      <td>Atizapan</td>\n",
       "      <td>-99.0</td>\n",
       "    </tr>\n",
       "    <tr>\n",
       "      <th>3</th>\n",
       "      <td>3</td>\n",
       "      <td>1</td>\n",
       "      <td>1</td>\n",
       "      <td>2020</td>\n",
       "      <td>1</td>\n",
       "      <td>Benito Juarez</td>\n",
       "      <td>0.9</td>\n",
       "    </tr>\n",
       "    <tr>\n",
       "      <th>4</th>\n",
       "      <td>4</td>\n",
       "      <td>1</td>\n",
       "      <td>1</td>\n",
       "      <td>2020</td>\n",
       "      <td>1</td>\n",
       "      <td>Camarones</td>\n",
       "      <td>0.8</td>\n",
       "    </tr>\n",
       "    <tr>\n",
       "      <th>...</th>\n",
       "      <td>...</td>\n",
       "      <td>...</td>\n",
       "      <td>...</td>\n",
       "      <td>...</td>\n",
       "      <td>...</td>\n",
       "      <td>...</td>\n",
       "      <td>...</td>\n",
       "    </tr>\n",
       "    <tr>\n",
       "      <th>281316</th>\n",
       "      <td>27</td>\n",
       "      <td>31</td>\n",
       "      <td>12</td>\n",
       "      <td>2020</td>\n",
       "      <td>23</td>\n",
       "      <td>Tultitlan</td>\n",
       "      <td>-99.0</td>\n",
       "    </tr>\n",
       "    <tr>\n",
       "      <th>281317</th>\n",
       "      <td>28</td>\n",
       "      <td>31</td>\n",
       "      <td>12</td>\n",
       "      <td>2020</td>\n",
       "      <td>23</td>\n",
       "      <td>UAM Xochimilco</td>\n",
       "      <td>0.1</td>\n",
       "    </tr>\n",
       "    <tr>\n",
       "      <th>281318</th>\n",
       "      <td>29</td>\n",
       "      <td>31</td>\n",
       "      <td>12</td>\n",
       "      <td>2020</td>\n",
       "      <td>23</td>\n",
       "      <td>UAM Iztapalapa</td>\n",
       "      <td>0.3</td>\n",
       "    </tr>\n",
       "    <tr>\n",
       "      <th>281319</th>\n",
       "      <td>30</td>\n",
       "      <td>31</td>\n",
       "      <td>12</td>\n",
       "      <td>2020</td>\n",
       "      <td>23</td>\n",
       "      <td>Villa de las Flores</td>\n",
       "      <td>1.7</td>\n",
       "    </tr>\n",
       "    <tr>\n",
       "      <th>281320</th>\n",
       "      <td>31</td>\n",
       "      <td>31</td>\n",
       "      <td>12</td>\n",
       "      <td>2020</td>\n",
       "      <td>23</td>\n",
       "      <td>Xalostoc</td>\n",
       "      <td>-99</td>\n",
       "    </tr>\n",
       "  </tbody>\n",
       "</table>\n",
       "<p>281321 rows × 7 columns</p>\n",
       "</div>"
      ],
      "text/plain": [
       "        ID Dia Mes  Anio Hora                Lugar Valor\n",
       "0        0   1   1  2020    1              Acolman   -99\n",
       "1        1   1   1  2020    1         Ajusco Medio -99.0\n",
       "2        2   1   1  2020    1             Atizapan -99.0\n",
       "3        3   1   1  2020    1        Benito Juarez   0.9\n",
       "4        4   1   1  2020    1            Camarones   0.8\n",
       "...     ..  ..  ..   ...  ...                  ...   ...\n",
       "281316  27  31  12  2020   23            Tultitlan -99.0\n",
       "281317  28  31  12  2020   23       UAM Xochimilco   0.1\n",
       "281318  29  31  12  2020   23       UAM Iztapalapa   0.3\n",
       "281319  30  31  12  2020   23  Villa de las Flores   1.7\n",
       "281320  31  31  12  2020   23             Xalostoc   -99\n",
       "\n",
       "[281321 rows x 7 columns]"
      ]
     },
     "execution_count": 118,
     "metadata": {},
     "output_type": "execute_result"
    }
   ],
   "source": [
    "df_co_2020_v4"
   ]
  },
  {
   "cell_type": "code",
   "execution_count": 170,
   "id": "222aa25d-6210-4c2a-9bce-66679ecc00d9",
   "metadata": {},
   "outputs": [],
   "source": [
    "from pathlib import Path  \n",
    "filepath = Path('E:\\\\7mo\\\\TT1\\\\Datos_aire\\\\Contaminantes\\\\csv_modificados\\\\co_2011_2020.csv')  \n",
    "\n",
    "filepath.parent.mkdir(parents=True, exist_ok=True)  \n",
    "\n",
    "df_3.to_csv(filepath)  "
   ]
  },
  {
   "cell_type": "code",
   "execution_count": 140,
   "id": "794b8128-5fc9-4b59-ad63-4e026af1aaf9",
   "metadata": {},
   "outputs": [
    {
     "data": {
      "text/plain": [
       "[RangeIndex(start=0, stop=193202, step=1),\n",
       " Index(['ID', 'Dia', 'Mes', 'Anio', 'Hora', 'Lugar', 'Valor'], dtype='object')]"
      ]
     },
     "execution_count": 140,
     "metadata": {},
     "output_type": "execute_result"
    }
   ],
   "source": [
    "df_co_2011_v4.axes"
   ]
  },
  {
   "cell_type": "code",
   "execution_count": 139,
   "id": "66456635-add9-4f40-b544-b3bf8c8e6b1a",
   "metadata": {},
   "outputs": [],
   "source": [
    "co_2010_m = pd.read_csv(\"E:\\\\7mo\\\\TT1\\\\Datos_aire\\\\Contaminantes\\\\csv_modificados\\\\co_2010.csv\")\n",
    "co_2011_m = pd.read_csv(\"E:\\\\7mo\\\\TT1\\\\Datos_aire\\\\Contaminantes\\\\csv_modificados\\\\co_2011.csv\")\n",
    "co_2012_m = pd.read_csv(\"E:\\\\7mo\\\\TT1\\\\Datos_aire\\\\Contaminantes\\\\csv_modificados\\\\co_2012.csv\")\n",
    "co_2013_m = pd.read_csv(\"E:\\\\7mo\\\\TT1\\\\Datos_aire\\\\Contaminantes\\\\csv_modificados\\\\co_2013.csv\")\n",
    "co_2014_m = pd.read_csv(\"E:\\\\7mo\\\\TT1\\\\Datos_aire\\\\Contaminantes\\\\csv_modificados\\\\co_2014.csv\")\n",
    "co_2015_m = pd.read_csv(\"E:\\\\7mo\\\\TT1\\\\Datos_aire\\\\Contaminantes\\\\csv_modificados\\\\co_2015.csv\")\n",
    "co_2016_m = pd.read_csv(\"E:\\\\7mo\\\\TT1\\\\Datos_aire\\\\Contaminantes\\\\csv_modificados\\\\co_2016.csv\")\n",
    "co_2017_m = pd.read_csv(\"E:\\\\7mo\\\\TT1\\\\Datos_aire\\\\Contaminantes\\\\csv_modificados\\\\co_2017.csv\")\n",
    "co_2018_m = pd.read_csv(\"E:\\\\7mo\\\\TT1\\\\Datos_aire\\\\Contaminantes\\\\csv_modificados\\\\co_2018.csv\")\n",
    "co_2019_m = pd.read_csv(\"E:\\\\7mo\\\\TT1\\\\Datos_aire\\\\Contaminantes\\\\csv_modificados\\\\co_2019.csv\")\n",
    "co_2020_m = pd.read_csv(\"E:\\\\7mo\\\\TT1\\\\Datos_aire\\\\Contaminantes\\\\csv_modificados\\\\co_2020.csv\")"
   ]
  },
  {
   "cell_type": "code",
   "execution_count": 141,
   "id": "5c52611b-c55f-4d22-8e0c-900a3160a846",
   "metadata": {},
   "outputs": [],
   "source": [
    "df_co_2010_m = pd.DataFrame(co_2010_m)\n",
    "df_co_2011_m = pd.DataFrame(co_2011_m)\n",
    "df_co_2012_m = pd.DataFrame(co_2012_m)\n",
    "df_co_2013_m = pd.DataFrame(co_2013_m)\n",
    "df_co_2014_m = pd.DataFrame(co_2014_m)\n",
    "df_co_2015_m = pd.DataFrame(co_2015_m)\n",
    "df_co_2016_m = pd.DataFrame(co_2016_m)\n",
    "df_co_2017_m = pd.DataFrame(co_2017_m)\n",
    "df_co_2018_m = pd.DataFrame(co_2018_m)\n",
    "df_co_2019_m = pd.DataFrame(co_2019_m)\n",
    "df_co_2020_m = pd.DataFrame(co_2020_m)"
   ]
  },
  {
   "cell_type": "code",
   "execution_count": 155,
   "id": "0f46a03b-548d-40aa-b8a4-08c0c0c125b8",
   "metadata": {},
   "outputs": [],
   "source": [
    "df_2 = pd.DataFrame()\n",
    "df_2 = df_2.append(df_co_2011_m, ignore_index=True)"
   ]
  },
  {
   "cell_type": "code",
   "execution_count": 156,
   "id": "bd7fe810-9356-46f9-80d2-316a7ae50715",
   "metadata": {},
   "outputs": [],
   "source": [
    "df_2 = df_2.append(df_co_2012_m, ignore_index=True)"
   ]
  },
  {
   "cell_type": "code",
   "execution_count": 158,
   "id": "43a0277b-efbc-4e5b-a67e-54410ffed7dc",
   "metadata": {},
   "outputs": [],
   "source": [
    "df_2 = df_2.append(df_co_2013_m, ignore_index=True)\n",
    "df_2 = df_2.append(df_co_2014_m, ignore_index=True)\n",
    "df_2 = df_2.append(df_co_2015_m, ignore_index=True)\n",
    "df_2 = df_2.append(df_co_2016_m, ignore_index=True)\n",
    "df_2 = df_2.append(df_co_2017_m, ignore_index=True)\n",
    "df_2 = df_2.append(df_co_2018_m, ignore_index=True)\n",
    "df_2 = df_2.append(df_co_2019_m, ignore_index=True)\n",
    "df_2 = df_2.append(df_co_2020_m, ignore_index=True)"
   ]
  },
  {
   "cell_type": "code",
   "execution_count": 164,
   "id": "5093ab5b-f19b-4c43-b5d6-1162eda8b7f3",
   "metadata": {},
   "outputs": [
    {
     "data": {
      "text/plain": [
       "Index(['Unnamed: 0', 'ID', 'Dia', 'Mes', 'Anio', 'Hora', 'Lugar', 'Valor'], dtype='object')"
      ]
     },
     "execution_count": 164,
     "metadata": {},
     "output_type": "execute_result"
    }
   ],
   "source": [
    "df_2.columns"
   ]
  },
  {
   "cell_type": "code",
   "execution_count": 168,
   "id": "14c13c6f-59f8-4ff2-a8b5-0583f1423363",
   "metadata": {},
   "outputs": [],
   "source": [
    "df_3 = df_2.drop(['Unnamed: 0','ID'], axis=1)"
   ]
  },
  {
   "cell_type": "code",
   "execution_count": 169,
   "id": "dd8a164a-dd4a-48fd-bd77-1c93330a662e",
   "metadata": {},
   "outputs": [
    {
     "data": {
      "text/html": [
       "<div>\n",
       "<style scoped>\n",
       "    .dataframe tbody tr th:only-of-type {\n",
       "        vertical-align: middle;\n",
       "    }\n",
       "\n",
       "    .dataframe tbody tr th {\n",
       "        vertical-align: top;\n",
       "    }\n",
       "\n",
       "    .dataframe thead th {\n",
       "        text-align: right;\n",
       "    }\n",
       "</style>\n",
       "<table border=\"1\" class=\"dataframe\">\n",
       "  <thead>\n",
       "    <tr style=\"text-align: right;\">\n",
       "      <th></th>\n",
       "      <th>Dia</th>\n",
       "      <th>Mes</th>\n",
       "      <th>Anio</th>\n",
       "      <th>Hora</th>\n",
       "      <th>Lugar</th>\n",
       "      <th>Valor</th>\n",
       "    </tr>\n",
       "  </thead>\n",
       "  <tbody>\n",
       "    <tr>\n",
       "      <th>0</th>\n",
       "      <td>1</td>\n",
       "      <td>1</td>\n",
       "      <td>2011</td>\n",
       "      <td>1</td>\n",
       "      <td>Acolman</td>\n",
       "      <td>-99.0</td>\n",
       "    </tr>\n",
       "    <tr>\n",
       "      <th>1</th>\n",
       "      <td>1</td>\n",
       "      <td>1</td>\n",
       "      <td>2011</td>\n",
       "      <td>1</td>\n",
       "      <td>Camarones</td>\n",
       "      <td>-99.0</td>\n",
       "    </tr>\n",
       "    <tr>\n",
       "      <th>2</th>\n",
       "      <td>1</td>\n",
       "      <td>1</td>\n",
       "      <td>2011</td>\n",
       "      <td>1</td>\n",
       "      <td>Chalco</td>\n",
       "      <td>-99.0</td>\n",
       "    </tr>\n",
       "    <tr>\n",
       "      <th>3</th>\n",
       "      <td>1</td>\n",
       "      <td>1</td>\n",
       "      <td>2011</td>\n",
       "      <td>1</td>\n",
       "      <td>Cuajimalpa</td>\n",
       "      <td>-99.0</td>\n",
       "    </tr>\n",
       "    <tr>\n",
       "      <th>4</th>\n",
       "      <td>1</td>\n",
       "      <td>1</td>\n",
       "      <td>2011</td>\n",
       "      <td>1</td>\n",
       "      <td>FES Acatlan</td>\n",
       "      <td>1.4</td>\n",
       "    </tr>\n",
       "    <tr>\n",
       "      <th>...</th>\n",
       "      <td>...</td>\n",
       "      <td>...</td>\n",
       "      <td>...</td>\n",
       "      <td>...</td>\n",
       "      <td>...</td>\n",
       "      <td>...</td>\n",
       "    </tr>\n",
       "    <tr>\n",
       "      <th>2484298</th>\n",
       "      <td>31</td>\n",
       "      <td>12</td>\n",
       "      <td>2020</td>\n",
       "      <td>23</td>\n",
       "      <td>Tultitlan</td>\n",
       "      <td>-99.0</td>\n",
       "    </tr>\n",
       "    <tr>\n",
       "      <th>2484299</th>\n",
       "      <td>31</td>\n",
       "      <td>12</td>\n",
       "      <td>2020</td>\n",
       "      <td>23</td>\n",
       "      <td>UAM Xochimilco</td>\n",
       "      <td>0.1</td>\n",
       "    </tr>\n",
       "    <tr>\n",
       "      <th>2484300</th>\n",
       "      <td>31</td>\n",
       "      <td>12</td>\n",
       "      <td>2020</td>\n",
       "      <td>23</td>\n",
       "      <td>UAM Iztapalapa</td>\n",
       "      <td>0.3</td>\n",
       "    </tr>\n",
       "    <tr>\n",
       "      <th>2484301</th>\n",
       "      <td>31</td>\n",
       "      <td>12</td>\n",
       "      <td>2020</td>\n",
       "      <td>23</td>\n",
       "      <td>Villa de las Flores</td>\n",
       "      <td>1.7</td>\n",
       "    </tr>\n",
       "    <tr>\n",
       "      <th>2484302</th>\n",
       "      <td>31</td>\n",
       "      <td>12</td>\n",
       "      <td>2020</td>\n",
       "      <td>23</td>\n",
       "      <td>Xalostoc</td>\n",
       "      <td>-99.0</td>\n",
       "    </tr>\n",
       "  </tbody>\n",
       "</table>\n",
       "<p>2484303 rows × 6 columns</p>\n",
       "</div>"
      ],
      "text/plain": [
       "         Dia  Mes  Anio  Hora                Lugar  Valor\n",
       "0          1    1  2011     1              Acolman  -99.0\n",
       "1          1    1  2011     1            Camarones  -99.0\n",
       "2          1    1  2011     1               Chalco  -99.0\n",
       "3          1    1  2011     1           Cuajimalpa  -99.0\n",
       "4          1    1  2011     1          FES Acatlan    1.4\n",
       "...      ...  ...   ...   ...                  ...    ...\n",
       "2484298   31   12  2020    23            Tultitlan  -99.0\n",
       "2484299   31   12  2020    23       UAM Xochimilco    0.1\n",
       "2484300   31   12  2020    23       UAM Iztapalapa    0.3\n",
       "2484301   31   12  2020    23  Villa de las Flores    1.7\n",
       "2484302   31   12  2020    23             Xalostoc  -99.0\n",
       "\n",
       "[2484303 rows x 6 columns]"
      ]
     },
     "execution_count": 169,
     "metadata": {},
     "output_type": "execute_result"
    }
   ],
   "source": [
    "df_3"
   ]
  },
  {
   "cell_type": "code",
   "execution_count": 4,
   "id": "ca78a42a-f175-4d79-9596-4659c121f627",
   "metadata": {},
   "outputs": [],
   "source": [
    "pm25_2010 = pd.read_csv(\"E:\\\\7mo\\\\TT1\\\\Datos_aire\\\\Contaminantes\\\\csv\\\\2010PM25.csv\")\n",
    "pm25_2011 = pd.read_csv(\"E:\\\\7mo\\\\TT1\\\\Datos_aire\\\\Contaminantes\\\\csv\\\\2011PM25.csv\")\n",
    "pm25_2012 = pd.read_csv(\"E:\\\\7mo\\\\TT1\\\\Datos_aire\\\\Contaminantes\\\\csv\\\\2012PM25.csv\")\n",
    "pm25_2013 = pd.read_csv(\"E:\\\\7mo\\\\TT1\\\\Datos_aire\\\\Contaminantes\\\\csv\\\\2013PM25.csv\")\n",
    "pm25_2014 = pd.read_csv(\"E:\\\\7mo\\\\TT1\\\\Datos_aire\\\\Contaminantes\\\\csv\\\\2014PM25.csv\")\n",
    "pm25_2015 = pd.read_csv(\"E:\\\\7mo\\\\TT1\\\\Datos_aire\\\\Contaminantes\\\\csv\\\\2015PM25.csv\")\n",
    "pm25_2016 = pd.read_csv(\"E:\\\\7mo\\\\TT1\\\\Datos_aire\\\\Contaminantes\\\\csv\\\\2016PM25.csv\")\n",
    "pm25_2017 = pd.read_csv(\"E:\\\\7mo\\\\TT1\\\\Datos_aire\\\\Contaminantes\\\\csv\\\\2017PM25.csv\")\n",
    "pm25_2018 = pd.read_csv(\"E:\\\\7mo\\\\TT1\\\\Datos_aire\\\\Contaminantes\\\\csv\\\\2018PM25.csv\")\n",
    "pm25_2019 = pd.read_csv(\"E:\\\\7mo\\\\TT1\\\\Datos_aire\\\\Contaminantes\\\\csv\\\\2019PM25.csv\")\n",
    "pm25_2020 = pd.read_csv(\"E:\\\\7mo\\\\TT1\\\\Datos_aire\\\\Contaminantes\\\\csv\\\\2020PM25.csv\")"
   ]
  },
  {
   "cell_type": "code",
   "execution_count": 251,
   "id": "fc2107f9-1944-49c4-bef0-195cee9bef21",
   "metadata": {},
   "outputs": [],
   "source": [
    "df_pm25_2010 = pd.DataFrame(pm25_2010)\n",
    "df_pm25_2011 = pd.DataFrame(pm25_2011)\n",
    "df_pm25_2012 = pd.DataFrame(pm25_2012)\n",
    "df_pm25_2013 = pd.DataFrame(pm25_2013)\n",
    "df_pm25_2014 = pd.DataFrame(pm25_2014)\n",
    "df_pm25_2015 = pd.DataFrame(pm25_2015)\n",
    "df_pm25_2016 = pd.DataFrame(pm25_2016)\n",
    "df_pm25_2017 = pd.DataFrame(pm25_2017)\n",
    "df_pm25_2018 = pd.DataFrame(pm25_2018)\n",
    "df_pm25_2019 = pd.DataFrame(pm25_2019)\n",
    "df_pm25_2020 = pd.DataFrame(pm25_2020)"
   ]
  },
  {
   "cell_type": "code",
   "execution_count": 287,
   "id": "0a87fa81-5e39-4f07-bdad-3abd5cec6aa3",
   "metadata": {},
   "outputs": [],
   "source": [
    "df_pm25_2018 = pd.DataFrame(pm25_2018)\n",
    "df_pm25_2019 = pd.DataFrame(pm25_2019)"
   ]
  },
  {
   "cell_type": "code",
   "execution_count": 173,
   "id": "36056315-6031-4aa4-b257-a1afff2fc558",
   "metadata": {},
   "outputs": [],
   "source": [
    "df_pm25_2010_v4 = pd.DataFrame(columns=['Dia', 'Mes', 'Anio', 'Hora', 'Lugar', 'Valor'])\n",
    "df_pm25_2011_v4 = pd.DataFrame(columns=['Dia', 'Mes', 'Anio', 'Hora', 'Lugar', 'Valor'])\n",
    "df_pm25_2012_v4 = pd.DataFrame(columns=['Dia', 'Mes', 'Anio', 'Hora', 'Lugar', 'Valor'])\n",
    "df_pm25_2013_v4 = pd.DataFrame(columns=['Dia', 'Mes', 'Anio', 'Hora', 'Lugar', 'Valor'])\n",
    "df_pm25_2014_v4 = pd.DataFrame(columns=['Dia', 'Mes', 'Anio', 'Hora', 'Lugar', 'Valor'])\n",
    "df_pm25_2015_v4 = pd.DataFrame(columns=['Dia', 'Mes', 'Anio', 'Hora', 'Lugar', 'Valor'])\n",
    "df_pm25_2016_v4 = pd.DataFrame(columns=['Dia', 'Mes', 'Anio', 'Hora', 'Lugar', 'Valor'])\n",
    "df_pm25_2017_v4 = pd.DataFrame(columns=['Dia', 'Mes', 'Anio', 'Hora', 'Lugar', 'Valor'])\n",
    "df_pm25_2018_v4 = pd.DataFrame(columns=['Dia', 'Mes', 'Anio', 'Hora', 'Lugar', 'Valor'])\n",
    "df_pm25_2019_v4 = pd.DataFrame(columns=['Dia', 'Mes', 'Anio', 'Hora', 'Lugar', 'Valor'])\n",
    "df_pm25_2020_v4 = pd.DataFrame(columns=['Dia', 'Mes', 'Anio', 'Hora', 'Lugar', 'Valor'])"
   ]
  },
  {
   "cell_type": "code",
   "execution_count": 246,
   "id": "20c58538-cdd3-4ab2-9870-f04e9e452806",
   "metadata": {},
   "outputs": [],
   "source": [
    "header_list_pm25_2011 = list(pm25_2011)\n",
    "header_list_pm25_2012 = list(pm25_2012)\n",
    "header_list_pm25_2013 = list(pm25_2013)\n",
    "header_list_pm25_2014 = list(pm25_2014)\n",
    "header_list_pm25_2015 = list(pm25_2015)\n",
    "header_list_pm25_2016 = list(pm25_2016)\n",
    "header_list_pm25_2017 = list(pm25_2017)\n",
    "header_list_pm25_2018 = list(pm25_2018)\n",
    "header_list_pm25_2019 = list(pm25_2019)\n",
    "header_list_pm25_2020 = list(pm25_2020)"
   ]
  },
  {
   "cell_type": "code",
   "execution_count": 288,
   "id": "2a30fddc-9c7f-4a67-8c49-e026ce927f51",
   "metadata": {},
   "outputs": [
    {
     "name": "stdout",
     "output_type": "stream",
     "text": [
      "['FECHA', 'HORA', 'AJM', 'AJU', 'BJU', 'CAM', 'CCA', 'COY', 'GAM', 'HGM', 'INN', 'MER', 'MGH', 'MPA', 'NEZ', 'PED', 'SAG', 'SFE', 'SJA', 'TLA', 'UAX', 'UIZ', 'XAL']\n"
     ]
    }
   ],
   "source": [
    "\n",
    "for i in range(len(header_list_pm25_2017)-3):\n",
    "        if header_list_pm25_2017[i+2] == None or header_list_pm25_2017[i+2].startswith('Unnam'):\n",
    "            limit = i+2\n",
    "            break\n",
    "            #header_list_pm25_2017_v2.pop(i+2)\n",
    "        \n",
    "header_list_pm25_2017 = header_list_pm25_2017[0 : limit]\n",
    "print(header_list_pm25_2017)\n"
   ]
  },
  {
   "cell_type": "code",
   "execution_count": 289,
   "id": "c2b3912e-41ad-4cad-8f46-a9ade2f49e5a",
   "metadata": {},
   "outputs": [
    {
     "data": {
      "text/plain": [
       "Index(['FECHA', 'HORA', 'AJM', 'AJU', 'BJU', 'CAM', 'CCA', 'COY', 'GAM', 'HGM',\n",
       "       'INN', 'MER', 'MGH', 'MPA', 'NEZ', 'PED', 'SAG', 'SFE', 'SJA', 'TLA',\n",
       "       'UAX', 'UIZ', 'XAL'],\n",
       "      dtype='object')"
      ]
     },
     "execution_count": 289,
     "metadata": {},
     "output_type": "execute_result"
    }
   ],
   "source": [
    "df_pm25_2017 = df_pm25_2017[header_list_pm25_2017]\n",
    "df_pm25_2017.columns"
   ]
  },
  {
   "cell_type": "code",
   "execution_count": 295,
   "id": "cc20a0ad-07d3-4336-9340-f3bc3b64cb50",
   "metadata": {},
   "outputs": [
    {
     "data": {
      "text/html": [
       "<div>\n",
       "<style scoped>\n",
       "    .dataframe tbody tr th:only-of-type {\n",
       "        vertical-align: middle;\n",
       "    }\n",
       "\n",
       "    .dataframe tbody tr th {\n",
       "        vertical-align: top;\n",
       "    }\n",
       "\n",
       "    .dataframe thead th {\n",
       "        text-align: right;\n",
       "    }\n",
       "</style>\n",
       "<table border=\"1\" class=\"dataframe\">\n",
       "  <thead>\n",
       "    <tr style=\"text-align: right;\">\n",
       "      <th></th>\n",
       "      <th>FECHA</th>\n",
       "      <th>HORA</th>\n",
       "      <th>AJM</th>\n",
       "      <th>AJU</th>\n",
       "      <th>BJU</th>\n",
       "      <th>CAM</th>\n",
       "      <th>CCA</th>\n",
       "      <th>COY</th>\n",
       "      <th>FAR</th>\n",
       "      <th>GAM</th>\n",
       "      <th>...</th>\n",
       "      <th>NEZ</th>\n",
       "      <th>PED</th>\n",
       "      <th>SAC</th>\n",
       "      <th>SAG</th>\n",
       "      <th>SFE</th>\n",
       "      <th>SJA</th>\n",
       "      <th>TLA</th>\n",
       "      <th>UAX</th>\n",
       "      <th>UIZ</th>\n",
       "      <th>XAL</th>\n",
       "    </tr>\n",
       "  </thead>\n",
       "  <tbody>\n",
       "    <tr>\n",
       "      <th>0</th>\n",
       "      <td>1/1/2020</td>\n",
       "      <td>1</td>\n",
       "      <td>-99</td>\n",
       "      <td>-99</td>\n",
       "      <td>45</td>\n",
       "      <td>-99</td>\n",
       "      <td>35</td>\n",
       "      <td>-99</td>\n",
       "      <td>45</td>\n",
       "      <td>-99</td>\n",
       "      <td>...</td>\n",
       "      <td>47</td>\n",
       "      <td>43</td>\n",
       "      <td>85</td>\n",
       "      <td>-99</td>\n",
       "      <td>26</td>\n",
       "      <td>-99</td>\n",
       "      <td>41</td>\n",
       "      <td>41</td>\n",
       "      <td>65</td>\n",
       "      <td>-99</td>\n",
       "    </tr>\n",
       "    <tr>\n",
       "      <th>1</th>\n",
       "      <td>1/1/2020</td>\n",
       "      <td>2</td>\n",
       "      <td>-99</td>\n",
       "      <td>-99</td>\n",
       "      <td>47</td>\n",
       "      <td>-99</td>\n",
       "      <td>42</td>\n",
       "      <td>-99</td>\n",
       "      <td>97</td>\n",
       "      <td>-99</td>\n",
       "      <td>...</td>\n",
       "      <td>99</td>\n",
       "      <td>58</td>\n",
       "      <td>61</td>\n",
       "      <td>-99</td>\n",
       "      <td>34</td>\n",
       "      <td>-99</td>\n",
       "      <td>47</td>\n",
       "      <td>73</td>\n",
       "      <td>90</td>\n",
       "      <td>-99</td>\n",
       "    </tr>\n",
       "    <tr>\n",
       "      <th>2</th>\n",
       "      <td>1/1/2020</td>\n",
       "      <td>3</td>\n",
       "      <td>-99</td>\n",
       "      <td>-99</td>\n",
       "      <td>48</td>\n",
       "      <td>-99</td>\n",
       "      <td>46</td>\n",
       "      <td>-99</td>\n",
       "      <td>117</td>\n",
       "      <td>-99</td>\n",
       "      <td>...</td>\n",
       "      <td>93</td>\n",
       "      <td>69</td>\n",
       "      <td>50</td>\n",
       "      <td>-99</td>\n",
       "      <td>28</td>\n",
       "      <td>-99</td>\n",
       "      <td>52</td>\n",
       "      <td>102</td>\n",
       "      <td>94</td>\n",
       "      <td>-99</td>\n",
       "    </tr>\n",
       "    <tr>\n",
       "      <th>3</th>\n",
       "      <td>1/1/2020</td>\n",
       "      <td>4</td>\n",
       "      <td>-99</td>\n",
       "      <td>-99</td>\n",
       "      <td>54</td>\n",
       "      <td>-99</td>\n",
       "      <td>56</td>\n",
       "      <td>-99</td>\n",
       "      <td>79</td>\n",
       "      <td>-99</td>\n",
       "      <td>...</td>\n",
       "      <td>75</td>\n",
       "      <td>72</td>\n",
       "      <td>16</td>\n",
       "      <td>-99</td>\n",
       "      <td>28</td>\n",
       "      <td>-99</td>\n",
       "      <td>54</td>\n",
       "      <td>85</td>\n",
       "      <td>58</td>\n",
       "      <td>-99</td>\n",
       "    </tr>\n",
       "    <tr>\n",
       "      <th>4</th>\n",
       "      <td>1/1/2020</td>\n",
       "      <td>5</td>\n",
       "      <td>-99</td>\n",
       "      <td>-99</td>\n",
       "      <td>87</td>\n",
       "      <td>-99</td>\n",
       "      <td>63</td>\n",
       "      <td>-99</td>\n",
       "      <td>48</td>\n",
       "      <td>-99</td>\n",
       "      <td>...</td>\n",
       "      <td>52</td>\n",
       "      <td>72</td>\n",
       "      <td>12</td>\n",
       "      <td>-99</td>\n",
       "      <td>28</td>\n",
       "      <td>-99</td>\n",
       "      <td>44</td>\n",
       "      <td>83</td>\n",
       "      <td>59</td>\n",
       "      <td>-99</td>\n",
       "    </tr>\n",
       "    <tr>\n",
       "      <th>...</th>\n",
       "      <td>...</td>\n",
       "      <td>...</td>\n",
       "      <td>...</td>\n",
       "      <td>...</td>\n",
       "      <td>...</td>\n",
       "      <td>...</td>\n",
       "      <td>...</td>\n",
       "      <td>...</td>\n",
       "      <td>...</td>\n",
       "      <td>...</td>\n",
       "      <td>...</td>\n",
       "      <td>...</td>\n",
       "      <td>...</td>\n",
       "      <td>...</td>\n",
       "      <td>...</td>\n",
       "      <td>...</td>\n",
       "      <td>...</td>\n",
       "      <td>...</td>\n",
       "      <td>...</td>\n",
       "      <td>...</td>\n",
       "      <td>...</td>\n",
       "    </tr>\n",
       "    <tr>\n",
       "      <th>8779</th>\n",
       "      <td>12/31/2020</td>\n",
       "      <td>20</td>\n",
       "      <td>-99</td>\n",
       "      <td>-99</td>\n",
       "      <td>10</td>\n",
       "      <td>-99</td>\n",
       "      <td>15</td>\n",
       "      <td>-99</td>\n",
       "      <td>18</td>\n",
       "      <td>-99</td>\n",
       "      <td>...</td>\n",
       "      <td>14</td>\n",
       "      <td>2</td>\n",
       "      <td>21</td>\n",
       "      <td>30</td>\n",
       "      <td>14</td>\n",
       "      <td>-99</td>\n",
       "      <td>10</td>\n",
       "      <td>8</td>\n",
       "      <td>11</td>\n",
       "      <td>-99</td>\n",
       "    </tr>\n",
       "    <tr>\n",
       "      <th>8780</th>\n",
       "      <td>12/31/2020</td>\n",
       "      <td>21</td>\n",
       "      <td>-99</td>\n",
       "      <td>-99</td>\n",
       "      <td>14</td>\n",
       "      <td>-99</td>\n",
       "      <td>12</td>\n",
       "      <td>-99</td>\n",
       "      <td>23</td>\n",
       "      <td>11</td>\n",
       "      <td>...</td>\n",
       "      <td>19</td>\n",
       "      <td>14</td>\n",
       "      <td>26</td>\n",
       "      <td>27</td>\n",
       "      <td>17</td>\n",
       "      <td>-99</td>\n",
       "      <td>9</td>\n",
       "      <td>9</td>\n",
       "      <td>8</td>\n",
       "      <td>-99</td>\n",
       "    </tr>\n",
       "    <tr>\n",
       "      <th>8781</th>\n",
       "      <td>12/31/2020</td>\n",
       "      <td>22</td>\n",
       "      <td>-99</td>\n",
       "      <td>-99</td>\n",
       "      <td>15</td>\n",
       "      <td>-99</td>\n",
       "      <td>14</td>\n",
       "      <td>-99</td>\n",
       "      <td>21</td>\n",
       "      <td>16</td>\n",
       "      <td>...</td>\n",
       "      <td>23</td>\n",
       "      <td>27</td>\n",
       "      <td>21</td>\n",
       "      <td>32</td>\n",
       "      <td>18</td>\n",
       "      <td>-99</td>\n",
       "      <td>9</td>\n",
       "      <td>9</td>\n",
       "      <td>10</td>\n",
       "      <td>-99</td>\n",
       "    </tr>\n",
       "    <tr>\n",
       "      <th>8782</th>\n",
       "      <td>12/31/2020</td>\n",
       "      <td>23</td>\n",
       "      <td>-99</td>\n",
       "      <td>-99</td>\n",
       "      <td>20</td>\n",
       "      <td>-99</td>\n",
       "      <td>19</td>\n",
       "      <td>-99</td>\n",
       "      <td>26</td>\n",
       "      <td>22</td>\n",
       "      <td>...</td>\n",
       "      <td>25</td>\n",
       "      <td>46</td>\n",
       "      <td>32</td>\n",
       "      <td>45</td>\n",
       "      <td>19</td>\n",
       "      <td>-99</td>\n",
       "      <td>12</td>\n",
       "      <td>9</td>\n",
       "      <td>21</td>\n",
       "      <td>-99</td>\n",
       "    </tr>\n",
       "    <tr>\n",
       "      <th>8783</th>\n",
       "      <td>12/31/2020</td>\n",
       "      <td>24</td>\n",
       "      <td>-99</td>\n",
       "      <td>-99</td>\n",
       "      <td>36</td>\n",
       "      <td>-99</td>\n",
       "      <td>23</td>\n",
       "      <td>-99</td>\n",
       "      <td>32</td>\n",
       "      <td>20</td>\n",
       "      <td>...</td>\n",
       "      <td>28</td>\n",
       "      <td>-99</td>\n",
       "      <td>32</td>\n",
       "      <td>44</td>\n",
       "      <td>20</td>\n",
       "      <td>-99</td>\n",
       "      <td>19</td>\n",
       "      <td>10</td>\n",
       "      <td>28</td>\n",
       "      <td>-99</td>\n",
       "    </tr>\n",
       "  </tbody>\n",
       "</table>\n",
       "<p>8784 rows × 26 columns</p>\n",
       "</div>"
      ],
      "text/plain": [
       "           FECHA  HORA  AJM  AJU  BJU  CAM  CCA  COY  FAR  GAM  ...  NEZ  PED  \\\n",
       "0       1/1/2020     1  -99  -99   45  -99   35  -99   45  -99  ...   47   43   \n",
       "1       1/1/2020     2  -99  -99   47  -99   42  -99   97  -99  ...   99   58   \n",
       "2       1/1/2020     3  -99  -99   48  -99   46  -99  117  -99  ...   93   69   \n",
       "3       1/1/2020     4  -99  -99   54  -99   56  -99   79  -99  ...   75   72   \n",
       "4       1/1/2020     5  -99  -99   87  -99   63  -99   48  -99  ...   52   72   \n",
       "...          ...   ...  ...  ...  ...  ...  ...  ...  ...  ...  ...  ...  ...   \n",
       "8779  12/31/2020    20  -99  -99   10  -99   15  -99   18  -99  ...   14    2   \n",
       "8780  12/31/2020    21  -99  -99   14  -99   12  -99   23   11  ...   19   14   \n",
       "8781  12/31/2020    22  -99  -99   15  -99   14  -99   21   16  ...   23   27   \n",
       "8782  12/31/2020    23  -99  -99   20  -99   19  -99   26   22  ...   25   46   \n",
       "8783  12/31/2020    24  -99  -99   36  -99   23  -99   32   20  ...   28  -99   \n",
       "\n",
       "      SAC  SAG  SFE  SJA  TLA  UAX  UIZ  XAL  \n",
       "0      85  -99   26  -99   41   41   65  -99  \n",
       "1      61  -99   34  -99   47   73   90  -99  \n",
       "2      50  -99   28  -99   52  102   94  -99  \n",
       "3      16  -99   28  -99   54   85   58  -99  \n",
       "4      12  -99   28  -99   44   83   59  -99  \n",
       "...   ...  ...  ...  ...  ...  ...  ...  ...  \n",
       "8779   21   30   14  -99   10    8   11  -99  \n",
       "8780   26   27   17  -99    9    9    8  -99  \n",
       "8781   21   32   18  -99    9    9   10  -99  \n",
       "8782   32   45   19  -99   12    9   21  -99  \n",
       "8783   32   44   20  -99   19   10   28  -99  \n",
       "\n",
       "[8784 rows x 26 columns]"
      ]
     },
     "execution_count": 295,
     "metadata": {},
     "output_type": "execute_result"
    }
   ],
   "source": [
    "df_pm25_2020"
   ]
  },
  {
   "cell_type": "code",
   "execution_count": 308,
   "id": "9f780a98-9760-4272-b06b-88ccef8b4f8b",
   "metadata": {},
   "outputs": [],
   "source": [
    "for j in range(len(pm25_2013)-1):\n",
    "    \n",
    "    for i in range(len(header_list_pm25_2013)-2):\n",
    "        date = pd.to_datetime(pm25_2013.loc[j][0])\n",
    "        toAppend = { \n",
    "        'Dia': date.day, \n",
    "        'Mes': date.month,\n",
    "        'Anio': date.year,\n",
    "        'Hora': pm25_2013.loc[j][1], \n",
    "        'Lugar': cat_estacion.loc[cat_estacion['cve_estac'] == header_list_pm25_2013[i+2]]['nom_estac'].values[0],\n",
    "        'Valor': pm25_2013.loc[j][i+2]}\n",
    "        df_pm25_2013_v4 = df_pm25_2013_v4.append(toAppend, ignore_index=True)"
   ]
  },
  {
   "cell_type": "code",
   "execution_count": 309,
   "id": "3683335c-0477-42d6-82e0-98ef61c716b5",
   "metadata": {},
   "outputs": [],
   "source": [
    "for j in range(len(pm25_2014)-1):\n",
    "    \n",
    "    for i in range(len(header_list_pm25_2014)-2):\n",
    "        date = pd.to_datetime(pm25_2014.loc[j][0])\n",
    "        toAppend = { \n",
    "        'Dia': date.day, \n",
    "        'Mes': date.month,\n",
    "        'Anio': date.year,\n",
    "        'Hora': pm25_2014.loc[j][1], \n",
    "        'Lugar': cat_estacion.loc[cat_estacion['cve_estac'] == header_list_pm25_2014[i+2]]['nom_estac'].values[0],\n",
    "        'Valor': pm25_2014.loc[j][i+2]}\n",
    "        df_pm25_2014_v4 = df_pm25_2014_v4.append(toAppend, ignore_index=True)"
   ]
  },
  {
   "cell_type": "code",
   "execution_count": 310,
   "id": "2202fd92-e7d5-4335-b47f-6697b669acf2",
   "metadata": {},
   "outputs": [],
   "source": [
    "for j in range(len(pm25_2015)-1):\n",
    "    \n",
    "    for i in range(len(header_list_pm25_2015)-2):\n",
    "        date = pd.to_datetime(pm25_2015.loc[j][0])\n",
    "        toAppend = { \n",
    "        'Dia': date.day, \n",
    "        'Mes': date.month,\n",
    "        'Anio': date.year,\n",
    "        'Hora': pm25_2015.loc[j][1], \n",
    "        'Lugar': cat_estacion.loc[cat_estacion['cve_estac'] == header_list_pm25_2015[i+2]]['nom_estac'].values[0],\n",
    "        'Valor': pm25_2015.loc[j][i+2]}\n",
    "        df_pm25_2015_v4 = df_pm25_2015_v4.append(toAppend, ignore_index=True)"
   ]
  },
  {
   "cell_type": "code",
   "execution_count": 311,
   "id": "c9d20e25-ad90-4a70-a384-6b93222c7d1d",
   "metadata": {},
   "outputs": [],
   "source": [
    "for j in range(len(pm25_2016)-1):\n",
    "    \n",
    "    for i in range(len(header_list_pm25_2016)-2):\n",
    "        date = pd.to_datetime(pm25_2016.loc[j][0])\n",
    "        toAppend = { \n",
    "        'Dia': date.day, \n",
    "        'Mes': date.month,\n",
    "        'Anio': date.year,\n",
    "        'Hora': pm25_2016.loc[j][1], \n",
    "        'Lugar': cat_estacion.loc[cat_estacion['cve_estac'] == header_list_pm25_2016[i+2]]['nom_estac'].values[0],\n",
    "        'Valor': pm25_2016.loc[j][i+2]}\n",
    "        df_pm25_2016_v4 = df_pm25_2016_v4.append(toAppend, ignore_index=True)"
   ]
  },
  {
   "cell_type": "code",
   "execution_count": 312,
   "id": "e67ef60a-0ac1-4cc0-9d35-87d056923574",
   "metadata": {},
   "outputs": [],
   "source": [
    "for j in range(len(pm25_2017)-1):\n",
    "    \n",
    "    for i in range(len(header_list_pm25_2017)-2):\n",
    "        date = pd.to_datetime(pm25_2017.loc[j][0])\n",
    "        toAppend = { \n",
    "        'Dia': date.day, \n",
    "        'Mes': date.month,\n",
    "        'Anio': date.year,\n",
    "        'Hora': pm25_2017.loc[j][1], \n",
    "        'Lugar': cat_estacion.loc[cat_estacion['cve_estac'] == header_list_pm25_2017[i+2]]['nom_estac'].values[0],\n",
    "        'Valor': pm25_2017.loc[j][i+2]}\n",
    "        df_pm25_2017_v4 = df_pm25_2017_v4.append(toAppend, ignore_index=True)"
   ]
  },
  {
   "cell_type": "code",
   "execution_count": 313,
   "id": "4ba5f2cf-1381-4d1f-85ca-989a51904af7",
   "metadata": {},
   "outputs": [],
   "source": [
    "for j in range(len(pm25_2018)-1):\n",
    "    \n",
    "    for i in range(len(header_list_pm25_2018)-2):\n",
    "        date = pd.to_datetime(pm25_2018.loc[j][0])\n",
    "        toAppend = { \n",
    "        'Dia': date.day, \n",
    "        'Mes': date.month,\n",
    "        'Anio': date.year,\n",
    "        'Hora': pm25_2018.loc[j][1], \n",
    "        'Lugar': cat_estacion.loc[cat_estacion['cve_estac'] == header_list_pm25_2018[i+2]]['nom_estac'].values[0],\n",
    "        'Valor': pm25_2018.loc[j][i+2]}\n",
    "        df_pm25_2018_v4 = df_pm25_2018_v4.append(toAppend, ignore_index=True)"
   ]
  },
  {
   "cell_type": "code",
   "execution_count": 314,
   "id": "89ff1a5a-050d-4ae1-a526-258bef421d6d",
   "metadata": {},
   "outputs": [],
   "source": [
    "for j in range(len(pm25_2019)-1):\n",
    "    \n",
    "    for i in range(len(header_list_pm25_2019)-2):\n",
    "        date = pd.to_datetime(pm25_2019.loc[j][0])\n",
    "        toAppend = { \n",
    "        'Dia': date.day, \n",
    "        'Mes': date.month,\n",
    "        'Anio': date.year,\n",
    "        'Hora': pm25_2019.loc[j][1], \n",
    "        'Lugar': cat_estacion.loc[cat_estacion['cve_estac'] == header_list_pm25_2019[i+2]]['nom_estac'].values[0],\n",
    "        'Valor': pm25_2019.loc[j][i+2]}\n",
    "        df_pm25_2019_v4 = df_pm25_2019_v4.append(toAppend, ignore_index=True)"
   ]
  },
  {
   "cell_type": "code",
   "execution_count": 315,
   "id": "4d1b4078-27b6-4fc3-ab3a-0a2afaef2565",
   "metadata": {},
   "outputs": [],
   "source": [
    "for j in range(len(pm25_2020)-1):\n",
    "    \n",
    "    for i in range(len(header_list_pm25_2020)-2):\n",
    "        date = pd.to_datetime(pm25_2020.loc[j][0])\n",
    "        toAppend = { \n",
    "        'Dia': date.day, \n",
    "        'Mes': date.month,\n",
    "        'Anio': date.year,\n",
    "        'Hora': pm25_2020.loc[j][1], \n",
    "        'Lugar': cat_estacion.loc[cat_estacion['cve_estac'] == header_list_pm25_2020[i+2]]['nom_estac'].values[0],\n",
    "        'Valor': pm25_2020.loc[j][i+2]}\n",
    "        df_pm25_2020_v4 = df_pm25_2020_v4.append(toAppend, ignore_index=True)"
   ]
  },
  {
   "cell_type": "code",
   "execution_count": 5,
   "id": "3745f0d6-614d-4aa8-8161-23eb43d73689",
   "metadata": {},
   "outputs": [],
   "source": [
    "pm25_2011_m = pd.read_csv(\"E:\\\\7mo\\\\TT1\\\\Datos_aire\\\\Contaminantes\\\\csv_modificados\\\\pm25_2011.csv\")\n",
    "pm25_2012_m = pd.read_csv(\"E:\\\\7mo\\\\TT1\\\\Datos_aire\\\\Contaminantes\\\\csv_modificados\\\\pm25_2012.csv\")\n",
    "pm25_2013_m = pd.read_csv(\"E:\\\\7mo\\\\TT1\\\\Datos_aire\\\\Contaminantes\\\\csv_modificados\\\\pm25_2013.csv\")\n",
    "pm25_2014_m = pd.read_csv(\"E:\\\\7mo\\\\TT1\\\\Datos_aire\\\\Contaminantes\\\\csv_modificados\\\\pm25_2014.csv\")\n",
    "pm25_2015_m = pd.read_csv(\"E:\\\\7mo\\\\TT1\\\\Datos_aire\\\\Contaminantes\\\\csv_modificados\\\\pm25_2015.csv\")\n",
    "pm25_2016_m = pd.read_csv(\"E:\\\\7mo\\\\TT1\\\\Datos_aire\\\\Contaminantes\\\\csv_modificados\\\\pm25_2016.csv\")\n",
    "pm25_2017_m = pd.read_csv(\"E:\\\\7mo\\\\TT1\\\\Datos_aire\\\\Contaminantes\\\\csv_modificados\\\\pm25_2017.csv\")\n",
    "pm25_2018_m = pd.read_csv(\"E:\\\\7mo\\\\TT1\\\\Datos_aire\\\\Contaminantes\\\\csv_modificados\\\\pm25_2018.csv\")\n",
    "pm25_2019_m = pd.read_csv(\"E:\\\\7mo\\\\TT1\\\\Datos_aire\\\\Contaminantes\\\\csv_modificados\\\\pm25_2019.csv\")\n",
    "pm25_2020_m = pd.read_csv(\"E:\\\\7mo\\\\TT1\\\\Datos_aire\\\\Contaminantes\\\\csv_modificados\\\\pm25_2020.csv\")"
   ]
  },
  {
   "cell_type": "code",
   "execution_count": 6,
   "id": "b8deab36-2ca4-4ee4-b80c-6e5ed9141200",
   "metadata": {},
   "outputs": [],
   "source": [
    "df_pm25_2011_m = pd.DataFrame(pm25_2011_m)\n",
    "df_pm25_2012_m = pd.DataFrame(pm25_2012_m)\n",
    "df_pm25_2013_m = pd.DataFrame(pm25_2013_m)\n",
    "df_pm25_2014_m = pd.DataFrame(pm25_2014_m)\n",
    "df_pm25_2015_m = pd.DataFrame(pm25_2015_m)\n",
    "df_pm25_2016_m = pd.DataFrame(pm25_2016_m)\n",
    "df_pm25_2017_m = pd.DataFrame(pm25_2017_m)\n",
    "df_pm25_2018_m = pd.DataFrame(pm25_2018_m)\n",
    "df_pm25_2019_m = pd.DataFrame(pm25_2019_m)\n",
    "df_pm25_2020_m = pd.DataFrame(pm25_2020_m)"
   ]
  },
  {
   "cell_type": "code",
   "execution_count": 18,
   "id": "3a5683e5-6584-4796-98cb-87e26d1e3c37",
   "metadata": {},
   "outputs": [],
   "source": [
    "from pathlib import Path  \n",
    "filepath = Path('E:\\\\7mo\\\\TT1\\\\Datos_aire\\\\Contaminantes\\\\csv_modificados\\\\pm25_2011_2020.csv')  \n",
    "\n",
    "filepath.parent.mkdir(parents=True, exist_ok=True)  \n",
    "\n",
    "df_2_pm25.to_csv(filepath)  "
   ]
  },
  {
   "cell_type": "code",
   "execution_count": 9,
   "id": "b23becd0-73ff-44db-8e26-db0e406f99ca",
   "metadata": {},
   "outputs": [],
   "source": [
    "df_2_pm25 = pd.DataFrame()\n",
    "df_2_pm25 = df_2_pm25.append(df_pm25_2011_m, ignore_index=True)\n",
    "df_2_pm25 = df_2_pm25.append(df_pm25_2012_m, ignore_index=True)\n",
    "df_2_pm25 = df_2_pm25.append(df_pm25_2013_m, ignore_index=True)\n",
    "df_2_pm25 = df_2_pm25.append(df_pm25_2014_m, ignore_index=True)\n",
    "df_2_pm25 = df_2_pm25.append(df_pm25_2015_m, ignore_index=True)\n",
    "df_2_pm25 = df_2_pm25.append(df_pm25_2016_m, ignore_index=True)\n",
    "df_2_pm25 = df_2_pm25.append(df_pm25_2017_m, ignore_index=True)\n",
    "df_2_pm25 = df_2_pm25.append(df_pm25_2018_m, ignore_index=True)\n",
    "df_2_pm25 = df_2_pm25.append(df_pm25_2019_m, ignore_index=True)\n",
    "df_2_pm25 = df_2_pm25.append(df_pm25_2020_m, ignore_index=True)"
   ]
  },
  {
   "cell_type": "code",
   "execution_count": 17,
   "id": "291b31f1-7bfb-4781-946a-f5a700d921f2",
   "metadata": {},
   "outputs": [],
   "source": [
    "df_2_pm25 = df_2_pm25.drop(df_2_pm25.columns[0], axis=1)"
   ]
  },
  {
   "cell_type": "code",
   "execution_count": 19,
   "id": "7bf726ed-418a-480a-a5c0-ec6cc1e42a0f",
   "metadata": {},
   "outputs": [],
   "source": [
    "pm10_2011 = pd.read_csv(\"E:\\\\7mo\\\\TT1\\\\Datos_aire\\\\Contaminantes\\\\csv\\\\2011PM10.csv\")\n",
    "pm10_2012 = pd.read_csv(\"E:\\\\7mo\\\\TT1\\\\Datos_aire\\\\Contaminantes\\\\csv\\\\2012PM10.csv\")\n",
    "pm10_2013 = pd.read_csv(\"E:\\\\7mo\\\\TT1\\\\Datos_aire\\\\Contaminantes\\\\csv\\\\2013PM10.csv\")\n",
    "pm10_2014 = pd.read_csv(\"E:\\\\7mo\\\\TT1\\\\Datos_aire\\\\Contaminantes\\\\csv\\\\2014PM10.csv\")\n",
    "pm10_2015 = pd.read_csv(\"E:\\\\7mo\\\\TT1\\\\Datos_aire\\\\Contaminantes\\\\csv\\\\2015PM10.csv\")\n",
    "pm10_2016 = pd.read_csv(\"E:\\\\7mo\\\\TT1\\\\Datos_aire\\\\Contaminantes\\\\csv\\\\2016PM10.csv\")\n",
    "pm10_2017 = pd.read_csv(\"E:\\\\7mo\\\\TT1\\\\Datos_aire\\\\Contaminantes\\\\csv\\\\2017PM10.csv\")\n",
    "pm10_2018 = pd.read_csv(\"E:\\\\7mo\\\\TT1\\\\Datos_aire\\\\Contaminantes\\\\csv\\\\2018PM10.csv\")\n",
    "pm10_2019 = pd.read_csv(\"E:\\\\7mo\\\\TT1\\\\Datos_aire\\\\Contaminantes\\\\csv\\\\2019PM10.csv\")\n",
    "pm10_2020 = pd.read_csv(\"E:\\\\7mo\\\\TT1\\\\Datos_aire\\\\Contaminantes\\\\csv\\\\2020PM10.csv\")"
   ]
  },
  {
   "cell_type": "code",
   "execution_count": 20,
   "id": "ebbac022-36ae-4d90-af98-bd9eafe0f0bb",
   "metadata": {},
   "outputs": [],
   "source": [
    "df_pm10_2011 = pd.DataFrame(pm10_2011)\n",
    "df_pm10_2012 = pd.DataFrame(pm10_2012)\n",
    "df_pm10_2013 = pd.DataFrame(pm10_2013)\n",
    "df_pm10_2014 = pd.DataFrame(pm10_2014)\n",
    "df_pm10_2015 = pd.DataFrame(pm10_2015)\n",
    "df_pm10_2016 = pd.DataFrame(pm10_2016)\n",
    "df_pm10_2017 = pd.DataFrame(pm10_2017)\n",
    "df_pm10_2018 = pd.DataFrame(pm10_2018)\n",
    "df_pm10_2019 = pd.DataFrame(pm10_2019)\n",
    "df_pm10_2020 = pd.DataFrame(pm10_2020)"
   ]
  },
  {
   "cell_type": "code",
   "execution_count": 21,
   "id": "dcba7a27-5631-40a1-8bf3-9a2fac8f291d",
   "metadata": {},
   "outputs": [],
   "source": [
    "df_pm10_2011_v4 = pd.DataFrame(columns=['Dia', 'Mes', 'Anio', 'Hora', 'Lugar', 'Valor'])\n",
    "df_pm10_2012_v4 = pd.DataFrame(columns=['Dia', 'Mes', 'Anio', 'Hora', 'Lugar', 'Valor'])\n",
    "df_pm10_2013_v4 = pd.DataFrame(columns=['Dia', 'Mes', 'Anio', 'Hora', 'Lugar', 'Valor'])\n",
    "df_pm10_2014_v4 = pd.DataFrame(columns=['Dia', 'Mes', 'Anio', 'Hora', 'Lugar', 'Valor'])\n",
    "df_pm10_2015_v4 = pd.DataFrame(columns=['Dia', 'Mes', 'Anio', 'Hora', 'Lugar', 'Valor'])\n",
    "df_pm10_2016_v4 = pd.DataFrame(columns=['Dia', 'Mes', 'Anio', 'Hora', 'Lugar', 'Valor'])\n",
    "df_pm10_2017_v4 = pd.DataFrame(columns=['Dia', 'Mes', 'Anio', 'Hora', 'Lugar', 'Valor'])\n",
    "df_pm10_2018_v4 = pd.DataFrame(columns=['Dia', 'Mes', 'Anio', 'Hora', 'Lugar', 'Valor'])\n",
    "df_pm10_2019_v4 = pd.DataFrame(columns=['Dia', 'Mes', 'Anio', 'Hora', 'Lugar', 'Valor'])\n",
    "df_pm10_2020_v4 = pd.DataFrame(columns=['Dia', 'Mes', 'Anio', 'Hora', 'Lugar', 'Valor'])"
   ]
  },
  {
   "cell_type": "code",
   "execution_count": 22,
   "id": "c1603f8d-606d-4b64-b1dd-ecdf84ed8ef9",
   "metadata": {},
   "outputs": [],
   "source": [
    "header_list_pm10_2011 = list(pm10_2011)\n",
    "header_list_pm10_2012 = list(pm10_2012)\n",
    "header_list_pm10_2013 = list(pm10_2013)\n",
    "header_list_pm10_2014 = list(pm10_2014)\n",
    "header_list_pm10_2015 = list(pm10_2015)\n",
    "header_list_pm10_2016 = list(pm10_2016)\n",
    "header_list_pm10_2017 = list(pm10_2017)\n",
    "header_list_pm10_2018 = list(pm10_2018)\n",
    "header_list_pm10_2019 = list(pm10_2019)\n",
    "header_list_pm10_2020 = list(pm10_2020)"
   ]
  },
  {
   "cell_type": "code",
   "execution_count": 48,
   "id": "8ca41fa9-8840-4778-9e3f-18ea4ae4cb1e",
   "metadata": {},
   "outputs": [],
   "source": [
    "header_list_pm10_2018 = list(pm10_2018)"
   ]
  },
  {
   "cell_type": "code",
   "execution_count": 47,
   "id": "01a99060-7f55-419c-b094-7aecd3dc020c",
   "metadata": {},
   "outputs": [
    {
     "name": "stdout",
     "output_type": "stream",
     "text": [
      "['FECHA', 'HORA', 'ACO', 'AJM', 'ATI', 'BJU', 'CAM', 'CHO', 'CUA', 'CUT', 'FAC', 'HGM', 'INN', 'IZT', 'LLA', 'LPR', 'MER', 'MGH', 'MPA', 'PED', 'SAG', 'SFE', 'TAH', 'TLA', 'TLI', 'UIZ']\n"
     ]
    }
   ],
   "source": [
    "for i in range(len(header_list_pm10_2017)-3):\n",
    "        if header_list_pm10_2017[i+2] == None or header_list_pm10_2017[i+2].startswith('Unnam'):\n",
    "            limit = i+2\n",
    "            break\n",
    "            #header_list_pm10_2017_v2.pop(i+2)\n",
    "        \n",
    "header_list_pm10_2017 = header_list_pm10_2017[0 : limit]\n",
    "print(header_list_pm10_2017)"
   ]
  },
  {
   "cell_type": "code",
   "execution_count": 55,
   "id": "1d083879-cdcd-4b05-9183-72283ece6ed7",
   "metadata": {},
   "outputs": [
    {
     "data": {
      "text/plain": [
       "Index(['FECHA', 'HORA', 'ACO', 'AJM', 'ATI', 'BJU', 'CAM', 'CHO', 'CUA', 'CUT',\n",
       "       'FAC', 'FAR', 'GAM', 'HGM', 'INN', 'IZT', 'MER', 'MGH', 'MPA', 'PED',\n",
       "       'SAC', 'SAG', 'SFE', 'TAH', 'TLA', 'TLI', 'UIZ', 'VIF', 'XAL'],\n",
       "      dtype='object')"
      ]
     },
     "execution_count": 55,
     "metadata": {},
     "output_type": "execute_result"
    }
   ],
   "source": [
    "df_pm10_2019 = df_pm10_2019[header_list_pm10_2019]\n",
    "df_pm10_2019.columns"
   ]
  },
  {
   "cell_type": "code",
   "execution_count": 70,
   "id": "6e39337b-16af-4243-b7ab-5a861632aeeb",
   "metadata": {},
   "outputs": [],
   "source": [
    "for j in range(len(pm10_2019)-1):\n",
    "    \n",
    "    for i in range(len(header_list_pm10_2019)-2):\n",
    "        date = pd.to_datetime(pm10_2019.loc[j][0])\n",
    "        toAppend = { \n",
    "        'Dia': date.day, \n",
    "        'Mes': date.month,\n",
    "        'Anio': date.year,\n",
    "        'Hora': pm10_2019.loc[j][1], \n",
    "        'Lugar': cat_estacion.loc[cat_estacion['cve_estac'] == header_list_pm10_2019[i+2]]['nom_estac'].values[0],\n",
    "        'Valor': pm10_2019.loc[j][i+2]}\n",
    "        df_pm10_2019_v4 = df_pm10_2019_v4.append(toAppend, ignore_index=True)"
   ]
  },
  {
   "cell_type": "code",
   "execution_count": 73,
   "id": "da942888-7b42-4a47-8ecc-c5b926455c28",
   "metadata": {},
   "outputs": [],
   "source": [
    "for j in range(len(pm10_2020)-1):\n",
    "    \n",
    "    for i in range(len(header_list_pm10_2020)-2):\n",
    "        date = pd.to_datetime(pm10_2020.loc[j][0])\n",
    "        toAppend = { \n",
    "        'Dia': date.day, \n",
    "        'Mes': date.month,\n",
    "        'Anio': date.year,\n",
    "        'Hora': pm10_2020.loc[j][1], \n",
    "        'Lugar': cat_estacion.loc[cat_estacion['cve_estac'] == header_list_pm10_2020[i+2]]['nom_estac'].values[0],\n",
    "        'Valor': pm10_2020.loc[j][i+2]}\n",
    "        df_pm10_2020_v4 = df_pm10_2020_v4.append(toAppend, ignore_index=True)"
   ]
  },
  {
   "cell_type": "code",
   "execution_count": 74,
   "id": "135a8c1d-1fff-4235-8ce8-6e4e0edd63d4",
   "metadata": {},
   "outputs": [
    {
     "data": {
      "text/html": [
       "<div>\n",
       "<style scoped>\n",
       "    .dataframe tbody tr th:only-of-type {\n",
       "        vertical-align: middle;\n",
       "    }\n",
       "\n",
       "    .dataframe tbody tr th {\n",
       "        vertical-align: top;\n",
       "    }\n",
       "\n",
       "    .dataframe thead th {\n",
       "        text-align: right;\n",
       "    }\n",
       "</style>\n",
       "<table border=\"1\" class=\"dataframe\">\n",
       "  <thead>\n",
       "    <tr style=\"text-align: right;\">\n",
       "      <th></th>\n",
       "      <th>Dia</th>\n",
       "      <th>Mes</th>\n",
       "      <th>Anio</th>\n",
       "      <th>Hora</th>\n",
       "      <th>Lugar</th>\n",
       "      <th>Valor</th>\n",
       "    </tr>\n",
       "  </thead>\n",
       "  <tbody>\n",
       "    <tr>\n",
       "      <th>0</th>\n",
       "      <td>1</td>\n",
       "      <td>1</td>\n",
       "      <td>2020</td>\n",
       "      <td>1</td>\n",
       "      <td>Acolman</td>\n",
       "      <td>-99</td>\n",
       "    </tr>\n",
       "    <tr>\n",
       "      <th>1</th>\n",
       "      <td>1</td>\n",
       "      <td>1</td>\n",
       "      <td>2020</td>\n",
       "      <td>1</td>\n",
       "      <td>Ajusco Medio</td>\n",
       "      <td>-99</td>\n",
       "    </tr>\n",
       "    <tr>\n",
       "      <th>2</th>\n",
       "      <td>1</td>\n",
       "      <td>1</td>\n",
       "      <td>2020</td>\n",
       "      <td>1</td>\n",
       "      <td>Atizapan</td>\n",
       "      <td>102</td>\n",
       "    </tr>\n",
       "    <tr>\n",
       "      <th>3</th>\n",
       "      <td>1</td>\n",
       "      <td>1</td>\n",
       "      <td>2020</td>\n",
       "      <td>1</td>\n",
       "      <td>Benito Juarez</td>\n",
       "      <td>62</td>\n",
       "    </tr>\n",
       "    <tr>\n",
       "      <th>4</th>\n",
       "      <td>1</td>\n",
       "      <td>1</td>\n",
       "      <td>2020</td>\n",
       "      <td>1</td>\n",
       "      <td>Camarones</td>\n",
       "      <td>-99</td>\n",
       "    </tr>\n",
       "    <tr>\n",
       "      <th>...</th>\n",
       "      <td>...</td>\n",
       "      <td>...</td>\n",
       "      <td>...</td>\n",
       "      <td>...</td>\n",
       "      <td>...</td>\n",
       "      <td>...</td>\n",
       "    </tr>\n",
       "    <tr>\n",
       "      <th>293673</th>\n",
       "      <td>31</td>\n",
       "      <td>12</td>\n",
       "      <td>2020</td>\n",
       "      <td>23</td>\n",
       "      <td>Tlalnepantla</td>\n",
       "      <td>33</td>\n",
       "    </tr>\n",
       "    <tr>\n",
       "      <th>293674</th>\n",
       "      <td>31</td>\n",
       "      <td>12</td>\n",
       "      <td>2020</td>\n",
       "      <td>23</td>\n",
       "      <td>Tultitlan</td>\n",
       "      <td>-99</td>\n",
       "    </tr>\n",
       "    <tr>\n",
       "      <th>293675</th>\n",
       "      <td>31</td>\n",
       "      <td>12</td>\n",
       "      <td>2020</td>\n",
       "      <td>23</td>\n",
       "      <td>UAM Iztapalapa</td>\n",
       "      <td>42</td>\n",
       "    </tr>\n",
       "    <tr>\n",
       "      <th>293676</th>\n",
       "      <td>31</td>\n",
       "      <td>12</td>\n",
       "      <td>2020</td>\n",
       "      <td>23</td>\n",
       "      <td>Villa de las Flores</td>\n",
       "      <td>178</td>\n",
       "    </tr>\n",
       "    <tr>\n",
       "      <th>293677</th>\n",
       "      <td>31</td>\n",
       "      <td>12</td>\n",
       "      <td>2020</td>\n",
       "      <td>23</td>\n",
       "      <td>Xalostoc</td>\n",
       "      <td>-99</td>\n",
       "    </tr>\n",
       "  </tbody>\n",
       "</table>\n",
       "<p>293678 rows × 6 columns</p>\n",
       "</div>"
      ],
      "text/plain": [
       "       Dia Mes  Anio Hora                Lugar Valor\n",
       "0        1   1  2020    1              Acolman   -99\n",
       "1        1   1  2020    1         Ajusco Medio   -99\n",
       "2        1   1  2020    1             Atizapan   102\n",
       "3        1   1  2020    1        Benito Juarez    62\n",
       "4        1   1  2020    1            Camarones   -99\n",
       "...     ..  ..   ...  ...                  ...   ...\n",
       "293673  31  12  2020   23         Tlalnepantla    33\n",
       "293674  31  12  2020   23            Tultitlan   -99\n",
       "293675  31  12  2020   23       UAM Iztapalapa    42\n",
       "293676  31  12  2020   23  Villa de las Flores   178\n",
       "293677  31  12  2020   23             Xalostoc   -99\n",
       "\n",
       "[293678 rows x 6 columns]"
      ]
     },
     "execution_count": 74,
     "metadata": {},
     "output_type": "execute_result"
    }
   ],
   "source": [
    "df_pm10_2020_v4"
   ]
  },
  {
   "cell_type": "code",
   "execution_count": 91,
   "id": "09b111d8-ab8c-4aa0-b206-549582df7cba",
   "metadata": {},
   "outputs": [],
   "source": [
    "from pathlib import Path  \n",
    "filepath = Path('E:\\\\7mo\\\\TT1\\\\Datos_aire\\\\Contaminantes\\\\csv_modificados\\\\pm10_2011_2020.csv')  \n",
    "\n",
    "filepath.parent.mkdir(parents=True, exist_ok=True)  \n",
    "\n",
    "df_2_pm10.to_csv(filepath)  "
   ]
  },
  {
   "cell_type": "code",
   "execution_count": 85,
   "id": "edb358f7-41ac-4704-823b-76791e8f87d9",
   "metadata": {},
   "outputs": [],
   "source": [
    "pm10_2011_m = pd.read_csv(\"E:\\\\7mo\\\\TT1\\\\Datos_aire\\\\Contaminantes\\\\csv_modificados\\\\pm10_2011.csv\")\n",
    "pm10_2012_m = pd.read_csv(\"E:\\\\7mo\\\\TT1\\\\Datos_aire\\\\Contaminantes\\\\csv_modificados\\\\pm10_2012.csv\")\n",
    "pm10_2013_m = pd.read_csv(\"E:\\\\7mo\\\\TT1\\\\Datos_aire\\\\Contaminantes\\\\csv_modificados\\\\pm10_2013.csv\")\n",
    "pm10_2014_m = pd.read_csv(\"E:\\\\7mo\\\\TT1\\\\Datos_aire\\\\Contaminantes\\\\csv_modificados\\\\pm10_2014.csv\")\n",
    "pm10_2015_m = pd.read_csv(\"E:\\\\7mo\\\\TT1\\\\Datos_aire\\\\Contaminantes\\\\csv_modificados\\\\pm10_2015.csv\")\n",
    "pm10_2016_m = pd.read_csv(\"E:\\\\7mo\\\\TT1\\\\Datos_aire\\\\Contaminantes\\\\csv_modificados\\\\pm10_2016.csv\")\n",
    "pm10_2017_m = pd.read_csv(\"E:\\\\7mo\\\\TT1\\\\Datos_aire\\\\Contaminantes\\\\csv_modificados\\\\pm10_2017.csv\")\n",
    "pm10_2018_m = pd.read_csv(\"E:\\\\7mo\\\\TT1\\\\Datos_aire\\\\Contaminantes\\\\csv_modificados\\\\pm10_2018.csv\")\n",
    "pm10_2019_m = pd.read_csv(\"E:\\\\7mo\\\\TT1\\\\Datos_aire\\\\Contaminantes\\\\csv_modificados\\\\pm10_2019.csv\")\n",
    "pm10_2020_m = pd.read_csv(\"E:\\\\7mo\\\\TT1\\\\Datos_aire\\\\Contaminantes\\\\csv_modificados\\\\pm10_2020.csv\")"
   ]
  },
  {
   "cell_type": "code",
   "execution_count": 86,
   "id": "17ac8d98-b2c5-4b6f-bece-9055c72ca3b3",
   "metadata": {},
   "outputs": [],
   "source": [
    "df_pm10_2011_m = pd.DataFrame(pm10_2011_m)\n",
    "df_pm10_2012_m = pd.DataFrame(pm10_2012_m)\n",
    "df_pm10_2013_m = pd.DataFrame(pm10_2013_m)\n",
    "df_pm10_2014_m = pd.DataFrame(pm10_2014_m)\n",
    "df_pm10_2015_m = pd.DataFrame(pm10_2015_m)\n",
    "df_pm10_2016_m = pd.DataFrame(pm10_2016_m)\n",
    "df_pm10_2017_m = pd.DataFrame(pm10_2017_m)\n",
    "df_pm10_2018_m = pd.DataFrame(pm10_2018_m)\n",
    "df_pm10_2019_m = pd.DataFrame(pm10_2019_m)\n",
    "df_pm10_2020_m = pd.DataFrame(pm10_2020_m)"
   ]
  },
  {
   "cell_type": "code",
   "execution_count": 87,
   "id": "16b08140-0449-450a-adb9-97cd806c14e0",
   "metadata": {},
   "outputs": [],
   "source": [
    "df_2_pm10 = pd.DataFrame()\n",
    "df_2_pm10 = df_2_pm10.append(df_pm10_2011_m, ignore_index=True)\n",
    "df_2_pm10 = df_2_pm10.append(df_pm10_2012_m, ignore_index=True)\n",
    "df_2_pm10 = df_2_pm10.append(df_pm10_2013_m, ignore_index=True)\n",
    "df_2_pm10 = df_2_pm10.append(df_pm10_2014_m, ignore_index=True)\n",
    "df_2_pm10 = df_2_pm10.append(df_pm10_2015_m, ignore_index=True)\n",
    "df_2_pm10 = df_2_pm10.append(df_pm10_2016_m, ignore_index=True)\n",
    "df_2_pm10 = df_2_pm10.append(df_pm10_2017_m, ignore_index=True)\n",
    "df_2_pm10 = df_2_pm10.append(df_pm10_2018_m, ignore_index=True)\n",
    "df_2_pm10 = df_2_pm10.append(df_pm10_2019_m, ignore_index=True)\n",
    "df_2_pm10 = df_2_pm10.append(df_pm10_2020_m, ignore_index=True)"
   ]
  },
  {
   "cell_type": "code",
   "execution_count": 89,
   "id": "a5c5bf33-cfa5-42a6-9bdd-385d27e65e40",
   "metadata": {},
   "outputs": [],
   "source": [
    "df_2_pm10 = df_2_pm10.drop(df_2_pm10.columns[0], axis=1)"
   ]
  },
  {
   "cell_type": "code",
   "execution_count": 92,
   "id": "43331710-c304-470f-994a-07d987a9d327",
   "metadata": {},
   "outputs": [],
   "source": [
    "co_f = pd.read_csv(\"E:\\\\7mo\\\\TT1\\\\Datos_aire\\\\Contaminantes\\\\csv_modificados\\\\co_2011_2020.csv\")\n",
    "pm10_f = pd.read_csv(\"E:\\\\7mo\\\\TT1\\\\Datos_aire\\\\Contaminantes\\\\csv_modificados\\\\pm10_2011_2020.csv\")\n",
    "pm25_f = pd.read_csv(\"E:\\\\7mo\\\\TT1\\\\Datos_aire\\\\Contaminantes\\\\csv_modificados\\\\pm25_2011_2020.csv\")"
   ]
  },
  {
   "cell_type": "code",
   "execution_count": 160,
   "id": "5d32ac9d-601a-4ee6-b1ca-8f1de5a61b36",
   "metadata": {},
   "outputs": [],
   "source": [
    "co_f_v2 = pd.read_csv(\"E:\\\\7mo\\\\TT1\\\\Datos_aire\\\\Contaminantes\\\\csv_modificados\\\\co_2011_2020_v2.csv\")"
   ]
  },
  {
   "cell_type": "code",
   "execution_count": 161,
   "id": "5e56ce45-ad56-47a0-9cd8-3f04833e1f8e",
   "metadata": {},
   "outputs": [],
   "source": [
    "df_co_f_v2 = pd.DataFrame(co_f_v2)"
   ]
  },
  {
   "cell_type": "code",
   "execution_count": 93,
   "id": "0ff1ff44-e24e-4d4d-8ca2-b973b74e26c7",
   "metadata": {},
   "outputs": [],
   "source": [
    "df_co_f = pd.DataFrame(co_f)\n",
    "df_pm10_f = pd.DataFrame(pm10_f)\n",
    "df_pm25_f = pd.DataFrame(pm25_f)"
   ]
  },
  {
   "cell_type": "code",
   "execution_count": 162,
   "id": "49a96726-88a4-41e9-af9a-7b0e6b572592",
   "metadata": {},
   "outputs": [],
   "source": [
    "df_co_f_v2['Particula'] = \"CO\""
   ]
  },
  {
   "cell_type": "code",
   "execution_count": 163,
   "id": "e58056ca-e951-4efa-9716-6aaa30d257f9",
   "metadata": {},
   "outputs": [],
   "source": [
    "df_co_f_v2 = df_co_f_v2[['Dia', 'Mes', 'Anio', 'Hora', 'Lugar', 'Particula', 'Valor']]"
   ]
  },
  {
   "cell_type": "code",
   "execution_count": 164,
   "id": "6ce1ecf8-e944-4355-8f6e-1e707b3380ac",
   "metadata": {},
   "outputs": [
    {
     "data": {
      "text/html": [
       "<div>\n",
       "<style scoped>\n",
       "    .dataframe tbody tr th:only-of-type {\n",
       "        vertical-align: middle;\n",
       "    }\n",
       "\n",
       "    .dataframe tbody tr th {\n",
       "        vertical-align: top;\n",
       "    }\n",
       "\n",
       "    .dataframe thead th {\n",
       "        text-align: right;\n",
       "    }\n",
       "</style>\n",
       "<table border=\"1\" class=\"dataframe\">\n",
       "  <thead>\n",
       "    <tr style=\"text-align: right;\">\n",
       "      <th></th>\n",
       "      <th>Dia</th>\n",
       "      <th>Mes</th>\n",
       "      <th>Anio</th>\n",
       "      <th>Hora</th>\n",
       "      <th>Lugar</th>\n",
       "      <th>Particula</th>\n",
       "      <th>Valor</th>\n",
       "    </tr>\n",
       "  </thead>\n",
       "  <tbody>\n",
       "    <tr>\n",
       "      <th>0</th>\n",
       "      <td>1</td>\n",
       "      <td>1</td>\n",
       "      <td>2011</td>\n",
       "      <td>1</td>\n",
       "      <td>Acolman</td>\n",
       "      <td>CO</td>\n",
       "      <td>-99.0</td>\n",
       "    </tr>\n",
       "    <tr>\n",
       "      <th>1</th>\n",
       "      <td>1</td>\n",
       "      <td>1</td>\n",
       "      <td>2011</td>\n",
       "      <td>1</td>\n",
       "      <td>Camarones</td>\n",
       "      <td>CO</td>\n",
       "      <td>-99.0</td>\n",
       "    </tr>\n",
       "    <tr>\n",
       "      <th>2</th>\n",
       "      <td>1</td>\n",
       "      <td>1</td>\n",
       "      <td>2011</td>\n",
       "      <td>1</td>\n",
       "      <td>Chalco</td>\n",
       "      <td>CO</td>\n",
       "      <td>-99.0</td>\n",
       "    </tr>\n",
       "    <tr>\n",
       "      <th>3</th>\n",
       "      <td>1</td>\n",
       "      <td>1</td>\n",
       "      <td>2011</td>\n",
       "      <td>1</td>\n",
       "      <td>Cuajimalpa</td>\n",
       "      <td>CO</td>\n",
       "      <td>-99.0</td>\n",
       "    </tr>\n",
       "    <tr>\n",
       "      <th>4</th>\n",
       "      <td>1</td>\n",
       "      <td>1</td>\n",
       "      <td>2011</td>\n",
       "      <td>1</td>\n",
       "      <td>FES Acatlan</td>\n",
       "      <td>CO</td>\n",
       "      <td>1.4</td>\n",
       "    </tr>\n",
       "    <tr>\n",
       "      <th>...</th>\n",
       "      <td>...</td>\n",
       "      <td>...</td>\n",
       "      <td>...</td>\n",
       "      <td>...</td>\n",
       "      <td>...</td>\n",
       "      <td>...</td>\n",
       "      <td>...</td>\n",
       "    </tr>\n",
       "    <tr>\n",
       "      <th>2483688</th>\n",
       "      <td>31</td>\n",
       "      <td>12</td>\n",
       "      <td>2020</td>\n",
       "      <td>23</td>\n",
       "      <td>Tultitlan</td>\n",
       "      <td>CO</td>\n",
       "      <td>-99.0</td>\n",
       "    </tr>\n",
       "    <tr>\n",
       "      <th>2483689</th>\n",
       "      <td>31</td>\n",
       "      <td>12</td>\n",
       "      <td>2020</td>\n",
       "      <td>23</td>\n",
       "      <td>UAM Xochimilco</td>\n",
       "      <td>CO</td>\n",
       "      <td>0.1</td>\n",
       "    </tr>\n",
       "    <tr>\n",
       "      <th>2483690</th>\n",
       "      <td>31</td>\n",
       "      <td>12</td>\n",
       "      <td>2020</td>\n",
       "      <td>23</td>\n",
       "      <td>UAM Iztapalapa</td>\n",
       "      <td>CO</td>\n",
       "      <td>0.3</td>\n",
       "    </tr>\n",
       "    <tr>\n",
       "      <th>2483691</th>\n",
       "      <td>31</td>\n",
       "      <td>12</td>\n",
       "      <td>2020</td>\n",
       "      <td>23</td>\n",
       "      <td>Villa de las Flores</td>\n",
       "      <td>CO</td>\n",
       "      <td>1.7</td>\n",
       "    </tr>\n",
       "    <tr>\n",
       "      <th>2483692</th>\n",
       "      <td>31</td>\n",
       "      <td>12</td>\n",
       "      <td>2020</td>\n",
       "      <td>23</td>\n",
       "      <td>Xalostoc</td>\n",
       "      <td>CO</td>\n",
       "      <td>-99.0</td>\n",
       "    </tr>\n",
       "  </tbody>\n",
       "</table>\n",
       "<p>2483693 rows × 7 columns</p>\n",
       "</div>"
      ],
      "text/plain": [
       "         Dia  Mes  Anio  Hora                Lugar Particula  Valor\n",
       "0          1    1  2011     1              Acolman        CO  -99.0\n",
       "1          1    1  2011     1            Camarones        CO  -99.0\n",
       "2          1    1  2011     1               Chalco        CO  -99.0\n",
       "3          1    1  2011     1           Cuajimalpa        CO  -99.0\n",
       "4          1    1  2011     1          FES Acatlan        CO    1.4\n",
       "...      ...  ...   ...   ...                  ...       ...    ...\n",
       "2483688   31   12  2020    23            Tultitlan        CO  -99.0\n",
       "2483689   31   12  2020    23       UAM Xochimilco        CO    0.1\n",
       "2483690   31   12  2020    23       UAM Iztapalapa        CO    0.3\n",
       "2483691   31   12  2020    23  Villa de las Flores        CO    1.7\n",
       "2483692   31   12  2020    23             Xalostoc        CO  -99.0\n",
       "\n",
       "[2483693 rows x 7 columns]"
      ]
     },
     "execution_count": 164,
     "metadata": {},
     "output_type": "execute_result"
    }
   ],
   "source": [
    "df_co_f_v2"
   ]
  },
  {
   "cell_type": "code",
   "execution_count": 165,
   "id": "8e0ac2dc-731a-4f7a-a474-7f9b9315fd5c",
   "metadata": {},
   "outputs": [],
   "source": [
    "df_2_f = pd.DataFrame()\n",
    "df_2_f = df_2_f.append(df_co_f_v2, ignore_index=True)\n",
    "df_2_f = df_2_f.append(df_pm10_f, ignore_index=True)\n",
    "df_2_f = df_2_f.append(df_pm25_f, ignore_index=True)"
   ]
  },
  {
   "cell_type": "code",
   "execution_count": 166,
   "id": "560ace53-c997-4520-92ff-f86f2656600e",
   "metadata": {},
   "outputs": [
    {
     "data": {
      "text/html": [
       "<div>\n",
       "<style scoped>\n",
       "    .dataframe tbody tr th:only-of-type {\n",
       "        vertical-align: middle;\n",
       "    }\n",
       "\n",
       "    .dataframe tbody tr th {\n",
       "        vertical-align: top;\n",
       "    }\n",
       "\n",
       "    .dataframe thead th {\n",
       "        text-align: right;\n",
       "    }\n",
       "</style>\n",
       "<table border=\"1\" class=\"dataframe\">\n",
       "  <thead>\n",
       "    <tr style=\"text-align: right;\">\n",
       "      <th></th>\n",
       "      <th>Dia</th>\n",
       "      <th>Mes</th>\n",
       "      <th>Anio</th>\n",
       "      <th>Hora</th>\n",
       "      <th>Lugar</th>\n",
       "      <th>Particula</th>\n",
       "      <th>Valor</th>\n",
       "    </tr>\n",
       "  </thead>\n",
       "  <tbody>\n",
       "    <tr>\n",
       "      <th>0</th>\n",
       "      <td>1</td>\n",
       "      <td>1</td>\n",
       "      <td>2011</td>\n",
       "      <td>1.0</td>\n",
       "      <td>Acolman</td>\n",
       "      <td>CO</td>\n",
       "      <td>-99.0</td>\n",
       "    </tr>\n",
       "    <tr>\n",
       "      <th>1</th>\n",
       "      <td>1</td>\n",
       "      <td>1</td>\n",
       "      <td>2011</td>\n",
       "      <td>1.0</td>\n",
       "      <td>Camarones</td>\n",
       "      <td>CO</td>\n",
       "      <td>-99.0</td>\n",
       "    </tr>\n",
       "    <tr>\n",
       "      <th>2</th>\n",
       "      <td>1</td>\n",
       "      <td>1</td>\n",
       "      <td>2011</td>\n",
       "      <td>1.0</td>\n",
       "      <td>Chalco</td>\n",
       "      <td>CO</td>\n",
       "      <td>-99.0</td>\n",
       "    </tr>\n",
       "    <tr>\n",
       "      <th>3</th>\n",
       "      <td>1</td>\n",
       "      <td>1</td>\n",
       "      <td>2011</td>\n",
       "      <td>1.0</td>\n",
       "      <td>Cuajimalpa</td>\n",
       "      <td>CO</td>\n",
       "      <td>-99.0</td>\n",
       "    </tr>\n",
       "    <tr>\n",
       "      <th>4</th>\n",
       "      <td>1</td>\n",
       "      <td>1</td>\n",
       "      <td>2011</td>\n",
       "      <td>1.0</td>\n",
       "      <td>FES Acatlan</td>\n",
       "      <td>CO</td>\n",
       "      <td>1.4</td>\n",
       "    </tr>\n",
       "    <tr>\n",
       "      <th>...</th>\n",
       "      <td>...</td>\n",
       "      <td>...</td>\n",
       "      <td>...</td>\n",
       "      <td>...</td>\n",
       "      <td>...</td>\n",
       "      <td>...</td>\n",
       "      <td>...</td>\n",
       "    </tr>\n",
       "    <tr>\n",
       "      <th>6489022</th>\n",
       "      <td>31</td>\n",
       "      <td>12</td>\n",
       "      <td>2020</td>\n",
       "      <td>23.0</td>\n",
       "      <td>Tlalnepantla</td>\n",
       "      <td>PM2.5</td>\n",
       "      <td>33.0</td>\n",
       "    </tr>\n",
       "    <tr>\n",
       "      <th>6489023</th>\n",
       "      <td>31</td>\n",
       "      <td>12</td>\n",
       "      <td>2020</td>\n",
       "      <td>23.0</td>\n",
       "      <td>Tultitlan</td>\n",
       "      <td>PM2.5</td>\n",
       "      <td>-99.0</td>\n",
       "    </tr>\n",
       "    <tr>\n",
       "      <th>6489024</th>\n",
       "      <td>31</td>\n",
       "      <td>12</td>\n",
       "      <td>2020</td>\n",
       "      <td>23.0</td>\n",
       "      <td>UAM Iztapalapa</td>\n",
       "      <td>PM2.5</td>\n",
       "      <td>42.0</td>\n",
       "    </tr>\n",
       "    <tr>\n",
       "      <th>6489025</th>\n",
       "      <td>31</td>\n",
       "      <td>12</td>\n",
       "      <td>2020</td>\n",
       "      <td>23.0</td>\n",
       "      <td>Villa de las Flores</td>\n",
       "      <td>PM2.5</td>\n",
       "      <td>178.0</td>\n",
       "    </tr>\n",
       "    <tr>\n",
       "      <th>6489026</th>\n",
       "      <td>31</td>\n",
       "      <td>12</td>\n",
       "      <td>2020</td>\n",
       "      <td>23.0</td>\n",
       "      <td>Xalostoc</td>\n",
       "      <td>PM2.5</td>\n",
       "      <td>-99.0</td>\n",
       "    </tr>\n",
       "  </tbody>\n",
       "</table>\n",
       "<p>6489027 rows × 7 columns</p>\n",
       "</div>"
      ],
      "text/plain": [
       "         Dia  Mes  Anio  Hora                Lugar Particula  Valor\n",
       "0          1    1  2011   1.0              Acolman        CO  -99.0\n",
       "1          1    1  2011   1.0            Camarones        CO  -99.0\n",
       "2          1    1  2011   1.0               Chalco        CO  -99.0\n",
       "3          1    1  2011   1.0           Cuajimalpa        CO  -99.0\n",
       "4          1    1  2011   1.0          FES Acatlan        CO    1.4\n",
       "...      ...  ...   ...   ...                  ...       ...    ...\n",
       "6489022   31   12  2020  23.0         Tlalnepantla     PM2.5   33.0\n",
       "6489023   31   12  2020  23.0            Tultitlan     PM2.5  -99.0\n",
       "6489024   31   12  2020  23.0       UAM Iztapalapa     PM2.5   42.0\n",
       "6489025   31   12  2020  23.0  Villa de las Flores     PM2.5  178.0\n",
       "6489026   31   12  2020  23.0             Xalostoc     PM2.5  -99.0\n",
       "\n",
       "[6489027 rows x 7 columns]"
      ]
     },
     "execution_count": 166,
     "metadata": {},
     "output_type": "execute_result"
    }
   ],
   "source": [
    "df_2_f"
   ]
  },
  {
   "cell_type": "code",
   "execution_count": 167,
   "id": "0d7e8f21-612e-42eb-92a0-0b8546f715c9",
   "metadata": {},
   "outputs": [],
   "source": [
    "from pathlib import Path  \n",
    "filepath = Path('E:\\\\7mo\\\\TT1\\\\Datos_aire\\\\Contaminantes\\\\csv_modificados\\\\aire_2011_2020_v2.csv')  \n",
    "\n",
    "filepath.parent.mkdir(parents=True, exist_ok=True)  \n",
    "\n",
    "df_2_f.to_csv(filepath)  "
   ]
  },
  {
   "cell_type": "code",
   "execution_count": 116,
   "id": "816b5b44-548a-40a5-82cd-be8f3c13cc78",
   "metadata": {},
   "outputs": [
    {
     "data": {
      "text/plain": [
       "array([ 1,  2,  3,  4,  5,  6,  7,  8,  9, 10, 11, 12, 13, 14, 15, 16, 17,\n",
       "       18, 19, 20, 21, 22, 23, 24, 25, 26, 27, 28, 29, 30, 31],\n",
       "      dtype=int64)"
      ]
     },
     "execution_count": 116,
     "metadata": {},
     "output_type": "execute_result"
    }
   ],
   "source": [
    "df_2_f['Dia'].unique()"
   ]
  },
  {
   "cell_type": "code",
   "execution_count": 117,
   "id": "43535dc0-2a17-4862-b9b6-9c856773d180",
   "metadata": {},
   "outputs": [
    {
     "data": {
      "text/plain": [
       "array([ 1,  2,  3,  4,  5,  6,  7,  8,  9, 10, 11, 12], dtype=int64)"
      ]
     },
     "execution_count": 117,
     "metadata": {},
     "output_type": "execute_result"
    }
   ],
   "source": [
    "df_2_f['Mes'].unique()"
   ]
  },
  {
   "cell_type": "code",
   "execution_count": 118,
   "id": "aa4fa962-801c-410e-a0f1-c89dfc95bc62",
   "metadata": {},
   "outputs": [
    {
     "data": {
      "text/plain": [
       "array([2011, 2012, 2013, 2014, 2015, 2016, 2017, 2018, 2019, 2020],\n",
       "      dtype=int64)"
      ]
     },
     "execution_count": 118,
     "metadata": {},
     "output_type": "execute_result"
    }
   ],
   "source": [
    "df_2_f['Anio'].unique()"
   ]
  },
  {
   "cell_type": "code",
   "execution_count": 119,
   "id": "4f45caf6-2757-43dc-b2f0-73b0ddcc01fc",
   "metadata": {},
   "outputs": [
    {
     "data": {
      "text/plain": [
       "array([ 1.,  2.,  3.,  4.,  5.,  6.,  7.,  8.,  9., 10., 11., 12., 13.,\n",
       "       14., 15., 16., 17., 18., 19., 20., 21., 22., 23., 24.])"
      ]
     },
     "execution_count": 119,
     "metadata": {},
     "output_type": "execute_result"
    }
   ],
   "source": [
    "df_2_f['Hora'].unique()"
   ]
  },
  {
   "cell_type": "code",
   "execution_count": 136,
   "id": "2c9f14b0-a746-473b-be75-9091bb57ec5b",
   "metadata": {},
   "outputs": [
    {
     "data": {
      "text/plain": [
       "array(['Acolman', 'Ajusco Medio', 'Atizapan', 'Benito Juarez',\n",
       "       'Camarones', 'Centro de Ciencias de la Atmosfera', 'Chalco',\n",
       "       'Cuajimalpa', 'FES Acatlan', 'FES Aragon',\n",
       "       'Hospital General de Mexico', 'Investigaciones Nucleares',\n",
       "       'Iztacalco', 'Los Laureles', 'La Presa', 'Merced',\n",
       "       'Miguel Hidalgo', 'Montecillo', 'Milpa Alta', 'Nezahualcoyotl',\n",
       "       'Pedregal', 'San Agustin', 'Santiago Acahualtepec', 'Santa FE',\n",
       "       'San Juan Aragon', 'Tlahuac', 'Tlalnepantla', 'Tultitlan',\n",
       "       'UAM Xochimilco', 'UAM Iztapalapa', 'Villa de las Flores',\n",
       "       'Xalostoc'], dtype=object)"
      ]
     },
     "execution_count": 136,
     "metadata": {},
     "output_type": "execute_result"
    }
   ],
   "source": [
    "df_co_2020_m['Lugar'].unique()"
   ]
  },
  {
   "cell_type": "code",
   "execution_count": 125,
   "id": "7a38ec61-200e-467e-94a1-e3eee6cc90ee",
   "metadata": {},
   "outputs": [],
   "source": [
    "co_2011_m = pd.read_csv(\"E:\\\\7mo\\\\TT1\\\\Datos_aire\\\\Contaminantes\\\\csv_modificados\\\\co\\\\co_2011.csv\")\n",
    "co_2012_m = pd.read_csv(\"E:\\\\7mo\\\\TT1\\\\Datos_aire\\\\Contaminantes\\\\csv_modificados\\\\co\\\\co_2012.csv\")\n",
    "co_2013_m = pd.read_csv(\"E:\\\\7mo\\\\TT1\\\\Datos_aire\\\\Contaminantes\\\\csv_modificados\\\\co\\\\co_2013.csv\")\n",
    "co_2014_m = pd.read_csv(\"E:\\\\7mo\\\\TT1\\\\Datos_aire\\\\Contaminantes\\\\csv_modificados\\\\co\\\\co_2014.csv\")\n",
    "co_2015_m = pd.read_csv(\"E:\\\\7mo\\\\TT1\\\\Datos_aire\\\\Contaminantes\\\\csv_modificados\\\\co\\\\co_2015.csv\")\n",
    "co_2016_m = pd.read_csv(\"E:\\\\7mo\\\\TT1\\\\Datos_aire\\\\Contaminantes\\\\csv_modificados\\\\co\\\\co_2016.csv\")\n",
    "co_2017_m = pd.read_csv(\"E:\\\\7mo\\\\TT1\\\\Datos_aire\\\\Contaminantes\\\\csv_modificados\\\\co\\\\co_2017.csv\")\n",
    "co_2018_m = pd.read_csv(\"E:\\\\7mo\\\\TT1\\\\Datos_aire\\\\Contaminantes\\\\csv_modificados\\\\co\\\\co_2018.csv\")\n",
    "co_2019_m = pd.read_csv(\"E:\\\\7mo\\\\TT1\\\\Datos_aire\\\\Contaminantes\\\\csv_modificados\\\\co\\\\co_2019.csv\")\n",
    "co_2020_m = pd.read_csv(\"E:\\\\7mo\\\\TT1\\\\Datos_aire\\\\Contaminantes\\\\csv_modificados\\\\co\\\\co_2020.csv\")"
   ]
  },
  {
   "cell_type": "code",
   "execution_count": 126,
   "id": "0d4c2056-b2a0-4a47-9d17-887ebeaf58b5",
   "metadata": {},
   "outputs": [],
   "source": [
    "df_co_2011_m = pd.DataFrame(co_2011_m)\n",
    "df_co_2012_m = pd.DataFrame(co_2012_m)\n",
    "df_co_2013_m = pd.DataFrame(co_2013_m)\n",
    "df_co_2014_m = pd.DataFrame(co_2014_m)\n",
    "df_co_2015_m = pd.DataFrame(co_2015_m)\n",
    "df_co_2016_m = pd.DataFrame(co_2016_m)\n",
    "df_co_2017_m = pd.DataFrame(co_2017_m)\n",
    "df_co_2018_m = pd.DataFrame(co_2018_m)\n",
    "df_co_2019_m = pd.DataFrame(co_2019_m)\n",
    "df_co_2020_m = pd.DataFrame(co_2020_m)"
   ]
  },
  {
   "cell_type": "code",
   "execution_count": 137,
   "id": "40a659cb-b408-4d2f-91f7-8260dda16d8f",
   "metadata": {},
   "outputs": [],
   "source": [
    "df_co_2012_v5 = pd.DataFrame(columns=['Dia', 'Mes', 'Anio', 'Hora', 'Lugar', 'Valor'])\n",
    "df_co_2013_v5 = pd.DataFrame(columns=['Dia', 'Mes', 'Anio', 'Hora', 'Lugar', 'Valor'])"
   ]
  },
  {
   "cell_type": "code",
   "execution_count": 150,
   "id": "d8880cc0-2c1c-4f22-b284-e8d7ef99a298",
   "metadata": {},
   "outputs": [],
   "source": [
    "df_2_co_v2 = pd.DataFrame()\n",
    "df_2_co_v2 = df_2_co_v2.append(df_co_2011_m, ignore_index=True)\n",
    "df_2_co_v2 = df_2_co_v2.append(df_co_2012_v5, ignore_index=True)\n",
    "df_2_co_v2 = df_2_co_v2.append(df_co_2013_v5, ignore_index=True)\n",
    "df_2_co_v2 = df_2_co_v2.append(df_co_2014_m, ignore_index=True)\n",
    "df_2_co_v2 = df_2_co_v2.append(df_co_2015_m, ignore_index=True)\n",
    "df_2_co_v2 = df_2_co_v2.append(df_co_2016_m, ignore_index=True)\n",
    "df_2_co_v2 = df_2_co_v2.append(df_co_2017_m, ignore_index=True)\n",
    "df_2_co_v2 = df_2_co_v2.append(df_co_2018_m, ignore_index=True)\n",
    "df_2_co_v2 = df_2_co_v2.append(df_co_2019_m, ignore_index=True)\n",
    "df_2_co_v2 = df_2_co_v2.append(df_co_2020_m, ignore_index=True)"
   ]
  },
  {
   "cell_type": "code",
   "execution_count": 155,
   "id": "1551e8a9-9f02-47f1-b3e0-330c98c67e89",
   "metadata": {},
   "outputs": [],
   "source": [
    "df_2_co_v2 = df_2_co_v2.drop(df_2_co_v2.columns[0], axis=1)"
   ]
  },
  {
   "cell_type": "code",
   "execution_count": 174,
   "id": "69bf9503-2898-4877-adf9-dd48aad1435c",
   "metadata": {},
   "outputs": [
    {
     "data": {
      "text/plain": [
       "array([ 1,  2,  3,  4,  5,  6,  7,  8,  9, 10, 11, 12, 13, 14, 15, 16, 17,\n",
       "       18, 19, 20, 21, 22, 23, 24, 25, 26, 27, 28, 29, 30, 31],\n",
       "      dtype=int64)"
      ]
     },
     "execution_count": 174,
     "metadata": {},
     "output_type": "execute_result"
    }
   ],
   "source": [
    "df_2_f['Dia'].unique()"
   ]
  },
  {
   "cell_type": "code",
   "execution_count": 175,
   "id": "bd5a1a06-cb27-4be9-9fbc-b21f29044f06",
   "metadata": {},
   "outputs": [
    {
     "data": {
      "text/plain": [
       "array([ 1,  2,  3,  4,  5,  6,  7,  8,  9, 10, 11, 12], dtype=int64)"
      ]
     },
     "execution_count": 175,
     "metadata": {},
     "output_type": "execute_result"
    }
   ],
   "source": [
    "df_2_f['Mes'].unique()"
   ]
  },
  {
   "cell_type": "code",
   "execution_count": 176,
   "id": "389f8b57-d435-4b82-8e31-2e371453a978",
   "metadata": {},
   "outputs": [
    {
     "data": {
      "text/plain": [
       "array([2011, 2012, 2013, 2014, 2015, 2016, 2017, 2018, 2019, 2020],\n",
       "      dtype=int64)"
      ]
     },
     "execution_count": 176,
     "metadata": {},
     "output_type": "execute_result"
    }
   ],
   "source": [
    "df_2_f['Anio'].unique()"
   ]
  },
  {
   "cell_type": "code",
   "execution_count": 177,
   "id": "807a0162-a13e-4c55-ac22-b6e2e2079b43",
   "metadata": {},
   "outputs": [
    {
     "data": {
      "text/plain": [
       "array(['Acolman', 'Camarones', 'Chalco', 'Cuajimalpa', 'FES Acatlan',\n",
       "       'Iztacalco', 'Los Laureles', 'La Presa', 'Merced', 'Montecillo',\n",
       "       'Nezahualcoyotl', 'Pedregal', 'San Agustin', 'San Juan Aragon',\n",
       "       'Santa Ursula', 'Tlahuac', 'Tlalnepantla', 'Tultitlan', 'Tlalpan',\n",
       "       'UAM Iztapalapa', 'Villa de las Flores', 'Xalostoc',\n",
       "       'Hospital General de Mexico', 'Santa FE', 'UAM Xochimilco',\n",
       "       'Atizapan', 'Centro de Ciencias de la Atmosfera', 'Ajusco Medio',\n",
       "       'Benito Juarez', 'Investigaciones Nucleares', 'Miguel Hidalgo',\n",
       "       'Milpa Alta', 'Cuautitlan', 'FES Aragon', 'Santiago Acahualtepec',\n",
       "       'Gustavo A. Madero'], dtype=object)"
      ]
     },
     "execution_count": 177,
     "metadata": {},
     "output_type": "execute_result"
    }
   ],
   "source": [
    "df_2_f['Lugar'].unique()"
   ]
  },
  {
   "cell_type": "code",
   "execution_count": 178,
   "id": "0b18ef70-887f-438b-9a61-0d36d9a54852",
   "metadata": {},
   "outputs": [
    {
     "data": {
      "text/plain": [
       "array(['CO', 'PM10', 'PM2.5'], dtype=object)"
      ]
     },
     "execution_count": 178,
     "metadata": {},
     "output_type": "execute_result"
    }
   ],
   "source": [
    "df_2_f['Particula'].unique()"
   ]
  },
  {
   "cell_type": "code",
   "execution_count": 179,
   "id": "bc2e58a1-861b-4e26-bbf8-a9cc24e5312a",
   "metadata": {},
   "outputs": [
    {
     "data": {
      "text/html": [
       "<div>\n",
       "<style scoped>\n",
       "    .dataframe tbody tr th:only-of-type {\n",
       "        vertical-align: middle;\n",
       "    }\n",
       "\n",
       "    .dataframe tbody tr th {\n",
       "        vertical-align: top;\n",
       "    }\n",
       "\n",
       "    .dataframe thead th {\n",
       "        text-align: right;\n",
       "    }\n",
       "</style>\n",
       "<table border=\"1\" class=\"dataframe\">\n",
       "  <thead>\n",
       "    <tr style=\"text-align: right;\">\n",
       "      <th></th>\n",
       "      <th>Dia</th>\n",
       "      <th>Mes</th>\n",
       "      <th>Anio</th>\n",
       "      <th>Hora</th>\n",
       "      <th>Lugar</th>\n",
       "      <th>Particula</th>\n",
       "      <th>Valor</th>\n",
       "    </tr>\n",
       "  </thead>\n",
       "  <tbody>\n",
       "    <tr>\n",
       "      <th>0</th>\n",
       "      <td>1</td>\n",
       "      <td>1</td>\n",
       "      <td>2011</td>\n",
       "      <td>1.0</td>\n",
       "      <td>Acolman</td>\n",
       "      <td>CO</td>\n",
       "      <td>-99.0</td>\n",
       "    </tr>\n",
       "    <tr>\n",
       "      <th>1</th>\n",
       "      <td>1</td>\n",
       "      <td>1</td>\n",
       "      <td>2011</td>\n",
       "      <td>1.0</td>\n",
       "      <td>Camarones</td>\n",
       "      <td>CO</td>\n",
       "      <td>-99.0</td>\n",
       "    </tr>\n",
       "    <tr>\n",
       "      <th>2</th>\n",
       "      <td>1</td>\n",
       "      <td>1</td>\n",
       "      <td>2011</td>\n",
       "      <td>1.0</td>\n",
       "      <td>Chalco</td>\n",
       "      <td>CO</td>\n",
       "      <td>-99.0</td>\n",
       "    </tr>\n",
       "    <tr>\n",
       "      <th>3</th>\n",
       "      <td>1</td>\n",
       "      <td>1</td>\n",
       "      <td>2011</td>\n",
       "      <td>1.0</td>\n",
       "      <td>Cuajimalpa</td>\n",
       "      <td>CO</td>\n",
       "      <td>-99.0</td>\n",
       "    </tr>\n",
       "    <tr>\n",
       "      <th>4</th>\n",
       "      <td>1</td>\n",
       "      <td>1</td>\n",
       "      <td>2011</td>\n",
       "      <td>1.0</td>\n",
       "      <td>FES Acatlan</td>\n",
       "      <td>CO</td>\n",
       "      <td>1.4</td>\n",
       "    </tr>\n",
       "    <tr>\n",
       "      <th>...</th>\n",
       "      <td>...</td>\n",
       "      <td>...</td>\n",
       "      <td>...</td>\n",
       "      <td>...</td>\n",
       "      <td>...</td>\n",
       "      <td>...</td>\n",
       "      <td>...</td>\n",
       "    </tr>\n",
       "    <tr>\n",
       "      <th>6489022</th>\n",
       "      <td>31</td>\n",
       "      <td>12</td>\n",
       "      <td>2020</td>\n",
       "      <td>23.0</td>\n",
       "      <td>Tlalnepantla</td>\n",
       "      <td>PM2.5</td>\n",
       "      <td>33.0</td>\n",
       "    </tr>\n",
       "    <tr>\n",
       "      <th>6489023</th>\n",
       "      <td>31</td>\n",
       "      <td>12</td>\n",
       "      <td>2020</td>\n",
       "      <td>23.0</td>\n",
       "      <td>Tultitlan</td>\n",
       "      <td>PM2.5</td>\n",
       "      <td>-99.0</td>\n",
       "    </tr>\n",
       "    <tr>\n",
       "      <th>6489024</th>\n",
       "      <td>31</td>\n",
       "      <td>12</td>\n",
       "      <td>2020</td>\n",
       "      <td>23.0</td>\n",
       "      <td>UAM Iztapalapa</td>\n",
       "      <td>PM2.5</td>\n",
       "      <td>42.0</td>\n",
       "    </tr>\n",
       "    <tr>\n",
       "      <th>6489025</th>\n",
       "      <td>31</td>\n",
       "      <td>12</td>\n",
       "      <td>2020</td>\n",
       "      <td>23.0</td>\n",
       "      <td>Villa de las Flores</td>\n",
       "      <td>PM2.5</td>\n",
       "      <td>178.0</td>\n",
       "    </tr>\n",
       "    <tr>\n",
       "      <th>6489026</th>\n",
       "      <td>31</td>\n",
       "      <td>12</td>\n",
       "      <td>2020</td>\n",
       "      <td>23.0</td>\n",
       "      <td>Xalostoc</td>\n",
       "      <td>PM2.5</td>\n",
       "      <td>-99.0</td>\n",
       "    </tr>\n",
       "  </tbody>\n",
       "</table>\n",
       "<p>6489027 rows × 7 columns</p>\n",
       "</div>"
      ],
      "text/plain": [
       "         Dia  Mes  Anio  Hora                Lugar Particula  Valor\n",
       "0          1    1  2011   1.0              Acolman        CO  -99.0\n",
       "1          1    1  2011   1.0            Camarones        CO  -99.0\n",
       "2          1    1  2011   1.0               Chalco        CO  -99.0\n",
       "3          1    1  2011   1.0           Cuajimalpa        CO  -99.0\n",
       "4          1    1  2011   1.0          FES Acatlan        CO    1.4\n",
       "...      ...  ...   ...   ...                  ...       ...    ...\n",
       "6489022   31   12  2020  23.0         Tlalnepantla     PM2.5   33.0\n",
       "6489023   31   12  2020  23.0            Tultitlan     PM2.5  -99.0\n",
       "6489024   31   12  2020  23.0       UAM Iztapalapa     PM2.5   42.0\n",
       "6489025   31   12  2020  23.0  Villa de las Flores     PM2.5  178.0\n",
       "6489026   31   12  2020  23.0             Xalostoc     PM2.5  -99.0\n",
       "\n",
       "[6489027 rows x 7 columns]"
      ]
     },
     "execution_count": 179,
     "metadata": {},
     "output_type": "execute_result"
    }
   ],
   "source": [
    "df_2_f"
   ]
  },
  {
   "cell_type": "code",
   "execution_count": 185,
   "id": "727b8bed-9159-4fbe-82fa-06eb1a37cc6b",
   "metadata": {},
   "outputs": [
    {
     "data": {
      "text/plain": [
       "numpy.int64"
      ]
     },
     "execution_count": 185,
     "metadata": {},
     "output_type": "execute_result"
    }
   ],
   "source": [
    "type(df_2_f['Mes'][0])"
   ]
  },
  {
   "cell_type": "code",
   "execution_count": 159,
   "id": "bcf494c3-ad4f-4a65-a749-062d6c425eaa",
   "metadata": {},
   "outputs": [],
   "source": [
    "from pathlib import Path  \n",
    "filepath = Path('E:\\\\7mo\\\\TT1\\\\Datos_aire\\\\Contaminantes\\\\csv_modificados\\\\co_2011_2020_v2.csv')  \n",
    "\n",
    "filepath.parent.mkdir(parents=True, exist_ok=True)  \n",
    "\n",
    "df_2_co_v2.to_csv(filepath)  "
   ]
  },
  {
   "cell_type": "code",
   "execution_count": null,
   "id": "4515fca7-7247-4b79-aa31-7fcf6fa19f41",
   "metadata": {},
   "outputs": [],
   "source": []
  }
 ],
 "metadata": {
  "kernelspec": {
   "display_name": "Python 3 (ipykernel)",
   "language": "python",
   "name": "python3"
  },
  "language_info": {
   "codemirror_mode": {
    "name": "ipython",
    "version": 3
   },
   "file_extension": ".py",
   "mimetype": "text/x-python",
   "name": "python",
   "nbconvert_exporter": "python",
   "pygments_lexer": "ipython3",
   "version": "3.9.7"
  }
 },
 "nbformat": 4,
 "nbformat_minor": 5
}
