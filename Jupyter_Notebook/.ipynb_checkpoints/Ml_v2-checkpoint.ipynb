{
 "cells": [
  {
   "cell_type": "code",
   "execution_count": 6,
   "id": "c8fd3d06-72ea-483c-80dd-cb648c846dd0",
   "metadata": {},
   "outputs": [],
   "source": [
    "import numpy as np\n",
    "import matplotlib.pyplot as plt\n",
    "import pandas as pd\n",
    "import seaborn as sns\n",
    "%matplotlib inline\n",
    "import plotly.express as px\n",
    "from scipy import stats\n",
    "from sklearn.preprocessing import StandardScaler\n",
    "from sklearn.cluster import KMeans\n",
    "from sklearn.model_selection import train_test_split\n",
    "from sklearn.linear_model import LogisticRegression"
   ]
  },
  {
   "cell_type": "code",
   "execution_count": 2,
   "id": "615afea7-15a1-40dd-82c5-feed3c20f858",
   "metadata": {},
   "outputs": [],
   "source": [
    "aire_sin = pd.read_csv(\"../CSV_limpios/aire.csv\")\n",
    "crimen_sin = pd.read_csv(\"../CSV_limpios/crimen.csv\")\n",
    "\n",
    "aire_all = pd.read_csv(\"../CSV_limpios/aire_v2.csv\")\n",
    "crimen_all = pd.read_csv(\"../CSV_limpios/crimen_v2.csv\")\n",
    "\n",
    "crimen_o3 = pd.read_csv(\"../CSV_limpios/crimen_for_plots.csv\")\n",
    "aire_o3 = pd.read_csv(\"../CSV_limpios/aire_for_plots.csv\")\n",
    "\n",
    "df_std = pd.read_csv('../CSV_limpios/crime_air_std.csv')"
   ]
  },
  {
   "cell_type": "code",
   "execution_count": 154,
   "id": "96e688bd-23ce-4b75-a94b-e02bed4ce05b",
   "metadata": {},
   "outputs": [
    {
     "data": {
      "text/html": [
       "<div>\n",
       "<style scoped>\n",
       "    .dataframe tbody tr th:only-of-type {\n",
       "        vertical-align: middle;\n",
       "    }\n",
       "\n",
       "    .dataframe tbody tr th {\n",
       "        vertical-align: top;\n",
       "    }\n",
       "\n",
       "    .dataframe thead th {\n",
       "        text-align: right;\n",
       "    }\n",
       "</style>\n",
       "<table border=\"1\" class=\"dataframe\">\n",
       "  <thead>\n",
       "    <tr style=\"text-align: right;\">\n",
       "      <th></th>\n",
       "      <th>Unnamed: 0</th>\n",
       "      <th>ID</th>\n",
       "      <th>Dia</th>\n",
       "      <th>Mes</th>\n",
       "      <th>Anio</th>\n",
       "      <th>Alcaldia</th>\n",
       "      <th>Latitud</th>\n",
       "      <th>Longitud</th>\n",
       "      <th>Crimenes</th>\n",
       "      <th>AQI</th>\n",
       "      <th>Alcaldia_num</th>\n",
       "      <th>Crimenes_T</th>\n",
       "      <th>AQI_T</th>\n",
       "    </tr>\n",
       "  </thead>\n",
       "  <tbody>\n",
       "    <tr>\n",
       "      <th>1015</th>\n",
       "      <td>1015</td>\n",
       "      <td>22_4_2016_IZTAP</td>\n",
       "      <td>22</td>\n",
       "      <td>4</td>\n",
       "      <td>2016</td>\n",
       "      <td>IZTAPALAPA</td>\n",
       "      <td>19.360794</td>\n",
       "      <td>-99.073883</td>\n",
       "      <td>42</td>\n",
       "      <td>100</td>\n",
       "      <td>10</td>\n",
       "      <td>1.870261</td>\n",
       "      <td>-0.146281</td>\n",
       "    </tr>\n",
       "    <tr>\n",
       "      <th>1424</th>\n",
       "      <td>1424</td>\n",
       "      <td>2_6_2016_IZTAP</td>\n",
       "      <td>2</td>\n",
       "      <td>6</td>\n",
       "      <td>2016</td>\n",
       "      <td>IZTAPALAPA</td>\n",
       "      <td>19.360794</td>\n",
       "      <td>-99.073883</td>\n",
       "      <td>42</td>\n",
       "      <td>100</td>\n",
       "      <td>10</td>\n",
       "      <td>1.870261</td>\n",
       "      <td>-0.146281</td>\n",
       "    </tr>\n",
       "    <tr>\n",
       "      <th>1581</th>\n",
       "      <td>1581</td>\n",
       "      <td>18_6_2016_IZTAP</td>\n",
       "      <td>18</td>\n",
       "      <td>6</td>\n",
       "      <td>2016</td>\n",
       "      <td>IZTAPALAPA</td>\n",
       "      <td>19.360794</td>\n",
       "      <td>-99.073883</td>\n",
       "      <td>36</td>\n",
       "      <td>100</td>\n",
       "      <td>10</td>\n",
       "      <td>1.433200</td>\n",
       "      <td>-0.146281</td>\n",
       "    </tr>\n",
       "    <tr>\n",
       "      <th>1687</th>\n",
       "      <td>1687</td>\n",
       "      <td>29_6_2016_IZTAP</td>\n",
       "      <td>29</td>\n",
       "      <td>6</td>\n",
       "      <td>2016</td>\n",
       "      <td>IZTAPALAPA</td>\n",
       "      <td>19.360794</td>\n",
       "      <td>-99.073883</td>\n",
       "      <td>36</td>\n",
       "      <td>100</td>\n",
       "      <td>10</td>\n",
       "      <td>1.433200</td>\n",
       "      <td>-0.146281</td>\n",
       "    </tr>\n",
       "    <tr>\n",
       "      <th>12417</th>\n",
       "      <td>12417</td>\n",
       "      <td>24_1_2020_IZTAP</td>\n",
       "      <td>24</td>\n",
       "      <td>1</td>\n",
       "      <td>2020</td>\n",
       "      <td>IZTAPALAPA</td>\n",
       "      <td>19.360794</td>\n",
       "      <td>-99.073883</td>\n",
       "      <td>50</td>\n",
       "      <td>100</td>\n",
       "      <td>10</td>\n",
       "      <td>2.453008</td>\n",
       "      <td>-0.146281</td>\n",
       "    </tr>\n",
       "    <tr>\n",
       "      <th>13940</th>\n",
       "      <td>13940</td>\n",
       "      <td>9_9_2020_IZTAP</td>\n",
       "      <td>9</td>\n",
       "      <td>9</td>\n",
       "      <td>2020</td>\n",
       "      <td>IZTAPALAPA</td>\n",
       "      <td>19.360794</td>\n",
       "      <td>-99.073883</td>\n",
       "      <td>18</td>\n",
       "      <td>100</td>\n",
       "      <td>10</td>\n",
       "      <td>0.122019</td>\n",
       "      <td>-0.146281</td>\n",
       "    </tr>\n",
       "  </tbody>\n",
       "</table>\n",
       "</div>"
      ],
      "text/plain": [
       "       Unnamed: 0               ID  Dia  Mes  Anio    Alcaldia    Latitud  \\\n",
       "1015         1015  22_4_2016_IZTAP   22    4  2016  IZTAPALAPA  19.360794   \n",
       "1424         1424   2_6_2016_IZTAP    2    6  2016  IZTAPALAPA  19.360794   \n",
       "1581         1581  18_6_2016_IZTAP   18    6  2016  IZTAPALAPA  19.360794   \n",
       "1687         1687  29_6_2016_IZTAP   29    6  2016  IZTAPALAPA  19.360794   \n",
       "12417       12417  24_1_2020_IZTAP   24    1  2020  IZTAPALAPA  19.360794   \n",
       "13940       13940   9_9_2020_IZTAP    9    9  2020  IZTAPALAPA  19.360794   \n",
       "\n",
       "        Longitud  Crimenes  AQI  Alcaldia_num  Crimenes_T     AQI_T  \n",
       "1015  -99.073883        42  100            10    1.870261 -0.146281  \n",
       "1424  -99.073883        42  100            10    1.870261 -0.146281  \n",
       "1581  -99.073883        36  100            10    1.433200 -0.146281  \n",
       "1687  -99.073883        36  100            10    1.433200 -0.146281  \n",
       "12417 -99.073883        50  100            10    2.453008 -0.146281  \n",
       "13940 -99.073883        18  100            10    0.122019 -0.146281  "
      ]
     },
     "execution_count": 154,
     "metadata": {},
     "output_type": "execute_result"
    }
   ],
   "source": [
    "df_std[(df_std['Alcaldia_num'] == 10) & (df_std['AQI'] == 100)]"
   ]
  },
  {
   "cell_type": "code",
   "execution_count": 158,
   "id": "64de288a-42fe-45a8-9cf4-a7034bf920a6",
   "metadata": {},
   "outputs": [
    {
     "data": {
      "text/plain": [
       "37.333333333333336"
      ]
     },
     "execution_count": 158,
     "metadata": {},
     "output_type": "execute_result"
    }
   ],
   "source": [
    "np.mean(df_std[(df_std['Alcaldia_num'] == 10) & (df_std['AQI'] == 100)]['Crimenes'].values)"
   ]
  },
  {
   "cell_type": "code",
   "execution_count": 156,
   "id": "b81eb5f2-8cb3-48b8-a4a1-434d9df4be05",
   "metadata": {},
   "outputs": [
    {
     "data": {
      "text/html": [
       "<div>\n",
       "<style scoped>\n",
       "    .dataframe tbody tr th:only-of-type {\n",
       "        vertical-align: middle;\n",
       "    }\n",
       "\n",
       "    .dataframe tbody tr th {\n",
       "        vertical-align: top;\n",
       "    }\n",
       "\n",
       "    .dataframe thead th {\n",
       "        text-align: right;\n",
       "    }\n",
       "</style>\n",
       "<table border=\"1\" class=\"dataframe\">\n",
       "  <thead>\n",
       "    <tr style=\"text-align: right;\">\n",
       "      <th></th>\n",
       "      <th>Unnamed: 0</th>\n",
       "      <th>ID</th>\n",
       "      <th>Dia</th>\n",
       "      <th>Mes</th>\n",
       "      <th>Anio</th>\n",
       "      <th>Alcaldia</th>\n",
       "      <th>Latitud</th>\n",
       "      <th>Longitud</th>\n",
       "      <th>Crimenes</th>\n",
       "      <th>AQI</th>\n",
       "      <th>Alcaldia_num</th>\n",
       "      <th>Crimenes_T</th>\n",
       "      <th>AQI_T</th>\n",
       "    </tr>\n",
       "  </thead>\n",
       "  <tbody>\n",
       "    <tr>\n",
       "      <th>2618</th>\n",
       "      <td>2618</td>\n",
       "      <td>12_10_2016_AZCAP</td>\n",
       "      <td>12</td>\n",
       "      <td>10</td>\n",
       "      <td>2016</td>\n",
       "      <td>AZCAPOTZALCO</td>\n",
       "      <td>19.468405</td>\n",
       "      <td>-99.169792</td>\n",
       "      <td>18</td>\n",
       "      <td>100</td>\n",
       "      <td>7</td>\n",
       "      <td>0.122019</td>\n",
       "      <td>-0.146281</td>\n",
       "    </tr>\n",
       "    <tr>\n",
       "      <th>2825</th>\n",
       "      <td>2825</td>\n",
       "      <td>4_11_2016_AZCAP</td>\n",
       "      <td>4</td>\n",
       "      <td>11</td>\n",
       "      <td>2016</td>\n",
       "      <td>AZCAPOTZALCO</td>\n",
       "      <td>19.468405</td>\n",
       "      <td>-99.169792</td>\n",
       "      <td>6</td>\n",
       "      <td>100</td>\n",
       "      <td>7</td>\n",
       "      <td>-0.752102</td>\n",
       "      <td>-0.146281</td>\n",
       "    </tr>\n",
       "    <tr>\n",
       "      <th>8499</th>\n",
       "      <td>8499</td>\n",
       "      <td>5_11_2018_AZCAP</td>\n",
       "      <td>5</td>\n",
       "      <td>11</td>\n",
       "      <td>2018</td>\n",
       "      <td>AZCAPOTZALCO</td>\n",
       "      <td>19.468405</td>\n",
       "      <td>-99.169792</td>\n",
       "      <td>20</td>\n",
       "      <td>100</td>\n",
       "      <td>7</td>\n",
       "      <td>0.267706</td>\n",
       "      <td>-0.146281</td>\n",
       "    </tr>\n",
       "    <tr>\n",
       "      <th>11733</th>\n",
       "      <td>11733</td>\n",
       "      <td>8_11_2019_AZCAP</td>\n",
       "      <td>8</td>\n",
       "      <td>11</td>\n",
       "      <td>2019</td>\n",
       "      <td>AZCAPOTZALCO</td>\n",
       "      <td>19.468405</td>\n",
       "      <td>-99.169792</td>\n",
       "      <td>16</td>\n",
       "      <td>100</td>\n",
       "      <td>7</td>\n",
       "      <td>-0.023668</td>\n",
       "      <td>-0.146281</td>\n",
       "    </tr>\n",
       "    <tr>\n",
       "      <th>13216</th>\n",
       "      <td>13216</td>\n",
       "      <td>13_5_2020_AZCAP</td>\n",
       "      <td>13</td>\n",
       "      <td>5</td>\n",
       "      <td>2020</td>\n",
       "      <td>AZCAPOTZALCO</td>\n",
       "      <td>19.468405</td>\n",
       "      <td>-99.169792</td>\n",
       "      <td>13</td>\n",
       "      <td>100</td>\n",
       "      <td>7</td>\n",
       "      <td>-0.242198</td>\n",
       "      <td>-0.146281</td>\n",
       "    </tr>\n",
       "    <tr>\n",
       "      <th>13274</th>\n",
       "      <td>13274</td>\n",
       "      <td>22_5_2020_AZCAP</td>\n",
       "      <td>22</td>\n",
       "      <td>5</td>\n",
       "      <td>2020</td>\n",
       "      <td>AZCAPOTZALCO</td>\n",
       "      <td>19.468405</td>\n",
       "      <td>-99.169792</td>\n",
       "      <td>16</td>\n",
       "      <td>100</td>\n",
       "      <td>7</td>\n",
       "      <td>-0.023668</td>\n",
       "      <td>-0.146281</td>\n",
       "    </tr>\n",
       "    <tr>\n",
       "      <th>14015</th>\n",
       "      <td>14015</td>\n",
       "      <td>21_9_2020_AZCAP</td>\n",
       "      <td>21</td>\n",
       "      <td>9</td>\n",
       "      <td>2020</td>\n",
       "      <td>AZCAPOTZALCO</td>\n",
       "      <td>19.468405</td>\n",
       "      <td>-99.169792</td>\n",
       "      <td>4</td>\n",
       "      <td>100</td>\n",
       "      <td>7</td>\n",
       "      <td>-0.897788</td>\n",
       "      <td>-0.146281</td>\n",
       "    </tr>\n",
       "    <tr>\n",
       "      <th>14035</th>\n",
       "      <td>14035</td>\n",
       "      <td>24_9_2020_AZCAP</td>\n",
       "      <td>24</td>\n",
       "      <td>9</td>\n",
       "      <td>2020</td>\n",
       "      <td>AZCAPOTZALCO</td>\n",
       "      <td>19.468405</td>\n",
       "      <td>-99.169792</td>\n",
       "      <td>5</td>\n",
       "      <td>100</td>\n",
       "      <td>7</td>\n",
       "      <td>-0.824945</td>\n",
       "      <td>-0.146281</td>\n",
       "    </tr>\n",
       "  </tbody>\n",
       "</table>\n",
       "</div>"
      ],
      "text/plain": [
       "       Unnamed: 0                ID  Dia  Mes  Anio      Alcaldia    Latitud  \\\n",
       "2618         2618  12_10_2016_AZCAP   12   10  2016  AZCAPOTZALCO  19.468405   \n",
       "2825         2825   4_11_2016_AZCAP    4   11  2016  AZCAPOTZALCO  19.468405   \n",
       "8499         8499   5_11_2018_AZCAP    5   11  2018  AZCAPOTZALCO  19.468405   \n",
       "11733       11733   8_11_2019_AZCAP    8   11  2019  AZCAPOTZALCO  19.468405   \n",
       "13216       13216   13_5_2020_AZCAP   13    5  2020  AZCAPOTZALCO  19.468405   \n",
       "13274       13274   22_5_2020_AZCAP   22    5  2020  AZCAPOTZALCO  19.468405   \n",
       "14015       14015   21_9_2020_AZCAP   21    9  2020  AZCAPOTZALCO  19.468405   \n",
       "14035       14035   24_9_2020_AZCAP   24    9  2020  AZCAPOTZALCO  19.468405   \n",
       "\n",
       "        Longitud  Crimenes  AQI  Alcaldia_num  Crimenes_T     AQI_T  \n",
       "2618  -99.169792        18  100             7    0.122019 -0.146281  \n",
       "2825  -99.169792         6  100             7   -0.752102 -0.146281  \n",
       "8499  -99.169792        20  100             7    0.267706 -0.146281  \n",
       "11733 -99.169792        16  100             7   -0.023668 -0.146281  \n",
       "13216 -99.169792        13  100             7   -0.242198 -0.146281  \n",
       "13274 -99.169792        16  100             7   -0.023668 -0.146281  \n",
       "14015 -99.169792         4  100             7   -0.897788 -0.146281  \n",
       "14035 -99.169792         5  100             7   -0.824945 -0.146281  "
      ]
     },
     "execution_count": 156,
     "metadata": {},
     "output_type": "execute_result"
    }
   ],
   "source": [
    "df_std[(df_std['Alcaldia_num'] == 7) & (df_std['AQI'] == 100)]"
   ]
  },
  {
   "cell_type": "code",
   "execution_count": 157,
   "id": "bec93453-d0da-4afc-bb0b-4bbe5591e705",
   "metadata": {},
   "outputs": [
    {
     "data": {
      "text/plain": [
       "12.25"
      ]
     },
     "execution_count": 157,
     "metadata": {},
     "output_type": "execute_result"
    }
   ],
   "source": [
    "np.mean(df_std[(df_std['Alcaldia_num'] == 7) & (df_std['AQI'] == 100)]['Crimenes'].values)"
   ]
  },
  {
   "cell_type": "code",
   "execution_count": 159,
   "id": "c9834b98-910f-4ad0-b76a-043412dfebc4",
   "metadata": {},
   "outputs": [
    {
     "data": {
      "text/html": [
       "<div>\n",
       "<style scoped>\n",
       "    .dataframe tbody tr th:only-of-type {\n",
       "        vertical-align: middle;\n",
       "    }\n",
       "\n",
       "    .dataframe tbody tr th {\n",
       "        vertical-align: top;\n",
       "    }\n",
       "\n",
       "    .dataframe thead th {\n",
       "        text-align: right;\n",
       "    }\n",
       "</style>\n",
       "<table border=\"1\" class=\"dataframe\">\n",
       "  <thead>\n",
       "    <tr style=\"text-align: right;\">\n",
       "      <th></th>\n",
       "      <th>Unnamed: 0</th>\n",
       "      <th>ID</th>\n",
       "      <th>Dia</th>\n",
       "      <th>Mes</th>\n",
       "      <th>Anio</th>\n",
       "      <th>Alcaldia</th>\n",
       "      <th>Latitud</th>\n",
       "      <th>Longitud</th>\n",
       "      <th>Crimenes</th>\n",
       "      <th>AQI</th>\n",
       "      <th>Alcaldia_num</th>\n",
       "      <th>Crimenes_T</th>\n",
       "      <th>AQI_T</th>\n",
       "    </tr>\n",
       "  </thead>\n",
       "  <tbody>\n",
       "    <tr>\n",
       "      <th>1081</th>\n",
       "      <td>1081</td>\n",
       "      <td>29_4_2016_IZTAC</td>\n",
       "      <td>29</td>\n",
       "      <td>4</td>\n",
       "      <td>2016</td>\n",
       "      <td>IZTACALCO</td>\n",
       "      <td>19.384413</td>\n",
       "      <td>-99.117638</td>\n",
       "      <td>10</td>\n",
       "      <td>100</td>\n",
       "      <td>3</td>\n",
       "      <td>-0.460728</td>\n",
       "      <td>-0.146281</td>\n",
       "    </tr>\n",
       "    <tr>\n",
       "      <th>1255</th>\n",
       "      <td>1255</td>\n",
       "      <td>17_5_2016_IZTAC</td>\n",
       "      <td>17</td>\n",
       "      <td>5</td>\n",
       "      <td>2016</td>\n",
       "      <td>IZTACALCO</td>\n",
       "      <td>19.384413</td>\n",
       "      <td>-99.117638</td>\n",
       "      <td>16</td>\n",
       "      <td>100</td>\n",
       "      <td>3</td>\n",
       "      <td>-0.023668</td>\n",
       "      <td>-0.146281</td>\n",
       "    </tr>\n",
       "    <tr>\n",
       "      <th>1961</th>\n",
       "      <td>1961</td>\n",
       "      <td>27_7_2016_IZTAC</td>\n",
       "      <td>27</td>\n",
       "      <td>7</td>\n",
       "      <td>2016</td>\n",
       "      <td>IZTACALCO</td>\n",
       "      <td>19.384413</td>\n",
       "      <td>-99.117638</td>\n",
       "      <td>10</td>\n",
       "      <td>100</td>\n",
       "      <td>3</td>\n",
       "      <td>-0.460728</td>\n",
       "      <td>-0.146281</td>\n",
       "    </tr>\n",
       "    <tr>\n",
       "      <th>3715</th>\n",
       "      <td>3715</td>\n",
       "      <td>16_2_2017_IZTAC</td>\n",
       "      <td>16</td>\n",
       "      <td>2</td>\n",
       "      <td>2017</td>\n",
       "      <td>IZTACALCO</td>\n",
       "      <td>19.384413</td>\n",
       "      <td>-99.117638</td>\n",
       "      <td>12</td>\n",
       "      <td>100</td>\n",
       "      <td>3</td>\n",
       "      <td>-0.315041</td>\n",
       "      <td>-0.146281</td>\n",
       "    </tr>\n",
       "    <tr>\n",
       "      <th>3785</th>\n",
       "      <td>3785</td>\n",
       "      <td>24_2_2017_IZTAC</td>\n",
       "      <td>24</td>\n",
       "      <td>2</td>\n",
       "      <td>2017</td>\n",
       "      <td>IZTACALCO</td>\n",
       "      <td>19.384413</td>\n",
       "      <td>-99.117638</td>\n",
       "      <td>12</td>\n",
       "      <td>100</td>\n",
       "      <td>3</td>\n",
       "      <td>-0.315041</td>\n",
       "      <td>-0.146281</td>\n",
       "    </tr>\n",
       "    <tr>\n",
       "      <th>4626</th>\n",
       "      <td>4626</td>\n",
       "      <td>5_6_2017_IZTAC</td>\n",
       "      <td>5</td>\n",
       "      <td>6</td>\n",
       "      <td>2017</td>\n",
       "      <td>IZTACALCO</td>\n",
       "      <td>19.384413</td>\n",
       "      <td>-99.117638</td>\n",
       "      <td>16</td>\n",
       "      <td>100</td>\n",
       "      <td>3</td>\n",
       "      <td>-0.023668</td>\n",
       "      <td>-0.146281</td>\n",
       "    </tr>\n",
       "    <tr>\n",
       "      <th>5846</th>\n",
       "      <td>5846</td>\n",
       "      <td>11_11_2017_IZTAC</td>\n",
       "      <td>11</td>\n",
       "      <td>11</td>\n",
       "      <td>2017</td>\n",
       "      <td>IZTACALCO</td>\n",
       "      <td>19.384413</td>\n",
       "      <td>-99.117638</td>\n",
       "      <td>12</td>\n",
       "      <td>100</td>\n",
       "      <td>3</td>\n",
       "      <td>-0.315041</td>\n",
       "      <td>-0.146281</td>\n",
       "    </tr>\n",
       "    <tr>\n",
       "      <th>7660</th>\n",
       "      <td>7660</td>\n",
       "      <td>18_7_2018_IZTAC</td>\n",
       "      <td>18</td>\n",
       "      <td>7</td>\n",
       "      <td>2018</td>\n",
       "      <td>IZTACALCO</td>\n",
       "      <td>19.384413</td>\n",
       "      <td>-99.117638</td>\n",
       "      <td>20</td>\n",
       "      <td>100</td>\n",
       "      <td>3</td>\n",
       "      <td>0.267706</td>\n",
       "      <td>-0.146281</td>\n",
       "    </tr>\n",
       "    <tr>\n",
       "      <th>8092</th>\n",
       "      <td>8092</td>\n",
       "      <td>15_9_2018_IZTAC</td>\n",
       "      <td>15</td>\n",
       "      <td>9</td>\n",
       "      <td>2018</td>\n",
       "      <td>IZTACALCO</td>\n",
       "      <td>19.384413</td>\n",
       "      <td>-99.117638</td>\n",
       "      <td>20</td>\n",
       "      <td>100</td>\n",
       "      <td>3</td>\n",
       "      <td>0.267706</td>\n",
       "      <td>-0.146281</td>\n",
       "    </tr>\n",
       "    <tr>\n",
       "      <th>8578</th>\n",
       "      <td>8578</td>\n",
       "      <td>14_11_2018_IZTAC</td>\n",
       "      <td>14</td>\n",
       "      <td>11</td>\n",
       "      <td>2018</td>\n",
       "      <td>IZTACALCO</td>\n",
       "      <td>19.384413</td>\n",
       "      <td>-99.117638</td>\n",
       "      <td>14</td>\n",
       "      <td>100</td>\n",
       "      <td>3</td>\n",
       "      <td>-0.169355</td>\n",
       "      <td>-0.146281</td>\n",
       "    </tr>\n",
       "    <tr>\n",
       "      <th>8587</th>\n",
       "      <td>8587</td>\n",
       "      <td>15_11_2018_IZTAC</td>\n",
       "      <td>15</td>\n",
       "      <td>11</td>\n",
       "      <td>2018</td>\n",
       "      <td>IZTACALCO</td>\n",
       "      <td>19.384413</td>\n",
       "      <td>-99.117638</td>\n",
       "      <td>18</td>\n",
       "      <td>100</td>\n",
       "      <td>3</td>\n",
       "      <td>0.122019</td>\n",
       "      <td>-0.146281</td>\n",
       "    </tr>\n",
       "    <tr>\n",
       "      <th>8830</th>\n",
       "      <td>8830</td>\n",
       "      <td>13_12_2018_IZTAC</td>\n",
       "      <td>13</td>\n",
       "      <td>12</td>\n",
       "      <td>2018</td>\n",
       "      <td>IZTACALCO</td>\n",
       "      <td>19.384413</td>\n",
       "      <td>-99.117638</td>\n",
       "      <td>12</td>\n",
       "      <td>100</td>\n",
       "      <td>3</td>\n",
       "      <td>-0.315041</td>\n",
       "      <td>-0.146281</td>\n",
       "    </tr>\n",
       "    <tr>\n",
       "      <th>10056</th>\n",
       "      <td>10056</td>\n",
       "      <td>2_5_2019_IZTAC</td>\n",
       "      <td>2</td>\n",
       "      <td>5</td>\n",
       "      <td>2019</td>\n",
       "      <td>IZTACALCO</td>\n",
       "      <td>19.384413</td>\n",
       "      <td>-99.117638</td>\n",
       "      <td>24</td>\n",
       "      <td>100</td>\n",
       "      <td>3</td>\n",
       "      <td>0.559079</td>\n",
       "      <td>-0.146281</td>\n",
       "    </tr>\n",
       "    <tr>\n",
       "      <th>11712</th>\n",
       "      <td>11712</td>\n",
       "      <td>5_11_2019_IZTAC</td>\n",
       "      <td>5</td>\n",
       "      <td>11</td>\n",
       "      <td>2019</td>\n",
       "      <td>IZTACALCO</td>\n",
       "      <td>19.384413</td>\n",
       "      <td>-99.117638</td>\n",
       "      <td>14</td>\n",
       "      <td>100</td>\n",
       "      <td>3</td>\n",
       "      <td>-0.169355</td>\n",
       "      <td>-0.146281</td>\n",
       "    </tr>\n",
       "    <tr>\n",
       "      <th>12956</th>\n",
       "      <td>12956</td>\n",
       "      <td>6_4_2020_IZTAC</td>\n",
       "      <td>6</td>\n",
       "      <td>4</td>\n",
       "      <td>2020</td>\n",
       "      <td>IZTACALCO</td>\n",
       "      <td>19.384413</td>\n",
       "      <td>-99.117638</td>\n",
       "      <td>15</td>\n",
       "      <td>100</td>\n",
       "      <td>3</td>\n",
       "      <td>-0.096511</td>\n",
       "      <td>-0.146281</td>\n",
       "    </tr>\n",
       "    <tr>\n",
       "      <th>13290</th>\n",
       "      <td>13290</td>\n",
       "      <td>24_5_2020_IZTAC</td>\n",
       "      <td>24</td>\n",
       "      <td>5</td>\n",
       "      <td>2020</td>\n",
       "      <td>IZTACALCO</td>\n",
       "      <td>19.384413</td>\n",
       "      <td>-99.117638</td>\n",
       "      <td>16</td>\n",
       "      <td>100</td>\n",
       "      <td>3</td>\n",
       "      <td>-0.023668</td>\n",
       "      <td>-0.146281</td>\n",
       "    </tr>\n",
       "    <tr>\n",
       "      <th>13527</th>\n",
       "      <td>13527</td>\n",
       "      <td>2_7_2020_IZTAC</td>\n",
       "      <td>2</td>\n",
       "      <td>7</td>\n",
       "      <td>2020</td>\n",
       "      <td>IZTACALCO</td>\n",
       "      <td>19.384413</td>\n",
       "      <td>-99.117638</td>\n",
       "      <td>7</td>\n",
       "      <td>100</td>\n",
       "      <td>3</td>\n",
       "      <td>-0.679258</td>\n",
       "      <td>-0.146281</td>\n",
       "    </tr>\n",
       "    <tr>\n",
       "      <th>13630</th>\n",
       "      <td>13630</td>\n",
       "      <td>18_7_2020_IZTAC</td>\n",
       "      <td>18</td>\n",
       "      <td>7</td>\n",
       "      <td>2020</td>\n",
       "      <td>IZTACALCO</td>\n",
       "      <td>19.384413</td>\n",
       "      <td>-99.117638</td>\n",
       "      <td>5</td>\n",
       "      <td>100</td>\n",
       "      <td>3</td>\n",
       "      <td>-0.824945</td>\n",
       "      <td>-0.146281</td>\n",
       "    </tr>\n",
       "  </tbody>\n",
       "</table>\n",
       "</div>"
      ],
      "text/plain": [
       "       Unnamed: 0                ID  Dia  Mes  Anio   Alcaldia    Latitud  \\\n",
       "1081         1081   29_4_2016_IZTAC   29    4  2016  IZTACALCO  19.384413   \n",
       "1255         1255   17_5_2016_IZTAC   17    5  2016  IZTACALCO  19.384413   \n",
       "1961         1961   27_7_2016_IZTAC   27    7  2016  IZTACALCO  19.384413   \n",
       "3715         3715   16_2_2017_IZTAC   16    2  2017  IZTACALCO  19.384413   \n",
       "3785         3785   24_2_2017_IZTAC   24    2  2017  IZTACALCO  19.384413   \n",
       "4626         4626    5_6_2017_IZTAC    5    6  2017  IZTACALCO  19.384413   \n",
       "5846         5846  11_11_2017_IZTAC   11   11  2017  IZTACALCO  19.384413   \n",
       "7660         7660   18_7_2018_IZTAC   18    7  2018  IZTACALCO  19.384413   \n",
       "8092         8092   15_9_2018_IZTAC   15    9  2018  IZTACALCO  19.384413   \n",
       "8578         8578  14_11_2018_IZTAC   14   11  2018  IZTACALCO  19.384413   \n",
       "8587         8587  15_11_2018_IZTAC   15   11  2018  IZTACALCO  19.384413   \n",
       "8830         8830  13_12_2018_IZTAC   13   12  2018  IZTACALCO  19.384413   \n",
       "10056       10056    2_5_2019_IZTAC    2    5  2019  IZTACALCO  19.384413   \n",
       "11712       11712   5_11_2019_IZTAC    5   11  2019  IZTACALCO  19.384413   \n",
       "12956       12956    6_4_2020_IZTAC    6    4  2020  IZTACALCO  19.384413   \n",
       "13290       13290   24_5_2020_IZTAC   24    5  2020  IZTACALCO  19.384413   \n",
       "13527       13527    2_7_2020_IZTAC    2    7  2020  IZTACALCO  19.384413   \n",
       "13630       13630   18_7_2020_IZTAC   18    7  2020  IZTACALCO  19.384413   \n",
       "\n",
       "        Longitud  Crimenes  AQI  Alcaldia_num  Crimenes_T     AQI_T  \n",
       "1081  -99.117638        10  100             3   -0.460728 -0.146281  \n",
       "1255  -99.117638        16  100             3   -0.023668 -0.146281  \n",
       "1961  -99.117638        10  100             3   -0.460728 -0.146281  \n",
       "3715  -99.117638        12  100             3   -0.315041 -0.146281  \n",
       "3785  -99.117638        12  100             3   -0.315041 -0.146281  \n",
       "4626  -99.117638        16  100             3   -0.023668 -0.146281  \n",
       "5846  -99.117638        12  100             3   -0.315041 -0.146281  \n",
       "7660  -99.117638        20  100             3    0.267706 -0.146281  \n",
       "8092  -99.117638        20  100             3    0.267706 -0.146281  \n",
       "8578  -99.117638        14  100             3   -0.169355 -0.146281  \n",
       "8587  -99.117638        18  100             3    0.122019 -0.146281  \n",
       "8830  -99.117638        12  100             3   -0.315041 -0.146281  \n",
       "10056 -99.117638        24  100             3    0.559079 -0.146281  \n",
       "11712 -99.117638        14  100             3   -0.169355 -0.146281  \n",
       "12956 -99.117638        15  100             3   -0.096511 -0.146281  \n",
       "13290 -99.117638        16  100             3   -0.023668 -0.146281  \n",
       "13527 -99.117638         7  100             3   -0.679258 -0.146281  \n",
       "13630 -99.117638         5  100             3   -0.824945 -0.146281  "
      ]
     },
     "execution_count": 159,
     "metadata": {},
     "output_type": "execute_result"
    }
   ],
   "source": [
    "df_std[(df_std['Alcaldia_num'] == 3) & (df_std['AQI'] == 100)]"
   ]
  },
  {
   "cell_type": "code",
   "execution_count": 160,
   "id": "703050fa-f2a3-4136-a8b7-f83042e94133",
   "metadata": {},
   "outputs": [
    {
     "data": {
      "text/plain": [
       "14.055555555555555"
      ]
     },
     "execution_count": 160,
     "metadata": {},
     "output_type": "execute_result"
    }
   ],
   "source": [
    "np.mean(df_std[(df_std['Alcaldia_num'] == 3) & (df_std['AQI'] == 100)]['Crimenes'].values)"
   ]
  },
  {
   "cell_type": "code",
   "execution_count": 12,
   "id": "a0db3858-9072-4557-85fd-cb55f0597c85",
   "metadata": {},
   "outputs": [
    {
     "data": {
      "text/html": [
       "<div>\n",
       "<style scoped>\n",
       "    .dataframe tbody tr th:only-of-type {\n",
       "        vertical-align: middle;\n",
       "    }\n",
       "\n",
       "    .dataframe tbody tr th {\n",
       "        vertical-align: top;\n",
       "    }\n",
       "\n",
       "    .dataframe thead th {\n",
       "        text-align: right;\n",
       "    }\n",
       "</style>\n",
       "<table border=\"1\" class=\"dataframe\">\n",
       "  <thead>\n",
       "    <tr style=\"text-align: right;\">\n",
       "      <th></th>\n",
       "      <th>Crimenes</th>\n",
       "      <th>AQI</th>\n",
       "    </tr>\n",
       "  </thead>\n",
       "  <tbody>\n",
       "    <tr>\n",
       "      <th>count</th>\n",
       "      <td>14729.000000</td>\n",
       "      <td>14729.000000</td>\n",
       "    </tr>\n",
       "    <tr>\n",
       "      <th>mean</th>\n",
       "      <td>15.109308</td>\n",
       "      <td>104.135583</td>\n",
       "    </tr>\n",
       "    <tr>\n",
       "      <th>std</th>\n",
       "      <td>11.257836</td>\n",
       "      <td>30.233448</td>\n",
       "    </tr>\n",
       "    <tr>\n",
       "      <th>min</th>\n",
       "      <td>1.000000</td>\n",
       "      <td>15.000000</td>\n",
       "    </tr>\n",
       "    <tr>\n",
       "      <th>25%</th>\n",
       "      <td>6.000000</td>\n",
       "      <td>81.000000</td>\n",
       "    </tr>\n",
       "    <tr>\n",
       "      <th>50%</th>\n",
       "      <td>12.000000</td>\n",
       "      <td>103.000000</td>\n",
       "    </tr>\n",
       "    <tr>\n",
       "      <th>75%</th>\n",
       "      <td>20.000000</td>\n",
       "      <td>127.000000</td>\n",
       "    </tr>\n",
       "    <tr>\n",
       "      <th>max</th>\n",
       "      <td>57.000000</td>\n",
       "      <td>195.000000</td>\n",
       "    </tr>\n",
       "  </tbody>\n",
       "</table>\n",
       "</div>"
      ],
      "text/plain": [
       "           Crimenes           AQI\n",
       "count  14729.000000  14729.000000\n",
       "mean      15.109308    104.135583\n",
       "std       11.257836     30.233448\n",
       "min        1.000000     15.000000\n",
       "25%        6.000000     81.000000\n",
       "50%       12.000000    103.000000\n",
       "75%       20.000000    127.000000\n",
       "max       57.000000    195.000000"
      ]
     },
     "execution_count": 12,
     "metadata": {},
     "output_type": "execute_result"
    }
   ],
   "source": [
    "df_std[['Crimenes', 'AQI']].describe()"
   ]
  },
  {
   "cell_type": "code",
   "execution_count": 3,
   "id": "eb8d5ccb-a104-4d70-9994-c16e19e7c6c4",
   "metadata": {},
   "outputs": [],
   "source": [
    "df_train, df_test = train_test_split(df_std, test_size=0.2)"
   ]
  },
  {
   "cell_type": "code",
   "execution_count": 4,
   "id": "47f70388-3df8-458b-8800-2784c2037707",
   "metadata": {},
   "outputs": [],
   "source": [
    "df_train = df_train.drop(df_train.columns[[0]], axis=1)\n",
    "df_test = df_test.drop(df_test.columns[[0]], axis=1)"
   ]
  },
  {
   "cell_type": "code",
   "execution_count": 17,
   "id": "8b01949c-ce33-40da-b8e2-56fb7fa7d5d5",
   "metadata": {},
   "outputs": [
    {
     "data": {
      "text/plain": [
       "(11783, 13)"
      ]
     },
     "execution_count": 17,
     "metadata": {},
     "output_type": "execute_result"
    }
   ],
   "source": [
    "df_train.shape"
   ]
  },
  {
   "cell_type": "code",
   "execution_count": 18,
   "id": "2f27f239-2432-429a-bb08-ee246253227b",
   "metadata": {},
   "outputs": [
    {
     "data": {
      "text/plain": [
       "(2946, 13)"
      ]
     },
     "execution_count": 18,
     "metadata": {},
     "output_type": "execute_result"
    }
   ],
   "source": [
    "df_test.shape"
   ]
  },
  {
   "cell_type": "code",
   "execution_count": 25,
   "id": "ac8740de-bef6-4d2e-a256-b6674bc43af1",
   "metadata": {},
   "outputs": [
    {
     "data": {
      "text/html": [
       "<div>\n",
       "<style scoped>\n",
       "    .dataframe tbody tr th:only-of-type {\n",
       "        vertical-align: middle;\n",
       "    }\n",
       "\n",
       "    .dataframe tbody tr th {\n",
       "        vertical-align: top;\n",
       "    }\n",
       "\n",
       "    .dataframe thead th {\n",
       "        text-align: right;\n",
       "    }\n",
       "</style>\n",
       "<table border=\"1\" class=\"dataframe\">\n",
       "  <thead>\n",
       "    <tr style=\"text-align: right;\">\n",
       "      <th></th>\n",
       "      <th>ID</th>\n",
       "      <th>Dia</th>\n",
       "      <th>Mes</th>\n",
       "      <th>Anio</th>\n",
       "      <th>Alcaldia</th>\n",
       "      <th>Latitud</th>\n",
       "      <th>Longitud</th>\n",
       "      <th>Crimenes</th>\n",
       "      <th>AQI</th>\n",
       "      <th>Alcaldia_num</th>\n",
       "      <th>Crimenes_T</th>\n",
       "      <th>AQI_T</th>\n",
       "    </tr>\n",
       "  </thead>\n",
       "  <tbody>\n",
       "    <tr>\n",
       "      <th>12125</th>\n",
       "      <td>19_12_2019_CUAJI</td>\n",
       "      <td>19</td>\n",
       "      <td>12</td>\n",
       "      <td>2019</td>\n",
       "      <td>CUAJIMALPA DE MORELOS</td>\n",
       "      <td>19.357357</td>\n",
       "      <td>-99.262863</td>\n",
       "      <td>6</td>\n",
       "      <td>156</td>\n",
       "      <td>5</td>\n",
       "      <td>-0.752102</td>\n",
       "      <td>1.705777</td>\n",
       "    </tr>\n",
       "    <tr>\n",
       "      <th>14565</th>\n",
       "      <td>8_12_2020_BENIT</td>\n",
       "      <td>8</td>\n",
       "      <td>12</td>\n",
       "      <td>2020</td>\n",
       "      <td>BENITO JUAREZ</td>\n",
       "      <td>19.370464</td>\n",
       "      <td>-99.159599</td>\n",
       "      <td>5</td>\n",
       "      <td>111</td>\n",
       "      <td>1</td>\n",
       "      <td>-0.824945</td>\n",
       "      <td>0.217516</td>\n",
       "    </tr>\n",
       "    <tr>\n",
       "      <th>1630</th>\n",
       "      <td>23_6_2016_MIGUE</td>\n",
       "      <td>23</td>\n",
       "      <td>6</td>\n",
       "      <td>2016</td>\n",
       "      <td>MIGUEL HIDALGO</td>\n",
       "      <td>19.404051</td>\n",
       "      <td>-99.202660</td>\n",
       "      <td>2</td>\n",
       "      <td>96</td>\n",
       "      <td>9</td>\n",
       "      <td>-1.043475</td>\n",
       "      <td>-0.278571</td>\n",
       "    </tr>\n",
       "    <tr>\n",
       "      <th>6838</th>\n",
       "      <td>27_3_2018_IZTAC</td>\n",
       "      <td>27</td>\n",
       "      <td>3</td>\n",
       "      <td>2018</td>\n",
       "      <td>IZTACALCO</td>\n",
       "      <td>19.384413</td>\n",
       "      <td>-99.117638</td>\n",
       "      <td>12</td>\n",
       "      <td>156</td>\n",
       "      <td>3</td>\n",
       "      <td>-0.315041</td>\n",
       "      <td>1.705777</td>\n",
       "    </tr>\n",
       "    <tr>\n",
       "      <th>7332</th>\n",
       "      <td>5_6_2018_TLALP</td>\n",
       "      <td>5</td>\n",
       "      <td>6</td>\n",
       "      <td>2018</td>\n",
       "      <td>TLALPAN</td>\n",
       "      <td>19.272161</td>\n",
       "      <td>-99.207741</td>\n",
       "      <td>12</td>\n",
       "      <td>111</td>\n",
       "      <td>4</td>\n",
       "      <td>-0.315041</td>\n",
       "      <td>0.217516</td>\n",
       "    </tr>\n",
       "  </tbody>\n",
       "</table>\n",
       "</div>"
      ],
      "text/plain": [
       "                     ID  Dia  Mes  Anio               Alcaldia    Latitud  \\\n",
       "12125  19_12_2019_CUAJI   19   12  2019  CUAJIMALPA DE MORELOS  19.357357   \n",
       "14565   8_12_2020_BENIT    8   12  2020          BENITO JUAREZ  19.370464   \n",
       "1630    23_6_2016_MIGUE   23    6  2016         MIGUEL HIDALGO  19.404051   \n",
       "6838    27_3_2018_IZTAC   27    3  2018              IZTACALCO  19.384413   \n",
       "7332     5_6_2018_TLALP    5    6  2018                TLALPAN  19.272161   \n",
       "\n",
       "        Longitud  Crimenes  AQI  Alcaldia_num  Crimenes_T     AQI_T  \n",
       "12125 -99.262863         6  156             5   -0.752102  1.705777  \n",
       "14565 -99.159599         5  111             1   -0.824945  0.217516  \n",
       "1630  -99.202660         2   96             9   -1.043475 -0.278571  \n",
       "6838  -99.117638        12  156             3   -0.315041  1.705777  \n",
       "7332  -99.207741        12  111             4   -0.315041  0.217516  "
      ]
     },
     "execution_count": 25,
     "metadata": {},
     "output_type": "execute_result"
    }
   ],
   "source": [
    "df_train.head()"
   ]
  },
  {
   "cell_type": "markdown",
   "id": "c220392d-37d9-4d08-b5ff-4a6396389447",
   "metadata": {},
   "source": [
    "# Prepare our data for modeling\n",
    "\n",
    "Covert the data to Numpy arrays"
   ]
  },
  {
   "cell_type": "code",
   "execution_count": 5,
   "id": "28b11d0d-b2cd-4db3-912c-3ad119d51548",
   "metadata": {},
   "outputs": [],
   "source": [
    "X_train = df_train.drop(df_train.columns[[0, 1, 2, 3, 4, 5, 6, 7, -1, -2]], axis=1).iloc[:, [1,0]].values\n",
    "y_train = df_train[\"Crimenes\"].values #target"
   ]
  },
  {
   "cell_type": "code",
   "execution_count": 33,
   "id": "d89fb69a-8bed-45f5-862d-bd4f9dbfd89c",
   "metadata": {},
   "outputs": [
    {
     "data": {
      "text/plain": [
       "array([ 6,  5,  2, ..., 10, 12, 40], dtype=int64)"
      ]
     },
     "execution_count": 33,
     "metadata": {},
     "output_type": "execute_result"
    }
   ],
   "source": [
    "y_train"
   ]
  },
  {
   "cell_type": "code",
   "execution_count": 111,
   "id": "465ab2bb-8654-4aa3-9378-02de168f0dbe",
   "metadata": {},
   "outputs": [
    {
     "data": {
      "text/plain": [
       "0.017543859649122806"
      ]
     },
     "execution_count": 111,
     "metadata": {},
     "output_type": "execute_result"
    }
   ],
   "source": [
    "1/df_train[\"Crimenes\"].nunique()"
   ]
  },
  {
   "cell_type": "markdown",
   "id": "4023bed0-4607-4961-94a6-d8159572a142",
   "metadata": {},
   "source": [
    "# Modeling - What is our Baseline?\n",
    "\n",
    "What is the simplest model we can think of?\n",
    "\n",
    "In this case, if our baseline model is just randomly guessing the crimes, we should expect a model accuaracy of 1.75%, sice we have 57 different possibly values \n",
    "\n",
    "So our models shouls at least beat 1.75% accuaracy"
   ]
  },
  {
   "cell_type": "markdown",
   "id": "7340a133-ba30-4682-b80d-10b560bea03b",
   "metadata": {},
   "source": [
    "# Modeling - Logistic Regression"
   ]
  },
  {
   "cell_type": "code",
   "execution_count": 38,
   "id": "220bd5cb-11b8-47b4-844b-de0b157b199c",
   "metadata": {},
   "outputs": [],
   "source": [
    "from sklearn.linear_model import LogisticRegression"
   ]
  },
  {
   "cell_type": "markdown",
   "id": "d8df760c-4d09-4af1-9e65-12ac02a55046",
   "metadata": {},
   "source": [
    "## Using a validation set to evaluate our model"
   ]
  },
  {
   "cell_type": "code",
   "execution_count": 112,
   "id": "792f3f34-21c5-47f9-abab-28f110ef2af2",
   "metadata": {},
   "outputs": [],
   "source": [
    "#Xt for X_train and Xv for validation\n",
    "Xt, Xv, yt, yv = train_test_split(X_train, y_train, test_size=0.2)"
   ]
  },
  {
   "cell_type": "code",
   "execution_count": 133,
   "id": "ce4a81c7-cc35-40a7-a0fb-bd9a2f6b88a8",
   "metadata": {},
   "outputs": [
    {
     "data": {
      "text/plain": [
       "array([[  2, 138],\n",
       "       [  5,  68],\n",
       "       [  7, 130],\n",
       "       ...,\n",
       "       [ 13, 128],\n",
       "       [  5,  73],\n",
       "       [  8,  78]], dtype=int64)"
      ]
     },
     "execution_count": 133,
     "metadata": {},
     "output_type": "execute_result"
    }
   ],
   "source": [
    "Xt"
   ]
  },
  {
   "cell_type": "code",
   "execution_count": 44,
   "id": "56bec295-20e5-44bb-b56f-0c867383295d",
   "metadata": {},
   "outputs": [
    {
     "data": {
      "text/plain": [
       "(2357, 2)"
      ]
     },
     "execution_count": 44,
     "metadata": {},
     "output_type": "execute_result"
    }
   ],
   "source": [
    "Xv.shape"
   ]
  },
  {
   "cell_type": "code",
   "execution_count": 129,
   "id": "ca3f8916-24ca-4a7e-8fab-fdfc392df8e2",
   "metadata": {},
   "outputs": [],
   "source": [
    "model = LogisticRegression(max_iter=1000)"
   ]
  },
  {
   "cell_type": "code",
   "execution_count": 130,
   "id": "92e4f267-f0b3-4463-ab79-fedb0ba428e9",
   "metadata": {},
   "outputs": [
    {
     "name": "stderr",
     "output_type": "stream",
     "text": [
      "C:\\Users\\dgonz\\anaconda3\\lib\\site-packages\\sklearn\\linear_model\\_logistic.py:814: ConvergenceWarning: lbfgs failed to converge (status=1):\n",
      "STOP: TOTAL NO. of ITERATIONS REACHED LIMIT.\n",
      "\n",
      "Increase the number of iterations (max_iter) or scale the data as shown in:\n",
      "    https://scikit-learn.org/stable/modules/preprocessing.html\n",
      "Please also refer to the documentation for alternative solver options:\n",
      "    https://scikit-learn.org/stable/modules/linear_model.html#logistic-regression\n",
      "  n_iter_i = _check_optimize_result(\n"
     ]
    },
    {
     "data": {
      "text/plain": [
       "LogisticRegression(max_iter=1000)"
      ]
     },
     "execution_count": 130,
     "metadata": {},
     "output_type": "execute_result"
    }
   ],
   "source": [
    "model.fit(Xt, yt)"
   ]
  },
  {
   "cell_type": "code",
   "execution_count": 131,
   "id": "5f70d227-1129-4ff5-82fb-9fd89a3e7f72",
   "metadata": {},
   "outputs": [],
   "source": [
    "y_pred = model.predict(Xv)"
   ]
  },
  {
   "cell_type": "code",
   "execution_count": 132,
   "id": "2029bb17-08ad-440d-8682-2a301857f287",
   "metadata": {},
   "outputs": [
    {
     "data": {
      "text/plain": [
       "0.09970301230377598"
      ]
     },
     "execution_count": 132,
     "metadata": {},
     "output_type": "execute_result"
    }
   ],
   "source": [
    "np.mean(y_pred == yv)"
   ]
  },
  {
   "cell_type": "code",
   "execution_count": 124,
   "id": "202c72e4-d805-4a98-b6eb-6b64c92a647b",
   "metadata": {},
   "outputs": [
    {
     "data": {
      "text/plain": [
       "0.0903691132795927"
      ]
     },
     "execution_count": 124,
     "metadata": {},
     "output_type": "execute_result"
    }
   ],
   "source": [
    "model.score(Xv, yv)"
   ]
  },
  {
   "cell_type": "code",
   "execution_count": 135,
   "id": "a7e5cb9a-39ec-4003-bda7-0031d3ac168c",
   "metadata": {},
   "outputs": [
    {
     "data": {
      "text/plain": [
       "2"
      ]
     },
     "execution_count": 135,
     "metadata": {},
     "output_type": "execute_result"
    }
   ],
   "source": [
    "model.predict([[7, 100]])[0]"
   ]
  },
  {
   "cell_type": "code",
   "execution_count": 136,
   "id": "694218cf-7eb4-4d62-a737-03820c4919a4",
   "metadata": {},
   "outputs": [
    {
     "data": {
      "text/plain": [
       "2"
      ]
     },
     "execution_count": 136,
     "metadata": {},
     "output_type": "execute_result"
    }
   ],
   "source": [
    "model.predict([[10, 100]])[0]"
   ]
  },
  {
   "cell_type": "code",
   "execution_count": 137,
   "id": "532b9ab4-a236-4052-851c-31cb79cff7b3",
   "metadata": {},
   "outputs": [
    {
     "data": {
      "text/plain": [
       "12"
      ]
     },
     "execution_count": 137,
     "metadata": {},
     "output_type": "execute_result"
    }
   ],
   "source": [
    "model.predict([[3, 100]])[0]"
   ]
  },
  {
   "cell_type": "markdown",
   "id": "3e27eab9-45e8-4f81-8c0c-9079fb8cc508",
   "metadata": {},
   "source": [
    "# Logistic Regression on Azcapotzalco"
   ]
  },
  {
   "cell_type": "code",
   "execution_count": 138,
   "id": "62bafc86-c04c-4ffb-aee2-0042a05e934e",
   "metadata": {},
   "outputs": [
    {
     "name": "stdout",
     "output_type": "stream",
     "text": [
      "Baseline: 0.03125\n"
     ]
    }
   ],
   "source": [
    "df_testing = df_std[(df_std['Alcaldia_num'] == 7)]\n",
    "\n",
    "df_train, df_test = train_test_split(df_testing, test_size=0.2)\n",
    "\n",
    "df_train = df_train.drop(df_train.columns[[0]], axis=1)\n",
    "df_test = df_test.drop(df_test.columns[[0]], axis=1)\n",
    "\n",
    "X_train = df_train.drop(df_train.columns[[0, 1, 2, 3, 4, 5, 6, 7, -1, -2, -3]], axis=1).values\n",
    "y_train = df_train[\"Crimenes\"].values #target\n",
    "\n",
    "baseline = 1/df_train[\"Crimenes\"].nunique()\n",
    "\n",
    "print(f\"Baseline: {baseline}\")"
   ]
  },
  {
   "cell_type": "code",
   "execution_count": 139,
   "id": "595c7c7d-4a96-4ade-a6cd-608ea967a420",
   "metadata": {},
   "outputs": [],
   "source": [
    "model = LogisticRegression(max_iter=10000)"
   ]
  },
  {
   "cell_type": "code",
   "execution_count": 140,
   "id": "d513ecba-4a56-432a-948c-4631d738d938",
   "metadata": {},
   "outputs": [],
   "source": [
    "Xt, Xv, yt, yv = train_test_split(X_train, y_train, test_size=0.2)"
   ]
  },
  {
   "cell_type": "code",
   "execution_count": 141,
   "id": "99d2b6f6-2d62-45f5-a4f8-5aee3ab02db4",
   "metadata": {},
   "outputs": [
    {
     "name": "stdout",
     "output_type": "stream",
     "text": [
      "0.0966183574879227\n"
     ]
    },
    {
     "data": {
      "text/plain": [
       "10"
      ]
     },
     "execution_count": 141,
     "metadata": {},
     "output_type": "execute_result"
    }
   ],
   "source": [
    "model.fit(Xt, yt)\n",
    "\n",
    "y_pred = model.predict(Xv)\n",
    "\n",
    "print(np.mean(y_pred == yv))\n",
    "\n",
    "model.predict([[100]])[0]"
   ]
  },
  {
   "cell_type": "markdown",
   "id": "500b9b32-b201-4b77-b7a2-e56e293e3304",
   "metadata": {},
   "source": [
    "# Logistic Regression on Iztapalapa"
   ]
  },
  {
   "cell_type": "code",
   "execution_count": 142,
   "id": "787dc734-a27a-422b-bff0-c2ba69aee782",
   "metadata": {},
   "outputs": [
    {
     "name": "stdout",
     "output_type": "stream",
     "text": [
      "Baseline: 0.021739130434782608\n"
     ]
    }
   ],
   "source": [
    "df_testing = df_std[(df_std['Alcaldia_num'] == 10)]\n",
    "\n",
    "df_train, df_test = train_test_split(df_testing, test_size=0.2)\n",
    "\n",
    "df_train = df_train.drop(df_train.columns[[0]], axis=1)\n",
    "df_test = df_test.drop(df_test.columns[[0]], axis=1)\n",
    "\n",
    "X_train = df_train.drop(df_train.columns[[0, 1, 2, 3, 4, 5, 6, 7, -1, -2, -3]], axis=1).values\n",
    "y_train = df_train[\"Crimenes\"].values #target\n",
    "\n",
    "baseline = 1/df_train[\"Crimenes\"].nunique()\n",
    "\n",
    "print(f\"Baseline: {baseline}\")"
   ]
  },
  {
   "cell_type": "code",
   "execution_count": 146,
   "id": "32cb5f34-2123-49e8-b7fe-fcd4d8bd566d",
   "metadata": {},
   "outputs": [],
   "source": [
    "model = LogisticRegression(max_iter=10000)"
   ]
  },
  {
   "cell_type": "code",
   "execution_count": 144,
   "id": "e114ee1e-7d50-4aa8-9227-79065af850cf",
   "metadata": {},
   "outputs": [],
   "source": [
    "Xt, Xv, yt, yv = train_test_split(X_train, y_train, test_size=0.2)"
   ]
  },
  {
   "cell_type": "code",
   "execution_count": 147,
   "id": "61b9477a-c798-4692-a13d-d7eec73df03e",
   "metadata": {},
   "outputs": [
    {
     "name": "stdout",
     "output_type": "stream",
     "text": [
      "0.03361344537815126\n"
     ]
    },
    {
     "data": {
      "text/plain": [
       "46"
      ]
     },
     "execution_count": 147,
     "metadata": {},
     "output_type": "execute_result"
    }
   ],
   "source": [
    "model.fit(Xt, yt)\n",
    "\n",
    "y_pred = model.predict(Xv)\n",
    "\n",
    "print(np.mean(y_pred == yv))\n",
    "\n",
    "model.predict([[100]])[0]"
   ]
  },
  {
   "cell_type": "code",
   "execution_count": 45,
   "id": "2b4e2c61-f2a0-4e10-809c-bf17d00bff41",
   "metadata": {},
   "outputs": [
    {
     "data": {
      "text/html": [
       "<div>\n",
       "<style scoped>\n",
       "    .dataframe tbody tr th:only-of-type {\n",
       "        vertical-align: middle;\n",
       "    }\n",
       "\n",
       "    .dataframe tbody tr th {\n",
       "        vertical-align: top;\n",
       "    }\n",
       "\n",
       "    .dataframe thead th {\n",
       "        text-align: right;\n",
       "    }\n",
       "</style>\n",
       "<table border=\"1\" class=\"dataframe\">\n",
       "  <thead>\n",
       "    <tr style=\"text-align: right;\">\n",
       "      <th></th>\n",
       "      <th>Unnamed: 0</th>\n",
       "      <th>ID</th>\n",
       "      <th>Dia</th>\n",
       "      <th>Mes</th>\n",
       "      <th>Anio</th>\n",
       "      <th>Alcaldia</th>\n",
       "      <th>Latitud</th>\n",
       "      <th>Longitud</th>\n",
       "      <th>Crimenes</th>\n",
       "      <th>AQI</th>\n",
       "      <th>Alcaldia_num</th>\n",
       "      <th>Crimenes_T</th>\n",
       "      <th>AQI_T</th>\n",
       "    </tr>\n",
       "  </thead>\n",
       "  <tbody>\n",
       "    <tr>\n",
       "      <th>0</th>\n",
       "      <td>0</td>\n",
       "      <td>1_1_2016_BENIT</td>\n",
       "      <td>1</td>\n",
       "      <td>1</td>\n",
       "      <td>2016</td>\n",
       "      <td>BENITO JUAREZ</td>\n",
       "      <td>19.370464</td>\n",
       "      <td>-99.159599</td>\n",
       "      <td>7</td>\n",
       "      <td>184</td>\n",
       "      <td>1</td>\n",
       "      <td>-0.679258</td>\n",
       "      <td>2.631806</td>\n",
       "    </tr>\n",
       "    <tr>\n",
       "      <th>1</th>\n",
       "      <td>1</td>\n",
       "      <td>1_1_2016_CUAJI</td>\n",
       "      <td>1</td>\n",
       "      <td>1</td>\n",
       "      <td>2016</td>\n",
       "      <td>CUAJIMALPA DE MORELOS</td>\n",
       "      <td>19.365313</td>\n",
       "      <td>-99.291702</td>\n",
       "      <td>10</td>\n",
       "      <td>164</td>\n",
       "      <td>5</td>\n",
       "      <td>-0.460728</td>\n",
       "      <td>1.970357</td>\n",
       "    </tr>\n",
       "    <tr>\n",
       "      <th>2</th>\n",
       "      <td>2</td>\n",
       "      <td>1_1_2016_CUAUH</td>\n",
       "      <td>1</td>\n",
       "      <td>1</td>\n",
       "      <td>2016</td>\n",
       "      <td>CUAUHTEMOC</td>\n",
       "      <td>19.411617</td>\n",
       "      <td>-99.152206</td>\n",
       "      <td>12</td>\n",
       "      <td>178</td>\n",
       "      <td>8</td>\n",
       "      <td>-0.315041</td>\n",
       "      <td>2.433371</td>\n",
       "    </tr>\n",
       "    <tr>\n",
       "      <th>3</th>\n",
       "      <td>3</td>\n",
       "      <td>1_1_2016_IZTAC</td>\n",
       "      <td>1</td>\n",
       "      <td>1</td>\n",
       "      <td>2016</td>\n",
       "      <td>IZTACALCO</td>\n",
       "      <td>19.384413</td>\n",
       "      <td>-99.117638</td>\n",
       "      <td>12</td>\n",
       "      <td>187</td>\n",
       "      <td>3</td>\n",
       "      <td>-0.315041</td>\n",
       "      <td>2.731024</td>\n",
       "    </tr>\n",
       "    <tr>\n",
       "      <th>4</th>\n",
       "      <td>4</td>\n",
       "      <td>1_1_2016_MIGUE</td>\n",
       "      <td>1</td>\n",
       "      <td>1</td>\n",
       "      <td>2016</td>\n",
       "      <td>MIGUEL HIDALGO</td>\n",
       "      <td>19.404051</td>\n",
       "      <td>-99.202660</td>\n",
       "      <td>6</td>\n",
       "      <td>180</td>\n",
       "      <td>9</td>\n",
       "      <td>-0.752102</td>\n",
       "      <td>2.499516</td>\n",
       "    </tr>\n",
       "    <tr>\n",
       "      <th>...</th>\n",
       "      <td>...</td>\n",
       "      <td>...</td>\n",
       "      <td>...</td>\n",
       "      <td>...</td>\n",
       "      <td>...</td>\n",
       "      <td>...</td>\n",
       "      <td>...</td>\n",
       "      <td>...</td>\n",
       "      <td>...</td>\n",
       "      <td>...</td>\n",
       "      <td>...</td>\n",
       "      <td>...</td>\n",
       "      <td>...</td>\n",
       "    </tr>\n",
       "    <tr>\n",
       "      <th>14724</th>\n",
       "      <td>14724</td>\n",
       "      <td>31_12_2020_BENIT</td>\n",
       "      <td>31</td>\n",
       "      <td>12</td>\n",
       "      <td>2020</td>\n",
       "      <td>BENITO JUAREZ</td>\n",
       "      <td>19.370464</td>\n",
       "      <td>-99.159599</td>\n",
       "      <td>2</td>\n",
       "      <td>117</td>\n",
       "      <td>1</td>\n",
       "      <td>-1.043475</td>\n",
       "      <td>0.415951</td>\n",
       "    </tr>\n",
       "    <tr>\n",
       "      <th>14725</th>\n",
       "      <td>14725</td>\n",
       "      <td>31_12_2020_CUAJI</td>\n",
       "      <td>31</td>\n",
       "      <td>12</td>\n",
       "      <td>2020</td>\n",
       "      <td>CUAJIMALPA DE MORELOS</td>\n",
       "      <td>19.357357</td>\n",
       "      <td>-99.262863</td>\n",
       "      <td>2</td>\n",
       "      <td>97</td>\n",
       "      <td>5</td>\n",
       "      <td>-1.043475</td>\n",
       "      <td>-0.245499</td>\n",
       "    </tr>\n",
       "    <tr>\n",
       "      <th>14726</th>\n",
       "      <td>14726</td>\n",
       "      <td>31_12_2020_GUSTA</td>\n",
       "      <td>31</td>\n",
       "      <td>12</td>\n",
       "      <td>2020</td>\n",
       "      <td>GUSTAVO A MADERO</td>\n",
       "      <td>19.482700</td>\n",
       "      <td>-99.094521</td>\n",
       "      <td>24</td>\n",
       "      <td>128</td>\n",
       "      <td>12</td>\n",
       "      <td>0.559079</td>\n",
       "      <td>0.779748</td>\n",
       "    </tr>\n",
       "    <tr>\n",
       "      <th>14727</th>\n",
       "      <td>14727</td>\n",
       "      <td>31_12_2020_IZTAP</td>\n",
       "      <td>31</td>\n",
       "      <td>12</td>\n",
       "      <td>2020</td>\n",
       "      <td>IZTAPALAPA</td>\n",
       "      <td>19.360794</td>\n",
       "      <td>-99.073883</td>\n",
       "      <td>15</td>\n",
       "      <td>127</td>\n",
       "      <td>10</td>\n",
       "      <td>-0.096511</td>\n",
       "      <td>0.746676</td>\n",
       "    </tr>\n",
       "    <tr>\n",
       "      <th>14728</th>\n",
       "      <td>14728</td>\n",
       "      <td>31_12_2020_VENUS</td>\n",
       "      <td>31</td>\n",
       "      <td>12</td>\n",
       "      <td>2020</td>\n",
       "      <td>VENUSTIANO CARRANZA</td>\n",
       "      <td>19.424610</td>\n",
       "      <td>-99.119591</td>\n",
       "      <td>14</td>\n",
       "      <td>127</td>\n",
       "      <td>2</td>\n",
       "      <td>-0.169355</td>\n",
       "      <td>0.746676</td>\n",
       "    </tr>\n",
       "  </tbody>\n",
       "</table>\n",
       "<p>14729 rows × 13 columns</p>\n",
       "</div>"
      ],
      "text/plain": [
       "       Unnamed: 0                ID  Dia  Mes  Anio               Alcaldia  \\\n",
       "0               0    1_1_2016_BENIT    1    1  2016          BENITO JUAREZ   \n",
       "1               1    1_1_2016_CUAJI    1    1  2016  CUAJIMALPA DE MORELOS   \n",
       "2               2    1_1_2016_CUAUH    1    1  2016             CUAUHTEMOC   \n",
       "3               3    1_1_2016_IZTAC    1    1  2016              IZTACALCO   \n",
       "4               4    1_1_2016_MIGUE    1    1  2016         MIGUEL HIDALGO   \n",
       "...           ...               ...  ...  ...   ...                    ...   \n",
       "14724       14724  31_12_2020_BENIT   31   12  2020          BENITO JUAREZ   \n",
       "14725       14725  31_12_2020_CUAJI   31   12  2020  CUAJIMALPA DE MORELOS   \n",
       "14726       14726  31_12_2020_GUSTA   31   12  2020       GUSTAVO A MADERO   \n",
       "14727       14727  31_12_2020_IZTAP   31   12  2020             IZTAPALAPA   \n",
       "14728       14728  31_12_2020_VENUS   31   12  2020    VENUSTIANO CARRANZA   \n",
       "\n",
       "         Latitud   Longitud  Crimenes  AQI  Alcaldia_num  Crimenes_T     AQI_T  \n",
       "0      19.370464 -99.159599         7  184             1   -0.679258  2.631806  \n",
       "1      19.365313 -99.291702        10  164             5   -0.460728  1.970357  \n",
       "2      19.411617 -99.152206        12  178             8   -0.315041  2.433371  \n",
       "3      19.384413 -99.117638        12  187             3   -0.315041  2.731024  \n",
       "4      19.404051 -99.202660         6  180             9   -0.752102  2.499516  \n",
       "...          ...        ...       ...  ...           ...         ...       ...  \n",
       "14724  19.370464 -99.159599         2  117             1   -1.043475  0.415951  \n",
       "14725  19.357357 -99.262863         2   97             5   -1.043475 -0.245499  \n",
       "14726  19.482700 -99.094521        24  128            12    0.559079  0.779748  \n",
       "14727  19.360794 -99.073883        15  127            10   -0.096511  0.746676  \n",
       "14728  19.424610 -99.119591        14  127             2   -0.169355  0.746676  \n",
       "\n",
       "[14729 rows x 13 columns]"
      ]
     },
     "execution_count": 45,
     "metadata": {},
     "output_type": "execute_result"
    }
   ],
   "source": [
    "df_std"
   ]
  },
  {
   "cell_type": "markdown",
   "id": "597c0af7-22d5-4bb3-9619-506538b1ffff",
   "metadata": {},
   "source": [
    "# Logistic Regression on Iztacalco"
   ]
  },
  {
   "cell_type": "code",
   "execution_count": 46,
   "id": "c1194ed0-a19e-4f47-838d-b8cb0d6be2d4",
   "metadata": {},
   "outputs": [
    {
     "name": "stdout",
     "output_type": "stream",
     "text": [
      "Baseline: 0.030303030303030304\n"
     ]
    }
   ],
   "source": [
    "df_testing = df_std[(df_std['Alcaldia_num'] == 3)]\n",
    "\n",
    "df_train, df_test = train_test_split(df_testing, test_size=0.2)\n",
    "\n",
    "df_train = df_train.drop(df_train.columns[[0]], axis=1)\n",
    "df_test = df_test.drop(df_test.columns[[0]], axis=1)\n",
    "\n",
    "X_train = df_train.drop(df_train.columns[[0, 1, 2, 3, 4, 5, 6, 7, -1, -2, -3]], axis=1).values\n",
    "y_train = df_train[\"Crimenes\"].values #target\n",
    "\n",
    "baseline = 1/df_train[\"Crimenes\"].nunique()\n",
    "\n",
    "print(f\"Baseline: {baseline}\")"
   ]
  },
  {
   "cell_type": "code",
   "execution_count": 47,
   "id": "c2fcba93-520d-4f51-97b3-ea83bb8212c6",
   "metadata": {},
   "outputs": [],
   "source": [
    "model = LogisticRegression(max_iter=10000)"
   ]
  },
  {
   "cell_type": "code",
   "execution_count": 48,
   "id": "2f1c6ae9-ea03-4f56-afe0-bb50e6c97264",
   "metadata": {},
   "outputs": [],
   "source": [
    "Xt, Xv, yt, yv = train_test_split(X_train, y_train, test_size=0.2)"
   ]
  },
  {
   "cell_type": "code",
   "execution_count": 151,
   "id": "35d1569d-50ff-404e-b554-d924f8871023",
   "metadata": {},
   "outputs": [
    {
     "name": "stdout",
     "output_type": "stream",
     "text": [
      "0.10931174089068826\n"
     ]
    },
    {
     "data": {
      "text/plain": [
       "12"
      ]
     },
     "execution_count": 151,
     "metadata": {},
     "output_type": "execute_result"
    }
   ],
   "source": [
    "model.fit(Xt, yt)\n",
    "\n",
    "y_pred = model.predict(Xv)\n",
    "\n",
    "print(np.mean(y_pred == yv))\n",
    "\n",
    "model.predict([[100]])[0]"
   ]
  },
  {
   "cell_type": "markdown",
   "id": "fe0477c5-07e7-4c49-b85a-0b7bd7ae23c4",
   "metadata": {},
   "source": [
    "# Using Cross-Validation to evaluate our model"
   ]
  },
  {
   "cell_type": "code",
   "execution_count": 7,
   "id": "5a0f6edb-5db5-4409-afc5-def321c6d374",
   "metadata": {},
   "outputs": [],
   "source": [
    "from sklearn.model_selection import cross_val_score, cross_val_predict"
   ]
  },
  {
   "cell_type": "code",
   "execution_count": 11,
   "id": "c378b358-0831-4600-b17d-a8e96827d725",
   "metadata": {},
   "outputs": [],
   "source": [
    "model = LogisticRegression(max_iter=1000)"
   ]
  },
  {
   "cell_type": "code",
   "execution_count": 15,
   "id": "b37cda41-bd95-4e6a-8baa-9169cfcfa556",
   "metadata": {},
   "outputs": [],
   "source": [
    "Xt, Xv, yt, yv = train_test_split(X_train, y_train, test_size=0.2)"
   ]
  },
  {
   "cell_type": "code",
   "execution_count": 23,
   "id": "27a3a0be-ac51-4673-8a6d-ac65fd7e5ffb",
   "metadata": {},
   "outputs": [
    {
     "name": "stderr",
     "output_type": "stream",
     "text": [
      "C:\\Users\\dgonz\\anaconda3\\lib\\site-packages\\sklearn\\model_selection\\_split.py:676: UserWarning: The least populated class in y has only 3 members, which is less than n_splits=5.\n",
      "  warnings.warn(\n",
      "C:\\Users\\dgonz\\anaconda3\\lib\\site-packages\\sklearn\\linear_model\\_logistic.py:814: ConvergenceWarning: lbfgs failed to converge (status=1):\n",
      "STOP: TOTAL NO. of ITERATIONS REACHED LIMIT.\n",
      "\n",
      "Increase the number of iterations (max_iter) or scale the data as shown in:\n",
      "    https://scikit-learn.org/stable/modules/preprocessing.html\n",
      "Please also refer to the documentation for alternative solver options:\n",
      "    https://scikit-learn.org/stable/modules/linear_model.html#logistic-regression\n",
      "  n_iter_i = _check_optimize_result(\n",
      "C:\\Users\\dgonz\\anaconda3\\lib\\site-packages\\sklearn\\linear_model\\_logistic.py:814: ConvergenceWarning: lbfgs failed to converge (status=1):\n",
      "STOP: TOTAL NO. of ITERATIONS REACHED LIMIT.\n",
      "\n",
      "Increase the number of iterations (max_iter) or scale the data as shown in:\n",
      "    https://scikit-learn.org/stable/modules/preprocessing.html\n",
      "Please also refer to the documentation for alternative solver options:\n",
      "    https://scikit-learn.org/stable/modules/linear_model.html#logistic-regression\n",
      "  n_iter_i = _check_optimize_result(\n",
      "C:\\Users\\dgonz\\anaconda3\\lib\\site-packages\\sklearn\\linear_model\\_logistic.py:814: ConvergenceWarning: lbfgs failed to converge (status=1):\n",
      "STOP: TOTAL NO. of ITERATIONS REACHED LIMIT.\n",
      "\n",
      "Increase the number of iterations (max_iter) or scale the data as shown in:\n",
      "    https://scikit-learn.org/stable/modules/preprocessing.html\n",
      "Please also refer to the documentation for alternative solver options:\n",
      "    https://scikit-learn.org/stable/modules/linear_model.html#logistic-regression\n",
      "  n_iter_i = _check_optimize_result(\n",
      "C:\\Users\\dgonz\\anaconda3\\lib\\site-packages\\sklearn\\linear_model\\_logistic.py:814: ConvergenceWarning: lbfgs failed to converge (status=1):\n",
      "STOP: TOTAL NO. of ITERATIONS REACHED LIMIT.\n",
      "\n",
      "Increase the number of iterations (max_iter) or scale the data as shown in:\n",
      "    https://scikit-learn.org/stable/modules/preprocessing.html\n",
      "Please also refer to the documentation for alternative solver options:\n",
      "    https://scikit-learn.org/stable/modules/linear_model.html#logistic-regression\n",
      "  n_iter_i = _check_optimize_result(\n",
      "C:\\Users\\dgonz\\anaconda3\\lib\\site-packages\\sklearn\\linear_model\\_logistic.py:814: ConvergenceWarning: lbfgs failed to converge (status=1):\n",
      "STOP: TOTAL NO. of ITERATIONS REACHED LIMIT.\n",
      "\n",
      "Increase the number of iterations (max_iter) or scale the data as shown in:\n",
      "    https://scikit-learn.org/stable/modules/preprocessing.html\n",
      "Please also refer to the documentation for alternative solver options:\n",
      "    https://scikit-learn.org/stable/modules/linear_model.html#logistic-regression\n",
      "  n_iter_i = _check_optimize_result(\n"
     ]
    }
   ],
   "source": [
    "accuracies = cross_val_score(model, X_train, y_train, cv=5, scoring=\"accuracy\")"
   ]
  },
  {
   "cell_type": "code",
   "execution_count": 24,
   "id": "7e44fdcb-de3e-493e-a551-df7433cdef75",
   "metadata": {},
   "outputs": [
    {
     "data": {
      "text/plain": [
       "0.0999746447564708"
      ]
     },
     "execution_count": 24,
     "metadata": {},
     "output_type": "execute_result"
    }
   ],
   "source": [
    "np.mean(accuracies)"
   ]
  },
  {
   "cell_type": "code",
   "execution_count": 37,
   "id": "783f2dae-7781-4c51-8800-bbd1385bddd5",
   "metadata": {},
   "outputs": [
    {
     "name": "stderr",
     "output_type": "stream",
     "text": [
      "C:\\Users\\dgonz\\anaconda3\\lib\\site-packages\\sklearn\\model_selection\\_split.py:676: UserWarning: The least populated class in y has only 3 members, which is less than n_splits=5.\n",
      "  warnings.warn(\n",
      "C:\\Users\\dgonz\\anaconda3\\lib\\site-packages\\sklearn\\linear_model\\_logistic.py:814: ConvergenceWarning: lbfgs failed to converge (status=1):\n",
      "STOP: TOTAL NO. of ITERATIONS REACHED LIMIT.\n",
      "\n",
      "Increase the number of iterations (max_iter) or scale the data as shown in:\n",
      "    https://scikit-learn.org/stable/modules/preprocessing.html\n",
      "Please also refer to the documentation for alternative solver options:\n",
      "    https://scikit-learn.org/stable/modules/linear_model.html#logistic-regression\n",
      "  n_iter_i = _check_optimize_result(\n",
      "C:\\Users\\dgonz\\anaconda3\\lib\\site-packages\\sklearn\\linear_model\\_logistic.py:814: ConvergenceWarning: lbfgs failed to converge (status=1):\n",
      "STOP: TOTAL NO. of ITERATIONS REACHED LIMIT.\n",
      "\n",
      "Increase the number of iterations (max_iter) or scale the data as shown in:\n",
      "    https://scikit-learn.org/stable/modules/preprocessing.html\n",
      "Please also refer to the documentation for alternative solver options:\n",
      "    https://scikit-learn.org/stable/modules/linear_model.html#logistic-regression\n",
      "  n_iter_i = _check_optimize_result(\n",
      "C:\\Users\\dgonz\\anaconda3\\lib\\site-packages\\sklearn\\linear_model\\_logistic.py:814: ConvergenceWarning: lbfgs failed to converge (status=1):\n",
      "STOP: TOTAL NO. of ITERATIONS REACHED LIMIT.\n",
      "\n",
      "Increase the number of iterations (max_iter) or scale the data as shown in:\n",
      "    https://scikit-learn.org/stable/modules/preprocessing.html\n",
      "Please also refer to the documentation for alternative solver options:\n",
      "    https://scikit-learn.org/stable/modules/linear_model.html#logistic-regression\n",
      "  n_iter_i = _check_optimize_result(\n",
      "C:\\Users\\dgonz\\anaconda3\\lib\\site-packages\\sklearn\\linear_model\\_logistic.py:814: ConvergenceWarning: lbfgs failed to converge (status=1):\n",
      "STOP: TOTAL NO. of ITERATIONS REACHED LIMIT.\n",
      "\n",
      "Increase the number of iterations (max_iter) or scale the data as shown in:\n",
      "    https://scikit-learn.org/stable/modules/preprocessing.html\n",
      "Please also refer to the documentation for alternative solver options:\n",
      "    https://scikit-learn.org/stable/modules/linear_model.html#logistic-regression\n",
      "  n_iter_i = _check_optimize_result(\n",
      "C:\\Users\\dgonz\\anaconda3\\lib\\site-packages\\sklearn\\linear_model\\_logistic.py:814: ConvergenceWarning: lbfgs failed to converge (status=1):\n",
      "STOP: TOTAL NO. of ITERATIONS REACHED LIMIT.\n",
      "\n",
      "Increase the number of iterations (max_iter) or scale the data as shown in:\n",
      "    https://scikit-learn.org/stable/modules/preprocessing.html\n",
      "Please also refer to the documentation for alternative solver options:\n",
      "    https://scikit-learn.org/stable/modules/linear_model.html#logistic-regression\n",
      "  n_iter_i = _check_optimize_result(\n"
     ]
    }
   ],
   "source": [
    "y_pred = cross_val_predict(model, X_train, y_train, cv=5)"
   ]
  },
  {
   "cell_type": "code",
   "execution_count": 38,
   "id": "25f73d03-94be-4375-a9e1-20a54cef2f75",
   "metadata": {},
   "outputs": [],
   "source": [
    "predicted_correctly_mask = y_pred == y_train "
   ]
  },
  {
   "cell_type": "code",
   "execution_count": 39,
   "id": "937c4b11-3a9a-4537-885a-07c1f477223b",
   "metadata": {},
   "outputs": [],
   "source": [
    "df_predictions = df_train.copy()"
   ]
  },
  {
   "cell_type": "code",
   "execution_count": 40,
   "id": "402adcc9-8a18-4826-9a17-73a8c69cbe03",
   "metadata": {},
   "outputs": [],
   "source": [
    "df_predictions[\"correct_predict\"] = predicted_correctly_mask"
   ]
  },
  {
   "cell_type": "code",
   "execution_count": 41,
   "id": "4da70885-b6af-46f8-b3cc-b4927120f4d5",
   "metadata": {},
   "outputs": [],
   "source": [
    "df_predictions[\"predictions\"] = y_pred "
   ]
  },
  {
   "cell_type": "code",
   "execution_count": 42,
   "id": "71e95223-b1af-4e9d-a268-ef3cc6980ce8",
   "metadata": {},
   "outputs": [
    {
     "data": {
      "text/html": [
       "<div>\n",
       "<style scoped>\n",
       "    .dataframe tbody tr th:only-of-type {\n",
       "        vertical-align: middle;\n",
       "    }\n",
       "\n",
       "    .dataframe tbody tr th {\n",
       "        vertical-align: top;\n",
       "    }\n",
       "\n",
       "    .dataframe thead th {\n",
       "        text-align: right;\n",
       "    }\n",
       "</style>\n",
       "<table border=\"1\" class=\"dataframe\">\n",
       "  <thead>\n",
       "    <tr style=\"text-align: right;\">\n",
       "      <th></th>\n",
       "      <th>ID</th>\n",
       "      <th>Dia</th>\n",
       "      <th>Mes</th>\n",
       "      <th>Anio</th>\n",
       "      <th>Alcaldia</th>\n",
       "      <th>Latitud</th>\n",
       "      <th>Longitud</th>\n",
       "      <th>Crimenes</th>\n",
       "      <th>AQI</th>\n",
       "      <th>Alcaldia_num</th>\n",
       "      <th>Crimenes_T</th>\n",
       "      <th>AQI_T</th>\n",
       "      <th>correct_predict</th>\n",
       "      <th>predictions</th>\n",
       "    </tr>\n",
       "  </thead>\n",
       "  <tbody>\n",
       "    <tr>\n",
       "      <th>7700</th>\n",
       "      <td>23_7_2018_VENUS</td>\n",
       "      <td>23</td>\n",
       "      <td>7</td>\n",
       "      <td>2018</td>\n",
       "      <td>VENUSTIANO CARRANZA</td>\n",
       "      <td>19.424610</td>\n",
       "      <td>-99.119591</td>\n",
       "      <td>14</td>\n",
       "      <td>139</td>\n",
       "      <td>2</td>\n",
       "      <td>-0.169355</td>\n",
       "      <td>1.143545</td>\n",
       "      <td>False</td>\n",
       "      <td>12</td>\n",
       "    </tr>\n",
       "    <tr>\n",
       "      <th>8572</th>\n",
       "      <td>13_11_2018_TLAHU</td>\n",
       "      <td>13</td>\n",
       "      <td>11</td>\n",
       "      <td>2018</td>\n",
       "      <td>TLAHUAC</td>\n",
       "      <td>19.246458</td>\n",
       "      <td>-99.010567</td>\n",
       "      <td>4</td>\n",
       "      <td>102</td>\n",
       "      <td>6</td>\n",
       "      <td>-0.897788</td>\n",
       "      <td>-0.080136</td>\n",
       "      <td>False</td>\n",
       "      <td>10</td>\n",
       "    </tr>\n",
       "    <tr>\n",
       "      <th>12954</th>\n",
       "      <td>6_4_2020_BENIT</td>\n",
       "      <td>6</td>\n",
       "      <td>4</td>\n",
       "      <td>2020</td>\n",
       "      <td>BENITO JUAREZ</td>\n",
       "      <td>19.370464</td>\n",
       "      <td>-99.159599</td>\n",
       "      <td>12</td>\n",
       "      <td>102</td>\n",
       "      <td>1</td>\n",
       "      <td>-0.315041</td>\n",
       "      <td>-0.080136</td>\n",
       "      <td>True</td>\n",
       "      <td>12</td>\n",
       "    </tr>\n",
       "    <tr>\n",
       "      <th>14020</th>\n",
       "      <td>21_9_2020_VENUS</td>\n",
       "      <td>21</td>\n",
       "      <td>9</td>\n",
       "      <td>2020</td>\n",
       "      <td>VENUSTIANO CARRANZA</td>\n",
       "      <td>19.424610</td>\n",
       "      <td>-99.119591</td>\n",
       "      <td>9</td>\n",
       "      <td>93</td>\n",
       "      <td>2</td>\n",
       "      <td>-0.533571</td>\n",
       "      <td>-0.377788</td>\n",
       "      <td>False</td>\n",
       "      <td>12</td>\n",
       "    </tr>\n",
       "    <tr>\n",
       "      <th>7823</th>\n",
       "      <td>9_8_2018_BENIT</td>\n",
       "      <td>9</td>\n",
       "      <td>8</td>\n",
       "      <td>2018</td>\n",
       "      <td>BENITO JUAREZ</td>\n",
       "      <td>19.370464</td>\n",
       "      <td>-99.159599</td>\n",
       "      <td>16</td>\n",
       "      <td>92</td>\n",
       "      <td>1</td>\n",
       "      <td>-0.023668</td>\n",
       "      <td>-0.410861</td>\n",
       "      <td>False</td>\n",
       "      <td>12</td>\n",
       "    </tr>\n",
       "    <tr>\n",
       "      <th>...</th>\n",
       "      <td>...</td>\n",
       "      <td>...</td>\n",
       "      <td>...</td>\n",
       "      <td>...</td>\n",
       "      <td>...</td>\n",
       "      <td>...</td>\n",
       "      <td>...</td>\n",
       "      <td>...</td>\n",
       "      <td>...</td>\n",
       "      <td>...</td>\n",
       "      <td>...</td>\n",
       "      <td>...</td>\n",
       "      <td>...</td>\n",
       "      <td>...</td>\n",
       "    </tr>\n",
       "    <tr>\n",
       "      <th>9117</th>\n",
       "      <td>14_1_2019_MIGUE</td>\n",
       "      <td>14</td>\n",
       "      <td>1</td>\n",
       "      <td>2019</td>\n",
       "      <td>MIGUEL HIDALGO</td>\n",
       "      <td>19.404051</td>\n",
       "      <td>-99.202660</td>\n",
       "      <td>16</td>\n",
       "      <td>90</td>\n",
       "      <td>9</td>\n",
       "      <td>-0.023668</td>\n",
       "      <td>-0.477006</td>\n",
       "      <td>False</td>\n",
       "      <td>2</td>\n",
       "    </tr>\n",
       "    <tr>\n",
       "      <th>13179</th>\n",
       "      <td>6_5_2020_VENUS</td>\n",
       "      <td>6</td>\n",
       "      <td>5</td>\n",
       "      <td>2020</td>\n",
       "      <td>VENUSTIANO CARRANZA</td>\n",
       "      <td>19.424610</td>\n",
       "      <td>-99.119591</td>\n",
       "      <td>8</td>\n",
       "      <td>94</td>\n",
       "      <td>2</td>\n",
       "      <td>-0.606415</td>\n",
       "      <td>-0.344716</td>\n",
       "      <td>False</td>\n",
       "      <td>12</td>\n",
       "    </tr>\n",
       "    <tr>\n",
       "      <th>5828</th>\n",
       "      <td>9_11_2017_CUAJI</td>\n",
       "      <td>9</td>\n",
       "      <td>11</td>\n",
       "      <td>2017</td>\n",
       "      <td>CUAJIMALPA DE MORELOS</td>\n",
       "      <td>19.357357</td>\n",
       "      <td>-99.262863</td>\n",
       "      <td>2</td>\n",
       "      <td>130</td>\n",
       "      <td>5</td>\n",
       "      <td>-1.043475</td>\n",
       "      <td>0.845893</td>\n",
       "      <td>False</td>\n",
       "      <td>10</td>\n",
       "    </tr>\n",
       "    <tr>\n",
       "      <th>5575</th>\n",
       "      <td>7_10_2017_BENIT</td>\n",
       "      <td>7</td>\n",
       "      <td>10</td>\n",
       "      <td>2017</td>\n",
       "      <td>BENITO JUAREZ</td>\n",
       "      <td>19.370464</td>\n",
       "      <td>-99.159599</td>\n",
       "      <td>12</td>\n",
       "      <td>80</td>\n",
       "      <td>1</td>\n",
       "      <td>-0.315041</td>\n",
       "      <td>-0.807731</td>\n",
       "      <td>True</td>\n",
       "      <td>12</td>\n",
       "    </tr>\n",
       "    <tr>\n",
       "      <th>5974</th>\n",
       "      <td>29_11_2017_CUAUH</td>\n",
       "      <td>29</td>\n",
       "      <td>11</td>\n",
       "      <td>2017</td>\n",
       "      <td>CUAUHTEMOC</td>\n",
       "      <td>19.411617</td>\n",
       "      <td>-99.152206</td>\n",
       "      <td>26</td>\n",
       "      <td>157</td>\n",
       "      <td>8</td>\n",
       "      <td>0.704766</td>\n",
       "      <td>1.738850</td>\n",
       "      <td>False</td>\n",
       "      <td>10</td>\n",
       "    </tr>\n",
       "  </tbody>\n",
       "</table>\n",
       "<p>11783 rows × 14 columns</p>\n",
       "</div>"
      ],
      "text/plain": [
       "                     ID  Dia  Mes  Anio               Alcaldia    Latitud  \\\n",
       "7700    23_7_2018_VENUS   23    7  2018    VENUSTIANO CARRANZA  19.424610   \n",
       "8572   13_11_2018_TLAHU   13   11  2018                TLAHUAC  19.246458   \n",
       "12954    6_4_2020_BENIT    6    4  2020          BENITO JUAREZ  19.370464   \n",
       "14020   21_9_2020_VENUS   21    9  2020    VENUSTIANO CARRANZA  19.424610   \n",
       "7823     9_8_2018_BENIT    9    8  2018          BENITO JUAREZ  19.370464   \n",
       "...                 ...  ...  ...   ...                    ...        ...   \n",
       "9117    14_1_2019_MIGUE   14    1  2019         MIGUEL HIDALGO  19.404051   \n",
       "13179    6_5_2020_VENUS    6    5  2020    VENUSTIANO CARRANZA  19.424610   \n",
       "5828    9_11_2017_CUAJI    9   11  2017  CUAJIMALPA DE MORELOS  19.357357   \n",
       "5575    7_10_2017_BENIT    7   10  2017          BENITO JUAREZ  19.370464   \n",
       "5974   29_11_2017_CUAUH   29   11  2017             CUAUHTEMOC  19.411617   \n",
       "\n",
       "        Longitud  Crimenes  AQI  Alcaldia_num  Crimenes_T     AQI_T  \\\n",
       "7700  -99.119591        14  139             2   -0.169355  1.143545   \n",
       "8572  -99.010567         4  102             6   -0.897788 -0.080136   \n",
       "12954 -99.159599        12  102             1   -0.315041 -0.080136   \n",
       "14020 -99.119591         9   93             2   -0.533571 -0.377788   \n",
       "7823  -99.159599        16   92             1   -0.023668 -0.410861   \n",
       "...          ...       ...  ...           ...         ...       ...   \n",
       "9117  -99.202660        16   90             9   -0.023668 -0.477006   \n",
       "13179 -99.119591         8   94             2   -0.606415 -0.344716   \n",
       "5828  -99.262863         2  130             5   -1.043475  0.845893   \n",
       "5575  -99.159599        12   80             1   -0.315041 -0.807731   \n",
       "5974  -99.152206        26  157             8    0.704766  1.738850   \n",
       "\n",
       "       correct_predict  predictions  \n",
       "7700             False           12  \n",
       "8572             False           10  \n",
       "12954             True           12  \n",
       "14020            False           12  \n",
       "7823             False           12  \n",
       "...                ...          ...  \n",
       "9117             False            2  \n",
       "13179            False           12  \n",
       "5828             False           10  \n",
       "5575              True           12  \n",
       "5974             False           10  \n",
       "\n",
       "[11783 rows x 14 columns]"
      ]
     },
     "execution_count": 42,
     "metadata": {},
     "output_type": "execute_result"
    }
   ],
   "source": [
    "df_predictions"
   ]
  },
  {
   "cell_type": "code",
   "execution_count": 44,
   "id": "b971ab73-1387-43b9-a13c-c747b849b1c4",
   "metadata": {},
   "outputs": [
    {
     "data": {
      "text/plain": [
       "<AxesSubplot:xlabel='AQI', ylabel='Crimenes'>"
      ]
     },
     "execution_count": 44,
     "metadata": {},
     "output_type": "execute_result"
    },
    {
     "data": {
      "image/png": "[encoded data removed]",
      "text/plain": [
       "<Figure size 1080x720 with 1 Axes>"
      ]
     },
     "metadata": {
      "needs_background": "light"
     },
     "output_type": "display_data"
    }
   ],
   "source": [
    "plt.figure(figsize=(15, 10))\n",
    "sns.scatterplot(x=\"AQI\", y=\"Crimenes\", hue=\"correct_predict\", data=df_predictions)"
   ]
  },
  {
   "cell_type": "markdown",
   "id": "ef45a73e-122d-4bc1-a0ea-44c89e21efc6",
   "metadata": {},
   "source": [
    "## Cross-Validation with Iztacalco"
   ]
  },
  {
   "cell_type": "code",
   "execution_count": 53,
   "id": "9f9ef69d-44b5-4883-bb4a-5e8341ce4957",
   "metadata": {},
   "outputs": [],
   "source": [
    "df_testing = df_std[(df_std['Alcaldia_num'] == 3)]\n",
    "\n",
    "df_train, df_test = train_test_split(df_testing, test_size=0.2)\n",
    "\n",
    "df_train = df_train.drop(df_train.columns[[0]], axis=1)\n",
    "df_test = df_test.drop(df_test.columns[[0]], axis=1)\n",
    "\n",
    "X_train = df_train.drop(df_train.columns[[0, 1, 2, 3, 4, 5, 6, 7, -1, -2, -3]], axis=1).values\n",
    "y_train = df_train[\"Crimenes\"].values #target\n"
   ]
  },
  {
   "cell_type": "code",
   "execution_count": 55,
   "id": "3e3017cb-123c-4112-9f6a-6ee962d777de",
   "metadata": {},
   "outputs": [],
   "source": [
    "model = LogisticRegression(max_iter=10000)"
   ]
  },
  {
   "cell_type": "code",
   "execution_count": 56,
   "id": "26305d67-548b-4ea5-aaea-e5e92ea2e5cd",
   "metadata": {},
   "outputs": [
    {
     "name": "stderr",
     "output_type": "stream",
     "text": [
      "C:\\Users\\dgonz\\anaconda3\\lib\\site-packages\\sklearn\\model_selection\\_split.py:676: UserWarning: The least populated class in y has only 1 members, which is less than n_splits=5.\n",
      "  warnings.warn(\n"
     ]
    }
   ],
   "source": [
    "accuracies = cross_val_score(model, X_train, y_train, cv=5, scoring=\"accuracy\")"
   ]
  },
  {
   "cell_type": "code",
   "execution_count": 57,
   "id": "42bc413f-6e35-4a46-a395-167b3aa78e58",
   "metadata": {},
   "outputs": [
    {
     "data": {
      "text/plain": [
       "0.1413580856456338"
      ]
     },
     "execution_count": 57,
     "metadata": {},
     "output_type": "execute_result"
    }
   ],
   "source": [
    "np.mean(accuracies)"
   ]
  },
  {
   "cell_type": "code",
   "execution_count": 58,
   "id": "5d4234dc-3db7-4346-a1cf-41af9f90db21",
   "metadata": {},
   "outputs": [
    {
     "name": "stderr",
     "output_type": "stream",
     "text": [
      "C:\\Users\\dgonz\\anaconda3\\lib\\site-packages\\sklearn\\model_selection\\_split.py:676: UserWarning: The least populated class in y has only 1 members, which is less than n_splits=5.\n",
      "  warnings.warn(\n"
     ]
    }
   ],
   "source": [
    "y_pred = cross_val_predict(model, X_train, y_train, cv=5)"
   ]
  },
  {
   "cell_type": "code",
   "execution_count": 59,
   "id": "5d6863fa-83ba-4277-9ca2-1e61bc8c22f9",
   "metadata": {},
   "outputs": [],
   "source": [
    "predicted_correctly_mask = y_pred == y_train "
   ]
  },
  {
   "cell_type": "code",
   "execution_count": 60,
   "id": "804565f8-b6d0-4fdc-8181-88ec7ae41ce4",
   "metadata": {},
   "outputs": [],
   "source": [
    "df_predictions = df_train.copy()"
   ]
  },
  {
   "cell_type": "code",
   "execution_count": 61,
   "id": "42d42ba2-bd84-433c-b7bc-0ef8a3640642",
   "metadata": {},
   "outputs": [],
   "source": [
    "df_predictions[\"correct_predict\"] = predicted_correctly_mask"
   ]
  },
  {
   "cell_type": "code",
   "execution_count": 62,
   "id": "86440a85-5683-4f2c-bc4b-e1bbef6e535f",
   "metadata": {},
   "outputs": [],
   "source": [
    "df_predictions[\"predictions\"] = y_pred "
   ]
  },
  {
   "cell_type": "code",
   "execution_count": 64,
   "id": "e025c4b2-36b3-4f0d-b94a-f752f71d0d3d",
   "metadata": {},
   "outputs": [
    {
     "data": {
      "text/plain": [
       "<AxesSubplot:xlabel='AQI', ylabel='Crimenes'>"
      ]
     },
     "execution_count": 64,
     "metadata": {},
     "output_type": "execute_result"
    },
    {
     "data": {
      "image/png": "[encoded data removed]",
      "text/plain": [
       "<Figure size 1080x720 with 1 Axes>"
      ]
     },
     "metadata": {
      "needs_background": "light"
     },
     "output_type": "display_data"
    }
   ],
   "source": [
    "plt.figure(figsize=(15, 10))\n",
    "sns.scatterplot(x=\"AQI\", y=\"Crimenes\", hue=\"correct_predict\", data=df_predictions)"
   ]
  },
  {
   "cell_type": "code",
   "execution_count": null,
   "id": "9a85b0d1-a95e-4260-ac1c-7047e7733f95",
   "metadata": {},
   "outputs": [],
   "source": []
  }
 ],
 "metadata": {
  "kernelspec": {
   "display_name": "Python 3 (ipykernel)",
   "language": "python",
   "name": "python3"
  },
  "language_info": {
   "codemirror_mode": {
    "name": "ipython",
    "version": 3
   },
   "file_extension": ".py",
   "mimetype": "text/x-python",
   "name": "python",
   "nbconvert_exporter": "python",
   "pygments_lexer": "ipython3",
   "version": "3.9.12"
  }
 },
 "nbformat": 4,
 "nbformat_minor": 5
}
