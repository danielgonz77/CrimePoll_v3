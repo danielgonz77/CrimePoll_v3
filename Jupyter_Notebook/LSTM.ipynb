{
 "cells": [
  {
   "cell_type": "code",
   "execution_count": 1,
   "id": "2e0425e6-f1eb-4d04-9438-ee3358599613",
   "metadata": {},
   "outputs": [],
   "source": [
    "import tensorflow as tf\n",
    "import os\n",
    "import pandas as pd\n",
    "import numpy as np\n",
    "import matplotlib.pyplot as plt\n",
    "import math\n",
    "from sklearn.model_selection import train_test_split\n",
    "from sklearn.linear_model import LinearRegression"
   ]
  },
  {
   "cell_type": "code",
   "execution_count": 31,
   "id": "1371262e-5a7e-42b9-bf8b-b80a5f4e8601",
   "metadata": {},
   "outputs": [],
   "source": [
    "df_date = pd.read_csv('../CSV_limpios/df_date.csv')"
   ]
  },
  {
   "cell_type": "code",
   "execution_count": 70,
   "id": "39a8e52e-efce-47e9-8f12-5a624a040c5b",
   "metadata": {},
   "outputs": [
    {
     "data": {
      "text/html": [
       "<div>\n",
       "<style scoped>\n",
       "    .dataframe tbody tr th:only-of-type {\n",
       "        vertical-align: middle;\n",
       "    }\n",
       "\n",
       "    .dataframe tbody tr th {\n",
       "        vertical-align: top;\n",
       "    }\n",
       "\n",
       "    .dataframe thead th {\n",
       "        text-align: right;\n",
       "    }\n",
       "</style>\n",
       "<table border=\"1\" class=\"dataframe\">\n",
       "  <thead>\n",
       "    <tr style=\"text-align: right;\">\n",
       "      <th></th>\n",
       "      <th>date</th>\n",
       "      <th>Latitud</th>\n",
       "      <th>Longitud</th>\n",
       "      <th>Alcaldia</th>\n",
       "      <th>Alcaldia_num</th>\n",
       "      <th>AQI</th>\n",
       "      <th>Crimenes</th>\n",
       "    </tr>\n",
       "    <tr>\n",
       "      <th>date</th>\n",
       "      <th></th>\n",
       "      <th></th>\n",
       "      <th></th>\n",
       "      <th></th>\n",
       "      <th></th>\n",
       "      <th></th>\n",
       "      <th></th>\n",
       "    </tr>\n",
       "  </thead>\n",
       "  <tbody>\n",
       "    <tr>\n",
       "      <th>2016-01-01</th>\n",
       "      <td>2016-01-01</td>\n",
       "      <td>19.370464</td>\n",
       "      <td>-99.159599</td>\n",
       "      <td>BENITO JUAREZ</td>\n",
       "      <td>1</td>\n",
       "      <td>184</td>\n",
       "      <td>7</td>\n",
       "    </tr>\n",
       "    <tr>\n",
       "      <th>2016-01-01</th>\n",
       "      <td>2016-01-01</td>\n",
       "      <td>19.365313</td>\n",
       "      <td>-99.291702</td>\n",
       "      <td>CUAJIMALPA DE MORELOS</td>\n",
       "      <td>5</td>\n",
       "      <td>164</td>\n",
       "      <td>10</td>\n",
       "    </tr>\n",
       "    <tr>\n",
       "      <th>2016-01-01</th>\n",
       "      <td>2016-01-01</td>\n",
       "      <td>19.411617</td>\n",
       "      <td>-99.152206</td>\n",
       "      <td>CUAUHTEMOC</td>\n",
       "      <td>8</td>\n",
       "      <td>178</td>\n",
       "      <td>12</td>\n",
       "    </tr>\n",
       "    <tr>\n",
       "      <th>2016-01-01</th>\n",
       "      <td>2016-01-01</td>\n",
       "      <td>19.384413</td>\n",
       "      <td>-99.117638</td>\n",
       "      <td>IZTACALCO</td>\n",
       "      <td>3</td>\n",
       "      <td>187</td>\n",
       "      <td>12</td>\n",
       "    </tr>\n",
       "    <tr>\n",
       "      <th>2016-01-01</th>\n",
       "      <td>2016-01-01</td>\n",
       "      <td>19.404051</td>\n",
       "      <td>-99.202660</td>\n",
       "      <td>MIGUEL HIDALGO</td>\n",
       "      <td>9</td>\n",
       "      <td>180</td>\n",
       "      <td>6</td>\n",
       "    </tr>\n",
       "    <tr>\n",
       "      <th>...</th>\n",
       "      <td>...</td>\n",
       "      <td>...</td>\n",
       "      <td>...</td>\n",
       "      <td>...</td>\n",
       "      <td>...</td>\n",
       "      <td>...</td>\n",
       "      <td>...</td>\n",
       "    </tr>\n",
       "    <tr>\n",
       "      <th>2020-12-31</th>\n",
       "      <td>2020-12-31</td>\n",
       "      <td>19.370464</td>\n",
       "      <td>-99.159599</td>\n",
       "      <td>BENITO JUAREZ</td>\n",
       "      <td>1</td>\n",
       "      <td>117</td>\n",
       "      <td>2</td>\n",
       "    </tr>\n",
       "    <tr>\n",
       "      <th>2020-12-31</th>\n",
       "      <td>2020-12-31</td>\n",
       "      <td>19.357357</td>\n",
       "      <td>-99.262863</td>\n",
       "      <td>CUAJIMALPA DE MORELOS</td>\n",
       "      <td>5</td>\n",
       "      <td>97</td>\n",
       "      <td>2</td>\n",
       "    </tr>\n",
       "    <tr>\n",
       "      <th>2020-12-31</th>\n",
       "      <td>2020-12-31</td>\n",
       "      <td>19.482700</td>\n",
       "      <td>-99.094521</td>\n",
       "      <td>GUSTAVO A MADERO</td>\n",
       "      <td>12</td>\n",
       "      <td>128</td>\n",
       "      <td>24</td>\n",
       "    </tr>\n",
       "    <tr>\n",
       "      <th>2020-12-31</th>\n",
       "      <td>2020-12-31</td>\n",
       "      <td>19.360794</td>\n",
       "      <td>-99.073883</td>\n",
       "      <td>IZTAPALAPA</td>\n",
       "      <td>10</td>\n",
       "      <td>127</td>\n",
       "      <td>15</td>\n",
       "    </tr>\n",
       "    <tr>\n",
       "      <th>2020-12-31</th>\n",
       "      <td>2020-12-31</td>\n",
       "      <td>19.424610</td>\n",
       "      <td>-99.119591</td>\n",
       "      <td>VENUSTIANO CARRANZA</td>\n",
       "      <td>2</td>\n",
       "      <td>127</td>\n",
       "      <td>14</td>\n",
       "    </tr>\n",
       "  </tbody>\n",
       "</table>\n",
       "<p>14729 rows × 7 columns</p>\n",
       "</div>"
      ],
      "text/plain": [
       "                 date    Latitud   Longitud               Alcaldia  \\\n",
       "date                                                                 \n",
       "2016-01-01 2016-01-01  19.370464 -99.159599          BENITO JUAREZ   \n",
       "2016-01-01 2016-01-01  19.365313 -99.291702  CUAJIMALPA DE MORELOS   \n",
       "2016-01-01 2016-01-01  19.411617 -99.152206             CUAUHTEMOC   \n",
       "2016-01-01 2016-01-01  19.384413 -99.117638              IZTACALCO   \n",
       "2016-01-01 2016-01-01  19.404051 -99.202660         MIGUEL HIDALGO   \n",
       "...               ...        ...        ...                    ...   \n",
       "2020-12-31 2020-12-31  19.370464 -99.159599          BENITO JUAREZ   \n",
       "2020-12-31 2020-12-31  19.357357 -99.262863  CUAJIMALPA DE MORELOS   \n",
       "2020-12-31 2020-12-31  19.482700 -99.094521       GUSTAVO A MADERO   \n",
       "2020-12-31 2020-12-31  19.360794 -99.073883             IZTAPALAPA   \n",
       "2020-12-31 2020-12-31  19.424610 -99.119591    VENUSTIANO CARRANZA   \n",
       "\n",
       "            Alcaldia_num  AQI  Crimenes  \n",
       "date                                     \n",
       "2016-01-01             1  184         7  \n",
       "2016-01-01             5  164        10  \n",
       "2016-01-01             8  178        12  \n",
       "2016-01-01             3  187        12  \n",
       "2016-01-01             9  180         6  \n",
       "...                  ...  ...       ...  \n",
       "2020-12-31             1  117         2  \n",
       "2020-12-31             5   97         2  \n",
       "2020-12-31            12  128        24  \n",
       "2020-12-31            10  127        15  \n",
       "2020-12-31             2  127        14  \n",
       "\n",
       "[14729 rows x 7 columns]"
      ]
     },
     "execution_count": 70,
     "metadata": {},
     "output_type": "execute_result"
    }
   ],
   "source": [
    "df_date"
   ]
  },
  {
   "cell_type": "code",
   "execution_count": 69,
   "id": "a6fbb61f-1031-46a4-be79-92b6475fb2fe",
   "metadata": {},
   "outputs": [],
   "source": [
    "df_date['date'] = pd.to_datetime(df_date.date, format='%Y.%m.%d')"
   ]
  },
  {
   "cell_type": "code",
   "execution_count": 33,
   "id": "2415d60c-448b-4bd2-a8b0-d004d39e8950",
   "metadata": {},
   "outputs": [],
   "source": [
    "df_date.index = pd.to_datetime(df_date['date'], format=\"%Y.%m.%d\")"
   ]
  },
  {
   "cell_type": "code",
   "execution_count": 82,
   "id": "99139441-414b-4eb8-b8dc-2eec0096414e",
   "metadata": {},
   "outputs": [
    {
     "data": {
      "text/plain": [
       "<AxesSubplot:xlabel='date'>"
      ]
     },
     "execution_count": 82,
     "metadata": {},
     "output_type": "execute_result"
    },
    {
     "data": {
      "image/png": "[encoded data removed]",
      "text/plain": [
       "<Figure size 1440x720 with 1 Axes>"
      ]
     },
     "metadata": {
      "needs_background": "light"
     },
     "output_type": "display_data"
    }
   ],
   "source": [
    "AQI = df_date[(df_date['Alcaldia'] == \"BENITO JUAREZ\")][\"AQI\"]\n",
    "plt.figure(figsize=(20, 10))\n",
    "AQI.plot()"
   ]
  },
  {
   "cell_type": "code",
   "execution_count": 10,
   "id": "224f2158-3cc1-4f4c-a844-b81a4ccebddf",
   "metadata": {},
   "outputs": [
    {
     "data": {
      "text/html": [
       "<div>\n",
       "<style scoped>\n",
       "    .dataframe tbody tr th:only-of-type {\n",
       "        vertical-align: middle;\n",
       "    }\n",
       "\n",
       "    .dataframe tbody tr th {\n",
       "        vertical-align: top;\n",
       "    }\n",
       "\n",
       "    .dataframe thead th {\n",
       "        text-align: right;\n",
       "    }\n",
       "</style>\n",
       "<table border=\"1\" class=\"dataframe\">\n",
       "  <thead>\n",
       "    <tr style=\"text-align: right;\">\n",
       "      <th></th>\n",
       "      <th>ID</th>\n",
       "      <th>Dia</th>\n",
       "      <th>Mes</th>\n",
       "      <th>Anio</th>\n",
       "      <th>Latitud</th>\n",
       "      <th>Longitud</th>\n",
       "      <th>Alcaldia</th>\n",
       "      <th>Alcaldia_num</th>\n",
       "      <th>AQI</th>\n",
       "      <th>Crimenes</th>\n",
       "      <th>r</th>\n",
       "      <th>p value</th>\n",
       "      <th>% / 10 AQI</th>\n",
       "    </tr>\n",
       "  </thead>\n",
       "  <tbody>\n",
       "    <tr>\n",
       "      <th>0</th>\n",
       "      <td>1_1_2016_AZCAP</td>\n",
       "      <td>1</td>\n",
       "      <td>1</td>\n",
       "      <td>2016</td>\n",
       "      <td>19.468405</td>\n",
       "      <td>-99.169792</td>\n",
       "      <td>AZCAPOTZALCO</td>\n",
       "      <td>7</td>\n",
       "      <td>206</td>\n",
       "      <td>7</td>\n",
       "      <td>0.01273</td>\n",
       "      <td>0.82162</td>\n",
       "      <td>0.07958</td>\n",
       "    </tr>\n",
       "    <tr>\n",
       "      <th>1</th>\n",
       "      <td>1_1_2016_BENIT</td>\n",
       "      <td>1</td>\n",
       "      <td>1</td>\n",
       "      <td>2016</td>\n",
       "      <td>19.370464</td>\n",
       "      <td>-99.159599</td>\n",
       "      <td>BENITO JUAREZ</td>\n",
       "      <td>1</td>\n",
       "      <td>184</td>\n",
       "      <td>7</td>\n",
       "      <td>0.04583</td>\n",
       "      <td>0.38995</td>\n",
       "      <td>0.31513</td>\n",
       "    </tr>\n",
       "    <tr>\n",
       "      <th>2</th>\n",
       "      <td>1_1_2016_CUAJI</td>\n",
       "      <td>1</td>\n",
       "      <td>1</td>\n",
       "      <td>2016</td>\n",
       "      <td>19.365313</td>\n",
       "      <td>-99.291702</td>\n",
       "      <td>CUAJIMALPA DE MORELOS</td>\n",
       "      <td>5</td>\n",
       "      <td>164</td>\n",
       "      <td>10</td>\n",
       "      <td>0.05489</td>\n",
       "      <td>0.40533</td>\n",
       "      <td>0.27603</td>\n",
       "    </tr>\n",
       "    <tr>\n",
       "      <th>3</th>\n",
       "      <td>1_1_2016_CUAUH</td>\n",
       "      <td>1</td>\n",
       "      <td>1</td>\n",
       "      <td>2016</td>\n",
       "      <td>19.411617</td>\n",
       "      <td>-99.152206</td>\n",
       "      <td>CUAUHTEMOC</td>\n",
       "      <td>8</td>\n",
       "      <td>178</td>\n",
       "      <td>12</td>\n",
       "      <td>0.09876</td>\n",
       "      <td>0.06456</td>\n",
       "      <td>0.54579</td>\n",
       "    </tr>\n",
       "    <tr>\n",
       "      <th>4</th>\n",
       "      <td>1_1_2016_IZTAC</td>\n",
       "      <td>1</td>\n",
       "      <td>1</td>\n",
       "      <td>2016</td>\n",
       "      <td>19.384413</td>\n",
       "      <td>-99.117638</td>\n",
       "      <td>IZTACALCO</td>\n",
       "      <td>3</td>\n",
       "      <td>187</td>\n",
       "      <td>12</td>\n",
       "      <td>0.13991</td>\n",
       "      <td>0.01036</td>\n",
       "      <td>0.74039</td>\n",
       "    </tr>\n",
       "    <tr>\n",
       "      <th>...</th>\n",
       "      <td>...</td>\n",
       "      <td>...</td>\n",
       "      <td>...</td>\n",
       "      <td>...</td>\n",
       "      <td>...</td>\n",
       "      <td>...</td>\n",
       "      <td>...</td>\n",
       "      <td>...</td>\n",
       "      <td>...</td>\n",
       "      <td>...</td>\n",
       "      <td>...</td>\n",
       "      <td>...</td>\n",
       "      <td>...</td>\n",
       "    </tr>\n",
       "    <tr>\n",
       "      <th>15076</th>\n",
       "      <td>31_12_2020_BENIT</td>\n",
       "      <td>31</td>\n",
       "      <td>12</td>\n",
       "      <td>2020</td>\n",
       "      <td>19.370464</td>\n",
       "      <td>-99.159599</td>\n",
       "      <td>BENITO JUAREZ</td>\n",
       "      <td>1</td>\n",
       "      <td>117</td>\n",
       "      <td>2</td>\n",
       "      <td>0.32307</td>\n",
       "      <td>0.00000</td>\n",
       "      <td>1.87021</td>\n",
       "    </tr>\n",
       "    <tr>\n",
       "      <th>15077</th>\n",
       "      <td>31_12_2020_CUAJI</td>\n",
       "      <td>31</td>\n",
       "      <td>12</td>\n",
       "      <td>2020</td>\n",
       "      <td>19.357357</td>\n",
       "      <td>-99.262863</td>\n",
       "      <td>CUAJIMALPA DE MORELOS</td>\n",
       "      <td>5</td>\n",
       "      <td>97</td>\n",
       "      <td>2</td>\n",
       "      <td>0.18270</td>\n",
       "      <td>0.00157</td>\n",
       "      <td>1.24598</td>\n",
       "    </tr>\n",
       "    <tr>\n",
       "      <th>15078</th>\n",
       "      <td>31_12_2020_GUSTA</td>\n",
       "      <td>31</td>\n",
       "      <td>12</td>\n",
       "      <td>2020</td>\n",
       "      <td>19.482700</td>\n",
       "      <td>-99.094521</td>\n",
       "      <td>GUSTAVO A MADERO</td>\n",
       "      <td>12</td>\n",
       "      <td>128</td>\n",
       "      <td>24</td>\n",
       "      <td>0.15550</td>\n",
       "      <td>0.02790</td>\n",
       "      <td>0.97144</td>\n",
       "    </tr>\n",
       "    <tr>\n",
       "      <th>15079</th>\n",
       "      <td>31_12_2020_IZTAP</td>\n",
       "      <td>31</td>\n",
       "      <td>12</td>\n",
       "      <td>2020</td>\n",
       "      <td>19.360794</td>\n",
       "      <td>-99.073883</td>\n",
       "      <td>IZTAPALAPA</td>\n",
       "      <td>10</td>\n",
       "      <td>127</td>\n",
       "      <td>15</td>\n",
       "      <td>0.38522</td>\n",
       "      <td>0.00000</td>\n",
       "      <td>1.97916</td>\n",
       "    </tr>\n",
       "    <tr>\n",
       "      <th>15080</th>\n",
       "      <td>31_12_2020_VENUS</td>\n",
       "      <td>31</td>\n",
       "      <td>12</td>\n",
       "      <td>2020</td>\n",
       "      <td>19.424610</td>\n",
       "      <td>-99.119591</td>\n",
       "      <td>VENUSTIANO CARRANZA</td>\n",
       "      <td>2</td>\n",
       "      <td>127</td>\n",
       "      <td>14</td>\n",
       "      <td>0.31363</td>\n",
       "      <td>0.00000</td>\n",
       "      <td>2.00948</td>\n",
       "    </tr>\n",
       "  </tbody>\n",
       "</table>\n",
       "<p>15081 rows × 13 columns</p>\n",
       "</div>"
      ],
      "text/plain": [
       "                     ID  Dia  Mes  Anio    Latitud   Longitud  \\\n",
       "0        1_1_2016_AZCAP    1    1  2016  19.468405 -99.169792   \n",
       "1        1_1_2016_BENIT    1    1  2016  19.370464 -99.159599   \n",
       "2        1_1_2016_CUAJI    1    1  2016  19.365313 -99.291702   \n",
       "3        1_1_2016_CUAUH    1    1  2016  19.411617 -99.152206   \n",
       "4        1_1_2016_IZTAC    1    1  2016  19.384413 -99.117638   \n",
       "...                 ...  ...  ...   ...        ...        ...   \n",
       "15076  31_12_2020_BENIT   31   12  2020  19.370464 -99.159599   \n",
       "15077  31_12_2020_CUAJI   31   12  2020  19.357357 -99.262863   \n",
       "15078  31_12_2020_GUSTA   31   12  2020  19.482700 -99.094521   \n",
       "15079  31_12_2020_IZTAP   31   12  2020  19.360794 -99.073883   \n",
       "15080  31_12_2020_VENUS   31   12  2020  19.424610 -99.119591   \n",
       "\n",
       "                    Alcaldia  Alcaldia_num  AQI  Crimenes        r  p value  \\\n",
       "0               AZCAPOTZALCO             7  206         7  0.01273  0.82162   \n",
       "1              BENITO JUAREZ             1  184         7  0.04583  0.38995   \n",
       "2      CUAJIMALPA DE MORELOS             5  164        10  0.05489  0.40533   \n",
       "3                 CUAUHTEMOC             8  178        12  0.09876  0.06456   \n",
       "4                  IZTACALCO             3  187        12  0.13991  0.01036   \n",
       "...                      ...           ...  ...       ...      ...      ...   \n",
       "15076          BENITO JUAREZ             1  117         2  0.32307  0.00000   \n",
       "15077  CUAJIMALPA DE MORELOS             5   97         2  0.18270  0.00157   \n",
       "15078       GUSTAVO A MADERO            12  128        24  0.15550  0.02790   \n",
       "15079             IZTAPALAPA            10  127        15  0.38522  0.00000   \n",
       "15080    VENUSTIANO CARRANZA             2  127        14  0.31363  0.00000   \n",
       "\n",
       "       % / 10 AQI  \n",
       "0         0.07958  \n",
       "1         0.31513  \n",
       "2         0.27603  \n",
       "3         0.54579  \n",
       "4         0.74039  \n",
       "...           ...  \n",
       "15076     1.87021  \n",
       "15077     1.24598  \n",
       "15078     0.97144  \n",
       "15079     1.97916  \n",
       "15080     2.00948  \n",
       "\n",
       "[15081 rows x 13 columns]"
      ]
     },
     "execution_count": 10,
     "metadata": {},
     "output_type": "execute_result"
    }
   ],
   "source": [
    "import pandas as pd\n",
    "from scipy import stats\n",
    "import numpy as np\n",
    "\n",
    "df_crimen = pd.read_csv(\"../CSV_limpios/crimen.csv\")\n",
    "df_aire = pd.read_csv(\"../CSV_limpios/aire.csv\")\n",
    "\n",
    "\n",
    "aire_map = pd.read_csv(\"../CSV_limpios/aire_v2.csv\")\n",
    "crime_map = pd.read_csv(\"../CSV_limpios/crimen_v2.csv\")\n",
    "\n",
    "#Con Ozono\n",
    "\n",
    "#df_crimen = pd.read_csv(\"../CSV_limpios/crimen_for_plots.csv\")\n",
    "#df_aire = pd.read_csv(\"../CSV_limpios/aire_for_plots.csv\")\n",
    "\n",
    "df_all = pd.DataFrame()\n",
    "df_all['ID'] = df_aire['ID']\n",
    "df_all['Dia'] = df_aire['Dia']\n",
    "df_all['Mes'] = df_aire['Mes']\n",
    "df_all['Anio'] = df_aire['Anio']\n",
    "df_all['Alcaldia'] = df_aire['Alcaldia']\n",
    "df_all['Latitud'] = df_aire['Latitud']\n",
    "df_all['Longitud'] = df_aire['Longitud']\n",
    "df_all['Crimenes'] = df_crimen['countCrimenes']\n",
    "df_all['AQI'] = df_aire['avgAQI']\n",
    "\n",
    "def prepare_dataset_relationship(df_all):\n",
    "    \n",
    "    df_all_copy = df_all.copy()\n",
    "    alc_mapper = {\"BENITO JUAREZ\": 1,\n",
    "              \"VENUSTIANO CARRANZA\": 2,\n",
    "              \"IZTACALCO\": 3,\n",
    "              \"TLALPAN\": 4,\n",
    "              \"CUAJIMALPA DE MORELOS\": 5,\n",
    "              \"TLAHUAC\": 6,\n",
    "              \"AZCAPOTZALCO\": 7,\n",
    "              \"CUAUHTEMOC\": 8,\n",
    "              \"MIGUEL HIDALGO\": 9,\n",
    "              \"IZTAPALAPA\": 10,\n",
    "              \"ALVARO OBREGON\": 11,\n",
    "              \"GUSTAVO A MADERO\": 12,\n",
    "              \"MILPA ALTA\": 13,\n",
    "              \"COYOACAN\":14}\n",
    "    df_all_copy['Alcaldia_num'] = df_all_copy['Alcaldia'].replace(alc_mapper)\n",
    "\n",
    "    df_all_copy[\"r\"] = 0\n",
    "    df_all_copy[\"p value\"] = 0\n",
    "    df_all_copy[\"% / 10 AQI\"] = 0\n",
    "\n",
    "    for Alcaldia in df_all_copy['Alcaldia_num'].unique():\n",
    "        for anio in df_all_copy['Anio'].unique():\n",
    "            df_test = df_all_copy[(df_all_copy['Alcaldia_num'] == Alcaldia) & (df_all_copy['Anio'] == anio)]\n",
    "            df_test = df_test[[\"Crimenes\", \"AQI\"]].reset_index(drop = True)\n",
    "\n",
    "            if(len(df_test.AQI) > 1):\n",
    "                pearson_coef, p_value = stats.pearsonr(df_test.AQI, df_test.Crimenes)\n",
    "\n",
    "                df_all_fit = np.polyfit(df_test.AQI, df_test.Crimenes, 1)\n",
    "                slope = df_all_fit[0]\n",
    "                percentage = (slope*1000)/df_test[\"Crimenes\"].max()\n",
    "\n",
    "                r = round(pearson_coef, 5)\n",
    "                p = round(p_value, 5)\n",
    "\n",
    "                df_all_copy.loc[(df_all_copy['Alcaldia_num'] == Alcaldia) & (df_all_copy['Anio'] == anio), 'r'] = r\n",
    "                df_all_copy.loc[(df_all_copy['Alcaldia_num'] == Alcaldia) & (df_all_copy['Anio'] == anio), 'p value'] = p\n",
    "                df_all_copy.loc[(df_all_copy['Alcaldia_num'] == Alcaldia) & (df_all_copy['Anio'] == anio), \"% / 10 AQI\"] = round(percentage,5)\n",
    "\n",
    "    return df_all_copy\n",
    "\n",
    "df_prepared = prepare_dataset_relationship(df_all)\n",
    "df_prepared = df_prepared[['ID', 'Dia', 'Mes', 'Anio', 'Latitud', 'Longitud', 'Alcaldia', 'Alcaldia_num', 'AQI', 'Crimenes', 'r', 'p value', '% / 10 AQI']]\n",
    "df_prepared"
   ]
  },
  {
   "cell_type": "code",
   "execution_count": 11,
   "id": "bce23f35-30e8-4b7d-8566-126af609995b",
   "metadata": {},
   "outputs": [],
   "source": [
    "from pathlib import Path  \n",
    "filepath = Path('../CSV_limpios/df_air_crime_evaluation.csv')  \n",
    "\n",
    "filepath.parent.mkdir(parents=True, exist_ok=True)  \n",
    "\n",
    "df_prepared.to_csv(filepath) "
   ]
  },
  {
   "cell_type": "code",
   "execution_count": 2,
   "id": "d451af70-d0b8-4300-8ce6-697f55c6b272",
   "metadata": {},
   "outputs": [],
   "source": [
    "import pandas as pd\n",
    "from scipy import stats\n",
    "import numpy as np\n",
    "\n",
    "df_crimen = pd.read_csv(\"../CSV_limpios/crimen.csv\")\n",
    "df_aire = pd.read_csv(\"../CSV_limpios/aire.csv\")\n",
    "\n",
    "\n",
    "aire_map = pd.read_csv(\"../CSV_limpios/aire_v2.csv\")\n",
    "crime_map = pd.read_csv(\"../CSV_limpios/crimen_v2.csv\")"
   ]
  },
  {
   "cell_type": "code",
   "execution_count": 53,
   "id": "f332c870",
   "metadata": {},
   "outputs": [],
   "source": [
    "aire_map = pd.read_csv(\"../CSV_limpios/aire_v2.csv\")\n",
    "crime_map = pd.read_csv(\"../CSV_limpios/crimen_v2.csv\")\n",
    "\n",
    "\n",
    "df_all = pd.read_csv(\"../CSV_limpios/df_air_crime_evaluation.csv\")\n",
    "#df_all = pd.read_csv(\"../CSV_limpios/df_air_crime_evaluation_o3.csv\")\n",
    "\n",
    "models = {\n",
    "     \"BENITO JUAREZ\": [1, 214.9126391708, -0.0018374312, 0.0302102129, -0.1055739376, 0.0058998541, 24.6],\n",
    "     \"CUAJIMALPA DE MORELOS\": [5, -40.077475915, -0.0020568653, -0.0054645416, 0.0204733694, 0.0007117387, 77.75],\n",
    "     \"CUAUHTEMOC\": [8, -1429.8475079076, -0.0158129401, 0.029503595, 0.7116424221, 0.0032419824, 20.17],\n",
    "     \"IZTACALCO\": [3, -449.6763203576, 0.0038919214, 0.0508705173, 0.2237442662, 0.0101261185, 27.55],\n",
    "     \"MIGUEL HIDALGO\": [9, -1781.1780802088, 0.0027193564, 0.1020666467, 0.8840865336, 0.0021126176, 34.07],\n",
    "     \"TLAHUAC\": [6, -267.7351537166, -0.0019352763, -0.0148895216, 0.1337588241, 0.000818561, 47.4],\n",
    "     \"TLALPAN\": [4, -737.6545789514, 0.0059929009, 0.0060511696, 0.3673142828, -0.0034980614, 29.05],\n",
    "     \"VENUSTIANO CARRANZA\": [2, -393.2098159588, -0.0052166789, -0.0281358348, 0.1964024774, 0.0030982005, 24.55],\n",
    "     \"AZCAPOTZALCO\": [7, -159.1142355563, -0.0040754038, -0.0003299716, 0.0796972529, 0.0093918495, 27.84],\n",
    "     \"IZTAPALAPA\": [10, 456.3869000885, 0.0044874625, -0.0774887946, -0.2225607627, 0.0122347371, 13.31],\n",
    "     \"MILPA ALTA\": [13, -80.3076370813, -0.0003960816, -0.0046275519, 0.0404109748, -0.0003385311, 88.83],\n",
    "     \"GUSTAVO A MADERO\": [12, 4951.1519849232, -0.0192311166, -0.2230044121, -2.4476907629, 0.0002629555, 24.51],\n",
    "     \"ALVARO OBREGON\": [11, 3388.9302909273, -0.0183477195, -0.1446136909, -1.6755320747, 0.00319275, 29.91],\n",
    "    }\n",
    "\n",
    "crime_mapper = {1:[1, 5], 2:[6, 10], 3:[11, 15], 4:[16, 20], 5:[21, 25], 6:[26, 30], 7:[31, 35], 8:[36, 40], 9:[41, 45], 10:[46, 50], 11:[51, 55], 12:[56, 60]}\n",
    "\n",
    "def get_prediction(dia, mes, anio, aqi, alcaldia):\n",
    "    time = [dia, mes, anio, aqi]\n",
    "    prediction = models[alcaldia][1]\n",
    "    print(time, prediction)\n",
    "    for i in range(len(models[alcaldia])-3):\n",
    "        prediction = prediction + models[alcaldia][i+2]*time[i]\n",
    "        print(prediction)\n",
    "\n",
    "    if(prediction<0):\n",
    "        prediction = 1\n",
    "    \n",
    "    print(prediction)\n",
    "    print(((math.modf(prediction)[0])*5%100), crime_mapper[math.floor(prediction)][0])\n",
    "\n",
    "        \n",
    "    round_prediction = round(((math.modf(prediction)[0])*5%100) + crime_mapper[math.floor(prediction)][0])\n",
    "    \n",
    "    return f'{round_prediction} violent crimes, model accuracy: {models[alcaldia][-1]}%'"
   ]
  },
  {
   "cell_type": "code",
   "execution_count": 13,
   "id": "63e8061d",
   "metadata": {},
   "outputs": [
    {
     "data": {
      "text/html": [
       "<div>\n",
       "<style scoped>\n",
       "    .dataframe tbody tr th:only-of-type {\n",
       "        vertical-align: middle;\n",
       "    }\n",
       "\n",
       "    .dataframe tbody tr th {\n",
       "        vertical-align: top;\n",
       "    }\n",
       "\n",
       "    .dataframe thead th {\n",
       "        text-align: right;\n",
       "    }\n",
       "</style>\n",
       "<table border=\"1\" class=\"dataframe\">\n",
       "  <thead>\n",
       "    <tr style=\"text-align: right;\">\n",
       "      <th></th>\n",
       "      <th>Unnamed: 0</th>\n",
       "      <th>ID</th>\n",
       "      <th>Dia</th>\n",
       "      <th>Mes</th>\n",
       "      <th>Anio</th>\n",
       "      <th>Latitud</th>\n",
       "      <th>Longitud</th>\n",
       "      <th>Alcaldia</th>\n",
       "      <th>Alcaldia_num</th>\n",
       "      <th>AQI</th>\n",
       "      <th>Crimenes</th>\n",
       "      <th>r</th>\n",
       "      <th>p value</th>\n",
       "      <th>% / 10 AQI</th>\n",
       "    </tr>\n",
       "  </thead>\n",
       "  <tbody>\n",
       "    <tr>\n",
       "      <th>9189</th>\n",
       "      <td>9189</td>\n",
       "      <td>3_1_2019_GUSTA</td>\n",
       "      <td>3</td>\n",
       "      <td>1</td>\n",
       "      <td>2019</td>\n",
       "      <td>19.4827</td>\n",
       "      <td>-99.094521</td>\n",
       "      <td>GUSTAVO A MADERO</td>\n",
       "      <td>12</td>\n",
       "      <td>150</td>\n",
       "      <td>40</td>\n",
       "      <td>0.06655</td>\n",
       "      <td>0.2352</td>\n",
       "      <td>0.29817</td>\n",
       "    </tr>\n",
       "    <tr>\n",
       "      <th>9200</th>\n",
       "      <td>9200</td>\n",
       "      <td>4_1_2019_GUSTA</td>\n",
       "      <td>4</td>\n",
       "      <td>1</td>\n",
       "      <td>2019</td>\n",
       "      <td>19.4827</td>\n",
       "      <td>-99.094521</td>\n",
       "      <td>GUSTAVO A MADERO</td>\n",
       "      <td>12</td>\n",
       "      <td>150</td>\n",
       "      <td>36</td>\n",
       "      <td>0.06655</td>\n",
       "      <td>0.2352</td>\n",
       "      <td>0.29817</td>\n",
       "    </tr>\n",
       "    <tr>\n",
       "      <th>9211</th>\n",
       "      <td>9211</td>\n",
       "      <td>5_1_2019_GUSTA</td>\n",
       "      <td>5</td>\n",
       "      <td>1</td>\n",
       "      <td>2019</td>\n",
       "      <td>19.4827</td>\n",
       "      <td>-99.094521</td>\n",
       "      <td>GUSTAVO A MADERO</td>\n",
       "      <td>12</td>\n",
       "      <td>165</td>\n",
       "      <td>28</td>\n",
       "      <td>0.06655</td>\n",
       "      <td>0.2352</td>\n",
       "      <td>0.29817</td>\n",
       "    </tr>\n",
       "    <tr>\n",
       "      <th>9222</th>\n",
       "      <td>9222</td>\n",
       "      <td>6_1_2019_GUSTA</td>\n",
       "      <td>6</td>\n",
       "      <td>1</td>\n",
       "      <td>2019</td>\n",
       "      <td>19.4827</td>\n",
       "      <td>-99.094521</td>\n",
       "      <td>GUSTAVO A MADERO</td>\n",
       "      <td>12</td>\n",
       "      <td>147</td>\n",
       "      <td>16</td>\n",
       "      <td>0.06655</td>\n",
       "      <td>0.2352</td>\n",
       "      <td>0.29817</td>\n",
       "    </tr>\n",
       "    <tr>\n",
       "      <th>9233</th>\n",
       "      <td>9233</td>\n",
       "      <td>7_1_2019_GUSTA</td>\n",
       "      <td>7</td>\n",
       "      <td>1</td>\n",
       "      <td>2019</td>\n",
       "      <td>19.4827</td>\n",
       "      <td>-99.094521</td>\n",
       "      <td>GUSTAVO A MADERO</td>\n",
       "      <td>12</td>\n",
       "      <td>154</td>\n",
       "      <td>56</td>\n",
       "      <td>0.06655</td>\n",
       "      <td>0.2352</td>\n",
       "      <td>0.29817</td>\n",
       "    </tr>\n",
       "    <tr>\n",
       "      <th>...</th>\n",
       "      <td>...</td>\n",
       "      <td>...</td>\n",
       "      <td>...</td>\n",
       "      <td>...</td>\n",
       "      <td>...</td>\n",
       "      <td>...</td>\n",
       "      <td>...</td>\n",
       "      <td>...</td>\n",
       "      <td>...</td>\n",
       "      <td>...</td>\n",
       "      <td>...</td>\n",
       "      <td>...</td>\n",
       "      <td>...</td>\n",
       "      <td>...</td>\n",
       "    </tr>\n",
       "    <tr>\n",
       "      <th>12434</th>\n",
       "      <td>12434</td>\n",
       "      <td>18_12_2019_GUSTA</td>\n",
       "      <td>18</td>\n",
       "      <td>12</td>\n",
       "      <td>2019</td>\n",
       "      <td>19.4827</td>\n",
       "      <td>-99.094521</td>\n",
       "      <td>GUSTAVO A MADERO</td>\n",
       "      <td>12</td>\n",
       "      <td>150</td>\n",
       "      <td>40</td>\n",
       "      <td>0.06655</td>\n",
       "      <td>0.2352</td>\n",
       "      <td>0.29817</td>\n",
       "    </tr>\n",
       "    <tr>\n",
       "      <th>12445</th>\n",
       "      <td>12445</td>\n",
       "      <td>19_12_2019_GUSTA</td>\n",
       "      <td>19</td>\n",
       "      <td>12</td>\n",
       "      <td>2019</td>\n",
       "      <td>19.4827</td>\n",
       "      <td>-99.094521</td>\n",
       "      <td>GUSTAVO A MADERO</td>\n",
       "      <td>12</td>\n",
       "      <td>157</td>\n",
       "      <td>34</td>\n",
       "      <td>0.06655</td>\n",
       "      <td>0.2352</td>\n",
       "      <td>0.29817</td>\n",
       "    </tr>\n",
       "    <tr>\n",
       "      <th>12456</th>\n",
       "      <td>12456</td>\n",
       "      <td>20_12_2019_GUSTA</td>\n",
       "      <td>20</td>\n",
       "      <td>12</td>\n",
       "      <td>2019</td>\n",
       "      <td>19.4827</td>\n",
       "      <td>-99.094521</td>\n",
       "      <td>GUSTAVO A MADERO</td>\n",
       "      <td>12</td>\n",
       "      <td>164</td>\n",
       "      <td>31</td>\n",
       "      <td>0.06655</td>\n",
       "      <td>0.2352</td>\n",
       "      <td>0.29817</td>\n",
       "    </tr>\n",
       "    <tr>\n",
       "      <th>12467</th>\n",
       "      <td>12467</td>\n",
       "      <td>21_12_2019_GUSTA</td>\n",
       "      <td>21</td>\n",
       "      <td>12</td>\n",
       "      <td>2019</td>\n",
       "      <td>19.4827</td>\n",
       "      <td>-99.094521</td>\n",
       "      <td>GUSTAVO A MADERO</td>\n",
       "      <td>12</td>\n",
       "      <td>153</td>\n",
       "      <td>27</td>\n",
       "      <td>0.06655</td>\n",
       "      <td>0.2352</td>\n",
       "      <td>0.29817</td>\n",
       "    </tr>\n",
       "    <tr>\n",
       "      <th>12477</th>\n",
       "      <td>12477</td>\n",
       "      <td>22_12_2019_GUSTA</td>\n",
       "      <td>22</td>\n",
       "      <td>12</td>\n",
       "      <td>2019</td>\n",
       "      <td>19.4827</td>\n",
       "      <td>-99.094521</td>\n",
       "      <td>GUSTAVO A MADERO</td>\n",
       "      <td>12</td>\n",
       "      <td>140</td>\n",
       "      <td>22</td>\n",
       "      <td>0.06655</td>\n",
       "      <td>0.2352</td>\n",
       "      <td>0.29817</td>\n",
       "    </tr>\n",
       "  </tbody>\n",
       "</table>\n",
       "<p>320 rows × 14 columns</p>\n",
       "</div>"
      ],
      "text/plain": [
       "       Unnamed: 0                ID  Dia  Mes  Anio  Latitud   Longitud  \\\n",
       "9189         9189    3_1_2019_GUSTA    3    1  2019  19.4827 -99.094521   \n",
       "9200         9200    4_1_2019_GUSTA    4    1  2019  19.4827 -99.094521   \n",
       "9211         9211    5_1_2019_GUSTA    5    1  2019  19.4827 -99.094521   \n",
       "9222         9222    6_1_2019_GUSTA    6    1  2019  19.4827 -99.094521   \n",
       "9233         9233    7_1_2019_GUSTA    7    1  2019  19.4827 -99.094521   \n",
       "...           ...               ...  ...  ...   ...      ...        ...   \n",
       "12434       12434  18_12_2019_GUSTA   18   12  2019  19.4827 -99.094521   \n",
       "12445       12445  19_12_2019_GUSTA   19   12  2019  19.4827 -99.094521   \n",
       "12456       12456  20_12_2019_GUSTA   20   12  2019  19.4827 -99.094521   \n",
       "12467       12467  21_12_2019_GUSTA   21   12  2019  19.4827 -99.094521   \n",
       "12477       12477  22_12_2019_GUSTA   22   12  2019  19.4827 -99.094521   \n",
       "\n",
       "               Alcaldia  Alcaldia_num  AQI  Crimenes        r  p value  \\\n",
       "9189   GUSTAVO A MADERO            12  150        40  0.06655   0.2352   \n",
       "9200   GUSTAVO A MADERO            12  150        36  0.06655   0.2352   \n",
       "9211   GUSTAVO A MADERO            12  165        28  0.06655   0.2352   \n",
       "9222   GUSTAVO A MADERO            12  147        16  0.06655   0.2352   \n",
       "9233   GUSTAVO A MADERO            12  154        56  0.06655   0.2352   \n",
       "...                 ...           ...  ...       ...      ...      ...   \n",
       "12434  GUSTAVO A MADERO            12  150        40  0.06655   0.2352   \n",
       "12445  GUSTAVO A MADERO            12  157        34  0.06655   0.2352   \n",
       "12456  GUSTAVO A MADERO            12  164        31  0.06655   0.2352   \n",
       "12467  GUSTAVO A MADERO            12  153        27  0.06655   0.2352   \n",
       "12477  GUSTAVO A MADERO            12  140        22  0.06655   0.2352   \n",
       "\n",
       "       % / 10 AQI  \n",
       "9189      0.29817  \n",
       "9200      0.29817  \n",
       "9211      0.29817  \n",
       "9222      0.29817  \n",
       "9233      0.29817  \n",
       "...           ...  \n",
       "12434     0.29817  \n",
       "12445     0.29817  \n",
       "12456     0.29817  \n",
       "12467     0.29817  \n",
       "12477     0.29817  \n",
       "\n",
       "[320 rows x 14 columns]"
      ]
     },
     "execution_count": 13,
     "metadata": {},
     "output_type": "execute_result"
    }
   ],
   "source": [
    "df_all[(df_all[\"Anio\"] == 2019) & (df_all[\"Alcaldia\"] == \"GUSTAVO A MADERO\")]"
   ]
  },
  {
   "cell_type": "code",
   "execution_count": 31,
   "id": "a1c497d2",
   "metadata": {},
   "outputs": [
    {
     "data": {
      "application/vnd.plotly.v1+json": {
       "config": {
        "plotlyServerURL": "https://plot.ly"
       },
       "data": [
        {
         "customdata": [
          [
           0.06655,
           0.2352,
           0.29817,
           "3_1_2019_GUSTA"
          ],
          [
           0.06655,
           0.2352,
           0.29817,
           "4_1_2019_GUSTA"
          ],
          [
           0.06655,
           0.2352,
           0.29817,
           "5_1_2019_GUSTA"
          ],
          [
           0.06655,
           0.2352,
           0.29817,
           "6_1_2019_GUSTA"
          ],
          [
           0.06655,
           0.2352,
           0.29817,
           "7_1_2019_GUSTA"
          ],
          [
           0.06655,
           0.2352,
           0.29817,
           "8_1_2019_GUSTA"
          ],
          [
           0.06655,
           0.2352,
           0.29817,
           "9_1_2019_GUSTA"
          ],
          [
           0.06655,
           0.2352,
           0.29817,
           "10_1_2019_GUSTA"
          ],
          [
           0.06655,
           0.2352,
           0.29817,
           "11_1_2019_GUSTA"
          ],
          [
           0.06655,
           0.2352,
           0.29817,
           "15_1_2019_GUSTA"
          ],
          [
           0.06655,
           0.2352,
           0.29817,
           "16_1_2019_GUSTA"
          ],
          [
           0.06655,
           0.2352,
           0.29817,
           "17_1_2019_GUSTA"
          ],
          [
           0.06655,
           0.2352,
           0.29817,
           "18_1_2019_GUSTA"
          ],
          [
           0.06655,
           0.2352,
           0.29817,
           "19_1_2019_GUSTA"
          ],
          [
           0.06655,
           0.2352,
           0.29817,
           "22_1_2019_GUSTA"
          ],
          [
           0.06655,
           0.2352,
           0.29817,
           "23_1_2019_GUSTA"
          ],
          [
           0.06655,
           0.2352,
           0.29817,
           "24_1_2019_GUSTA"
          ],
          [
           0.06655,
           0.2352,
           0.29817,
           "25_1_2019_GUSTA"
          ],
          [
           0.06655,
           0.2352,
           0.29817,
           "26_1_2019_GUSTA"
          ],
          [
           0.06655,
           0.2352,
           0.29817,
           "27_1_2019_GUSTA"
          ],
          [
           0.06655,
           0.2352,
           0.29817,
           "28_1_2019_GUSTA"
          ],
          [
           0.06655,
           0.2352,
           0.29817,
           "30_1_2019_GUSTA"
          ],
          [
           0.06655,
           0.2352,
           0.29817,
           "31_1_2019_GUSTA"
          ],
          [
           0.06655,
           0.2352,
           0.29817,
           "1_2_2019_GUSTA"
          ],
          [
           0.06655,
           0.2352,
           0.29817,
           "2_2_2019_GUSTA"
          ],
          [
           0.06655,
           0.2352,
           0.29817,
           "3_2_2019_GUSTA"
          ],
          [
           0.06655,
           0.2352,
           0.29817,
           "4_2_2019_GUSTA"
          ],
          [
           0.06655,
           0.2352,
           0.29817,
           "5_2_2019_GUSTA"
          ],
          [
           0.06655,
           0.2352,
           0.29817,
           "6_2_2019_GUSTA"
          ],
          [
           0.06655,
           0.2352,
           0.29817,
           "7_2_2019_GUSTA"
          ],
          [
           0.06655,
           0.2352,
           0.29817,
           "8_2_2019_GUSTA"
          ],
          [
           0.06655,
           0.2352,
           0.29817,
           "9_2_2019_GUSTA"
          ],
          [
           0.06655,
           0.2352,
           0.29817,
           "10_2_2019_GUSTA"
          ],
          [
           0.06655,
           0.2352,
           0.29817,
           "11_2_2019_GUSTA"
          ],
          [
           0.06655,
           0.2352,
           0.29817,
           "12_2_2019_GUSTA"
          ],
          [
           0.06655,
           0.2352,
           0.29817,
           "13_2_2019_GUSTA"
          ],
          [
           0.06655,
           0.2352,
           0.29817,
           "14_2_2019_GUSTA"
          ],
          [
           0.06655,
           0.2352,
           0.29817,
           "15_2_2019_GUSTA"
          ],
          [
           0.06655,
           0.2352,
           0.29817,
           "20_2_2019_GUSTA"
          ],
          [
           0.06655,
           0.2352,
           0.29817,
           "21_2_2019_GUSTA"
          ],
          [
           0.06655,
           0.2352,
           0.29817,
           "22_2_2019_GUSTA"
          ],
          [
           0.06655,
           0.2352,
           0.29817,
           "23_2_2019_GUSTA"
          ],
          [
           0.06655,
           0.2352,
           0.29817,
           "5_3_2019_GUSTA"
          ],
          [
           0.06655,
           0.2352,
           0.29817,
           "6_3_2019_GUSTA"
          ],
          [
           0.06655,
           0.2352,
           0.29817,
           "7_3_2019_GUSTA"
          ],
          [
           0.06655,
           0.2352,
           0.29817,
           "8_3_2019_GUSTA"
          ],
          [
           0.06655,
           0.2352,
           0.29817,
           "9_3_2019_GUSTA"
          ],
          [
           0.06655,
           0.2352,
           0.29817,
           "10_3_2019_GUSTA"
          ],
          [
           0.06655,
           0.2352,
           0.29817,
           "11_3_2019_GUSTA"
          ],
          [
           0.06655,
           0.2352,
           0.29817,
           "12_3_2019_GUSTA"
          ],
          [
           0.06655,
           0.2352,
           0.29817,
           "13_3_2019_GUSTA"
          ],
          [
           0.06655,
           0.2352,
           0.29817,
           "14_3_2019_GUSTA"
          ],
          [
           0.06655,
           0.2352,
           0.29817,
           "15_3_2019_GUSTA"
          ],
          [
           0.06655,
           0.2352,
           0.29817,
           "16_3_2019_GUSTA"
          ],
          [
           0.06655,
           0.2352,
           0.29817,
           "17_3_2019_GUSTA"
          ],
          [
           0.06655,
           0.2352,
           0.29817,
           "18_3_2019_GUSTA"
          ],
          [
           0.06655,
           0.2352,
           0.29817,
           "19_3_2019_GUSTA"
          ],
          [
           0.06655,
           0.2352,
           0.29817,
           "20_3_2019_GUSTA"
          ],
          [
           0.06655,
           0.2352,
           0.29817,
           "21_3_2019_GUSTA"
          ],
          [
           0.06655,
           0.2352,
           0.29817,
           "22_3_2019_GUSTA"
          ],
          [
           0.06655,
           0.2352,
           0.29817,
           "23_3_2019_GUSTA"
          ],
          [
           0.06655,
           0.2352,
           0.29817,
           "24_3_2019_GUSTA"
          ],
          [
           0.06655,
           0.2352,
           0.29817,
           "25_3_2019_GUSTA"
          ],
          [
           0.06655,
           0.2352,
           0.29817,
           "26_3_2019_GUSTA"
          ],
          [
           0.06655,
           0.2352,
           0.29817,
           "27_3_2019_GUSTA"
          ],
          [
           0.06655,
           0.2352,
           0.29817,
           "28_3_2019_GUSTA"
          ],
          [
           0.06655,
           0.2352,
           0.29817,
           "29_3_2019_GUSTA"
          ],
          [
           0.06655,
           0.2352,
           0.29817,
           "30_3_2019_GUSTA"
          ],
          [
           0.06655,
           0.2352,
           0.29817,
           "31_3_2019_GUSTA"
          ],
          [
           0.06655,
           0.2352,
           0.29817,
           "1_4_2019_GUSTA"
          ],
          [
           0.06655,
           0.2352,
           0.29817,
           "2_4_2019_GUSTA"
          ],
          [
           0.06655,
           0.2352,
           0.29817,
           "3_4_2019_GUSTA"
          ],
          [
           0.06655,
           0.2352,
           0.29817,
           "4_4_2019_GUSTA"
          ],
          [
           0.06655,
           0.2352,
           0.29817,
           "5_4_2019_GUSTA"
          ],
          [
           0.06655,
           0.2352,
           0.29817,
           "6_4_2019_GUSTA"
          ],
          [
           0.06655,
           0.2352,
           0.29817,
           "7_4_2019_GUSTA"
          ],
          [
           0.06655,
           0.2352,
           0.29817,
           "8_4_2019_GUSTA"
          ],
          [
           0.06655,
           0.2352,
           0.29817,
           "9_4_2019_GUSTA"
          ],
          [
           0.06655,
           0.2352,
           0.29817,
           "10_4_2019_GUSTA"
          ],
          [
           0.06655,
           0.2352,
           0.29817,
           "12_4_2019_GUSTA"
          ],
          [
           0.06655,
           0.2352,
           0.29817,
           "13_4_2019_GUSTA"
          ],
          [
           0.06655,
           0.2352,
           0.29817,
           "14_4_2019_GUSTA"
          ],
          [
           0.06655,
           0.2352,
           0.29817,
           "15_4_2019_GUSTA"
          ],
          [
           0.06655,
           0.2352,
           0.29817,
           "16_4_2019_GUSTA"
          ],
          [
           0.06655,
           0.2352,
           0.29817,
           "17_4_2019_GUSTA"
          ],
          [
           0.06655,
           0.2352,
           0.29817,
           "18_4_2019_GUSTA"
          ],
          [
           0.06655,
           0.2352,
           0.29817,
           "19_4_2019_GUSTA"
          ],
          [
           0.06655,
           0.2352,
           0.29817,
           "20_4_2019_GUSTA"
          ],
          [
           0.06655,
           0.2352,
           0.29817,
           "24_4_2019_GUSTA"
          ],
          [
           0.06655,
           0.2352,
           0.29817,
           "25_4_2019_GUSTA"
          ],
          [
           0.06655,
           0.2352,
           0.29817,
           "26_4_2019_GUSTA"
          ],
          [
           0.06655,
           0.2352,
           0.29817,
           "27_4_2019_GUSTA"
          ],
          [
           0.06655,
           0.2352,
           0.29817,
           "28_4_2019_GUSTA"
          ],
          [
           0.06655,
           0.2352,
           0.29817,
           "29_4_2019_GUSTA"
          ],
          [
           0.06655,
           0.2352,
           0.29817,
           "30_4_2019_GUSTA"
          ],
          [
           0.06655,
           0.2352,
           0.29817,
           "1_5_2019_GUSTA"
          ],
          [
           0.06655,
           0.2352,
           0.29817,
           "2_5_2019_GUSTA"
          ],
          [
           0.06655,
           0.2352,
           0.29817,
           "3_5_2019_GUSTA"
          ],
          [
           0.06655,
           0.2352,
           0.29817,
           "4_5_2019_GUSTA"
          ],
          [
           0.06655,
           0.2352,
           0.29817,
           "7_5_2019_GUSTA"
          ],
          [
           0.06655,
           0.2352,
           0.29817,
           "8_5_2019_GUSTA"
          ],
          [
           0.06655,
           0.2352,
           0.29817,
           "9_5_2019_GUSTA"
          ],
          [
           0.06655,
           0.2352,
           0.29817,
           "10_5_2019_GUSTA"
          ],
          [
           0.06655,
           0.2352,
           0.29817,
           "11_5_2019_GUSTA"
          ],
          [
           0.06655,
           0.2352,
           0.29817,
           "12_5_2019_GUSTA"
          ],
          [
           0.06655,
           0.2352,
           0.29817,
           "13_5_2019_GUSTA"
          ],
          [
           0.06655,
           0.2352,
           0.29817,
           "14_5_2019_GUSTA"
          ],
          [
           0.06655,
           0.2352,
           0.29817,
           "15_5_2019_GUSTA"
          ],
          [
           0.06655,
           0.2352,
           0.29817,
           "16_5_2019_GUSTA"
          ],
          [
           0.06655,
           0.2352,
           0.29817,
           "17_5_2019_GUSTA"
          ],
          [
           0.06655,
           0.2352,
           0.29817,
           "18_5_2019_GUSTA"
          ],
          [
           0.06655,
           0.2352,
           0.29817,
           "19_5_2019_GUSTA"
          ],
          [
           0.06655,
           0.2352,
           0.29817,
           "20_5_2019_GUSTA"
          ],
          [
           0.06655,
           0.2352,
           0.29817,
           "21_5_2019_GUSTA"
          ],
          [
           0.06655,
           0.2352,
           0.29817,
           "22_5_2019_GUSTA"
          ],
          [
           0.06655,
           0.2352,
           0.29817,
           "23_5_2019_GUSTA"
          ],
          [
           0.06655,
           0.2352,
           0.29817,
           "24_5_2019_GUSTA"
          ],
          [
           0.06655,
           0.2352,
           0.29817,
           "25_5_2019_GUSTA"
          ],
          [
           0.06655,
           0.2352,
           0.29817,
           "26_5_2019_GUSTA"
          ],
          [
           0.06655,
           0.2352,
           0.29817,
           "27_5_2019_GUSTA"
          ],
          [
           0.06655,
           0.2352,
           0.29817,
           "28_5_2019_GUSTA"
          ],
          [
           0.06655,
           0.2352,
           0.29817,
           "7_6_2019_GUSTA"
          ],
          [
           0.06655,
           0.2352,
           0.29817,
           "8_6_2019_GUSTA"
          ],
          [
           0.06655,
           0.2352,
           0.29817,
           "9_6_2019_GUSTA"
          ],
          [
           0.06655,
           0.2352,
           0.29817,
           "10_6_2019_GUSTA"
          ],
          [
           0.06655,
           0.2352,
           0.29817,
           "11_6_2019_GUSTA"
          ],
          [
           0.06655,
           0.2352,
           0.29817,
           "12_6_2019_GUSTA"
          ],
          [
           0.06655,
           0.2352,
           0.29817,
           "13_6_2019_GUSTA"
          ],
          [
           0.06655,
           0.2352,
           0.29817,
           "14_6_2019_GUSTA"
          ],
          [
           0.06655,
           0.2352,
           0.29817,
           "15_6_2019_GUSTA"
          ],
          [
           0.06655,
           0.2352,
           0.29817,
           "16_6_2019_GUSTA"
          ],
          [
           0.06655,
           0.2352,
           0.29817,
           "17_6_2019_GUSTA"
          ],
          [
           0.06655,
           0.2352,
           0.29817,
           "18_6_2019_GUSTA"
          ],
          [
           0.06655,
           0.2352,
           0.29817,
           "19_6_2019_GUSTA"
          ],
          [
           0.06655,
           0.2352,
           0.29817,
           "20_6_2019_GUSTA"
          ],
          [
           0.06655,
           0.2352,
           0.29817,
           "21_6_2019_GUSTA"
          ],
          [
           0.06655,
           0.2352,
           0.29817,
           "22_6_2019_GUSTA"
          ],
          [
           0.06655,
           0.2352,
           0.29817,
           "23_6_2019_GUSTA"
          ],
          [
           0.06655,
           0.2352,
           0.29817,
           "24_6_2019_GUSTA"
          ],
          [
           0.06655,
           0.2352,
           0.29817,
           "25_6_2019_GUSTA"
          ],
          [
           0.06655,
           0.2352,
           0.29817,
           "26_6_2019_GUSTA"
          ],
          [
           0.06655,
           0.2352,
           0.29817,
           "27_6_2019_GUSTA"
          ],
          [
           0.06655,
           0.2352,
           0.29817,
           "28_6_2019_GUSTA"
          ],
          [
           0.06655,
           0.2352,
           0.29817,
           "29_6_2019_GUSTA"
          ],
          [
           0.06655,
           0.2352,
           0.29817,
           "30_6_2019_GUSTA"
          ],
          [
           0.06655,
           0.2352,
           0.29817,
           "1_7_2019_GUSTA"
          ],
          [
           0.06655,
           0.2352,
           0.29817,
           "2_7_2019_GUSTA"
          ],
          [
           0.06655,
           0.2352,
           0.29817,
           "3_7_2019_GUSTA"
          ],
          [
           0.06655,
           0.2352,
           0.29817,
           "4_7_2019_GUSTA"
          ],
          [
           0.06655,
           0.2352,
           0.29817,
           "5_7_2019_GUSTA"
          ],
          [
           0.06655,
           0.2352,
           0.29817,
           "6_7_2019_GUSTA"
          ],
          [
           0.06655,
           0.2352,
           0.29817,
           "7_7_2019_GUSTA"
          ],
          [
           0.06655,
           0.2352,
           0.29817,
           "8_7_2019_GUSTA"
          ],
          [
           0.06655,
           0.2352,
           0.29817,
           "9_7_2019_GUSTA"
          ],
          [
           0.06655,
           0.2352,
           0.29817,
           "10_7_2019_GUSTA"
          ],
          [
           0.06655,
           0.2352,
           0.29817,
           "11_7_2019_GUSTA"
          ],
          [
           0.06655,
           0.2352,
           0.29817,
           "12_7_2019_GUSTA"
          ],
          [
           0.06655,
           0.2352,
           0.29817,
           "13_7_2019_GUSTA"
          ],
          [
           0.06655,
           0.2352,
           0.29817,
           "14_7_2019_GUSTA"
          ],
          [
           0.06655,
           0.2352,
           0.29817,
           "15_7_2019_GUSTA"
          ],
          [
           0.06655,
           0.2352,
           0.29817,
           "16_7_2019_GUSTA"
          ],
          [
           0.06655,
           0.2352,
           0.29817,
           "17_7_2019_GUSTA"
          ],
          [
           0.06655,
           0.2352,
           0.29817,
           "18_7_2019_GUSTA"
          ],
          [
           0.06655,
           0.2352,
           0.29817,
           "19_7_2019_GUSTA"
          ],
          [
           0.06655,
           0.2352,
           0.29817,
           "20_7_2019_GUSTA"
          ],
          [
           0.06655,
           0.2352,
           0.29817,
           "21_7_2019_GUSTA"
          ],
          [
           0.06655,
           0.2352,
           0.29817,
           "22_7_2019_GUSTA"
          ],
          [
           0.06655,
           0.2352,
           0.29817,
           "23_7_2019_GUSTA"
          ],
          [
           0.06655,
           0.2352,
           0.29817,
           "24_7_2019_GUSTA"
          ],
          [
           0.06655,
           0.2352,
           0.29817,
           "25_7_2019_GUSTA"
          ],
          [
           0.06655,
           0.2352,
           0.29817,
           "26_7_2019_GUSTA"
          ],
          [
           0.06655,
           0.2352,
           0.29817,
           "27_7_2019_GUSTA"
          ],
          [
           0.06655,
           0.2352,
           0.29817,
           "28_7_2019_GUSTA"
          ],
          [
           0.06655,
           0.2352,
           0.29817,
           "29_7_2019_GUSTA"
          ],
          [
           0.06655,
           0.2352,
           0.29817,
           "30_7_2019_GUSTA"
          ],
          [
           0.06655,
           0.2352,
           0.29817,
           "31_7_2019_GUSTA"
          ],
          [
           0.06655,
           0.2352,
           0.29817,
           "1_8_2019_GUSTA"
          ],
          [
           0.06655,
           0.2352,
           0.29817,
           "2_8_2019_GUSTA"
          ],
          [
           0.06655,
           0.2352,
           0.29817,
           "3_8_2019_GUSTA"
          ],
          [
           0.06655,
           0.2352,
           0.29817,
           "4_8_2019_GUSTA"
          ],
          [
           0.06655,
           0.2352,
           0.29817,
           "5_8_2019_GUSTA"
          ],
          [
           0.06655,
           0.2352,
           0.29817,
           "6_8_2019_GUSTA"
          ],
          [
           0.06655,
           0.2352,
           0.29817,
           "7_8_2019_GUSTA"
          ],
          [
           0.06655,
           0.2352,
           0.29817,
           "8_8_2019_GUSTA"
          ],
          [
           0.06655,
           0.2352,
           0.29817,
           "9_8_2019_GUSTA"
          ],
          [
           0.06655,
           0.2352,
           0.29817,
           "10_8_2019_GUSTA"
          ],
          [
           0.06655,
           0.2352,
           0.29817,
           "11_8_2019_GUSTA"
          ],
          [
           0.06655,
           0.2352,
           0.29817,
           "12_8_2019_GUSTA"
          ],
          [
           0.06655,
           0.2352,
           0.29817,
           "13_8_2019_GUSTA"
          ],
          [
           0.06655,
           0.2352,
           0.29817,
           "14_8_2019_GUSTA"
          ],
          [
           0.06655,
           0.2352,
           0.29817,
           "15_8_2019_GUSTA"
          ],
          [
           0.06655,
           0.2352,
           0.29817,
           "16_8_2019_GUSTA"
          ],
          [
           0.06655,
           0.2352,
           0.29817,
           "17_8_2019_GUSTA"
          ],
          [
           0.06655,
           0.2352,
           0.29817,
           "18_8_2019_GUSTA"
          ],
          [
           0.06655,
           0.2352,
           0.29817,
           "19_8_2019_GUSTA"
          ],
          [
           0.06655,
           0.2352,
           0.29817,
           "20_8_2019_GUSTA"
          ],
          [
           0.06655,
           0.2352,
           0.29817,
           "21_8_2019_GUSTA"
          ],
          [
           0.06655,
           0.2352,
           0.29817,
           "22_8_2019_GUSTA"
          ],
          [
           0.06655,
           0.2352,
           0.29817,
           "23_8_2019_GUSTA"
          ],
          [
           0.06655,
           0.2352,
           0.29817,
           "24_8_2019_GUSTA"
          ],
          [
           0.06655,
           0.2352,
           0.29817,
           "25_8_2019_GUSTA"
          ],
          [
           0.06655,
           0.2352,
           0.29817,
           "26_8_2019_GUSTA"
          ],
          [
           0.06655,
           0.2352,
           0.29817,
           "27_8_2019_GUSTA"
          ],
          [
           0.06655,
           0.2352,
           0.29817,
           "28_8_2019_GUSTA"
          ],
          [
           0.06655,
           0.2352,
           0.29817,
           "29_8_2019_GUSTA"
          ],
          [
           0.06655,
           0.2352,
           0.29817,
           "30_8_2019_GUSTA"
          ],
          [
           0.06655,
           0.2352,
           0.29817,
           "31_8_2019_GUSTA"
          ],
          [
           0.06655,
           0.2352,
           0.29817,
           "1_9_2019_GUSTA"
          ],
          [
           0.06655,
           0.2352,
           0.29817,
           "2_9_2019_GUSTA"
          ],
          [
           0.06655,
           0.2352,
           0.29817,
           "3_9_2019_GUSTA"
          ],
          [
           0.06655,
           0.2352,
           0.29817,
           "4_9_2019_GUSTA"
          ],
          [
           0.06655,
           0.2352,
           0.29817,
           "5_9_2019_GUSTA"
          ],
          [
           0.06655,
           0.2352,
           0.29817,
           "6_9_2019_GUSTA"
          ],
          [
           0.06655,
           0.2352,
           0.29817,
           "7_9_2019_GUSTA"
          ],
          [
           0.06655,
           0.2352,
           0.29817,
           "8_9_2019_GUSTA"
          ],
          [
           0.06655,
           0.2352,
           0.29817,
           "9_9_2019_GUSTA"
          ],
          [
           0.06655,
           0.2352,
           0.29817,
           "10_9_2019_GUSTA"
          ],
          [
           0.06655,
           0.2352,
           0.29817,
           "11_9_2019_GUSTA"
          ],
          [
           0.06655,
           0.2352,
           0.29817,
           "12_9_2019_GUSTA"
          ],
          [
           0.06655,
           0.2352,
           0.29817,
           "13_9_2019_GUSTA"
          ],
          [
           0.06655,
           0.2352,
           0.29817,
           "14_9_2019_GUSTA"
          ],
          [
           0.06655,
           0.2352,
           0.29817,
           "15_9_2019_GUSTA"
          ],
          [
           0.06655,
           0.2352,
           0.29817,
           "16_9_2019_GUSTA"
          ],
          [
           0.06655,
           0.2352,
           0.29817,
           "17_9_2019_GUSTA"
          ],
          [
           0.06655,
           0.2352,
           0.29817,
           "18_9_2019_GUSTA"
          ],
          [
           0.06655,
           0.2352,
           0.29817,
           "19_9_2019_GUSTA"
          ],
          [
           0.06655,
           0.2352,
           0.29817,
           "20_9_2019_GUSTA"
          ],
          [
           0.06655,
           0.2352,
           0.29817,
           "21_9_2019_GUSTA"
          ],
          [
           0.06655,
           0.2352,
           0.29817,
           "22_9_2019_GUSTA"
          ],
          [
           0.06655,
           0.2352,
           0.29817,
           "23_9_2019_GUSTA"
          ],
          [
           0.06655,
           0.2352,
           0.29817,
           "24_9_2019_GUSTA"
          ],
          [
           0.06655,
           0.2352,
           0.29817,
           "25_9_2019_GUSTA"
          ],
          [
           0.06655,
           0.2352,
           0.29817,
           "26_9_2019_GUSTA"
          ],
          [
           0.06655,
           0.2352,
           0.29817,
           "27_9_2019_GUSTA"
          ],
          [
           0.06655,
           0.2352,
           0.29817,
           "28_9_2019_GUSTA"
          ],
          [
           0.06655,
           0.2352,
           0.29817,
           "29_9_2019_GUSTA"
          ],
          [
           0.06655,
           0.2352,
           0.29817,
           "30_9_2019_GUSTA"
          ],
          [
           0.06655,
           0.2352,
           0.29817,
           "1_10_2019_GUSTA"
          ],
          [
           0.06655,
           0.2352,
           0.29817,
           "2_10_2019_GUSTA"
          ],
          [
           0.06655,
           0.2352,
           0.29817,
           "3_10_2019_GUSTA"
          ],
          [
           0.06655,
           0.2352,
           0.29817,
           "4_10_2019_GUSTA"
          ],
          [
           0.06655,
           0.2352,
           0.29817,
           "5_10_2019_GUSTA"
          ],
          [
           0.06655,
           0.2352,
           0.29817,
           "6_10_2019_GUSTA"
          ],
          [
           0.06655,
           0.2352,
           0.29817,
           "7_10_2019_GUSTA"
          ],
          [
           0.06655,
           0.2352,
           0.29817,
           "8_10_2019_GUSTA"
          ],
          [
           0.06655,
           0.2352,
           0.29817,
           "9_10_2019_GUSTA"
          ],
          [
           0.06655,
           0.2352,
           0.29817,
           "10_10_2019_GUSTA"
          ],
          [
           0.06655,
           0.2352,
           0.29817,
           "11_10_2019_GUSTA"
          ],
          [
           0.06655,
           0.2352,
           0.29817,
           "12_10_2019_GUSTA"
          ],
          [
           0.06655,
           0.2352,
           0.29817,
           "13_10_2019_GUSTA"
          ],
          [
           0.06655,
           0.2352,
           0.29817,
           "14_10_2019_GUSTA"
          ],
          [
           0.06655,
           0.2352,
           0.29817,
           "15_10_2019_GUSTA"
          ],
          [
           0.06655,
           0.2352,
           0.29817,
           "16_10_2019_GUSTA"
          ],
          [
           0.06655,
           0.2352,
           0.29817,
           "17_10_2019_GUSTA"
          ],
          [
           0.06655,
           0.2352,
           0.29817,
           "18_10_2019_GUSTA"
          ],
          [
           0.06655,
           0.2352,
           0.29817,
           "19_10_2019_GUSTA"
          ],
          [
           0.06655,
           0.2352,
           0.29817,
           "20_10_2019_GUSTA"
          ],
          [
           0.06655,
           0.2352,
           0.29817,
           "21_10_2019_GUSTA"
          ],
          [
           0.06655,
           0.2352,
           0.29817,
           "22_10_2019_GUSTA"
          ],
          [
           0.06655,
           0.2352,
           0.29817,
           "23_10_2019_GUSTA"
          ],
          [
           0.06655,
           0.2352,
           0.29817,
           "24_10_2019_GUSTA"
          ],
          [
           0.06655,
           0.2352,
           0.29817,
           "25_10_2019_GUSTA"
          ],
          [
           0.06655,
           0.2352,
           0.29817,
           "26_10_2019_GUSTA"
          ],
          [
           0.06655,
           0.2352,
           0.29817,
           "27_10_2019_GUSTA"
          ],
          [
           0.06655,
           0.2352,
           0.29817,
           "28_10_2019_GUSTA"
          ],
          [
           0.06655,
           0.2352,
           0.29817,
           "29_10_2019_GUSTA"
          ],
          [
           0.06655,
           0.2352,
           0.29817,
           "30_10_2019_GUSTA"
          ],
          [
           0.06655,
           0.2352,
           0.29817,
           "31_10_2019_GUSTA"
          ],
          [
           0.06655,
           0.2352,
           0.29817,
           "1_11_2019_GUSTA"
          ],
          [
           0.06655,
           0.2352,
           0.29817,
           "2_11_2019_GUSTA"
          ],
          [
           0.06655,
           0.2352,
           0.29817,
           "3_11_2019_GUSTA"
          ],
          [
           0.06655,
           0.2352,
           0.29817,
           "4_11_2019_GUSTA"
          ],
          [
           0.06655,
           0.2352,
           0.29817,
           "5_11_2019_GUSTA"
          ],
          [
           0.06655,
           0.2352,
           0.29817,
           "6_11_2019_GUSTA"
          ],
          [
           0.06655,
           0.2352,
           0.29817,
           "7_11_2019_GUSTA"
          ],
          [
           0.06655,
           0.2352,
           0.29817,
           "8_11_2019_GUSTA"
          ],
          [
           0.06655,
           0.2352,
           0.29817,
           "9_11_2019_GUSTA"
          ],
          [
           0.06655,
           0.2352,
           0.29817,
           "10_11_2019_GUSTA"
          ],
          [
           0.06655,
           0.2352,
           0.29817,
           "11_11_2019_GUSTA"
          ],
          [
           0.06655,
           0.2352,
           0.29817,
           "12_11_2019_GUSTA"
          ],
          [
           0.06655,
           0.2352,
           0.29817,
           "13_11_2019_GUSTA"
          ],
          [
           0.06655,
           0.2352,
           0.29817,
           "14_11_2019_GUSTA"
          ],
          [
           0.06655,
           0.2352,
           0.29817,
           "15_11_2019_GUSTA"
          ],
          [
           0.06655,
           0.2352,
           0.29817,
           "16_11_2019_GUSTA"
          ],
          [
           0.06655,
           0.2352,
           0.29817,
           "17_11_2019_GUSTA"
          ],
          [
           0.06655,
           0.2352,
           0.29817,
           "18_11_2019_GUSTA"
          ],
          [
           0.06655,
           0.2352,
           0.29817,
           "19_11_2019_GUSTA"
          ],
          [
           0.06655,
           0.2352,
           0.29817,
           "20_11_2019_GUSTA"
          ],
          [
           0.06655,
           0.2352,
           0.29817,
           "21_11_2019_GUSTA"
          ],
          [
           0.06655,
           0.2352,
           0.29817,
           "22_11_2019_GUSTA"
          ],
          [
           0.06655,
           0.2352,
           0.29817,
           "23_11_2019_GUSTA"
          ],
          [
           0.06655,
           0.2352,
           0.29817,
           "24_11_2019_GUSTA"
          ],
          [
           0.06655,
           0.2352,
           0.29817,
           "25_11_2019_GUSTA"
          ],
          [
           0.06655,
           0.2352,
           0.29817,
           "26_11_2019_GUSTA"
          ],
          [
           0.06655,
           0.2352,
           0.29817,
           "27_11_2019_GUSTA"
          ],
          [
           0.06655,
           0.2352,
           0.29817,
           "28_11_2019_GUSTA"
          ],
          [
           0.06655,
           0.2352,
           0.29817,
           "29_11_2019_GUSTA"
          ],
          [
           0.06655,
           0.2352,
           0.29817,
           "30_11_2019_GUSTA"
          ],
          [
           0.06655,
           0.2352,
           0.29817,
           "1_12_2019_GUSTA"
          ],
          [
           0.06655,
           0.2352,
           0.29817,
           "2_12_2019_GUSTA"
          ],
          [
           0.06655,
           0.2352,
           0.29817,
           "3_12_2019_GUSTA"
          ],
          [
           0.06655,
           0.2352,
           0.29817,
           "4_12_2019_GUSTA"
          ],
          [
           0.06655,
           0.2352,
           0.29817,
           "5_12_2019_GUSTA"
          ],
          [
           0.06655,
           0.2352,
           0.29817,
           "6_12_2019_GUSTA"
          ],
          [
           0.06655,
           0.2352,
           0.29817,
           "7_12_2019_GUSTA"
          ],
          [
           0.06655,
           0.2352,
           0.29817,
           "8_12_2019_GUSTA"
          ],
          [
           0.06655,
           0.2352,
           0.29817,
           "9_12_2019_GUSTA"
          ],
          [
           0.06655,
           0.2352,
           0.29817,
           "10_12_2019_GUSTA"
          ],
          [
           0.06655,
           0.2352,
           0.29817,
           "11_12_2019_GUSTA"
          ],
          [
           0.06655,
           0.2352,
           0.29817,
           "12_12_2019_GUSTA"
          ],
          [
           0.06655,
           0.2352,
           0.29817,
           "13_12_2019_GUSTA"
          ],
          [
           0.06655,
           0.2352,
           0.29817,
           "14_12_2019_GUSTA"
          ],
          [
           0.06655,
           0.2352,
           0.29817,
           "15_12_2019_GUSTA"
          ],
          [
           0.06655,
           0.2352,
           0.29817,
           "16_12_2019_GUSTA"
          ],
          [
           0.06655,
           0.2352,
           0.29817,
           "17_12_2019_GUSTA"
          ],
          [
           0.06655,
           0.2352,
           0.29817,
           "18_12_2019_GUSTA"
          ],
          [
           0.06655,
           0.2352,
           0.29817,
           "19_12_2019_GUSTA"
          ],
          [
           0.06655,
           0.2352,
           0.29817,
           "20_12_2019_GUSTA"
          ],
          [
           0.06655,
           0.2352,
           0.29817,
           "21_12_2019_GUSTA"
          ],
          [
           0.06655,
           0.2352,
           0.29817,
           "22_12_2019_GUSTA"
          ]
         ],
         "hovertemplate": "AQI=%{x}<br>Crimenes=%{y}<br>r=%{customdata[0]}<br>p value=%{customdata[1]}<br>% / 10 AQI=%{customdata[2]}<br>ID=%{customdata[3]}<extra></extra>",
         "legendgroup": "",
         "marker": {
          "color": "#636efa",
          "symbol": "circle"
         },
         "mode": "markers",
         "name": "",
         "orientation": "v",
         "showlegend": false,
         "type": "scatter",
         "x": [
          150,
          150,
          165,
          147,
          154,
          146,
          141,
          111,
          142,
          140,
          142,
          147,
          138,
          133,
          151,
          135,
          129,
          132,
          120,
          77,
          139,
          106,
          121,
          140,
          156,
          151,
          151,
          159,
          160,
          163,
          108,
          119,
          123,
          144,
          146,
          123,
          125,
          140,
          115,
          94,
          109,
          113,
          133,
          120,
          135,
          142,
          150,
          155,
          156,
          150,
          142,
          149,
          147,
          125,
          137,
          112,
          119,
          131,
          125,
          120,
          120,
          116,
          121,
          115,
          114,
          118,
          148,
          161,
          152,
          141,
          154,
          143,
          145,
          148,
          139,
          121,
          139,
          94,
          129,
          141,
          124,
          162,
          160,
          157,
          154,
          134,
          117,
          75,
          158,
          156,
          152,
          154,
          152,
          146,
          116,
          104,
          105,
          133,
          156,
          158,
          150,
          146,
          135,
          167,
          174,
          176,
          171,
          172,
          164,
          129,
          142,
          128,
          136,
          143,
          129,
          140,
          130,
          135,
          103,
          130,
          141,
          89,
          108,
          91,
          99,
          65,
          108,
          60,
          66,
          102,
          102,
          110,
          100,
          90,
          112,
          114,
          112,
          103,
          58,
          72,
          101,
          78,
          76,
          63,
          82,
          84,
          93,
          79,
          110,
          119,
          95,
          94,
          102,
          106,
          90,
          101,
          85,
          86,
          103,
          101,
          88,
          98,
          110,
          89,
          112,
          73,
          86,
          80,
          90,
          93,
          77,
          69,
          86,
          102,
          120,
          113,
          98,
          103,
          97,
          83,
          82,
          81,
          62,
          69,
          115,
          73,
          64,
          60,
          86,
          82,
          85,
          97,
          103,
          100,
          72,
          80,
          96,
          103,
          118,
          104,
          98,
          98,
          111,
          103,
          109,
          108,
          99,
          89,
          87,
          84,
          111,
          95,
          107,
          101,
          81,
          92,
          85,
          78,
          75,
          56,
          43,
          66,
          88,
          94,
          65,
          93,
          123,
          89,
          82,
          98,
          116,
          114,
          112,
          85,
          84,
          55,
          57,
          73,
          72,
          79,
          76,
          84,
          76,
          66,
          49,
          59,
          99,
          87,
          68,
          95,
          95,
          106,
          70,
          44,
          63,
          71,
          47,
          73,
          81,
          83,
          100,
          106,
          86,
          119,
          136,
          113,
          118,
          75,
          106,
          94,
          63,
          109,
          108,
          89,
          100,
          78,
          57,
          97,
          112,
          90,
          80,
          86,
          99,
          131,
          111,
          87,
          124,
          136,
          135,
          136,
          138,
          135,
          148,
          134,
          147,
          148,
          138,
          138,
          125,
          121,
          125,
          134,
          152,
          133,
          123,
          145,
          154,
          149,
          143,
          136,
          141,
          143,
          149,
          133,
          141,
          150,
          157,
          164,
          153,
          140
         ],
         "xaxis": "x",
         "y": [
          40,
          36,
          28,
          16,
          56,
          46,
          34,
          34,
          39,
          50,
          46,
          44,
          36,
          38,
          32,
          34,
          32,
          32,
          28,
          30,
          38,
          34,
          37,
          37,
          32,
          38,
          38,
          50,
          30,
          52,
          56,
          44,
          15,
          60,
          32,
          30,
          38,
          48,
          30,
          42,
          38,
          38,
          46,
          40,
          38,
          44,
          32,
          32,
          32,
          28,
          32,
          42,
          42,
          32,
          26,
          32,
          44,
          42,
          40,
          36,
          42,
          34,
          28,
          26,
          64,
          24,
          46,
          38,
          22,
          46,
          22,
          38,
          37,
          62,
          32,
          38,
          24,
          30,
          38,
          38,
          32,
          34,
          40,
          30,
          32,
          26,
          30,
          26,
          48,
          34,
          22,
          38,
          36,
          28,
          28,
          42,
          34,
          40,
          42,
          50,
          56,
          22,
          32,
          48,
          34,
          68,
          34,
          56,
          28,
          39,
          24,
          42,
          56,
          34,
          36,
          62,
          50,
          36,
          46,
          46,
          20,
          22,
          30,
          36,
          39,
          30,
          30,
          10,
          54,
          31,
          32,
          38,
          46,
          36,
          34,
          48,
          30,
          45,
          46,
          36,
          22,
          20,
          38,
          38,
          32,
          35,
          32,
          34,
          34,
          24,
          48,
          28,
          40,
          22,
          42,
          28,
          30,
          28,
          24,
          46,
          32,
          34,
          46,
          32,
          31,
          34,
          22,
          32,
          28,
          46,
          34,
          46,
          34,
          36,
          28,
          24,
          35,
          26,
          34,
          32,
          26,
          38,
          30,
          46,
          28,
          50,
          34,
          28,
          30,
          46,
          28,
          42,
          38,
          28,
          44,
          48,
          32,
          20,
          32,
          34,
          32,
          46,
          28,
          26,
          24,
          37,
          40,
          60,
          26,
          38,
          38,
          42,
          48,
          43,
          48,
          42,
          38,
          22,
          25,
          28,
          37,
          23,
          46,
          56,
          38,
          38,
          50,
          36,
          46,
          26,
          26,
          28,
          32,
          56,
          36,
          30,
          32,
          31,
          35,
          38,
          30,
          34,
          46,
          32,
          44,
          44,
          42,
          48,
          40,
          42,
          42,
          44,
          34,
          30,
          44,
          28,
          29,
          40,
          38,
          33,
          31,
          26,
          38,
          28,
          18,
          24,
          38,
          42,
          42,
          32,
          24,
          40,
          36,
          30,
          26,
          38,
          32,
          34,
          43,
          36,
          48,
          32,
          34,
          33,
          25,
          28,
          22,
          30,
          22,
          50,
          28,
          30,
          24,
          34,
          42,
          32,
          40,
          46,
          44,
          50,
          35,
          38,
          24,
          24,
          24,
          26,
          24,
          46,
          26,
          39,
          41,
          39,
          29,
          34,
          25,
          40,
          34,
          31,
          27,
          22
         ],
         "yaxis": "y"
        },
        {
         "hovertemplate": "<b>OLS trendline</b><br>Crimenes = 0.0202757 * AQI + 33.4564<br>R<sup>2</sup>=0.004428<br><br>AQI=%{x}<br>Crimenes=%{y} <b>(trend)</b><extra></extra>",
         "legendgroup": "",
         "marker": {
          "color": "#636efa",
          "symbol": "circle"
         },
         "mode": "lines",
         "name": "",
         "showlegend": false,
         "type": "scatter",
         "x": [
          43,
          44,
          47,
          49,
          55,
          56,
          57,
          57,
          58,
          59,
          60,
          60,
          62,
          63,
          63,
          63,
          64,
          65,
          65,
          66,
          66,
          66,
          68,
          69,
          69,
          70,
          71,
          72,
          72,
          72,
          73,
          73,
          73,
          73,
          75,
          75,
          75,
          76,
          76,
          76,
          77,
          77,
          78,
          78,
          78,
          79,
          79,
          80,
          80,
          80,
          81,
          81,
          81,
          82,
          82,
          82,
          82,
          83,
          83,
          84,
          84,
          84,
          84,
          85,
          85,
          85,
          85,
          86,
          86,
          86,
          86,
          86,
          86,
          87,
          87,
          87,
          88,
          88,
          89,
          89,
          89,
          89,
          89,
          90,
          90,
          90,
          90,
          91,
          92,
          93,
          93,
          93,
          94,
          94,
          94,
          94,
          94,
          95,
          95,
          95,
          95,
          96,
          97,
          97,
          97,
          98,
          98,
          98,
          98,
          98,
          99,
          99,
          99,
          99,
          100,
          100,
          100,
          100,
          101,
          101,
          101,
          101,
          102,
          102,
          102,
          102,
          103,
          103,
          103,
          103,
          103,
          103,
          103,
          104,
          104,
          105,
          106,
          106,
          106,
          106,
          106,
          107,
          108,
          108,
          108,
          108,
          108,
          109,
          109,
          109,
          110,
          110,
          110,
          111,
          111,
          111,
          111,
          112,
          112,
          112,
          112,
          112,
          112,
          113,
          113,
          113,
          114,
          114,
          114,
          115,
          115,
          115,
          116,
          116,
          116,
          117,
          118,
          118,
          118,
          119,
          119,
          119,
          119,
          120,
          120,
          120,
          120,
          120,
          121,
          121,
          121,
          121,
          123,
          123,
          123,
          123,
          124,
          124,
          125,
          125,
          125,
          125,
          125,
          128,
          129,
          129,
          129,
          129,
          130,
          130,
          131,
          131,
          132,
          133,
          133,
          133,
          133,
          133,
          134,
          134,
          134,
          135,
          135,
          135,
          135,
          135,
          135,
          136,
          136,
          136,
          136,
          136,
          137,
          138,
          138,
          138,
          138,
          139,
          139,
          139,
          140,
          140,
          140,
          140,
          140,
          141,
          141,
          141,
          141,
          141,
          141,
          142,
          142,
          142,
          142,
          142,
          143,
          143,
          143,
          143,
          144,
          145,
          145,
          146,
          146,
          146,
          146,
          147,
          147,
          147,
          147,
          148,
          148,
          148,
          148,
          149,
          149,
          149,
          150,
          150,
          150,
          150,
          150,
          150,
          151,
          151,
          151,
          152,
          152,
          152,
          152,
          153,
          154,
          154,
          154,
          154,
          154,
          155,
          156,
          156,
          156,
          156,
          157,
          157,
          158,
          158,
          159,
          160,
          160,
          161,
          162,
          163,
          164,
          164,
          165,
          167,
          171,
          172,
          174,
          176
         ],
         "xaxis": "x",
         "y": [
          34.328274534365434,
          34.3485502121091,
          34.40937724534012,
          34.44992860082746,
          34.57158266728949,
          34.59185834503316,
          34.612134022776836,
          34.612134022776836,
          34.632409700520505,
          34.652685378264174,
          34.67296105600785,
          34.67296105600785,
          34.71351241149519,
          34.733788089238864,
          34.733788089238864,
          34.733788089238864,
          34.75406376698253,
          34.7743394447262,
          34.7743394447262,
          34.79461512246988,
          34.79461512246988,
          34.79461512246988,
          34.835166477957216,
          34.855442155700885,
          34.855442155700885,
          34.87571783344456,
          34.89599351118823,
          34.9162691889319,
          34.9162691889319,
          34.9162691889319,
          34.936544866675575,
          34.936544866675575,
          34.936544866675575,
          34.936544866675575,
          34.97709622216291,
          34.97709622216291,
          34.97709622216291,
          34.99737189990659,
          34.99737189990659,
          34.99737189990659,
          35.01764757765026,
          35.01764757765026,
          35.03792325539393,
          35.03792325539393,
          35.03792325539393,
          35.058198933137604,
          35.058198933137604,
          35.07847461088127,
          35.07847461088127,
          35.07847461088127,
          35.09875028862494,
          35.09875028862494,
          35.09875028862494,
          35.11902596636862,
          35.11902596636862,
          35.11902596636862,
          35.11902596636862,
          35.13930164411229,
          35.13930164411229,
          35.159577321855956,
          35.159577321855956,
          35.159577321855956,
          35.159577321855956,
          35.17985299959963,
          35.17985299959963,
          35.17985299959963,
          35.17985299959963,
          35.2001286773433,
          35.2001286773433,
          35.2001286773433,
          35.2001286773433,
          35.2001286773433,
          35.2001286773433,
          35.22040435508697,
          35.22040435508697,
          35.22040435508697,
          35.240680032830646,
          35.240680032830646,
          35.260955710574315,
          35.260955710574315,
          35.260955710574315,
          35.260955710574315,
          35.260955710574315,
          35.281231388317984,
          35.281231388317984,
          35.281231388317984,
          35.281231388317984,
          35.30150706606166,
          35.32178274380533,
          35.342058421549,
          35.342058421549,
          35.342058421549,
          35.362334099292674,
          35.362334099292674,
          35.362334099292674,
          35.362334099292674,
          35.362334099292674,
          35.38260977703634,
          35.38260977703634,
          35.38260977703634,
          35.38260977703634,
          35.40288545478001,
          35.42316113252369,
          35.42316113252369,
          35.42316113252369,
          35.44343681026736,
          35.44343681026736,
          35.44343681026736,
          35.44343681026736,
          35.44343681026736,
          35.463712488011026,
          35.463712488011026,
          35.463712488011026,
          35.463712488011026,
          35.4839881657547,
          35.4839881657547,
          35.4839881657547,
          35.4839881657547,
          35.50426384349837,
          35.50426384349837,
          35.50426384349837,
          35.50426384349837,
          35.52453952124204,
          35.52453952124204,
          35.52453952124204,
          35.52453952124204,
          35.54481519898572,
          35.54481519898572,
          35.54481519898572,
          35.54481519898572,
          35.54481519898572,
          35.54481519898572,
          35.54481519898572,
          35.565090876729386,
          35.565090876729386,
          35.585366554473055,
          35.605642232216724,
          35.605642232216724,
          35.605642232216724,
          35.605642232216724,
          35.605642232216724,
          35.6259179099604,
          35.64619358770407,
          35.64619358770407,
          35.64619358770407,
          35.64619358770407,
          35.64619358770407,
          35.666469265447745,
          35.666469265447745,
          35.666469265447745,
          35.686744943191414,
          35.686744943191414,
          35.686744943191414,
          35.70702062093508,
          35.70702062093508,
          35.70702062093508,
          35.70702062093508,
          35.72729629867875,
          35.72729629867875,
          35.72729629867875,
          35.72729629867875,
          35.72729629867875,
          35.72729629867875,
          35.74757197642243,
          35.74757197642243,
          35.74757197642243,
          35.7678476541661,
          35.7678476541661,
          35.7678476541661,
          35.788123331909766,
          35.788123331909766,
          35.788123331909766,
          35.80839900965344,
          35.80839900965344,
          35.80839900965344,
          35.82867468739711,
          35.84895036514078,
          35.84895036514078,
          35.84895036514078,
          35.869226042884456,
          35.869226042884456,
          35.869226042884456,
          35.869226042884456,
          35.889501720628125,
          35.889501720628125,
          35.889501720628125,
          35.889501720628125,
          35.889501720628125,
          35.909777398371794,
          35.909777398371794,
          35.909777398371794,
          35.909777398371794,
          35.95032875385914,
          35.95032875385914,
          35.95032875385914,
          35.95032875385914,
          35.97060443160281,
          35.97060443160281,
          35.990880109346485,
          35.990880109346485,
          35.990880109346485,
          35.990880109346485,
          35.990880109346485,
          36.0517071425775,
          36.07198282032117,
          36.07198282032117,
          36.07198282032117,
          36.07198282032117,
          36.09225849806484,
          36.09225849806484,
          36.11253417580851,
          36.11253417580851,
          36.13280985355218,
          36.15308553129585,
          36.15308553129585,
          36.15308553129585,
          36.15308553129585,
          36.15308553129585,
          36.17336120903953,
          36.17336120903953,
          36.17336120903953,
          36.193636886783196,
          36.193636886783196,
          36.193636886783196,
          36.193636886783196,
          36.193636886783196,
          36.193636886783196,
          36.213912564526865,
          36.213912564526865,
          36.213912564526865,
          36.213912564526865,
          36.213912564526865,
          36.23418824227054,
          36.25446392001421,
          36.25446392001421,
          36.25446392001421,
          36.25446392001421,
          36.27473959775788,
          36.27473959775788,
          36.27473959775788,
          36.295015275501555,
          36.295015275501555,
          36.295015275501555,
          36.295015275501555,
          36.295015275501555,
          36.315290953245224,
          36.315290953245224,
          36.315290953245224,
          36.315290953245224,
          36.315290953245224,
          36.315290953245224,
          36.33556663098889,
          36.33556663098889,
          36.33556663098889,
          36.33556663098889,
          36.33556663098889,
          36.35584230873257,
          36.35584230873257,
          36.35584230873257,
          36.35584230873257,
          36.37611798647624,
          36.39639366421991,
          36.39639366421991,
          36.41666934196358,
          36.41666934196358,
          36.41666934196358,
          36.41666934196358,
          36.43694501970725,
          36.43694501970725,
          36.43694501970725,
          36.43694501970725,
          36.45722069745092,
          36.45722069745092,
          36.45722069745092,
          36.45722069745092,
          36.47749637519459,
          36.47749637519459,
          36.47749637519459,
          36.49777205293827,
          36.49777205293827,
          36.49777205293827,
          36.49777205293827,
          36.49777205293827,
          36.49777205293827,
          36.518047730681936,
          36.518047730681936,
          36.518047730681936,
          36.53832340842561,
          36.53832340842561,
          36.53832340842561,
          36.53832340842561,
          36.55859908616928,
          36.57887476391295,
          36.57887476391295,
          36.57887476391295,
          36.57887476391295,
          36.57887476391295,
          36.59915044165662,
          36.619426119400295,
          36.619426119400295,
          36.619426119400295,
          36.619426119400295,
          36.639701797143964,
          36.639701797143964,
          36.65997747488763,
          36.65997747488763,
          36.68025315263131,
          36.70052883037498,
          36.70052883037498,
          36.72080450811865,
          36.74108018586232,
          36.76135586360599,
          36.78163154134966,
          36.78163154134966,
          36.80190721909334,
          36.842458574580675,
          36.923561285555365,
          36.943836963299034,
          36.98438831878638,
          37.02493967427372
         ],
         "yaxis": "y"
        }
       ],
       "layout": {
        "legend": {
         "tracegroupgap": 0
        },
        "template": {
         "data": {
          "bar": [
           {
            "error_x": {
             "color": "#2a3f5f"
            },
            "error_y": {
             "color": "#2a3f5f"
            },
            "marker": {
             "line": {
              "color": "#E5ECF6",
              "width": 0.5
             },
             "pattern": {
              "fillmode": "overlay",
              "size": 10,
              "solidity": 0.2
             }
            },
            "type": "bar"
           }
          ],
          "barpolar": [
           {
            "marker": {
             "line": {
              "color": "#E5ECF6",
              "width": 0.5
             },
             "pattern": {
              "fillmode": "overlay",
              "size": 10,
              "solidity": 0.2
             }
            },
            "type": "barpolar"
           }
          ],
          "carpet": [
           {
            "aaxis": {
             "endlinecolor": "#2a3f5f",
             "gridcolor": "white",
             "linecolor": "white",
             "minorgridcolor": "white",
             "startlinecolor": "#2a3f5f"
            },
            "baxis": {
             "endlinecolor": "#2a3f5f",
             "gridcolor": "white",
             "linecolor": "white",
             "minorgridcolor": "white",
             "startlinecolor": "#2a3f5f"
            },
            "type": "carpet"
           }
          ],
          "choropleth": [
           {
            "colorbar": {
             "outlinewidth": 0,
             "ticks": ""
            },
            "type": "choropleth"
           }
          ],
          "contour": [
           {
            "colorbar": {
             "outlinewidth": 0,
             "ticks": ""
            },
            "colorscale": [
             [
              0,
              "#0d0887"
             ],
             [
              0.1111111111111111,
              "#46039f"
             ],
             [
              0.2222222222222222,
              "#7201a8"
             ],
             [
              0.3333333333333333,
              "#9c179e"
             ],
             [
              0.4444444444444444,
              "#bd3786"
             ],
             [
              0.5555555555555556,
              "#d8576b"
             ],
             [
              0.6666666666666666,
              "#ed7953"
             ],
             [
              0.7777777777777778,
              "#fb9f3a"
             ],
             [
              0.8888888888888888,
              "#fdca26"
             ],
             [
              1,
              "#f0f921"
             ]
            ],
            "type": "contour"
           }
          ],
          "contourcarpet": [
           {
            "colorbar": {
             "outlinewidth": 0,
             "ticks": ""
            },
            "type": "contourcarpet"
           }
          ],
          "heatmap": [
           {
            "colorbar": {
             "outlinewidth": 0,
             "ticks": ""
            },
            "colorscale": [
             [
              0,
              "#0d0887"
             ],
             [
              0.1111111111111111,
              "#46039f"
             ],
             [
              0.2222222222222222,
              "#7201a8"
             ],
             [
              0.3333333333333333,
              "#9c179e"
             ],
             [
              0.4444444444444444,
              "#bd3786"
             ],
             [
              0.5555555555555556,
              "#d8576b"
             ],
             [
              0.6666666666666666,
              "#ed7953"
             ],
             [
              0.7777777777777778,
              "#fb9f3a"
             ],
             [
              0.8888888888888888,
              "#fdca26"
             ],
             [
              1,
              "#f0f921"
             ]
            ],
            "type": "heatmap"
           }
          ],
          "heatmapgl": [
           {
            "colorbar": {
             "outlinewidth": 0,
             "ticks": ""
            },
            "colorscale": [
             [
              0,
              "#0d0887"
             ],
             [
              0.1111111111111111,
              "#46039f"
             ],
             [
              0.2222222222222222,
              "#7201a8"
             ],
             [
              0.3333333333333333,
              "#9c179e"
             ],
             [
              0.4444444444444444,
              "#bd3786"
             ],
             [
              0.5555555555555556,
              "#d8576b"
             ],
             [
              0.6666666666666666,
              "#ed7953"
             ],
             [
              0.7777777777777778,
              "#fb9f3a"
             ],
             [
              0.8888888888888888,
              "#fdca26"
             ],
             [
              1,
              "#f0f921"
             ]
            ],
            "type": "heatmapgl"
           }
          ],
          "histogram": [
           {
            "marker": {
             "pattern": {
              "fillmode": "overlay",
              "size": 10,
              "solidity": 0.2
             }
            },
            "type": "histogram"
           }
          ],
          "histogram2d": [
           {
            "colorbar": {
             "outlinewidth": 0,
             "ticks": ""
            },
            "colorscale": [
             [
              0,
              "#0d0887"
             ],
             [
              0.1111111111111111,
              "#46039f"
             ],
             [
              0.2222222222222222,
              "#7201a8"
             ],
             [
              0.3333333333333333,
              "#9c179e"
             ],
             [
              0.4444444444444444,
              "#bd3786"
             ],
             [
              0.5555555555555556,
              "#d8576b"
             ],
             [
              0.6666666666666666,
              "#ed7953"
             ],
             [
              0.7777777777777778,
              "#fb9f3a"
             ],
             [
              0.8888888888888888,
              "#fdca26"
             ],
             [
              1,
              "#f0f921"
             ]
            ],
            "type": "histogram2d"
           }
          ],
          "histogram2dcontour": [
           {
            "colorbar": {
             "outlinewidth": 0,
             "ticks": ""
            },
            "colorscale": [
             [
              0,
              "#0d0887"
             ],
             [
              0.1111111111111111,
              "#46039f"
             ],
             [
              0.2222222222222222,
              "#7201a8"
             ],
             [
              0.3333333333333333,
              "#9c179e"
             ],
             [
              0.4444444444444444,
              "#bd3786"
             ],
             [
              0.5555555555555556,
              "#d8576b"
             ],
             [
              0.6666666666666666,
              "#ed7953"
             ],
             [
              0.7777777777777778,
              "#fb9f3a"
             ],
             [
              0.8888888888888888,
              "#fdca26"
             ],
             [
              1,
              "#f0f921"
             ]
            ],
            "type": "histogram2dcontour"
           }
          ],
          "mesh3d": [
           {
            "colorbar": {
             "outlinewidth": 0,
             "ticks": ""
            },
            "type": "mesh3d"
           }
          ],
          "parcoords": [
           {
            "line": {
             "colorbar": {
              "outlinewidth": 0,
              "ticks": ""
             }
            },
            "type": "parcoords"
           }
          ],
          "pie": [
           {
            "automargin": true,
            "type": "pie"
           }
          ],
          "scatter": [
           {
            "marker": {
             "colorbar": {
              "outlinewidth": 0,
              "ticks": ""
             }
            },
            "type": "scatter"
           }
          ],
          "scatter3d": [
           {
            "line": {
             "colorbar": {
              "outlinewidth": 0,
              "ticks": ""
             }
            },
            "marker": {
             "colorbar": {
              "outlinewidth": 0,
              "ticks": ""
             }
            },
            "type": "scatter3d"
           }
          ],
          "scattercarpet": [
           {
            "marker": {
             "colorbar": {
              "outlinewidth": 0,
              "ticks": ""
             }
            },
            "type": "scattercarpet"
           }
          ],
          "scattergeo": [
           {
            "marker": {
             "colorbar": {
              "outlinewidth": 0,
              "ticks": ""
             }
            },
            "type": "scattergeo"
           }
          ],
          "scattergl": [
           {
            "marker": {
             "colorbar": {
              "outlinewidth": 0,
              "ticks": ""
             }
            },
            "type": "scattergl"
           }
          ],
          "scattermapbox": [
           {
            "marker": {
             "colorbar": {
              "outlinewidth": 0,
              "ticks": ""
             }
            },
            "type": "scattermapbox"
           }
          ],
          "scatterpolar": [
           {
            "marker": {
             "colorbar": {
              "outlinewidth": 0,
              "ticks": ""
             }
            },
            "type": "scatterpolar"
           }
          ],
          "scatterpolargl": [
           {
            "marker": {
             "colorbar": {
              "outlinewidth": 0,
              "ticks": ""
             }
            },
            "type": "scatterpolargl"
           }
          ],
          "scatterternary": [
           {
            "marker": {
             "colorbar": {
              "outlinewidth": 0,
              "ticks": ""
             }
            },
            "type": "scatterternary"
           }
          ],
          "surface": [
           {
            "colorbar": {
             "outlinewidth": 0,
             "ticks": ""
            },
            "colorscale": [
             [
              0,
              "#0d0887"
             ],
             [
              0.1111111111111111,
              "#46039f"
             ],
             [
              0.2222222222222222,
              "#7201a8"
             ],
             [
              0.3333333333333333,
              "#9c179e"
             ],
             [
              0.4444444444444444,
              "#bd3786"
             ],
             [
              0.5555555555555556,
              "#d8576b"
             ],
             [
              0.6666666666666666,
              "#ed7953"
             ],
             [
              0.7777777777777778,
              "#fb9f3a"
             ],
             [
              0.8888888888888888,
              "#fdca26"
             ],
             [
              1,
              "#f0f921"
             ]
            ],
            "type": "surface"
           }
          ],
          "table": [
           {
            "cells": {
             "fill": {
              "color": "#EBF0F8"
             },
             "line": {
              "color": "white"
             }
            },
            "header": {
             "fill": {
              "color": "#C8D4E3"
             },
             "line": {
              "color": "white"
             }
            },
            "type": "table"
           }
          ]
         },
         "layout": {
          "annotationdefaults": {
           "arrowcolor": "#2a3f5f",
           "arrowhead": 0,
           "arrowwidth": 1
          },
          "autotypenumbers": "strict",
          "coloraxis": {
           "colorbar": {
            "outlinewidth": 0,
            "ticks": ""
           }
          },
          "colorscale": {
           "diverging": [
            [
             0,
             "#8e0152"
            ],
            [
             0.1,
             "#c51b7d"
            ],
            [
             0.2,
             "#de77ae"
            ],
            [
             0.3,
             "#f1b6da"
            ],
            [
             0.4,
             "#fde0ef"
            ],
            [
             0.5,
             "#f7f7f7"
            ],
            [
             0.6,
             "#e6f5d0"
            ],
            [
             0.7,
             "#b8e186"
            ],
            [
             0.8,
             "#7fbc41"
            ],
            [
             0.9,
             "#4d9221"
            ],
            [
             1,
             "#276419"
            ]
           ],
           "sequential": [
            [
             0,
             "#0d0887"
            ],
            [
             0.1111111111111111,
             "#46039f"
            ],
            [
             0.2222222222222222,
             "#7201a8"
            ],
            [
             0.3333333333333333,
             "#9c179e"
            ],
            [
             0.4444444444444444,
             "#bd3786"
            ],
            [
             0.5555555555555556,
             "#d8576b"
            ],
            [
             0.6666666666666666,
             "#ed7953"
            ],
            [
             0.7777777777777778,
             "#fb9f3a"
            ],
            [
             0.8888888888888888,
             "#fdca26"
            ],
            [
             1,
             "#f0f921"
            ]
           ],
           "sequentialminus": [
            [
             0,
             "#0d0887"
            ],
            [
             0.1111111111111111,
             "#46039f"
            ],
            [
             0.2222222222222222,
             "#7201a8"
            ],
            [
             0.3333333333333333,
             "#9c179e"
            ],
            [
             0.4444444444444444,
             "#bd3786"
            ],
            [
             0.5555555555555556,
             "#d8576b"
            ],
            [
             0.6666666666666666,
             "#ed7953"
            ],
            [
             0.7777777777777778,
             "#fb9f3a"
            ],
            [
             0.8888888888888888,
             "#fdca26"
            ],
            [
             1,
             "#f0f921"
            ]
           ]
          },
          "colorway": [
           "#636efa",
           "#EF553B",
           "#00cc96",
           "#ab63fa",
           "#FFA15A",
           "#19d3f3",
           "#FF6692",
           "#B6E880",
           "#FF97FF",
           "#FECB52"
          ],
          "font": {
           "color": "#2a3f5f"
          },
          "geo": {
           "bgcolor": "white",
           "lakecolor": "white",
           "landcolor": "#E5ECF6",
           "showlakes": true,
           "showland": true,
           "subunitcolor": "white"
          },
          "hoverlabel": {
           "align": "left"
          },
          "hovermode": "closest",
          "mapbox": {
           "style": "light"
          },
          "paper_bgcolor": "white",
          "plot_bgcolor": "#E5ECF6",
          "polar": {
           "angularaxis": {
            "gridcolor": "white",
            "linecolor": "white",
            "ticks": ""
           },
           "bgcolor": "#E5ECF6",
           "radialaxis": {
            "gridcolor": "white",
            "linecolor": "white",
            "ticks": ""
           }
          },
          "scene": {
           "xaxis": {
            "backgroundcolor": "#E5ECF6",
            "gridcolor": "white",
            "gridwidth": 2,
            "linecolor": "white",
            "showbackground": true,
            "ticks": "",
            "zerolinecolor": "white"
           },
           "yaxis": {
            "backgroundcolor": "#E5ECF6",
            "gridcolor": "white",
            "gridwidth": 2,
            "linecolor": "white",
            "showbackground": true,
            "ticks": "",
            "zerolinecolor": "white"
           },
           "zaxis": {
            "backgroundcolor": "#E5ECF6",
            "gridcolor": "white",
            "gridwidth": 2,
            "linecolor": "white",
            "showbackground": true,
            "ticks": "",
            "zerolinecolor": "white"
           }
          },
          "shapedefaults": {
           "line": {
            "color": "#2a3f5f"
           }
          },
          "ternary": {
           "aaxis": {
            "gridcolor": "white",
            "linecolor": "white",
            "ticks": ""
           },
           "baxis": {
            "gridcolor": "white",
            "linecolor": "white",
            "ticks": ""
           },
           "bgcolor": "#E5ECF6",
           "caxis": {
            "gridcolor": "white",
            "linecolor": "white",
            "ticks": ""
           }
          },
          "title": {
           "x": 0.05
          },
          "xaxis": {
           "automargin": true,
           "gridcolor": "white",
           "linecolor": "white",
           "ticks": "",
           "title": {
            "standoff": 15
           },
           "zerolinecolor": "white",
           "zerolinewidth": 2
          },
          "yaxis": {
           "automargin": true,
           "gridcolor": "white",
           "linecolor": "white",
           "ticks": "",
           "title": {
            "standoff": 15
           },
           "zerolinecolor": "white",
           "zerolinewidth": 2
          }
         }
        },
        "title": {
         "text": "Relationship between Crime & AQI - 2019 in GUSTAVO A MADERO"
        },
        "xaxis": {
         "anchor": "y",
         "domain": [
          0,
          1
         ],
         "title": {
          "text": "AQI"
         }
        },
        "yaxis": {
         "anchor": "x",
         "domain": [
          0,
          1
         ],
         "title": {
          "text": "Crimenes"
         }
        }
       }
      }
     },
     "metadata": {},
     "output_type": "display_data"
    }
   ],
   "source": [
    "\n",
    "import numpy as np\n",
    "import matplotlib.pyplot as plt\n",
    "import pandas as pd\n",
    "import seaborn as sb\n",
    "%matplotlib inline\n",
    "import plotly.express as px\n",
    "from scipy import stats\n",
    "\n",
    "option_slctd = 2019\n",
    "alcaldia_slct = \"GUSTAVO A MADERO\"\n",
    "\n",
    "df_all_plot = df_all[(df_all[\"Anio\"] == option_slctd) & (df_all[\"Alcaldia\"] == alcaldia_slct)]\n",
    "\n",
    "figure = px.scatter(data_frame = df_all_plot, x=\"AQI\",\n",
    "                y=\"Crimenes\", \n",
    "                trendline=\"ols\", \n",
    "                title=\"Relationship between Crime & AQI - {} in {}\".format(option_slctd, alcaldia_slct),\n",
    "                hover_data=[\"r\", \"p value\", \"% / 10 AQI\", \"ID\"])\n",
    "figure.show()"
   ]
  },
  {
   "cell_type": "code",
   "execution_count": 54,
   "id": "32ec33a3",
   "metadata": {},
   "outputs": [
    {
     "name": "stdout",
     "output_type": "stream",
     "text": [
      "[16, 12, 2022, 70] 4951.1519849232\n",
      "4950.8442870576\n",
      "4948.1682341124\n",
      "-1.062488471400684\n",
      "-1.0440815864006838\n",
      "1\n",
      "0.0 1\n"
     ]
    },
    {
     "data": {
      "text/plain": [
       "'1 violent crimes, model accuracy: 24.51%'"
      ]
     },
     "execution_count": 54,
     "metadata": {},
     "output_type": "execute_result"
    }
   ],
   "source": [
    "get_prediction(16, 12, 2022, 70, alcaldia_slct)"
   ]
  }
 ],
 "metadata": {
  "kernelspec": {
   "display_name": "base",
   "language": "python",
   "name": "python3"
  },
  "language_info": {
   "codemirror_mode": {
    "name": "ipython",
    "version": 3
   },
   "file_extension": ".py",
   "mimetype": "text/x-python",
   "name": "python",
   "nbconvert_exporter": "python",
   "pygments_lexer": "ipython3",
   "version": "3.9.12"
  },
  "vscode": {
   "interpreter": {
    "hash": "c88d0a15cf9be1b3533f50b0f0cbd1ec422d471d72f3e3f6174897dcd3f29e49"
   }
  }
 },
 "nbformat": 4,
 "nbformat_minor": 5
}
