{
 "cells": [
  {
   "cell_type": "markdown",
   "id": "10bbc604-1500-4b20-ac9e-7eef4c9bffd2",
   "metadata": {},
   "source": [
    "<b>Pearson correlation<b>"
   ]
  },
  {
   "cell_type": "code",
   "execution_count": 2,
   "id": "810e3900-44b2-44af-9802-71107c6892bc",
   "metadata": {},
   "outputs": [],
   "source": [
    "import pandas as pd\n",
    "import numpy as np"
   ]
  },
  {
   "cell_type": "code",
   "execution_count": 3,
   "id": "4bd45791-b466-4852-b46c-042262b5473b",
   "metadata": {},
   "outputs": [],
   "source": [
    "aire = pd.read_csv(\"E:\\\\7mo\\\\TT1\\\\Consultas\\\\Alcaldia-AQI.csv\")\n",
    "crimen = pd.read_csv(\"E:\\\\7mo\\\\TT1\\\\Datos_aire\\\\Contaminantes\\\\csv_modificados\\\\aire_2011_2020_v6.csv\")"
   ]
  },
  {
   "cell_type": "code",
   "execution_count": 4,
   "id": "56752e1c-c3f1-4e8b-8a66-731ccc3c9c50",
   "metadata": {},
   "outputs": [],
   "source": [
    "df_crimen = pd.DataFrame(crimen)\n",
    "df_aire = pd.DataFrame(aire)"
   ]
  },
  {
   "cell_type": "code",
   "execution_count": 32,
   "id": "3f1f4ad7-c101-44ef-a6a6-548d2368333e",
   "metadata": {},
   "outputs": [],
   "source": [
    "df_crimen = df_crimen.sort_values(by=['Alcaldia'])\n",
    "df_aire = df_aire.sort_values(by=['Alcaldia'])"
   ]
  },
  {
   "cell_type": "code",
   "execution_count": 36,
   "id": "76909d73-6096-4540-8534-f5a62a299c53",
   "metadata": {},
   "outputs": [],
   "source": [
    "array_aire = df_aire[\"avgAQI\"].values\n",
    "array_crimen = df_crimen[\"No de Registros\"].values"
   ]
  },
  {
   "cell_type": "code",
   "execution_count": 38,
   "id": "f4023db6-a706-4844-95ae-e1aa62b53ccd",
   "metadata": {},
   "outputs": [],
   "source": [
    "r = np.corrcoef(array_aire, array_crimen)"
   ]
  },
  {
   "cell_type": "code",
   "execution_count": 39,
   "id": "b8ddfb0f-1244-4fc8-9acd-b68b6db464c2",
   "metadata": {},
   "outputs": [
    {
     "data": {
      "text/plain": [
       "array([[1.     , 0.16643],\n",
       "       [0.16643, 1.     ]])"
      ]
     },
     "execution_count": 39,
     "metadata": {},
     "output_type": "execute_result"
    }
   ],
   "source": [
    "r"
   ]
  },
  {
   "cell_type": "markdown",
   "id": "5152d071-fbcf-4c43-b619-649879c799bd",
   "metadata": {},
   "source": [
    "<i>corrcoef() returns the correlation matrix, which is a two-dimensional array with the correlation coefficients.<i>"
   ]
  },
  {
   "cell_type": "markdown",
   "id": "a5bbae92-4bab-439f-955d-a4c64d35201f",
   "metadata": {},
   "source": [
    "<b>Person, Spearman and Kendall correlation using SciPy<b>"
   ]
  },
  {
   "cell_type": "code",
   "execution_count": 44,
   "id": "9870aeb4-3dbe-41a3-babf-6082a0227c64",
   "metadata": {},
   "outputs": [],
   "source": [
    "import scipy.stats"
   ]
  },
  {
   "cell_type": "code",
   "execution_count": 49,
   "id": "a7993078-1f56-423c-b14c-a83016c3f0b7",
   "metadata": {},
   "outputs": [
    {
     "data": {
      "text/plain": [
       "(0.1664299957653169, 0.5695897386272979)"
      ]
     },
     "execution_count": 49,
     "metadata": {},
     "output_type": "execute_result"
    }
   ],
   "source": [
    "scipy.stats.pearsonr(array_aire, array_crimen)    # Pearson's r"
   ]
  },
  {
   "cell_type": "code",
   "execution_count": 46,
   "id": "a96ddecc-af75-4556-ba25-e7f8e6eac15e",
   "metadata": {},
   "outputs": [
    {
     "data": {
      "text/plain": [
       "SpearmanrResult(correlation=-0.013215891090228608, pvalue=0.9642345819705558)"
      ]
     },
     "execution_count": 46,
     "metadata": {},
     "output_type": "execute_result"
    }
   ],
   "source": [
    "scipy.stats.spearmanr(array_aire, array_crimen)   # Spearman's rho"
   ]
  },
  {
   "cell_type": "code",
   "execution_count": 48,
   "id": "adccb553-14e1-4405-920c-542f15f8e2c6",
   "metadata": {},
   "outputs": [
    {
     "data": {
      "text/plain": [
       "KendalltauResult(correlation=0.033335391137041405, pvalue=0.8691572065912958)"
      ]
     },
     "execution_count": 48,
     "metadata": {},
     "output_type": "execute_result"
    }
   ],
   "source": [
    "scipy.stats.kendalltau(array_aire, array_crimen)  # Kendall's tau"
   ]
  },
  {
   "cell_type": "markdown",
   "id": "5950a6e1-7d93-4d37-ba1a-124eda1d3697",
   "metadata": {},
   "source": [
    "r, p = scipy.stats.pearsonr(x, y)"
   ]
  },
  {
   "cell_type": "markdown",
   "id": "13dc846e-496e-4916-9518-a5ffb77613ec",
   "metadata": {},
   "source": [
    "<b>Linear Regretion<b>"
   ]
  },
  {
   "cell_type": "code",
   "execution_count": 50,
   "id": "6a361464-09c9-47f5-9015-137752f5d77b",
   "metadata": {},
   "outputs": [],
   "source": [
    "result = scipy.stats.linregress(array_aire, array_crimen)"
   ]
  },
  {
   "cell_type": "code",
   "execution_count": 51,
   "id": "d5f41b4b-f904-4ce4-be00-d1270f0c9b02",
   "metadata": {},
   "outputs": [
    {
     "data": {
      "text/plain": [
       "0.5695897386272979"
      ]
     },
     "execution_count": 51,
     "metadata": {},
     "output_type": "execute_result"
    }
   ],
   "source": [
    "result.pvalue"
   ]
  },
  {
   "cell_type": "code",
   "execution_count": 52,
   "id": "62c5337c-8a60-4d52-a8ef-f690505d2c55",
   "metadata": {},
   "outputs": [
    {
     "data": {
      "text/plain": [
       "LinregressResult(slope=561.0017001448272, intercept=21295.56841508721, rvalue=0.16642999576531692, pvalue=0.5695897386272979, stderr=959.4941497410213, intercept_stderr=42890.72238113488)"
      ]
     },
     "execution_count": 52,
     "metadata": {},
     "output_type": "execute_result"
    }
   ],
   "source": [
    "scipy.stats.linregress(array_aire, array_crimen)"
   ]
  },
  {
   "cell_type": "markdown",
   "id": "7a7d39e3-9c22-45b8-b4ef-d80bebe34d86",
   "metadata": {},
   "source": [
    "<b>Visualization<b>"
   ]
  },
  {
   "cell_type": "code",
   "execution_count": 53,
   "id": "d1e8c39b-32bd-4c48-8c21-589e3df0edef",
   "metadata": {},
   "outputs": [],
   "source": [
    "slope, intercept, r, p, stderr = scipy.stats.linregress(array_aire, array_crimen)"
   ]
  },
  {
   "cell_type": "code",
   "execution_count": 58,
   "id": "d4acf217-6a4e-4478-9dcb-232c60265ce4",
   "metadata": {},
   "outputs": [
    {
     "data": {
      "text/plain": [
       "'Regression line: crimen = 21295.57 + 561.00aire, r=0.17'"
      ]
     },
     "execution_count": 58,
     "metadata": {},
     "output_type": "execute_result"
    }
   ],
   "source": [
    "line = f'Regression line: crimen = {intercept:.2f} + {slope:.2f}aire, r={r:.2f}'\n",
    "line"
   ]
  },
  {
   "cell_type": "code",
   "execution_count": 61,
   "id": "1d917c0d-eb50-4c6c-8ea9-f67a466f78df",
   "metadata": {},
   "outputs": [
    {
     "data": {
      "image/png": "[encoded data removed]",
      "text/plain": [
       "<Figure size 432x288 with 1 Axes>"
      ]
     },
     "metadata": {},
     "output_type": "display_data"
    }
   ],
   "source": [
    "import matplotlib.pyplot as plt\n",
    "plt.style.use('ggplot')\n",
    "\n",
    "fig, ax = plt.subplots()\n",
    "ax.plot(array_aire, array_crimen, linewidth=0, marker='s', label='Data points')\n",
    "ax.plot(array_aire, intercept + slope * array_aire, label=line)\n",
    "ax.set_xlabel('AIQ aire')\n",
    "ax.set_ylabel('#crimenes')\n",
    "ax.legend(facecolor='white')\n",
    "plt.show()\n"
   ]
  },
  {
   "cell_type": "code",
   "execution_count": null,
   "id": "a9ebd9a3-799c-4619-b0cf-28074f8b4928",
   "metadata": {},
   "outputs": [],
   "source": []
  }
 ],
 "metadata": {
  "kernelspec": {
   "display_name": "Python 3 (ipykernel)",
   "language": "python",
   "name": "python3"
  },
  "language_info": {
   "codemirror_mode": {
    "name": "ipython",
    "version": 3
   },
   "file_extension": ".py",
   "mimetype": "text/x-python",
   "name": "python",
   "nbconvert_exporter": "python",
   "pygments_lexer": "ipython3",
   "version": "3.9.7"
  }
 },
 "nbformat": 4,
 "nbformat_minor": 5
}
