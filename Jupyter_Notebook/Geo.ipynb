{
 "cells": [
  {
   "cell_type": "code",
   "execution_count": 23,
   "id": "6536553d",
   "metadata": {},
   "outputs": [],
   "source": [
    "from geopy.geocoders import Nominatim\n",
    "import time\n",
    "import math\n",
    "\n",
    "import seaborn as sns\n",
    "import matplotlib.pyplot as plt\n",
    "\n",
    "import savefig\n",
    "import pandas as pd\n",
    "import numpy as np"
   ]
  },
  {
   "cell_type": "code",
   "execution_count": 24,
   "id": "b51f0bc5",
   "metadata": {},
   "outputs": [],
   "source": [
    "## Creamos objeto\n",
    "geo = Nominatim(user_agent=\"MyApp\")"
   ]
  },
  {
   "cell_type": "code",
   "execution_count": 5,
   "id": "93a95fe0",
   "metadata": {},
   "outputs": [
    {
     "name": "stdout",
     "output_type": "stream",
     "text": [
      "Nezahualcóyotl, Estado de México, 5700, México\n"
     ]
    }
   ],
   "source": [
    "loc = geo.geocode(\"Nezahualcoyotl\")\n",
    "print(loc)"
   ]
  },
  {
   "cell_type": "code",
   "execution_count": 6,
   "id": "b7b7c382",
   "metadata": {},
   "outputs": [
    {
     "name": "stdout",
     "output_type": "stream",
     "text": [
      "19.4079028 -99.0181547\n"
     ]
    }
   ],
   "source": [
    "print(loc.latitude, loc.longitude)"
   ]
  },
  {
   "cell_type": "code",
   "execution_count": 98,
   "id": "9ee06afd",
   "metadata": {},
   "outputs": [],
   "source": [
    "loc_list = [[19.4079028, -99.0181547],\n",
    " [19.6389474, -98.9109537],\n",
    " [19.3591195, -99.0929294]]"
   ]
  },
  {
   "cell_type": "code",
   "execution_count": 99,
   "id": "a39a6c0a",
   "metadata": {},
   "outputs": [
    {
     "name": "stdout",
     "output_type": "stream",
     "text": [
      "Módulos de Vacunación COVID-19, Avenida Chimalhuacán, Nezahualcóyotl, Estado de México, 57000, México 19.4082409 -99.0186032\n",
      "Calle Plaza Principal, Tepexpan, Acolman, Estado de México, 55886, México 19.639112751385742 -98.91090419570317\n",
      "Conjunto Delegacional de la Delegación Iztapalapa, Calle Ignacio Comonfort, Barrio San Lucas, Iztapalapa, Ciudad de México, 09000, México 19.359077499999998 -99.09282505044679\n"
     ]
    }
   ],
   "source": [
    "data = []\n",
    "valor = 0.2\n",
    "for i in loc_list:\n",
    "    address = geo.reverse(i)\n",
    "    print(address, address.latitude, address.longitude)\n",
    "    x = str(address).split(\", \")\n",
    "    #print(x[1])\n",
    "    data_1 = []\n",
    "    data_1.append(address.latitude)\n",
    "    data_1.append(address.longitude)\n",
    "    data_1.append(valor)\n",
    "    valor = valor + 0.2\n",
    "    #coord_list[].append()\n",
    "    data.append(data_1)"
   ]
  },
  {
   "cell_type": "code",
   "execution_count": 37,
   "id": "c35278e2",
   "metadata": {},
   "outputs": [
    {
     "data": {
      "text/plain": [
       "[[19.4079028, -99.0181547, 0.2],\n",
       " [19.6389474, -98.9109537, 0.4],\n",
       " [19.3591195, -99.0929294, 0.6000000000000001]]"
      ]
     },
     "execution_count": 37,
     "metadata": {},
     "output_type": "execute_result"
    }
   ],
   "source": [
    "data"
   ]
  },
  {
   "cell_type": "code",
   "execution_count": 3,
   "id": "8f003390",
   "metadata": {},
   "outputs": [],
   "source": [
    "aire = pd.read_csv(\"E:\\\\7mo\\\\TT1\\\\Datos_aire\\\\Contaminantes\\\\csv_modificados\\\\aire_2011_2020_v2.csv\")"
   ]
  },
  {
   "cell_type": "code",
   "execution_count": 4,
   "id": "8da3ce17-7405-440c-97a5-40357f2767ae",
   "metadata": {},
   "outputs": [],
   "source": [
    "df_aire = pd.DataFrame(aire)"
   ]
  },
  {
   "cell_type": "code",
   "execution_count": 7,
   "id": "c584fa4a-1474-40cc-8140-a288625db22d",
   "metadata": {},
   "outputs": [],
   "source": [
    "df_aire = df_aire.drop(df_aire.columns[0], axis=1)"
   ]
  },
  {
   "cell_type": "code",
   "execution_count": 11,
   "id": "2c3f4701-3034-426b-bc43-c5be3b751c32",
   "metadata": {},
   "outputs": [],
   "source": [
    "df_aire_100 = df_aire.head(100)"
   ]
  },
  {
   "cell_type": "code",
   "execution_count": 34,
   "id": "2da28d16-01a5-4006-a44c-bec60f48b5a0",
   "metadata": {},
   "outputs": [],
   "source": [
    "list_a = df_aire_100['Lugar'].unique()"
   ]
  },
  {
   "cell_type": "code",
   "execution_count": 43,
   "id": "86b19be4-a65b-4deb-81a9-ae2041faf65f",
   "metadata": {},
   "outputs": [],
   "source": [
    "list_b = []\n",
    "for i in list_a:\n",
    "    i = i+\", México\"\n",
    "    list_b.append(i)"
   ]
  },
  {
   "cell_type": "code",
   "execution_count": 44,
   "id": "fd721970-7fa7-45cd-ac38-5640d34671e8",
   "metadata": {},
   "outputs": [
    {
     "data": {
      "text/plain": [
       "['Acolman, México',\n",
       " 'Camarones, México',\n",
       " 'Chalco, México',\n",
       " 'Cuajimalpa, México',\n",
       " 'FES Acatlan, México',\n",
       " 'Iztacalco, México',\n",
       " 'Los Laureles, México',\n",
       " 'La Presa, México',\n",
       " 'Merced, México',\n",
       " 'Montecillo, México',\n",
       " 'Nezahualcoyotl, México',\n",
       " 'Pedregal, México',\n",
       " 'San Agustin, México',\n",
       " 'San Juan Aragon, México',\n",
       " 'Santa Ursula, México',\n",
       " 'Tlahuac, México',\n",
       " 'Tlalnepantla, México',\n",
       " 'Tultitlan, México',\n",
       " 'Tlalpan, México',\n",
       " 'UAM Iztapalapa, México',\n",
       " 'Villa de las Flores, México',\n",
       " 'Xalostoc, México']"
      ]
     },
     "execution_count": 44,
     "metadata": {},
     "output_type": "execute_result"
    }
   ],
   "source": [
    "list_b"
   ]
  },
  {
   "cell_type": "code",
   "execution_count": 103,
   "id": "6c83c7f8-7d42-4591-a4d4-6651f20dc1e6",
   "metadata": {},
   "outputs": [
    {
     "name": "stdout",
     "output_type": "stream",
     "text": [
      "Estado Módulos de Vacunación COVID-19, Avenida Chimalhuacán, Nezahualcóyotl, Estado de México, 57000, México\n",
      "Estado Calle Plaza Principal, Tepexpan, Acolman, Estado de México, 55886, México\n",
      "Conjunto Delegacional de la Delegación Iztapalapa, Calle Ignacio Comonfort, Barrio San Lucas, Iztapalapa, Ciudad de México, 09000, México\n"
     ]
    }
   ],
   "source": [
    "data = []\n",
    "valor = 0.0\n",
    "for i in loc_list:\n",
    "    address = geo.reverse(i)\n",
    "    #print(address, address.latitude, address.longitude)\n",
    "    x = str(address).split(\", \")\n",
    "    if \"Ciudad de México\" in str(address):\n",
    "        print(address)\n",
    "    else:\n",
    "        print(\"Estado \" + str(address))\n",
    "    #print(address)\n",
    "    data_1 = []\n",
    "    data_1.append(address.latitude)\n",
    "    data_1.append(address.longitude)\n",
    "    data_1.append(valor)\n",
    "    valor = valor + 0.01\n",
    "    #coord_list[].append()\n",
    "    data.append(data_1)"
   ]
  },
  {
   "cell_type": "code",
   "execution_count": 57,
   "id": "41c23e88-d703-403e-ae8b-baff2837a683",
   "metadata": {},
   "outputs": [],
   "source": [
    "cat_estacion = pd.read_csv(\"E:\\\\7mo\\\\TT1\\\\Datos_aire\\\\Contaminantes\\\\csv\\\\cat_estacion.csv\")\n",
    "df_estacion = pd.DataFrame(cat_estacion)"
   ]
  },
  {
   "cell_type": "code",
   "execution_count": 104,
   "id": "f0d067b9-987c-4517-b412-d7492c063032",
   "metadata": {},
   "outputs": [],
   "source": [
    "df_aire_v2 = pd.DataFrame(columns=['Dia', 'Mes', 'Anio', 'Hora', 'Particula', 'Valor', 'Lugar', 'Estado', 'Latitud', 'Longitud'])"
   ]
  },
  {
   "cell_type": "code",
   "execution_count": 72,
   "id": "40421232-cce5-4d69-861b-f9539e610b91",
   "metadata": {},
   "outputs": [
    {
     "data": {
      "text/plain": [
       "['Dia', 'Mes', 'Anio', 'Hora', 'Lugar', 'Particula', 'Valor']"
      ]
     },
     "execution_count": 72,
     "metadata": {},
     "output_type": "execute_result"
    }
   ],
   "source": [
    "header_list_aire = list(df_aire)\n",
    "header_list_aire"
   ]
  },
  {
   "cell_type": "code",
   "execution_count": 60,
   "id": "71009eca-1112-4f8d-bc27-d4d7e542fa5d",
   "metadata": {},
   "outputs": [
    {
     "data": {
      "text/html": [
       "<div>\n",
       "<style scoped>\n",
       "    .dataframe tbody tr th:only-of-type {\n",
       "        vertical-align: middle;\n",
       "    }\n",
       "\n",
       "    .dataframe tbody tr th {\n",
       "        vertical-align: top;\n",
       "    }\n",
       "\n",
       "    .dataframe thead th {\n",
       "        text-align: right;\n",
       "    }\n",
       "</style>\n",
       "<table border=\"1\" class=\"dataframe\">\n",
       "  <thead>\n",
       "    <tr style=\"text-align: right;\">\n",
       "      <th></th>\n",
       "      <th>Dia</th>\n",
       "      <th>Mes</th>\n",
       "      <th>Anio</th>\n",
       "      <th>Hora</th>\n",
       "      <th>Lugar</th>\n",
       "      <th>Particula</th>\n",
       "      <th>Valor</th>\n",
       "    </tr>\n",
       "  </thead>\n",
       "  <tbody>\n",
       "    <tr>\n",
       "      <th>0</th>\n",
       "      <td>1</td>\n",
       "      <td>1</td>\n",
       "      <td>2011</td>\n",
       "      <td>1.0</td>\n",
       "      <td>Acolman</td>\n",
       "      <td>CO</td>\n",
       "      <td>-99.0</td>\n",
       "    </tr>\n",
       "    <tr>\n",
       "      <th>1</th>\n",
       "      <td>1</td>\n",
       "      <td>1</td>\n",
       "      <td>2011</td>\n",
       "      <td>1.0</td>\n",
       "      <td>Camarones</td>\n",
       "      <td>CO</td>\n",
       "      <td>-99.0</td>\n",
       "    </tr>\n",
       "    <tr>\n",
       "      <th>2</th>\n",
       "      <td>1</td>\n",
       "      <td>1</td>\n",
       "      <td>2011</td>\n",
       "      <td>1.0</td>\n",
       "      <td>Chalco</td>\n",
       "      <td>CO</td>\n",
       "      <td>-99.0</td>\n",
       "    </tr>\n",
       "    <tr>\n",
       "      <th>3</th>\n",
       "      <td>1</td>\n",
       "      <td>1</td>\n",
       "      <td>2011</td>\n",
       "      <td>1.0</td>\n",
       "      <td>Cuajimalpa</td>\n",
       "      <td>CO</td>\n",
       "      <td>-99.0</td>\n",
       "    </tr>\n",
       "    <tr>\n",
       "      <th>4</th>\n",
       "      <td>1</td>\n",
       "      <td>1</td>\n",
       "      <td>2011</td>\n",
       "      <td>1.0</td>\n",
       "      <td>FES Acatlan</td>\n",
       "      <td>CO</td>\n",
       "      <td>1.4</td>\n",
       "    </tr>\n",
       "    <tr>\n",
       "      <th>...</th>\n",
       "      <td>...</td>\n",
       "      <td>...</td>\n",
       "      <td>...</td>\n",
       "      <td>...</td>\n",
       "      <td>...</td>\n",
       "      <td>...</td>\n",
       "      <td>...</td>\n",
       "    </tr>\n",
       "    <tr>\n",
       "      <th>6489022</th>\n",
       "      <td>31</td>\n",
       "      <td>12</td>\n",
       "      <td>2020</td>\n",
       "      <td>23.0</td>\n",
       "      <td>Tlalnepantla</td>\n",
       "      <td>PM2.5</td>\n",
       "      <td>33.0</td>\n",
       "    </tr>\n",
       "    <tr>\n",
       "      <th>6489023</th>\n",
       "      <td>31</td>\n",
       "      <td>12</td>\n",
       "      <td>2020</td>\n",
       "      <td>23.0</td>\n",
       "      <td>Tultitlan</td>\n",
       "      <td>PM2.5</td>\n",
       "      <td>-99.0</td>\n",
       "    </tr>\n",
       "    <tr>\n",
       "      <th>6489024</th>\n",
       "      <td>31</td>\n",
       "      <td>12</td>\n",
       "      <td>2020</td>\n",
       "      <td>23.0</td>\n",
       "      <td>UAM Iztapalapa</td>\n",
       "      <td>PM2.5</td>\n",
       "      <td>42.0</td>\n",
       "    </tr>\n",
       "    <tr>\n",
       "      <th>6489025</th>\n",
       "      <td>31</td>\n",
       "      <td>12</td>\n",
       "      <td>2020</td>\n",
       "      <td>23.0</td>\n",
       "      <td>Villa de las Flores</td>\n",
       "      <td>PM2.5</td>\n",
       "      <td>178.0</td>\n",
       "    </tr>\n",
       "    <tr>\n",
       "      <th>6489026</th>\n",
       "      <td>31</td>\n",
       "      <td>12</td>\n",
       "      <td>2020</td>\n",
       "      <td>23.0</td>\n",
       "      <td>Xalostoc</td>\n",
       "      <td>PM2.5</td>\n",
       "      <td>-99.0</td>\n",
       "    </tr>\n",
       "  </tbody>\n",
       "</table>\n",
       "<p>6489027 rows × 7 columns</p>\n",
       "</div>"
      ],
      "text/plain": [
       "         Dia  Mes  Anio  Hora                Lugar Particula  Valor\n",
       "0          1    1  2011   1.0              Acolman        CO  -99.0\n",
       "1          1    1  2011   1.0            Camarones        CO  -99.0\n",
       "2          1    1  2011   1.0               Chalco        CO  -99.0\n",
       "3          1    1  2011   1.0           Cuajimalpa        CO  -99.0\n",
       "4          1    1  2011   1.0          FES Acatlan        CO    1.4\n",
       "...      ...  ...   ...   ...                  ...       ...    ...\n",
       "6489022   31   12  2020  23.0         Tlalnepantla     PM2.5   33.0\n",
       "6489023   31   12  2020  23.0            Tultitlan     PM2.5  -99.0\n",
       "6489024   31   12  2020  23.0       UAM Iztapalapa     PM2.5   42.0\n",
       "6489025   31   12  2020  23.0  Villa de las Flores     PM2.5  178.0\n",
       "6489026   31   12  2020  23.0             Xalostoc     PM2.5  -99.0\n",
       "\n",
       "[6489027 rows x 7 columns]"
      ]
     },
     "execution_count": 60,
     "metadata": {},
     "output_type": "execute_result"
    }
   ],
   "source": [
    "df_aire"
   ]
  },
  {
   "cell_type": "code",
   "execution_count": null,
   "id": "7367fc76-79b9-4f46-84a8-ab3be660374b",
   "metadata": {},
   "outputs": [],
   "source": [
    "for j in range(len(df_aire)-1):\n",
    "    Latitud = cat_estacion.loc[cat_estacion['nom_estac'] == df_aire.loc[j][4]]['latitud'].values[0]\n",
    "    Longitud = cat_estacion.loc[cat_estacion['nom_estac'] == df_aire.loc[j][4]]['longitud'].values[0]\n",
    "    address = geo.reverse(str(Latitud) + \", \" + str(Longitud))\n",
    "    #print(address, address.latitude, address.longitude)\n",
    "    #x = str(address).split(\", \")\n",
    "    Estado = \"\"\n",
    "    if \"Ciudad de México\" in str(address):\n",
    "        Estado = \"Ciudad de México\"\n",
    "        #print(Estado)\n",
    "    else:\n",
    "        Estado = \"Estado de México\"\n",
    "    #print(address)\n",
    "    #print(address)\n",
    "    toAppend = {\n",
    "        'Dia': df_aire.loc[j][0], \n",
    "        'Mes': df_aire.loc[j][1],\n",
    "        'Anio': df_aire.loc[j][2],\n",
    "        'Hora': df_aire.loc[j][3], \n",
    "        'Lugar': df_aire.loc[j][4],\n",
    "        'Estado': Estado,\n",
    "        'Particula': df_aire.loc[j][5],\n",
    "        'Valor': df_aire.loc[j][6],\n",
    "        'Latitud': Latitud,\n",
    "        'Longitud': Longitud}\n",
    "    df_aire_v2 = df_aire_v2.append(toAppend, ignore_index=True)"
   ]
  },
  {
   "cell_type": "code",
   "execution_count": 142,
   "id": "766920a7-a3bf-40f3-a8b9-1a0828115e39",
   "metadata": {},
   "outputs": [
    {
     "data": {
      "text/html": [
       "<div>\n",
       "<style scoped>\n",
       "    .dataframe tbody tr th:only-of-type {\n",
       "        vertical-align: middle;\n",
       "    }\n",
       "\n",
       "    .dataframe tbody tr th {\n",
       "        vertical-align: top;\n",
       "    }\n",
       "\n",
       "    .dataframe thead th {\n",
       "        text-align: right;\n",
       "    }\n",
       "</style>\n",
       "<table border=\"1\" class=\"dataframe\">\n",
       "  <thead>\n",
       "    <tr style=\"text-align: right;\">\n",
       "      <th></th>\n",
       "      <th>Dia</th>\n",
       "      <th>Mes</th>\n",
       "      <th>Anio</th>\n",
       "      <th>Hora</th>\n",
       "      <th>Lugar</th>\n",
       "      <th>Estado</th>\n",
       "      <th>Particula</th>\n",
       "      <th>Valor</th>\n",
       "      <th>Latitud</th>\n",
       "      <th>Longitud</th>\n",
       "    </tr>\n",
       "  </thead>\n",
       "  <tbody>\n",
       "    <tr>\n",
       "      <th>0</th>\n",
       "      <td>1.0</td>\n",
       "      <td>1.0</td>\n",
       "      <td>2011.0</td>\n",
       "      <td>1.0</td>\n",
       "      <td>Acolman</td>\n",
       "      <td>Estado de México</td>\n",
       "      <td>CO</td>\n",
       "      <td>-99.0</td>\n",
       "      <td>19.635501</td>\n",
       "      <td>-98.912003</td>\n",
       "    </tr>\n",
       "    <tr>\n",
       "      <th>1</th>\n",
       "      <td>1.0</td>\n",
       "      <td>1.0</td>\n",
       "      <td>2011.0</td>\n",
       "      <td>1.0</td>\n",
       "      <td>Camarones</td>\n",
       "      <td>Ciudad de México</td>\n",
       "      <td>CO</td>\n",
       "      <td>-99.0</td>\n",
       "      <td>19.468404</td>\n",
       "      <td>-99.169794</td>\n",
       "    </tr>\n",
       "    <tr>\n",
       "      <th>2</th>\n",
       "      <td>1.0</td>\n",
       "      <td>1.0</td>\n",
       "      <td>2011.0</td>\n",
       "      <td>1.0</td>\n",
       "      <td>Chalco</td>\n",
       "      <td>Estado de México</td>\n",
       "      <td>CO</td>\n",
       "      <td>-99.0</td>\n",
       "      <td>19.266948</td>\n",
       "      <td>-98.886088</td>\n",
       "    </tr>\n",
       "    <tr>\n",
       "      <th>3</th>\n",
       "      <td>1.0</td>\n",
       "      <td>1.0</td>\n",
       "      <td>2011.0</td>\n",
       "      <td>1.0</td>\n",
       "      <td>Cuajimalpa</td>\n",
       "      <td>Ciudad de México</td>\n",
       "      <td>CO</td>\n",
       "      <td>-99.0</td>\n",
       "      <td>19.365313</td>\n",
       "      <td>-99.291705</td>\n",
       "    </tr>\n",
       "    <tr>\n",
       "      <th>4</th>\n",
       "      <td>1.0</td>\n",
       "      <td>1.0</td>\n",
       "      <td>2011.0</td>\n",
       "      <td>1.0</td>\n",
       "      <td>FES Acatlan</td>\n",
       "      <td>Estado de México</td>\n",
       "      <td>CO</td>\n",
       "      <td>1.4</td>\n",
       "      <td>19.482473</td>\n",
       "      <td>-99.243524</td>\n",
       "    </tr>\n",
       "    <tr>\n",
       "      <th>...</th>\n",
       "      <td>...</td>\n",
       "      <td>...</td>\n",
       "      <td>...</td>\n",
       "      <td>...</td>\n",
       "      <td>...</td>\n",
       "      <td>...</td>\n",
       "      <td>...</td>\n",
       "      <td>...</td>\n",
       "      <td>...</td>\n",
       "      <td>...</td>\n",
       "    </tr>\n",
       "    <tr>\n",
       "      <th>58836</th>\n",
       "      <td>21.0</td>\n",
       "      <td>4.0</td>\n",
       "      <td>2011.0</td>\n",
       "      <td>12.0</td>\n",
       "      <td>Nezahualcoyotl</td>\n",
       "      <td>Estado de México</td>\n",
       "      <td>CO</td>\n",
       "      <td>-99.0</td>\n",
       "      <td>19.393734</td>\n",
       "      <td>-99.028212</td>\n",
       "    </tr>\n",
       "    <tr>\n",
       "      <th>58837</th>\n",
       "      <td>21.0</td>\n",
       "      <td>4.0</td>\n",
       "      <td>2011.0</td>\n",
       "      <td>12.0</td>\n",
       "      <td>Pedregal</td>\n",
       "      <td>Ciudad de México</td>\n",
       "      <td>CO</td>\n",
       "      <td>0.3</td>\n",
       "      <td>19.325146</td>\n",
       "      <td>-99.204136</td>\n",
       "    </tr>\n",
       "    <tr>\n",
       "      <th>58838</th>\n",
       "      <td>21.0</td>\n",
       "      <td>4.0</td>\n",
       "      <td>2011.0</td>\n",
       "      <td>12.0</td>\n",
       "      <td>San Agustin</td>\n",
       "      <td>Estado de México</td>\n",
       "      <td>CO</td>\n",
       "      <td>0.4</td>\n",
       "      <td>19.532968</td>\n",
       "      <td>-99.030324</td>\n",
       "    </tr>\n",
       "    <tr>\n",
       "      <th>58839</th>\n",
       "      <td>21.0</td>\n",
       "      <td>4.0</td>\n",
       "      <td>2011.0</td>\n",
       "      <td>12.0</td>\n",
       "      <td>San Juan Aragon</td>\n",
       "      <td>Ciudad de México</td>\n",
       "      <td>CO</td>\n",
       "      <td>-99.0</td>\n",
       "      <td>19.452592</td>\n",
       "      <td>-99.086095</td>\n",
       "    </tr>\n",
       "    <tr>\n",
       "      <th>58840</th>\n",
       "      <td>21.0</td>\n",
       "      <td>4.0</td>\n",
       "      <td>2011.0</td>\n",
       "      <td>12.0</td>\n",
       "      <td>Santa Ursula</td>\n",
       "      <td>Ciudad de México</td>\n",
       "      <td>CO</td>\n",
       "      <td>0.8</td>\n",
       "      <td>19.314480</td>\n",
       "      <td>-99.149994</td>\n",
       "    </tr>\n",
       "  </tbody>\n",
       "</table>\n",
       "<p>58841 rows × 10 columns</p>\n",
       "</div>"
      ],
      "text/plain": [
       "        Dia  Mes    Anio  Hora            Lugar            Estado Particula  \\\n",
       "0       1.0  1.0  2011.0   1.0          Acolman  Estado de México        CO   \n",
       "1       1.0  1.0  2011.0   1.0        Camarones  Ciudad de México        CO   \n",
       "2       1.0  1.0  2011.0   1.0           Chalco  Estado de México        CO   \n",
       "3       1.0  1.0  2011.0   1.0       Cuajimalpa  Ciudad de México        CO   \n",
       "4       1.0  1.0  2011.0   1.0      FES Acatlan  Estado de México        CO   \n",
       "...     ...  ...     ...   ...              ...               ...       ...   \n",
       "58836  21.0  4.0  2011.0  12.0   Nezahualcoyotl  Estado de México        CO   \n",
       "58837  21.0  4.0  2011.0  12.0         Pedregal  Ciudad de México        CO   \n",
       "58838  21.0  4.0  2011.0  12.0      San Agustin  Estado de México        CO   \n",
       "58839  21.0  4.0  2011.0  12.0  San Juan Aragon  Ciudad de México        CO   \n",
       "58840  21.0  4.0  2011.0  12.0     Santa Ursula  Ciudad de México        CO   \n",
       "\n",
       "       Valor    Latitud   Longitud  \n",
       "0      -99.0  19.635501 -98.912003  \n",
       "1      -99.0  19.468404 -99.169794  \n",
       "2      -99.0  19.266948 -98.886088  \n",
       "3      -99.0  19.365313 -99.291705  \n",
       "4        1.4  19.482473 -99.243524  \n",
       "...      ...        ...        ...  \n",
       "58836  -99.0  19.393734 -99.028212  \n",
       "58837    0.3  19.325146 -99.204136  \n",
       "58838    0.4  19.532968 -99.030324  \n",
       "58839  -99.0  19.452592 -99.086095  \n",
       "58840    0.8  19.314480 -99.149994  \n",
       "\n",
       "[58841 rows x 10 columns]"
      ]
     },
     "execution_count": 142,
     "metadata": {},
     "output_type": "execute_result"
    }
   ],
   "source": [
    "df_aire_v2"
   ]
  },
  {
   "cell_type": "code",
   "execution_count": null,
   "id": "bb94fc29-ba42-4bb6-b3d2-3205a0fe5bad",
   "metadata": {},
   "outputs": [],
   "source": [
    "df_aire_v2['Dia'] = df_aire_v2['Dia'].astype('int64') \n",
    "df_aire_v2['Mes'] = df_aire_v2['Mes'].astype('int64') \n",
    "df_aire_v2['Anio'] = df_aire_v2['Anio'].astype('int64') \n",
    "df_aire_v2['Hora'] = df_aire_v2['Hora'].astype('int64') "
   ]
  },
  {
   "cell_type": "code",
   "execution_count": 139,
   "id": "a6f6ff6a-d8f5-4c6f-ba65-1de93ae0a3f3",
   "metadata": {},
   "outputs": [],
   "source": [
    "df_aire_v2 = pd.DataFrame()"
   ]
  },
  {
   "cell_type": "code",
   "execution_count": null,
   "id": "f6d9c613-b398-4385-b80a-37d82c63f3dc",
   "metadata": {},
   "outputs": [],
   "source": [
    "df_aire_v2"
   ]
  },
  {
   "cell_type": "code",
   "execution_count": null,
   "id": "3c274e20-e2d8-46fc-91b6-f73ece2023c3",
   "metadata": {},
   "outputs": [],
   "source": []
  }
 ],
 "metadata": {
  "kernelspec": {
   "display_name": "Python 3 (ipykernel)",
   "language": "python",
   "name": "python3"
  },
  "language_info": {
   "codemirror_mode": {
    "name": "ipython",
    "version": 3
   },
   "file_extension": ".py",
   "mimetype": "text/x-python",
   "name": "python",
   "nbconvert_exporter": "python",
   "pygments_lexer": "ipython3",
   "version": "3.9.12"
  }
 },
 "nbformat": 4,
 "nbformat_minor": 5
}
